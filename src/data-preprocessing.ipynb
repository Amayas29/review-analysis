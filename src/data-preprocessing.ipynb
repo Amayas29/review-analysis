{
 "cells": [
  {
   "cell_type": "code",
   "execution_count": 1,
   "id": "799f393f",
   "metadata": {},
   "outputs": [],
   "source": [
    "from iads import loading_data as loader\n",
    "from iads import traitement_data as traitement\n",
    "\n",
    "import numpy as np\n",
    "import matplotlib.pyplot as plt\n",
    "import seaborn as sns\n",
    "\n",
    "import warnings\n",
    "warnings.filterwarnings('ignore')"
   ]
  },
  {
   "cell_type": "markdown",
   "id": "755975a9",
   "metadata": {},
   "source": [
    "# I. Chargement des données :"
   ]
  },
  {
   "cell_type": "markdown",
   "id": "35d00dc8",
   "metadata": {},
   "source": [
    "Charger les données de trictrac depuis les fichiers `bson` et créer avec des `dataframe`\n",
    "\n",
    "- Le fichier `avis.bson`contient la base de données des avis, et `details.bson` celle des jeux"
   ]
  },
  {
   "cell_type": "code",
   "execution_count": 2,
   "id": "7f08cd9e",
   "metadata": {},
   "outputs": [],
   "source": [
    "df_jeux = loader.load_dataframe(\"details.bson\")"
   ]
  },
  {
   "cell_type": "code",
   "execution_count": 3,
   "id": "ad770750",
   "metadata": {},
   "outputs": [],
   "source": [
    "df_avis = loader.load_dataframe(\"avis.bson\")"
   ]
  },
  {
   "cell_type": "markdown",
   "id": "0734898b",
   "metadata": {},
   "source": [
    "# Exploration et traitement des données :"
   ]
  },
  {
   "cell_type": "markdown",
   "id": "a7bc7004",
   "metadata": {},
   "source": [
    "# I. Traitements basiques : "
   ]
  },
  {
   "cell_type": "markdown",
   "id": "d7e5c06d",
   "metadata": {},
   "source": [
    "## 1. Données des jeux (`details.bson`) :"
   ]
  },
  {
   "cell_type": "code",
   "execution_count": 4,
   "id": "1a2cc327",
   "metadata": {},
   "outputs": [
    {
     "data": {
      "text/html": [
       "<div>\n",
       "<style scoped>\n",
       "    .dataframe tbody tr th:only-of-type {\n",
       "        vertical-align: middle;\n",
       "    }\n",
       "\n",
       "    .dataframe tbody tr th {\n",
       "        vertical-align: top;\n",
       "    }\n",
       "\n",
       "    .dataframe thead th {\n",
       "        text-align: right;\n",
       "    }\n",
       "</style>\n",
       "<table border=\"1\" class=\"dataframe\">\n",
       "  <thead>\n",
       "    <tr style=\"text-align: right;\">\n",
       "      <th></th>\n",
       "      <th>Nombre d'avis</th>\n",
       "      <th>full_title</th>\n",
       "      <th>casting</th>\n",
       "      <th>Note rectifiée</th>\n",
       "      <th>_id</th>\n",
       "      <th>Note</th>\n",
       "      <th>url</th>\n",
       "      <th>Note Finkel</th>\n",
       "      <th>categories</th>\n",
       "      <th>Nombre d'avis rectifiés</th>\n",
       "      <th>description</th>\n",
       "      <th>gameplay</th>\n",
       "      <th>titre</th>\n",
       "    </tr>\n",
       "  </thead>\n",
       "  <tbody>\n",
       "    <tr>\n",
       "      <th>0</th>\n",
       "      <td>19.0</td>\n",
       "      <td>Marvel United (2020)</td>\n",
       "      <td>Par Eric Lang et Andrea ChiarvesioIllustré par...</td>\n",
       "      <td>8.40</td>\n",
       "      <td>63c5790a08b9fb9fd8f26ec8</td>\n",
       "      <td>7.58</td>\n",
       "      <td>https://www.trictrac.net/jeu-de-societe/marvel...</td>\n",
       "      <td>8.74</td>\n",
       "      <td>NaN</td>\n",
       "      <td>10.0</td>\n",
       "      <td>\\n                      Marvel United : Unis c...</td>\n",
       "      <td>1 à 4|14 ans et +|45</td>\n",
       "      <td>Marvel United</td>\n",
       "    </tr>\n",
       "    <tr>\n",
       "      <th>1</th>\n",
       "      <td>33.0</td>\n",
       "      <td>Mariposas (2020)</td>\n",
       "      <td>Par Elizabeth HargraveIllustré par Matt Paquet...</td>\n",
       "      <td>7.29</td>\n",
       "      <td>63c5790a08b9fb9fd8f26ec9</td>\n",
       "      <td>7.39</td>\n",
       "      <td>https://www.trictrac.net/jeu-de-societe/mariposas</td>\n",
       "      <td>7.68</td>\n",
       "      <td>NaN</td>\n",
       "      <td>17.0</td>\n",
       "      <td>\\n                      Chaque année, au print...</td>\n",
       "      <td>2 à 5|14 ans et +|60</td>\n",
       "      <td>Mariposas</td>\n",
       "    </tr>\n",
       "  </tbody>\n",
       "</table>\n",
       "</div>"
      ],
      "text/plain": [
       "   Nombre d'avis            full_title  \\\n",
       "0           19.0  Marvel United (2020)   \n",
       "1           33.0      Mariposas (2020)   \n",
       "\n",
       "                                             casting  Note rectifiée  \\\n",
       "0  Par Eric Lang et Andrea ChiarvesioIllustré par...            8.40   \n",
       "1  Par Elizabeth HargraveIllustré par Matt Paquet...            7.29   \n",
       "\n",
       "                        _id  Note  \\\n",
       "0  63c5790a08b9fb9fd8f26ec8  7.58   \n",
       "1  63c5790a08b9fb9fd8f26ec9  7.39   \n",
       "\n",
       "                                                 url  Note Finkel categories  \\\n",
       "0  https://www.trictrac.net/jeu-de-societe/marvel...         8.74        NaN   \n",
       "1  https://www.trictrac.net/jeu-de-societe/mariposas         7.68        NaN   \n",
       "\n",
       "   Nombre d'avis rectifiés                                        description  \\\n",
       "0                     10.0  \\n                      Marvel United : Unis c...   \n",
       "1                     17.0  \\n                      Chaque année, au print...   \n",
       "\n",
       "                gameplay          titre  \n",
       "0  1 à 4|14 ans et +|45   Marvel United  \n",
       "1  2 à 5|14 ans et +|60       Mariposas  "
      ]
     },
     "execution_count": 4,
     "metadata": {},
     "output_type": "execute_result"
    }
   ],
   "source": [
    "df_jeux.head(n=2)"
   ]
  },
  {
   "cell_type": "code",
   "execution_count": 5,
   "id": "0ef925eb",
   "metadata": {},
   "outputs": [
    {
     "data": {
      "text/plain": [
       "(20234, 13)"
      ]
     },
     "execution_count": 5,
     "metadata": {},
     "output_type": "execute_result"
    }
   ],
   "source": [
    "df_jeux.shape"
   ]
  },
  {
   "cell_type": "code",
   "execution_count": 6,
   "id": "dfe35a75",
   "metadata": {},
   "outputs": [
    {
     "data": {
      "text/plain": [
       "Index(['Nombre d'avis', 'full_title', 'casting', 'Note rectifiée', '_id',\n",
       "       'Note', 'url', 'Note Finkel', 'categories', 'Nombre d'avis rectifiés',\n",
       "       'description', 'gameplay', 'titre'],\n",
       "      dtype='object')"
      ]
     },
     "execution_count": 6,
     "metadata": {},
     "output_type": "execute_result"
    }
   ],
   "source": [
    "df_jeux.columns"
   ]
  },
  {
   "cell_type": "markdown",
   "id": "9ed779ea",
   "metadata": {},
   "source": [
    "### 1.1 Identifiant et titre d'un jeu :"
   ]
  },
  {
   "cell_type": "markdown",
   "id": "26105c21",
   "metadata": {},
   "source": [
    "La base de données est scrappée depuis le site <https://www.trictrac.net>, l'attribut `_id` est généré lors du scrapping.\n",
    "\n",
    "Si un jeu est scrappé 2 fois, il sera duplicé dans la base de données avec une valeur de `_id` différente.\n",
    "\n",
    "- On supprime l'attribut `_id` pour souligner la duplication de jeux et pouvoir la retirer."
   ]
  },
  {
   "cell_type": "code",
   "execution_count": 7,
   "id": "9c0cc372",
   "metadata": {},
   "outputs": [
    {
     "data": {
      "text/html": [
       "<div>\n",
       "<style scoped>\n",
       "    .dataframe tbody tr th:only-of-type {\n",
       "        vertical-align: middle;\n",
       "    }\n",
       "\n",
       "    .dataframe tbody tr th {\n",
       "        vertical-align: top;\n",
       "    }\n",
       "\n",
       "    .dataframe thead th {\n",
       "        text-align: right;\n",
       "    }\n",
       "</style>\n",
       "<table border=\"1\" class=\"dataframe\">\n",
       "  <thead>\n",
       "    <tr style=\"text-align: right;\">\n",
       "      <th></th>\n",
       "      <th>Nombre d'avis</th>\n",
       "      <th>full_title</th>\n",
       "      <th>casting</th>\n",
       "      <th>Note rectifiée</th>\n",
       "      <th>_id</th>\n",
       "      <th>Note</th>\n",
       "      <th>url</th>\n",
       "      <th>Note Finkel</th>\n",
       "      <th>categories</th>\n",
       "      <th>Nombre d'avis rectifiés</th>\n",
       "      <th>description</th>\n",
       "      <th>gameplay</th>\n",
       "      <th>titre</th>\n",
       "    </tr>\n",
       "  </thead>\n",
       "  <tbody>\n",
       "    <tr>\n",
       "      <th>0</th>\n",
       "      <td>19.0</td>\n",
       "      <td>Marvel United (2020)</td>\n",
       "      <td>Par Eric Lang et Andrea ChiarvesioIllustré par...</td>\n",
       "      <td>8.4</td>\n",
       "      <td>63c5790a08b9fb9fd8f26ec8</td>\n",
       "      <td>7.58</td>\n",
       "      <td>https://www.trictrac.net/jeu-de-societe/marvel...</td>\n",
       "      <td>8.74</td>\n",
       "      <td>NaN</td>\n",
       "      <td>10.0</td>\n",
       "      <td>\\n                      Marvel United : Unis c...</td>\n",
       "      <td>1 à 4|14 ans et +|45</td>\n",
       "      <td>Marvel United</td>\n",
       "    </tr>\n",
       "  </tbody>\n",
       "</table>\n",
       "</div>"
      ],
      "text/plain": [
       "   Nombre d'avis            full_title  \\\n",
       "0           19.0  Marvel United (2020)   \n",
       "\n",
       "                                             casting  Note rectifiée  \\\n",
       "0  Par Eric Lang et Andrea ChiarvesioIllustré par...             8.4   \n",
       "\n",
       "                        _id  Note  \\\n",
       "0  63c5790a08b9fb9fd8f26ec8  7.58   \n",
       "\n",
       "                                                 url  Note Finkel categories  \\\n",
       "0  https://www.trictrac.net/jeu-de-societe/marvel...         8.74        NaN   \n",
       "\n",
       "   Nombre d'avis rectifiés                                        description  \\\n",
       "0                     10.0  \\n                      Marvel United : Unis c...   \n",
       "\n",
       "                gameplay          titre  \n",
       "0  1 à 4|14 ans et +|45   Marvel United  "
      ]
     },
     "execution_count": 7,
     "metadata": {},
     "output_type": "execute_result"
    }
   ],
   "source": [
    "df_jeux.head(1)"
   ]
  },
  {
   "cell_type": "code",
   "execution_count": 8,
   "id": "9f28345b",
   "metadata": {},
   "outputs": [],
   "source": [
    "df_jeux_up = df_jeux.drop([\"_id\"], axis=1)"
   ]
  },
  {
   "cell_type": "code",
   "execution_count": 9,
   "id": "4d468ca1",
   "metadata": {},
   "outputs": [
    {
     "data": {
      "text/html": [
       "<div>\n",
       "<style scoped>\n",
       "    .dataframe tbody tr th:only-of-type {\n",
       "        vertical-align: middle;\n",
       "    }\n",
       "\n",
       "    .dataframe tbody tr th {\n",
       "        vertical-align: top;\n",
       "    }\n",
       "\n",
       "    .dataframe thead th {\n",
       "        text-align: right;\n",
       "    }\n",
       "</style>\n",
       "<table border=\"1\" class=\"dataframe\">\n",
       "  <thead>\n",
       "    <tr style=\"text-align: right;\">\n",
       "      <th></th>\n",
       "      <th>Nombre d'avis</th>\n",
       "      <th>full_title</th>\n",
       "      <th>casting</th>\n",
       "      <th>Note rectifiée</th>\n",
       "      <th>Note</th>\n",
       "      <th>url</th>\n",
       "      <th>Note Finkel</th>\n",
       "      <th>categories</th>\n",
       "      <th>Nombre d'avis rectifiés</th>\n",
       "      <th>description</th>\n",
       "      <th>gameplay</th>\n",
       "      <th>titre</th>\n",
       "    </tr>\n",
       "  </thead>\n",
       "  <tbody>\n",
       "    <tr>\n",
       "      <th>0</th>\n",
       "      <td>19.0</td>\n",
       "      <td>Marvel United (2020)</td>\n",
       "      <td>Par Eric Lang et Andrea ChiarvesioIllustré par...</td>\n",
       "      <td>8.4</td>\n",
       "      <td>7.58</td>\n",
       "      <td>https://www.trictrac.net/jeu-de-societe/marvel...</td>\n",
       "      <td>8.74</td>\n",
       "      <td>NaN</td>\n",
       "      <td>10.0</td>\n",
       "      <td>\\n                      Marvel United : Unis c...</td>\n",
       "      <td>1 à 4|14 ans et +|45</td>\n",
       "      <td>Marvel United</td>\n",
       "    </tr>\n",
       "  </tbody>\n",
       "</table>\n",
       "</div>"
      ],
      "text/plain": [
       "   Nombre d'avis            full_title  \\\n",
       "0           19.0  Marvel United (2020)   \n",
       "\n",
       "                                             casting  Note rectifiée  Note  \\\n",
       "0  Par Eric Lang et Andrea ChiarvesioIllustré par...             8.4  7.58   \n",
       "\n",
       "                                                 url  Note Finkel categories  \\\n",
       "0  https://www.trictrac.net/jeu-de-societe/marvel...         8.74        NaN   \n",
       "\n",
       "   Nombre d'avis rectifiés                                        description  \\\n",
       "0                     10.0  \\n                      Marvel United : Unis c...   \n",
       "\n",
       "                gameplay          titre  \n",
       "0  1 à 4|14 ans et +|45   Marvel United  "
      ]
     },
     "execution_count": 9,
     "metadata": {},
     "output_type": "execute_result"
    }
   ],
   "source": [
    "df_jeux_up.head(1)"
   ]
  },
  {
   "cell_type": "markdown",
   "id": "45b99185",
   "metadata": {},
   "source": [
    "**- Comptage du nombre d'occurrences de chaque ligne (jeu) du dataframe**"
   ]
  },
  {
   "cell_type": "code",
   "execution_count": 10,
   "id": "41cf719b",
   "metadata": {
    "scrolled": true
   },
   "outputs": [
    {
     "data": {
      "image/png": "[encoded data removed]",
      "text/plain": [
       "<Figure size 360x360 with 1 Axes>"
      ]
     },
     "metadata": {
      "needs_background": "light"
     },
     "output_type": "display_data"
    }
   ],
   "source": [
    "uniques_row = df_jeux_up.value_counts(dropna=False)\n",
    "\n",
    "plt.figure(figsize=(5, 5))\n",
    "plt.plot(uniques_row.values)\n",
    "plt.xlabel(\"jeux\")\n",
    "plt.ylabel(\"occurrences\")\n",
    "plt.show()"
   ]
  },
  {
   "cell_type": "markdown",
   "id": "81a338fe",
   "metadata": {},
   "source": [
    "- On note l'existence de jeux duppliqués dans la base de données."
   ]
  },
  {
   "cell_type": "code",
   "execution_count": 11,
   "id": "a9b956d1",
   "metadata": {},
   "outputs": [
    {
     "name": "stdout",
     "output_type": "stream",
     "text": [
      "On a 3029 jeux duppliqués\n"
     ]
    }
   ],
   "source": [
    "print(\"On a\", np.where(uniques_row.values != 1, 1, 0).sum(), \"jeux duppliqués\")"
   ]
  },
  {
   "cell_type": "markdown",
   "id": "18bc9fc5",
   "metadata": {},
   "source": [
    "**- Suppression des duplicatas**"
   ]
  },
  {
   "cell_type": "code",
   "execution_count": 12,
   "id": "44f3dd74",
   "metadata": {},
   "outputs": [],
   "source": [
    "df_jeux_up = df_jeux_up.drop_duplicates()"
   ]
  },
  {
   "cell_type": "code",
   "execution_count": 13,
   "id": "631240a7",
   "metadata": {},
   "outputs": [],
   "source": [
    "len_before = len(df_jeux)\n",
    "len_after  = len(df_jeux_up)"
   ]
  },
  {
   "cell_type": "code",
   "execution_count": 14,
   "id": "e7fa369f",
   "metadata": {},
   "outputs": [
    {
     "data": {
      "image/png": "[encoded data removed]",
      "text/plain": [
       "<Figure size 360x360 with 1 Axes>"
      ]
     },
     "metadata": {
      "needs_background": "light"
     },
     "output_type": "display_data"
    }
   ],
   "source": [
    "plt.figure(figsize=(5, 5))\n",
    "plt.bar(['data init', 'data unique'], [len_before, len_after], width=0.5)\n",
    "plt.title(\"Tailles des données avant et apres\")\n",
    "plt.show()"
   ]
  },
  {
   "cell_type": "code",
   "execution_count": 15,
   "id": "2e47d070",
   "metadata": {},
   "outputs": [
    {
     "data": {
      "image/png": "[encoded data removed]",
      "text/plain": [
       "<Figure size 360x360 with 1 Axes>"
      ]
     },
     "metadata": {
      "needs_background": "light"
     },
     "output_type": "display_data"
    }
   ],
   "source": [
    "uniques_row = df_jeux_up.value_counts(dropna=False)\n",
    "\n",
    "plt.figure(figsize=(5, 5))\n",
    "plt.plot(uniques_row.values)\n",
    "plt.xlabel(\"jeux\")\n",
    "plt.ylabel(\"occurrences\")\n",
    "plt.show()"
   ]
  },
  {
   "cell_type": "markdown",
   "id": "bb08d067",
   "metadata": {},
   "source": [
    "**- Création d'un nouvel identifiant**"
   ]
  },
  {
   "cell_type": "markdown",
   "id": "e90d3abd",
   "metadata": {},
   "source": [
    "- L'attribut `titre` peut servir d'identifiant pour les jeux, s'il est unique"
   ]
  },
  {
   "cell_type": "code",
   "execution_count": 16,
   "id": "ea02912b",
   "metadata": {},
   "outputs": [
    {
     "data": {
      "image/png": "[encoded data removed]",
      "text/plain": [
       "<Figure size 360x360 with 1 Axes>"
      ]
     },
     "metadata": {
      "needs_background": "light"
     },
     "output_type": "display_data"
    }
   ],
   "source": [
    "val, counts = np.unique(df_jeux_up[\"titre\"], return_counts=True)\n",
    "\n",
    "plt.figure(figsize=(5, 5))\n",
    "plt.plot(counts)\n",
    "plt.xlabel(\"titres\")\n",
    "plt.ylabel(\"occurrences\")\n",
    "plt.show()"
   ]
  },
  {
   "cell_type": "markdown",
   "id": "f2c52713",
   "metadata": {},
   "source": [
    "On remarque que le titre n'est pas unique dans la base de données."
   ]
  },
  {
   "cell_type": "code",
   "execution_count": 17,
   "id": "0264b06e",
   "metadata": {},
   "outputs": [],
   "source": [
    "list_same_title = []\n",
    "\n",
    "for v in val[counts != 1]:\n",
    "    a = df_jeux_up[df_jeux_up[\"titre\"] == v]\n",
    "    \n",
    "    if len(a) > 1:\n",
    "        list_same_title.append(a)"
   ]
  },
  {
   "cell_type": "code",
   "execution_count": 18,
   "id": "267bb731",
   "metadata": {},
   "outputs": [
    {
     "data": {
      "text/html": [
       "<div>\n",
       "<style scoped>\n",
       "    .dataframe tbody tr th:only-of-type {\n",
       "        vertical-align: middle;\n",
       "    }\n",
       "\n",
       "    .dataframe tbody tr th {\n",
       "        vertical-align: top;\n",
       "    }\n",
       "\n",
       "    .dataframe thead th {\n",
       "        text-align: right;\n",
       "    }\n",
       "</style>\n",
       "<table border=\"1\" class=\"dataframe\">\n",
       "  <thead>\n",
       "    <tr style=\"text-align: right;\">\n",
       "      <th></th>\n",
       "      <th>Nombre d'avis</th>\n",
       "      <th>full_title</th>\n",
       "      <th>casting</th>\n",
       "      <th>Note rectifiée</th>\n",
       "      <th>Note</th>\n",
       "      <th>url</th>\n",
       "      <th>Note Finkel</th>\n",
       "      <th>categories</th>\n",
       "      <th>Nombre d'avis rectifiés</th>\n",
       "      <th>description</th>\n",
       "      <th>gameplay</th>\n",
       "      <th>titre</th>\n",
       "    </tr>\n",
       "  </thead>\n",
       "  <tbody>\n",
       "    <tr>\n",
       "      <th>18526</th>\n",
       "      <td>2.0</td>\n",
       "      <td>1853 (2009)</td>\n",
       "      <td>Par Francis TreshamIllustré par Klemens FranzÉ...</td>\n",
       "      <td>8.0</td>\n",
       "      <td>9.0</td>\n",
       "      <td>https://www.trictrac.net/jeu-de-societe/1853-0</td>\n",
       "      <td>8.03</td>\n",
       "      <td>Jeux de plateau</td>\n",
       "      <td>1.0</td>\n",
       "      <td>\\n                      Aucune description\\n  ...</td>\n",
       "      <td>3 à 6|12 ans et +|240</td>\n",
       "      <td>1853</td>\n",
       "    </tr>\n",
       "    <tr>\n",
       "      <th>18587</th>\n",
       "      <td>0.0</td>\n",
       "      <td>1853 (1989)</td>\n",
       "      <td>De Francis TreshamÉdité par Hartland Trefoil</td>\n",
       "      <td>0.0</td>\n",
       "      <td>0.0</td>\n",
       "      <td>https://www.trictrac.net/jeu-de-societe/1853</td>\n",
       "      <td>0.00</td>\n",
       "      <td>Jeux de plateau</td>\n",
       "      <td>0.0</td>\n",
       "      <td>\\n                      Un jeu dans la pure li...</td>\n",
       "      <td>3 à 6|12 ans et +|240</td>\n",
       "      <td>1853</td>\n",
       "    </tr>\n",
       "  </tbody>\n",
       "</table>\n",
       "</div>"
      ],
      "text/plain": [
       "       Nombre d'avis   full_title  \\\n",
       "18526            2.0  1853 (2009)   \n",
       "18587            0.0  1853 (1989)   \n",
       "\n",
       "                                                 casting  Note rectifiée  \\\n",
       "18526  Par Francis TreshamIllustré par Klemens FranzÉ...             8.0   \n",
       "18587       De Francis TreshamÉdité par Hartland Trefoil             0.0   \n",
       "\n",
       "       Note                                             url  Note Finkel  \\\n",
       "18526   9.0  https://www.trictrac.net/jeu-de-societe/1853-0         8.03   \n",
       "18587   0.0    https://www.trictrac.net/jeu-de-societe/1853         0.00   \n",
       "\n",
       "            categories  Nombre d'avis rectifiés  \\\n",
       "18526  Jeux de plateau                      1.0   \n",
       "18587  Jeux de plateau                      0.0   \n",
       "\n",
       "                                             description  \\\n",
       "18526  \\n                      Aucune description\\n  ...   \n",
       "18587  \\n                      Un jeu dans la pure li...   \n",
       "\n",
       "                     gameplay titre  \n",
       "18526  3 à 6|12 ans et +|240   1853  \n",
       "18587  3 à 6|12 ans et +|240   1853  "
      ]
     },
     "execution_count": 18,
     "metadata": {},
     "output_type": "execute_result"
    }
   ],
   "source": [
    "list_same_title[3].head()"
   ]
  },
  {
   "cell_type": "markdown",
   "id": "5f3f1700",
   "metadata": {},
   "source": [
    "La répétition du titre dans la base de données est causée par l'existence des versions d'un jeu, ainsi deux versions d'un jeu ont le même titre."
   ]
  },
  {
   "cell_type": "markdown",
   "id": "8601219d",
   "metadata": {},
   "source": [
    "Pour créer un identifiant suffit d'inclure la version du jeu dans le titre, et si on regard bien la version est présente dans l'url du jeu"
   ]
  },
  {
   "cell_type": "code",
   "execution_count": 19,
   "id": "14e70637",
   "metadata": {},
   "outputs": [],
   "source": [
    "df_jeux_up[\"_id\"] = df_jeux_up.apply(traitement.update_title, axis=1)"
   ]
  },
  {
   "cell_type": "code",
   "execution_count": 20,
   "id": "c215661c",
   "metadata": {},
   "outputs": [
    {
     "data": {
      "text/html": [
       "<div>\n",
       "<style scoped>\n",
       "    .dataframe tbody tr th:only-of-type {\n",
       "        vertical-align: middle;\n",
       "    }\n",
       "\n",
       "    .dataframe tbody tr th {\n",
       "        vertical-align: top;\n",
       "    }\n",
       "\n",
       "    .dataframe thead th {\n",
       "        text-align: right;\n",
       "    }\n",
       "</style>\n",
       "<table border=\"1\" class=\"dataframe\">\n",
       "  <thead>\n",
       "    <tr style=\"text-align: right;\">\n",
       "      <th></th>\n",
       "      <th>Nombre d'avis</th>\n",
       "      <th>full_title</th>\n",
       "      <th>casting</th>\n",
       "      <th>Note rectifiée</th>\n",
       "      <th>Note</th>\n",
       "      <th>url</th>\n",
       "      <th>Note Finkel</th>\n",
       "      <th>categories</th>\n",
       "      <th>Nombre d'avis rectifiés</th>\n",
       "      <th>description</th>\n",
       "      <th>gameplay</th>\n",
       "      <th>titre</th>\n",
       "      <th>_id</th>\n",
       "    </tr>\n",
       "  </thead>\n",
       "  <tbody>\n",
       "    <tr>\n",
       "      <th>8969</th>\n",
       "      <td>1.0</td>\n",
       "      <td>1830 (1980)</td>\n",
       "      <td>Par Charles TurquinIllustré par Patrice Cource...</td>\n",
       "      <td>5.4</td>\n",
       "      <td>5.40</td>\n",
       "      <td>https://www.trictrac.net/jeu-de-societe/1830-0</td>\n",
       "      <td>5.40</td>\n",
       "      <td>Jeux de plateau</td>\n",
       "      <td>1.0</td>\n",
       "      <td>\\n                      Emeutes à Bruxelles. L...</td>\n",
       "      <td>2 à 4|10 ans et +|~</td>\n",
       "      <td>1830</td>\n",
       "      <td>1830-0</td>\n",
       "    </tr>\n",
       "    <tr>\n",
       "      <th>19887</th>\n",
       "      <td>19.0</td>\n",
       "      <td>1830 (1986)</td>\n",
       "      <td>De Francis TreshamÉdité par Avalon Hill</td>\n",
       "      <td>9.0</td>\n",
       "      <td>8.95</td>\n",
       "      <td>https://www.trictrac.net/jeu-de-societe/1830</td>\n",
       "      <td>9.48</td>\n",
       "      <td>Jeux de plateau|Bourse &amp; finances|Construction...</td>\n",
       "      <td>12.0</td>\n",
       "      <td>\\n                      Nous sommes à la fin d...</td>\n",
       "      <td>3 à 6|15 à 99 |300</td>\n",
       "      <td>1830</td>\n",
       "      <td>1830</td>\n",
       "    </tr>\n",
       "  </tbody>\n",
       "</table>\n",
       "</div>"
      ],
      "text/plain": [
       "       Nombre d'avis   full_title  \\\n",
       "8969             1.0  1830 (1980)   \n",
       "19887           19.0  1830 (1986)   \n",
       "\n",
       "                                                 casting  Note rectifiée  \\\n",
       "8969   Par Charles TurquinIllustré par Patrice Cource...             5.4   \n",
       "19887            De Francis TreshamÉdité par Avalon Hill             9.0   \n",
       "\n",
       "       Note                                             url  Note Finkel  \\\n",
       "8969   5.40  https://www.trictrac.net/jeu-de-societe/1830-0         5.40   \n",
       "19887  8.95    https://www.trictrac.net/jeu-de-societe/1830         9.48   \n",
       "\n",
       "                                              categories  \\\n",
       "8969                                     Jeux de plateau   \n",
       "19887  Jeux de plateau|Bourse & finances|Construction...   \n",
       "\n",
       "       Nombre d'avis rectifiés  \\\n",
       "8969                       1.0   \n",
       "19887                     12.0   \n",
       "\n",
       "                                             description             gameplay  \\\n",
       "8969   \\n                      Emeutes à Bruxelles. L...  2 à 4|10 ans et +|~   \n",
       "19887  \\n                      Nous sommes à la fin d...  3 à 6|15 à 99 |300    \n",
       "\n",
       "      titre     _id  \n",
       "8969   1830  1830-0  \n",
       "19887  1830    1830  "
      ]
     },
     "execution_count": 20,
     "metadata": {},
     "output_type": "execute_result"
    }
   ],
   "source": [
    "df_jeux_up[df_jeux_up[\"titre\"] == \"1830\"]"
   ]
  },
  {
   "cell_type": "code",
   "execution_count": 21,
   "id": "c1a90e23",
   "metadata": {},
   "outputs": [
    {
     "data": {
      "image/png": "[encoded data removed]",
      "text/plain": [
       "<Figure size 432x288 with 1 Axes>"
      ]
     },
     "metadata": {
      "needs_background": "light"
     },
     "output_type": "display_data"
    }
   ],
   "source": [
    "val, counts = np.unique(df_jeux_up[\"_id\"], return_counts=True)\n",
    "\n",
    "plt.plot(counts)\n",
    "plt.show()"
   ]
  },
  {
   "cell_type": "markdown",
   "id": "f6d8afe2",
   "metadata": {},
   "source": [
    "- Ainsi on a un attribut unique pour identifier un jeu"
   ]
  },
  {
   "cell_type": "markdown",
   "id": "58d2889f",
   "metadata": {},
   "source": [
    "### 1.2 Castings :"
   ]
  },
  {
   "cell_type": "code",
   "execution_count": 22,
   "id": "939d8f83",
   "metadata": {},
   "outputs": [
    {
     "data": {
      "text/plain": [
       "0    Par Eric Lang et Andrea ChiarvesioIllustré par...\n",
       "1    Par Elizabeth HargraveIllustré par Matt Paquet...\n",
       "2    Par Alexandre GarciaIllustré par Nastya LehnÉd...\n",
       "Name: casting, dtype: object"
      ]
     },
     "execution_count": 22,
     "metadata": {},
     "output_type": "execute_result"
    }
   ],
   "source": [
    "df_jeux_up.head(3)[\"casting\"]"
   ]
  },
  {
   "cell_type": "markdown",
   "id": "58c05e91",
   "metadata": {},
   "source": [
    "- Les castings d'un jeu sont l'ensemble de ses créateurs, illustrateurs, éditeurs et distributeurs\n",
    "\n",
    "On décompose l'attribut `casting` pour récupérer ces informations"
   ]
  },
  {
   "cell_type": "code",
   "execution_count": 23,
   "id": "e83abe56",
   "metadata": {},
   "outputs": [],
   "source": [
    "df_jeux_up[\"creators\"] = df_jeux_up.apply(traitement.extract_creators, axis=1)\n",
    "df_jeux_up[\"illustrators\"] = df_jeux_up.apply(traitement.extract_illustrators, axis=1)\n",
    "df_jeux_up[\"editors\"] = df_jeux_up.apply(traitement.extract_editors, axis=1)\n",
    "df_jeux_up[\"distributors\"] = df_jeux_up.apply(traitement.extract_distributors, axis=1)"
   ]
  },
  {
   "cell_type": "code",
   "execution_count": 24,
   "id": "a4d448ec",
   "metadata": {},
   "outputs": [
    {
     "data": {
      "text/html": [
       "<div>\n",
       "<style scoped>\n",
       "    .dataframe tbody tr th:only-of-type {\n",
       "        vertical-align: middle;\n",
       "    }\n",
       "\n",
       "    .dataframe tbody tr th {\n",
       "        vertical-align: top;\n",
       "    }\n",
       "\n",
       "    .dataframe thead th {\n",
       "        text-align: right;\n",
       "    }\n",
       "</style>\n",
       "<table border=\"1\" class=\"dataframe\">\n",
       "  <thead>\n",
       "    <tr style=\"text-align: right;\">\n",
       "      <th></th>\n",
       "      <th>Nombre d'avis</th>\n",
       "      <th>full_title</th>\n",
       "      <th>casting</th>\n",
       "      <th>Note rectifiée</th>\n",
       "      <th>Note</th>\n",
       "      <th>url</th>\n",
       "      <th>Note Finkel</th>\n",
       "      <th>categories</th>\n",
       "      <th>Nombre d'avis rectifiés</th>\n",
       "      <th>description</th>\n",
       "      <th>gameplay</th>\n",
       "      <th>titre</th>\n",
       "      <th>_id</th>\n",
       "      <th>creators</th>\n",
       "      <th>illustrators</th>\n",
       "      <th>editors</th>\n",
       "      <th>distributors</th>\n",
       "    </tr>\n",
       "  </thead>\n",
       "  <tbody>\n",
       "    <tr>\n",
       "      <th>0</th>\n",
       "      <td>19.0</td>\n",
       "      <td>Marvel United (2020)</td>\n",
       "      <td>Par Eric Lang et Andrea ChiarvesioIllustré par...</td>\n",
       "      <td>8.40</td>\n",
       "      <td>7.58</td>\n",
       "      <td>https://www.trictrac.net/jeu-de-societe/marvel...</td>\n",
       "      <td>8.74</td>\n",
       "      <td>NaN</td>\n",
       "      <td>10.0</td>\n",
       "      <td>\\n                      Marvel United : Unis c...</td>\n",
       "      <td>1 à 4|14 ans et +|45</td>\n",
       "      <td>Marvel United</td>\n",
       "      <td>marvel-united</td>\n",
       "      <td>Eric Lang et Andrea Chiarvesio</td>\n",
       "      <td>Édouard Guiton</td>\n",
       "      <td>CMON Limited</td>\n",
       "      <td>NaN</td>\n",
       "    </tr>\n",
       "    <tr>\n",
       "      <th>1</th>\n",
       "      <td>33.0</td>\n",
       "      <td>Mariposas (2020)</td>\n",
       "      <td>Par Elizabeth HargraveIllustré par Matt Paquet...</td>\n",
       "      <td>7.29</td>\n",
       "      <td>7.39</td>\n",
       "      <td>https://www.trictrac.net/jeu-de-societe/mariposas</td>\n",
       "      <td>7.68</td>\n",
       "      <td>NaN</td>\n",
       "      <td>17.0</td>\n",
       "      <td>\\n                      Chaque année, au print...</td>\n",
       "      <td>2 à 5|14 ans et +|60</td>\n",
       "      <td>Mariposas</td>\n",
       "      <td>mariposas</td>\n",
       "      <td>Elizabeth Hargrave</td>\n",
       "      <td>Matt Paquette et Indi Maverick</td>\n",
       "      <td>Gigamic</td>\n",
       "      <td>NaN</td>\n",
       "    </tr>\n",
       "    <tr>\n",
       "      <th>2</th>\n",
       "      <td>28.0</td>\n",
       "      <td>Quetzal (2020)</td>\n",
       "      <td>Par Alexandre GarciaIllustré par Nastya LehnÉd...</td>\n",
       "      <td>7.22</td>\n",
       "      <td>8.18</td>\n",
       "      <td>https://www.trictrac.net/jeu-de-societe/quetzal</td>\n",
       "      <td>7.42</td>\n",
       "      <td>Enchères|Aventures dans la jungle|Collection /...</td>\n",
       "      <td>9.0</td>\n",
       "      <td>\\n                      Vous êtes à la tête d’...</td>\n",
       "      <td>2 à 5|8 ans et +|45</td>\n",
       "      <td>Quetzal</td>\n",
       "      <td>quetzal</td>\n",
       "      <td>Alexandre Garcia</td>\n",
       "      <td>Nastya Lehn</td>\n",
       "      <td>Gigamic</td>\n",
       "      <td>NaN</td>\n",
       "    </tr>\n",
       "  </tbody>\n",
       "</table>\n",
       "</div>"
      ],
      "text/plain": [
       "   Nombre d'avis            full_title  \\\n",
       "0           19.0  Marvel United (2020)   \n",
       "1           33.0      Mariposas (2020)   \n",
       "2           28.0        Quetzal (2020)   \n",
       "\n",
       "                                             casting  Note rectifiée  Note  \\\n",
       "0  Par Eric Lang et Andrea ChiarvesioIllustré par...            8.40  7.58   \n",
       "1  Par Elizabeth HargraveIllustré par Matt Paquet...            7.29  7.39   \n",
       "2  Par Alexandre GarciaIllustré par Nastya LehnÉd...            7.22  8.18   \n",
       "\n",
       "                                                 url  Note Finkel  \\\n",
       "0  https://www.trictrac.net/jeu-de-societe/marvel...         8.74   \n",
       "1  https://www.trictrac.net/jeu-de-societe/mariposas         7.68   \n",
       "2    https://www.trictrac.net/jeu-de-societe/quetzal         7.42   \n",
       "\n",
       "                                          categories  Nombre d'avis rectifiés  \\\n",
       "0                                                NaN                     10.0   \n",
       "1                                                NaN                     17.0   \n",
       "2  Enchères|Aventures dans la jungle|Collection /...                      9.0   \n",
       "\n",
       "                                         description               gameplay  \\\n",
       "0  \\n                      Marvel United : Unis c...  1 à 4|14 ans et +|45    \n",
       "1  \\n                      Chaque année, au print...  2 à 5|14 ans et +|60    \n",
       "2  \\n                      Vous êtes à la tête d’...   2 à 5|8 ans et +|45    \n",
       "\n",
       "           titre            _id                        creators  \\\n",
       "0  Marvel United  marvel-united  Eric Lang et Andrea Chiarvesio   \n",
       "1      Mariposas      mariposas              Elizabeth Hargrave   \n",
       "2        Quetzal        quetzal                Alexandre Garcia   \n",
       "\n",
       "                     illustrators       editors distributors  \n",
       "0                  Édouard Guiton  CMON Limited          NaN  \n",
       "1  Matt Paquette et Indi Maverick       Gigamic          NaN  \n",
       "2                     Nastya Lehn       Gigamic          NaN  "
      ]
     },
     "execution_count": 24,
     "metadata": {},
     "output_type": "execute_result"
    }
   ],
   "source": [
    "df_jeux_up.head(3)"
   ]
  },
  {
   "cell_type": "markdown",
   "id": "15b22117",
   "metadata": {},
   "source": [
    "### 1.3 gameplay :"
   ]
  },
  {
   "cell_type": "code",
   "execution_count": 25,
   "id": "605bed10",
   "metadata": {},
   "outputs": [
    {
     "data": {
      "text/plain": [
       "0    1 à 4|14 ans et +|45 \n",
       "1    2 à 5|14 ans et +|60 \n",
       "2     2 à 5|8 ans et +|45 \n",
       "Name: gameplay, dtype: object"
      ]
     },
     "execution_count": 25,
     "metadata": {},
     "output_type": "execute_result"
    }
   ],
   "source": [
    "df_jeux_up.head(3)[\"gameplay\"]"
   ]
  },
  {
   "cell_type": "markdown",
   "id": "378b79d8",
   "metadata": {},
   "source": [
    "Le gameplay d'un jeu est sous la forme : Nombre joueur | âge requis | durée d'une partie"
   ]
  },
  {
   "cell_type": "code",
   "execution_count": 26,
   "id": "1ab98ac0",
   "metadata": {},
   "outputs": [],
   "source": [
    "df_jeux_up[\"nb_players\"] = df_jeux_up.apply(traitement.extract_players, axis=1)\n",
    "df_jeux_up[\"age_required\"] = df_jeux_up.apply(traitement.extract_ages, axis=1)\n",
    "df_jeux_up[\"duration\"] = df_jeux_up.apply(traitement.extract_duration, axis=1)"
   ]
  },
  {
   "cell_type": "code",
   "execution_count": 27,
   "id": "fba21733",
   "metadata": {},
   "outputs": [
    {
     "data": {
      "text/html": [
       "<div>\n",
       "<style scoped>\n",
       "    .dataframe tbody tr th:only-of-type {\n",
       "        vertical-align: middle;\n",
       "    }\n",
       "\n",
       "    .dataframe tbody tr th {\n",
       "        vertical-align: top;\n",
       "    }\n",
       "\n",
       "    .dataframe thead th {\n",
       "        text-align: right;\n",
       "    }\n",
       "</style>\n",
       "<table border=\"1\" class=\"dataframe\">\n",
       "  <thead>\n",
       "    <tr style=\"text-align: right;\">\n",
       "      <th></th>\n",
       "      <th>Nombre d'avis</th>\n",
       "      <th>full_title</th>\n",
       "      <th>casting</th>\n",
       "      <th>Note rectifiée</th>\n",
       "      <th>Note</th>\n",
       "      <th>url</th>\n",
       "      <th>Note Finkel</th>\n",
       "      <th>categories</th>\n",
       "      <th>Nombre d'avis rectifiés</th>\n",
       "      <th>description</th>\n",
       "      <th>gameplay</th>\n",
       "      <th>titre</th>\n",
       "      <th>_id</th>\n",
       "      <th>creators</th>\n",
       "      <th>illustrators</th>\n",
       "      <th>editors</th>\n",
       "      <th>distributors</th>\n",
       "      <th>nb_players</th>\n",
       "      <th>age_required</th>\n",
       "      <th>duration</th>\n",
       "    </tr>\n",
       "  </thead>\n",
       "  <tbody>\n",
       "    <tr>\n",
       "      <th>0</th>\n",
       "      <td>19.0</td>\n",
       "      <td>Marvel United (2020)</td>\n",
       "      <td>Par Eric Lang et Andrea ChiarvesioIllustré par...</td>\n",
       "      <td>8.40</td>\n",
       "      <td>7.58</td>\n",
       "      <td>https://www.trictrac.net/jeu-de-societe/marvel...</td>\n",
       "      <td>8.74</td>\n",
       "      <td>NaN</td>\n",
       "      <td>10.0</td>\n",
       "      <td>\\n                      Marvel United : Unis c...</td>\n",
       "      <td>1 à 4|14 ans et +|45</td>\n",
       "      <td>Marvel United</td>\n",
       "      <td>marvel-united</td>\n",
       "      <td>Eric Lang et Andrea Chiarvesio</td>\n",
       "      <td>Édouard Guiton</td>\n",
       "      <td>CMON Limited</td>\n",
       "      <td>NaN</td>\n",
       "      <td>1-4</td>\n",
       "      <td>14-99</td>\n",
       "      <td>45.0</td>\n",
       "    </tr>\n",
       "    <tr>\n",
       "      <th>1</th>\n",
       "      <td>33.0</td>\n",
       "      <td>Mariposas (2020)</td>\n",
       "      <td>Par Elizabeth HargraveIllustré par Matt Paquet...</td>\n",
       "      <td>7.29</td>\n",
       "      <td>7.39</td>\n",
       "      <td>https://www.trictrac.net/jeu-de-societe/mariposas</td>\n",
       "      <td>7.68</td>\n",
       "      <td>NaN</td>\n",
       "      <td>17.0</td>\n",
       "      <td>\\n                      Chaque année, au print...</td>\n",
       "      <td>2 à 5|14 ans et +|60</td>\n",
       "      <td>Mariposas</td>\n",
       "      <td>mariposas</td>\n",
       "      <td>Elizabeth Hargrave</td>\n",
       "      <td>Matt Paquette et Indi Maverick</td>\n",
       "      <td>Gigamic</td>\n",
       "      <td>NaN</td>\n",
       "      <td>2-5</td>\n",
       "      <td>14-99</td>\n",
       "      <td>60.0</td>\n",
       "    </tr>\n",
       "    <tr>\n",
       "      <th>2</th>\n",
       "      <td>28.0</td>\n",
       "      <td>Quetzal (2020)</td>\n",
       "      <td>Par Alexandre GarciaIllustré par Nastya LehnÉd...</td>\n",
       "      <td>7.22</td>\n",
       "      <td>8.18</td>\n",
       "      <td>https://www.trictrac.net/jeu-de-societe/quetzal</td>\n",
       "      <td>7.42</td>\n",
       "      <td>Enchères|Aventures dans la jungle|Collection /...</td>\n",
       "      <td>9.0</td>\n",
       "      <td>\\n                      Vous êtes à la tête d’...</td>\n",
       "      <td>2 à 5|8 ans et +|45</td>\n",
       "      <td>Quetzal</td>\n",
       "      <td>quetzal</td>\n",
       "      <td>Alexandre Garcia</td>\n",
       "      <td>Nastya Lehn</td>\n",
       "      <td>Gigamic</td>\n",
       "      <td>NaN</td>\n",
       "      <td>2-5</td>\n",
       "      <td>8-99</td>\n",
       "      <td>45.0</td>\n",
       "    </tr>\n",
       "  </tbody>\n",
       "</table>\n",
       "</div>"
      ],
      "text/plain": [
       "   Nombre d'avis            full_title  \\\n",
       "0           19.0  Marvel United (2020)   \n",
       "1           33.0      Mariposas (2020)   \n",
       "2           28.0        Quetzal (2020)   \n",
       "\n",
       "                                             casting  Note rectifiée  Note  \\\n",
       "0  Par Eric Lang et Andrea ChiarvesioIllustré par...            8.40  7.58   \n",
       "1  Par Elizabeth HargraveIllustré par Matt Paquet...            7.29  7.39   \n",
       "2  Par Alexandre GarciaIllustré par Nastya LehnÉd...            7.22  8.18   \n",
       "\n",
       "                                                 url  Note Finkel  \\\n",
       "0  https://www.trictrac.net/jeu-de-societe/marvel...         8.74   \n",
       "1  https://www.trictrac.net/jeu-de-societe/mariposas         7.68   \n",
       "2    https://www.trictrac.net/jeu-de-societe/quetzal         7.42   \n",
       "\n",
       "                                          categories  Nombre d'avis rectifiés  \\\n",
       "0                                                NaN                     10.0   \n",
       "1                                                NaN                     17.0   \n",
       "2  Enchères|Aventures dans la jungle|Collection /...                      9.0   \n",
       "\n",
       "                                         description               gameplay  \\\n",
       "0  \\n                      Marvel United : Unis c...  1 à 4|14 ans et +|45    \n",
       "1  \\n                      Chaque année, au print...  2 à 5|14 ans et +|60    \n",
       "2  \\n                      Vous êtes à la tête d’...   2 à 5|8 ans et +|45    \n",
       "\n",
       "           titre            _id                        creators  \\\n",
       "0  Marvel United  marvel-united  Eric Lang et Andrea Chiarvesio   \n",
       "1      Mariposas      mariposas              Elizabeth Hargrave   \n",
       "2        Quetzal        quetzal                Alexandre Garcia   \n",
       "\n",
       "                     illustrators       editors distributors nb_players  \\\n",
       "0                  Édouard Guiton  CMON Limited          NaN        1-4   \n",
       "1  Matt Paquette et Indi Maverick       Gigamic          NaN        2-5   \n",
       "2                     Nastya Lehn       Gigamic          NaN        2-5   \n",
       "\n",
       "  age_required  duration  \n",
       "0        14-99      45.0  \n",
       "1        14-99      60.0  \n",
       "2         8-99      45.0  "
      ]
     },
     "execution_count": 27,
     "metadata": {},
     "output_type": "execute_result"
    }
   ],
   "source": [
    "df_jeux_up.head(3)"
   ]
  },
  {
   "cell_type": "markdown",
   "id": "96eeff01",
   "metadata": {},
   "source": [
    "### 1.4 Suppression des attributs inutiles :"
   ]
  },
  {
   "cell_type": "markdown",
   "id": "9c6df5cb",
   "metadata": {},
   "source": [
    "Les attributs `url`, `casting`, `gameplay` sont traités, ils ne sont donc plus nécessaires."
   ]
  },
  {
   "cell_type": "code",
   "execution_count": 28,
   "id": "aafada96",
   "metadata": {},
   "outputs": [],
   "source": [
    "df_jeux_up = df_jeux_up.drop([\"url\", \"casting\", \"gameplay\"], axis=1)"
   ]
  },
  {
   "cell_type": "code",
   "execution_count": 29,
   "id": "eda71727",
   "metadata": {},
   "outputs": [
    {
     "data": {
      "text/html": [
       "<div>\n",
       "<style scoped>\n",
       "    .dataframe tbody tr th:only-of-type {\n",
       "        vertical-align: middle;\n",
       "    }\n",
       "\n",
       "    .dataframe tbody tr th {\n",
       "        vertical-align: top;\n",
       "    }\n",
       "\n",
       "    .dataframe thead th {\n",
       "        text-align: right;\n",
       "    }\n",
       "</style>\n",
       "<table border=\"1\" class=\"dataframe\">\n",
       "  <thead>\n",
       "    <tr style=\"text-align: right;\">\n",
       "      <th></th>\n",
       "      <th>Nombre d'avis</th>\n",
       "      <th>full_title</th>\n",
       "      <th>Note rectifiée</th>\n",
       "      <th>Note</th>\n",
       "      <th>Note Finkel</th>\n",
       "      <th>categories</th>\n",
       "      <th>Nombre d'avis rectifiés</th>\n",
       "      <th>description</th>\n",
       "      <th>titre</th>\n",
       "      <th>_id</th>\n",
       "      <th>creators</th>\n",
       "      <th>illustrators</th>\n",
       "      <th>editors</th>\n",
       "      <th>distributors</th>\n",
       "      <th>nb_players</th>\n",
       "      <th>age_required</th>\n",
       "      <th>duration</th>\n",
       "    </tr>\n",
       "  </thead>\n",
       "  <tbody>\n",
       "    <tr>\n",
       "      <th>0</th>\n",
       "      <td>19.0</td>\n",
       "      <td>Marvel United (2020)</td>\n",
       "      <td>8.40</td>\n",
       "      <td>7.58</td>\n",
       "      <td>8.74</td>\n",
       "      <td>NaN</td>\n",
       "      <td>10.0</td>\n",
       "      <td>\\n                      Marvel United : Unis c...</td>\n",
       "      <td>Marvel United</td>\n",
       "      <td>marvel-united</td>\n",
       "      <td>Eric Lang et Andrea Chiarvesio</td>\n",
       "      <td>Édouard Guiton</td>\n",
       "      <td>CMON Limited</td>\n",
       "      <td>NaN</td>\n",
       "      <td>1-4</td>\n",
       "      <td>14-99</td>\n",
       "      <td>45.0</td>\n",
       "    </tr>\n",
       "    <tr>\n",
       "      <th>1</th>\n",
       "      <td>33.0</td>\n",
       "      <td>Mariposas (2020)</td>\n",
       "      <td>7.29</td>\n",
       "      <td>7.39</td>\n",
       "      <td>7.68</td>\n",
       "      <td>NaN</td>\n",
       "      <td>17.0</td>\n",
       "      <td>\\n                      Chaque année, au print...</td>\n",
       "      <td>Mariposas</td>\n",
       "      <td>mariposas</td>\n",
       "      <td>Elizabeth Hargrave</td>\n",
       "      <td>Matt Paquette et Indi Maverick</td>\n",
       "      <td>Gigamic</td>\n",
       "      <td>NaN</td>\n",
       "      <td>2-5</td>\n",
       "      <td>14-99</td>\n",
       "      <td>60.0</td>\n",
       "    </tr>\n",
       "  </tbody>\n",
       "</table>\n",
       "</div>"
      ],
      "text/plain": [
       "   Nombre d'avis            full_title  Note rectifiée  Note  Note Finkel  \\\n",
       "0           19.0  Marvel United (2020)            8.40  7.58         8.74   \n",
       "1           33.0      Mariposas (2020)            7.29  7.39         7.68   \n",
       "\n",
       "  categories  Nombre d'avis rectifiés  \\\n",
       "0        NaN                     10.0   \n",
       "1        NaN                     17.0   \n",
       "\n",
       "                                         description          titre  \\\n",
       "0  \\n                      Marvel United : Unis c...  Marvel United   \n",
       "1  \\n                      Chaque année, au print...      Mariposas   \n",
       "\n",
       "             _id                        creators  \\\n",
       "0  marvel-united  Eric Lang et Andrea Chiarvesio   \n",
       "1      mariposas              Elizabeth Hargrave   \n",
       "\n",
       "                     illustrators       editors distributors nb_players  \\\n",
       "0                  Édouard Guiton  CMON Limited          NaN        1-4   \n",
       "1  Matt Paquette et Indi Maverick       Gigamic          NaN        2-5   \n",
       "\n",
       "  age_required  duration  \n",
       "0        14-99      45.0  \n",
       "1        14-99      60.0  "
      ]
     },
     "execution_count": 29,
     "metadata": {},
     "output_type": "execute_result"
    }
   ],
   "source": [
    "df_jeux_up.head(2)"
   ]
  },
  {
   "cell_type": "markdown",
   "id": "2a5c921a",
   "metadata": {},
   "source": [
    "## 2. Données des avis (`avis.bson`) :"
   ]
  },
  {
   "cell_type": "code",
   "execution_count": 30,
   "id": "6e2798ff",
   "metadata": {},
   "outputs": [
    {
     "data": {
      "text/html": [
       "<div>\n",
       "<style scoped>\n",
       "    .dataframe tbody tr th:only-of-type {\n",
       "        vertical-align: middle;\n",
       "    }\n",
       "\n",
       "    .dataframe tbody tr th {\n",
       "        vertical-align: top;\n",
       "    }\n",
       "\n",
       "    .dataframe thead th {\n",
       "        text-align: right;\n",
       "    }\n",
       "</style>\n",
       "<table border=\"1\" class=\"dataframe\">\n",
       "  <thead>\n",
       "    <tr style=\"text-align: right;\">\n",
       "      <th></th>\n",
       "      <th>comment</th>\n",
       "      <th>date_published</th>\n",
       "      <th>_id</th>\n",
       "      <th>title_review</th>\n",
       "      <th>url</th>\n",
       "      <th>title</th>\n",
       "      <th>note</th>\n",
       "      <th>review_href</th>\n",
       "      <th>author</th>\n",
       "      <th>treated</th>\n",
       "    </tr>\n",
       "  </thead>\n",
       "  <tbody>\n",
       "    <tr>\n",
       "      <th>0</th>\n",
       "      <td>Lorsque le jeu est jeu, bon, réflexif, joli po...</td>\n",
       "      <td>2021-01-27 11:06:44</td>\n",
       "      <td>63c6726ea81f3e3016af9a56</td>\n",
       "      <td>Voyages sur les ailes des papillons</td>\n",
       "      <td>https://www.trictrac.net/jeu-de-societe/maripo...</td>\n",
       "      <td>Mariposas</td>\n",
       "      <td>8.0</td>\n",
       "      <td>https://www.trictrac.net/avis/vraiment-bon-12514</td>\n",
       "      <td>Monsieur Guillaume</td>\n",
       "      <td>True</td>\n",
       "    </tr>\n",
       "    <tr>\n",
       "      <th>1</th>\n",
       "      <td>Comment continuer après un mega hit ? Simpleme...</td>\n",
       "      <td>2020-10-18 10:04:21</td>\n",
       "      <td>63c6726ea81f3e3016af9a57</td>\n",
       "      <td>le festival de Michoacan</td>\n",
       "      <td>https://www.trictrac.net/jeu-de-societe/maripo...</td>\n",
       "      <td>Mariposas</td>\n",
       "      <td>7.0</td>\n",
       "      <td>https://www.trictrac.net/avis/le-festival-de-m...</td>\n",
       "      <td>morlockbob</td>\n",
       "      <td>True</td>\n",
       "    </tr>\n",
       "  </tbody>\n",
       "</table>\n",
       "</div>"
      ],
      "text/plain": [
       "                                             comment       date_published  \\\n",
       "0  Lorsque le jeu est jeu, bon, réflexif, joli po...  2021-01-27 11:06:44   \n",
       "1  Comment continuer après un mega hit ? Simpleme...  2020-10-18 10:04:21   \n",
       "\n",
       "                        _id                         title_review  \\\n",
       "0  63c6726ea81f3e3016af9a56  Voyages sur les ailes des papillons   \n",
       "1  63c6726ea81f3e3016af9a57             le festival de Michoacan   \n",
       "\n",
       "                                                 url      title  note  \\\n",
       "0  https://www.trictrac.net/jeu-de-societe/maripo...  Mariposas   8.0   \n",
       "1  https://www.trictrac.net/jeu-de-societe/maripo...  Mariposas   7.0   \n",
       "\n",
       "                                         review_href              author  \\\n",
       "0   https://www.trictrac.net/avis/vraiment-bon-12514  Monsieur Guillaume   \n",
       "1  https://www.trictrac.net/avis/le-festival-de-m...          morlockbob   \n",
       "\n",
       "   treated  \n",
       "0     True  \n",
       "1     True  "
      ]
     },
     "execution_count": 30,
     "metadata": {},
     "output_type": "execute_result"
    }
   ],
   "source": [
    "df_avis.head(2)"
   ]
  },
  {
   "cell_type": "code",
   "execution_count": 31,
   "id": "fbeec805",
   "metadata": {},
   "outputs": [
    {
     "data": {
      "text/plain": [
       "(246524, 10)"
      ]
     },
     "execution_count": 31,
     "metadata": {},
     "output_type": "execute_result"
    }
   ],
   "source": [
    "df_avis.shape"
   ]
  },
  {
   "cell_type": "code",
   "execution_count": 32,
   "id": "0ae880bf",
   "metadata": {},
   "outputs": [
    {
     "data": {
      "text/plain": [
       "Index(['comment', 'date_published', '_id', 'title_review', 'url', 'title',\n",
       "       'note', 'review_href', 'author', 'treated'],\n",
       "      dtype='object')"
      ]
     },
     "execution_count": 32,
     "metadata": {},
     "output_type": "execute_result"
    }
   ],
   "source": [
    "df_avis.columns"
   ]
  },
  {
   "cell_type": "markdown",
   "id": "34a6269a",
   "metadata": {},
   "source": [
    "### 2.1 Identifiant d'un avis :"
   ]
  },
  {
   "cell_type": "markdown",
   "id": "25f3f287",
   "metadata": {},
   "source": [
    "Comme pour les jeux, l'attribut `_id` est généré lors du scrapping,il souffre du même problème."
   ]
  },
  {
   "cell_type": "code",
   "execution_count": 33,
   "id": "4b63982f",
   "metadata": {},
   "outputs": [
    {
     "data": {
      "text/html": [
       "<div>\n",
       "<style scoped>\n",
       "    .dataframe tbody tr th:only-of-type {\n",
       "        vertical-align: middle;\n",
       "    }\n",
       "\n",
       "    .dataframe tbody tr th {\n",
       "        vertical-align: top;\n",
       "    }\n",
       "\n",
       "    .dataframe thead th {\n",
       "        text-align: right;\n",
       "    }\n",
       "</style>\n",
       "<table border=\"1\" class=\"dataframe\">\n",
       "  <thead>\n",
       "    <tr style=\"text-align: right;\">\n",
       "      <th></th>\n",
       "      <th>comment</th>\n",
       "      <th>date_published</th>\n",
       "      <th>_id</th>\n",
       "      <th>title_review</th>\n",
       "      <th>url</th>\n",
       "      <th>title</th>\n",
       "      <th>note</th>\n",
       "      <th>review_href</th>\n",
       "      <th>author</th>\n",
       "      <th>treated</th>\n",
       "    </tr>\n",
       "  </thead>\n",
       "  <tbody>\n",
       "    <tr>\n",
       "      <th>0</th>\n",
       "      <td>Lorsque le jeu est jeu, bon, réflexif, joli po...</td>\n",
       "      <td>2021-01-27 11:06:44</td>\n",
       "      <td>63c6726ea81f3e3016af9a56</td>\n",
       "      <td>Voyages sur les ailes des papillons</td>\n",
       "      <td>https://www.trictrac.net/jeu-de-societe/maripo...</td>\n",
       "      <td>Mariposas</td>\n",
       "      <td>8.0</td>\n",
       "      <td>https://www.trictrac.net/avis/vraiment-bon-12514</td>\n",
       "      <td>Monsieur Guillaume</td>\n",
       "      <td>True</td>\n",
       "    </tr>\n",
       "  </tbody>\n",
       "</table>\n",
       "</div>"
      ],
      "text/plain": [
       "                                             comment       date_published  \\\n",
       "0  Lorsque le jeu est jeu, bon, réflexif, joli po...  2021-01-27 11:06:44   \n",
       "\n",
       "                        _id                         title_review  \\\n",
       "0  63c6726ea81f3e3016af9a56  Voyages sur les ailes des papillons   \n",
       "\n",
       "                                                 url      title  note  \\\n",
       "0  https://www.trictrac.net/jeu-de-societe/maripo...  Mariposas   8.0   \n",
       "\n",
       "                                        review_href              author  \\\n",
       "0  https://www.trictrac.net/avis/vraiment-bon-12514  Monsieur Guillaume   \n",
       "\n",
       "   treated  \n",
       "0     True  "
      ]
     },
     "execution_count": 33,
     "metadata": {},
     "output_type": "execute_result"
    }
   ],
   "source": [
    "df_avis.head(1)"
   ]
  },
  {
   "cell_type": "code",
   "execution_count": 34,
   "id": "bf8423c8",
   "metadata": {},
   "outputs": [],
   "source": [
    "df_avis_up = df_avis.drop([\"_id\"], axis=1)"
   ]
  },
  {
   "cell_type": "code",
   "execution_count": 35,
   "id": "899f4932",
   "metadata": {},
   "outputs": [
    {
     "data": {
      "text/html": [
       "<div>\n",
       "<style scoped>\n",
       "    .dataframe tbody tr th:only-of-type {\n",
       "        vertical-align: middle;\n",
       "    }\n",
       "\n",
       "    .dataframe tbody tr th {\n",
       "        vertical-align: top;\n",
       "    }\n",
       "\n",
       "    .dataframe thead th {\n",
       "        text-align: right;\n",
       "    }\n",
       "</style>\n",
       "<table border=\"1\" class=\"dataframe\">\n",
       "  <thead>\n",
       "    <tr style=\"text-align: right;\">\n",
       "      <th></th>\n",
       "      <th>comment</th>\n",
       "      <th>date_published</th>\n",
       "      <th>title_review</th>\n",
       "      <th>url</th>\n",
       "      <th>title</th>\n",
       "      <th>note</th>\n",
       "      <th>review_href</th>\n",
       "      <th>author</th>\n",
       "      <th>treated</th>\n",
       "    </tr>\n",
       "  </thead>\n",
       "  <tbody>\n",
       "    <tr>\n",
       "      <th>0</th>\n",
       "      <td>Lorsque le jeu est jeu, bon, réflexif, joli po...</td>\n",
       "      <td>2021-01-27 11:06:44</td>\n",
       "      <td>Voyages sur les ailes des papillons</td>\n",
       "      <td>https://www.trictrac.net/jeu-de-societe/maripo...</td>\n",
       "      <td>Mariposas</td>\n",
       "      <td>8.0</td>\n",
       "      <td>https://www.trictrac.net/avis/vraiment-bon-12514</td>\n",
       "      <td>Monsieur Guillaume</td>\n",
       "      <td>True</td>\n",
       "    </tr>\n",
       "  </tbody>\n",
       "</table>\n",
       "</div>"
      ],
      "text/plain": [
       "                                             comment       date_published  \\\n",
       "0  Lorsque le jeu est jeu, bon, réflexif, joli po...  2021-01-27 11:06:44   \n",
       "\n",
       "                          title_review  \\\n",
       "0  Voyages sur les ailes des papillons   \n",
       "\n",
       "                                                 url      title  note  \\\n",
       "0  https://www.trictrac.net/jeu-de-societe/maripo...  Mariposas   8.0   \n",
       "\n",
       "                                        review_href              author  \\\n",
       "0  https://www.trictrac.net/avis/vraiment-bon-12514  Monsieur Guillaume   \n",
       "\n",
       "   treated  \n",
       "0     True  "
      ]
     },
     "execution_count": 35,
     "metadata": {},
     "output_type": "execute_result"
    }
   ],
   "source": [
    "df_avis_up.head(1)"
   ]
  },
  {
   "cell_type": "markdown",
   "id": "597f4225",
   "metadata": {},
   "source": [
    "**- Comptage du nombre d'occurrences de chaque ligne (avis) du dataframe**"
   ]
  },
  {
   "cell_type": "code",
   "execution_count": 36,
   "id": "80a479b6",
   "metadata": {},
   "outputs": [
    {
     "data": {
      "image/png": "[encoded data removed]",
      "text/plain": [
       "<Figure size 360x360 with 1 Axes>"
      ]
     },
     "metadata": {
      "needs_background": "light"
     },
     "output_type": "display_data"
    }
   ],
   "source": [
    "uniques_row = df_avis_up.value_counts(dropna=False)\n",
    "\n",
    "plt.figure(figsize=(5, 5))\n",
    "plt.plot(uniques_row.values)\n",
    "plt.xlabel(\"avis\")\n",
    "plt.ylabel(\"occurrences\")\n",
    "plt.show()"
   ]
  },
  {
   "cell_type": "markdown",
   "id": "c22dea6e",
   "metadata": {},
   "source": [
    "- On note l'existence d'avis duppliqués dans la base de données."
   ]
  },
  {
   "cell_type": "code",
   "execution_count": 37,
   "id": "577b015e",
   "metadata": {},
   "outputs": [
    {
     "name": "stdout",
     "output_type": "stream",
     "text": [
      "On a 63375 avis duppliqués\n"
     ]
    }
   ],
   "source": [
    "print(\"On a\", np.where(uniques_row.values != 1, 1, 0).sum(), \"avis duppliqués\")"
   ]
  },
  {
   "cell_type": "markdown",
   "id": "065da2de",
   "metadata": {},
   "source": [
    "**- Suppression des duplicatas**"
   ]
  },
  {
   "cell_type": "code",
   "execution_count": 38,
   "id": "ea4ec555",
   "metadata": {},
   "outputs": [],
   "source": [
    "df_avis_up = df_avis_up.drop_duplicates()"
   ]
  },
  {
   "cell_type": "code",
   "execution_count": 39,
   "id": "41e2e7f5",
   "metadata": {},
   "outputs": [],
   "source": [
    "len_before = len(df_avis)\n",
    "len_after  = len(df_avis_up)"
   ]
  },
  {
   "cell_type": "code",
   "execution_count": 40,
   "id": "e0ba4f60",
   "metadata": {},
   "outputs": [
    {
     "data": {
      "image/png": "[encoded data removed]",
      "text/plain": [
       "<Figure size 360x360 with 1 Axes>"
      ]
     },
     "metadata": {
      "needs_background": "light"
     },
     "output_type": "display_data"
    }
   ],
   "source": [
    "plt.figure(figsize=(5, 5))\n",
    "plt.bar(['data init', 'data unique'], [len_before, len_after], width=0.5)\n",
    "plt.title(\"Tailles des données avant et apres\")\n",
    "plt.show()"
   ]
  },
  {
   "cell_type": "code",
   "execution_count": 41,
   "id": "dec5f092",
   "metadata": {},
   "outputs": [
    {
     "data": {
      "image/png": "[encoded data removed]",
      "text/plain": [
       "<Figure size 360x360 with 1 Axes>"
      ]
     },
     "metadata": {
      "needs_background": "light"
     },
     "output_type": "display_data"
    }
   ],
   "source": [
    "uniques_row = df_avis_up.value_counts(dropna=False)\n",
    "\n",
    "plt.figure(figsize=(5, 5))\n",
    "plt.plot(uniques_row.values)\n",
    "plt.xlabel(\"avis\")\n",
    "plt.ylabel(\"occurrences\")\n",
    "plt.show()"
   ]
  },
  {
   "cell_type": "markdown",
   "id": "90ab2cf8",
   "metadata": {},
   "source": [
    "### 2.2 Référence vers le jeu dans l'avis :"
   ]
  },
  {
   "cell_type": "markdown",
   "id": "2673d8c4",
   "metadata": {},
   "source": [
    "Comme l'identifiant d'un jeu est maintenant son titre et sa version, afin de conserver une base de données relationnelle nous devons adapter la référence au jeu dans la revue."
   ]
  },
  {
   "cell_type": "code",
   "execution_count": 42,
   "id": "f25e6e1d",
   "metadata": {},
   "outputs": [],
   "source": [
    "df_avis_up[\"title_id_jeu\"] = df_avis_up.apply(traitement.update_title, axis=1)"
   ]
  },
  {
   "cell_type": "code",
   "execution_count": 43,
   "id": "aa06bbb5",
   "metadata": {},
   "outputs": [
    {
     "data": {
      "text/plain": [
       "array(['1830', '1830-0'], dtype=object)"
      ]
     },
     "execution_count": 43,
     "metadata": {},
     "output_type": "execute_result"
    }
   ],
   "source": [
    "np.unique(df_avis_up[df_avis_up[\"title\"] == \"1830\"][\"title_id_jeu\"])"
   ]
  },
  {
   "cell_type": "code",
   "execution_count": 44,
   "id": "ba3db2a7",
   "metadata": {},
   "outputs": [
    {
     "name": "stdout",
     "output_type": "stream",
     "text": [
      "Nombre de jeux sans version  10709\n",
      "Nombre de jeux avec version  10936\n"
     ]
    }
   ],
   "source": [
    "print(\"Nombre de jeux sans version \", len(np.unique(df_avis_up[\"title\"])))\n",
    "print(\"Nombre de jeux avec version \", len(np.unique(df_avis_up[\"title_id_jeu\"])))"
   ]
  },
  {
   "cell_type": "markdown",
   "id": "18ae25ac",
   "metadata": {},
   "source": [
    "### 2.3 Suppression des attributs inutiles :"
   ]
  },
  {
   "cell_type": "markdown",
   "id": "3679c2e2",
   "metadata": {},
   "source": [
    "On drop les attributs `url` et `review_href` car ils ne nous seront plus utiles."
   ]
  },
  {
   "cell_type": "code",
   "execution_count": 45,
   "id": "a8abc379",
   "metadata": {},
   "outputs": [],
   "source": [
    "df_avis_up = df_avis_up.drop([\"url\", \"review_href\" ], axis=1)"
   ]
  },
  {
   "cell_type": "code",
   "execution_count": 46,
   "id": "3eb70150",
   "metadata": {},
   "outputs": [
    {
     "data": {
      "text/html": [
       "<div>\n",
       "<style scoped>\n",
       "    .dataframe tbody tr th:only-of-type {\n",
       "        vertical-align: middle;\n",
       "    }\n",
       "\n",
       "    .dataframe tbody tr th {\n",
       "        vertical-align: top;\n",
       "    }\n",
       "\n",
       "    .dataframe thead th {\n",
       "        text-align: right;\n",
       "    }\n",
       "</style>\n",
       "<table border=\"1\" class=\"dataframe\">\n",
       "  <thead>\n",
       "    <tr style=\"text-align: right;\">\n",
       "      <th></th>\n",
       "      <th>comment</th>\n",
       "      <th>date_published</th>\n",
       "      <th>title_review</th>\n",
       "      <th>title</th>\n",
       "      <th>note</th>\n",
       "      <th>author</th>\n",
       "      <th>treated</th>\n",
       "      <th>title_id_jeu</th>\n",
       "    </tr>\n",
       "  </thead>\n",
       "  <tbody>\n",
       "    <tr>\n",
       "      <th>0</th>\n",
       "      <td>Lorsque le jeu est jeu, bon, réflexif, joli po...</td>\n",
       "      <td>2021-01-27 11:06:44</td>\n",
       "      <td>Voyages sur les ailes des papillons</td>\n",
       "      <td>Mariposas</td>\n",
       "      <td>8.0</td>\n",
       "      <td>Monsieur Guillaume</td>\n",
       "      <td>True</td>\n",
       "      <td>mariposas</td>\n",
       "    </tr>\n",
       "    <tr>\n",
       "      <th>1</th>\n",
       "      <td>Comment continuer après un mega hit ? Simpleme...</td>\n",
       "      <td>2020-10-18 10:04:21</td>\n",
       "      <td>le festival de Michoacan</td>\n",
       "      <td>Mariposas</td>\n",
       "      <td>7.0</td>\n",
       "      <td>morlockbob</td>\n",
       "      <td>True</td>\n",
       "      <td>mariposas</td>\n",
       "    </tr>\n",
       "  </tbody>\n",
       "</table>\n",
       "</div>"
      ],
      "text/plain": [
       "                                             comment       date_published  \\\n",
       "0  Lorsque le jeu est jeu, bon, réflexif, joli po...  2021-01-27 11:06:44   \n",
       "1  Comment continuer après un mega hit ? Simpleme...  2020-10-18 10:04:21   \n",
       "\n",
       "                          title_review      title  note              author  \\\n",
       "0  Voyages sur les ailes des papillons  Mariposas   8.0  Monsieur Guillaume   \n",
       "1             le festival de Michoacan  Mariposas   7.0          morlockbob   \n",
       "\n",
       "   treated title_id_jeu  \n",
       "0     True    mariposas  \n",
       "1     True    mariposas  "
      ]
     },
     "execution_count": 46,
     "metadata": {},
     "output_type": "execute_result"
    }
   ],
   "source": [
    "df_avis_up.head(2)"
   ]
  },
  {
   "cell_type": "markdown",
   "id": "8689cf5c",
   "metadata": {},
   "source": [
    "### 2.4 Date de publication :"
   ]
  },
  {
   "cell_type": "markdown",
   "id": "7de20fd6",
   "metadata": {},
   "source": [
    "On garde seulement l'année de publication"
   ]
  },
  {
   "cell_type": "code",
   "execution_count": 47,
   "id": "9505da8d",
   "metadata": {},
   "outputs": [],
   "source": [
    "df_avis_up[\"date_published\"] = df_avis_up.apply(traitement.extract_published_year, axis=1)"
   ]
  },
  {
   "cell_type": "code",
   "execution_count": 48,
   "id": "9827b3d9",
   "metadata": {},
   "outputs": [
    {
     "data": {
      "text/html": [
       "<div>\n",
       "<style scoped>\n",
       "    .dataframe tbody tr th:only-of-type {\n",
       "        vertical-align: middle;\n",
       "    }\n",
       "\n",
       "    .dataframe tbody tr th {\n",
       "        vertical-align: top;\n",
       "    }\n",
       "\n",
       "    .dataframe thead th {\n",
       "        text-align: right;\n",
       "    }\n",
       "</style>\n",
       "<table border=\"1\" class=\"dataframe\">\n",
       "  <thead>\n",
       "    <tr style=\"text-align: right;\">\n",
       "      <th></th>\n",
       "      <th>comment</th>\n",
       "      <th>date_published</th>\n",
       "      <th>title_review</th>\n",
       "      <th>title</th>\n",
       "      <th>note</th>\n",
       "      <th>author</th>\n",
       "      <th>treated</th>\n",
       "      <th>title_id_jeu</th>\n",
       "    </tr>\n",
       "  </thead>\n",
       "  <tbody>\n",
       "    <tr>\n",
       "      <th>0</th>\n",
       "      <td>Lorsque le jeu est jeu, bon, réflexif, joli po...</td>\n",
       "      <td>2021</td>\n",
       "      <td>Voyages sur les ailes des papillons</td>\n",
       "      <td>Mariposas</td>\n",
       "      <td>8.0</td>\n",
       "      <td>Monsieur Guillaume</td>\n",
       "      <td>True</td>\n",
       "      <td>mariposas</td>\n",
       "    </tr>\n",
       "    <tr>\n",
       "      <th>1</th>\n",
       "      <td>Comment continuer après un mega hit ? Simpleme...</td>\n",
       "      <td>2020</td>\n",
       "      <td>le festival de Michoacan</td>\n",
       "      <td>Mariposas</td>\n",
       "      <td>7.0</td>\n",
       "      <td>morlockbob</td>\n",
       "      <td>True</td>\n",
       "      <td>mariposas</td>\n",
       "    </tr>\n",
       "  </tbody>\n",
       "</table>\n",
       "</div>"
      ],
      "text/plain": [
       "                                             comment date_published  \\\n",
       "0  Lorsque le jeu est jeu, bon, réflexif, joli po...           2021   \n",
       "1  Comment continuer après un mega hit ? Simpleme...           2020   \n",
       "\n",
       "                          title_review      title  note              author  \\\n",
       "0  Voyages sur les ailes des papillons  Mariposas   8.0  Monsieur Guillaume   \n",
       "1             le festival de Michoacan  Mariposas   7.0          morlockbob   \n",
       "\n",
       "   treated title_id_jeu  \n",
       "0     True    mariposas  \n",
       "1     True    mariposas  "
      ]
     },
     "execution_count": 48,
     "metadata": {},
     "output_type": "execute_result"
    }
   ],
   "source": [
    "df_avis_up.head(2)"
   ]
  },
  {
   "cell_type": "markdown",
   "id": "cbe14a77",
   "metadata": {},
   "source": [
    "## II. Sauvegarde des nouveaux dataframe : "
   ]
  },
  {
   "cell_type": "code",
   "execution_count": 49,
   "id": "f16df2db",
   "metadata": {},
   "outputs": [],
   "source": [
    "df_avis_up.to_csv('../data/avis_clean.csv', index=False)"
   ]
  },
  {
   "cell_type": "code",
   "execution_count": 50,
   "id": "27828887",
   "metadata": {},
   "outputs": [],
   "source": [
    "df_jeux_up.to_csv('../data/details_clean.csv', index=False)"
   ]
  }
 ],
 "metadata": {
  "kernelspec": {
   "display_name": "Python 3 (ipykernel)",
   "language": "python",
   "name": "python3"
  },
  "language_info": {
   "codemirror_mode": {
    "name": "ipython",
    "version": 3
   },
   "file_extension": ".py",
   "mimetype": "text/x-python",
   "name": "python",
   "nbconvert_exporter": "python",
   "pygments_lexer": "ipython3",
   "version": "3.9.12"
  },
  "vscode": {
   "interpreter": {
    "hash": "42f73df57f5c5b27fbfc85044b4c138d07e605094b5be4cd67d04547d5b2fc0f"
   }
  }
 },
 "nbformat": 4,
 "nbformat_minor": 5
}
