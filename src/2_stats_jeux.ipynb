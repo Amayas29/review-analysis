{
 "cells": [
  {
   "cell_type": "code",
   "execution_count": 1,
   "id": "799f393f",
   "metadata": {},
   "outputs": [],
   "source": [
    "import numpy as np\n",
    "import matplotlib.pyplot as plt\n",
    "import seaborn as sns\n",
    "import pandas as pd\n",
    "\n",
    "import warnings\n",
    "warnings.filterwarnings('ignore')"
   ]
  },
  {
   "attachments": {},
   "cell_type": "markdown",
   "id": "755975a9",
   "metadata": {},
   "source": [
    "# I. Chargement des données :"
   ]
  },
  {
   "cell_type": "code",
   "execution_count": 2,
   "id": "7f08cd9e",
   "metadata": {},
   "outputs": [],
   "source": [
    "df_jeux_up = pd.read_csv(\"../data/details_clean.csv\")"
   ]
  },
  {
   "cell_type": "code",
   "execution_count": 3,
   "id": "ca1ec0fc",
   "metadata": {},
   "outputs": [
    {
     "data": {
      "text/html": [
       "<div>\n",
       "<style scoped>\n",
       "    .dataframe tbody tr th:only-of-type {\n",
       "        vertical-align: middle;\n",
       "    }\n",
       "\n",
       "    .dataframe tbody tr th {\n",
       "        vertical-align: top;\n",
       "    }\n",
       "\n",
       "    .dataframe thead th {\n",
       "        text-align: right;\n",
       "    }\n",
       "</style>\n",
       "<table border=\"1\" class=\"dataframe\">\n",
       "  <thead>\n",
       "    <tr style=\"text-align: right;\">\n",
       "      <th></th>\n",
       "      <th>Nombre d'avis</th>\n",
       "      <th>Note</th>\n",
       "      <th>categories</th>\n",
       "      <th>description</th>\n",
       "      <th>titre</th>\n",
       "      <th>_id</th>\n",
       "      <th>creators</th>\n",
       "      <th>illustrators</th>\n",
       "      <th>editors</th>\n",
       "      <th>distributors</th>\n",
       "      <th>duration</th>\n",
       "      <th>enfant</th>\n",
       "      <th>ado</th>\n",
       "      <th>adulte</th>\n",
       "      <th>solo</th>\n",
       "      <th>duo</th>\n",
       "      <th>multi</th>\n",
       "    </tr>\n",
       "  </thead>\n",
       "  <tbody>\n",
       "    <tr>\n",
       "      <th>0</th>\n",
       "      <td>19.0</td>\n",
       "      <td>7.58</td>\n",
       "      <td>NaN</td>\n",
       "      <td>\\n                      Marvel United : Unis c...</td>\n",
       "      <td>Marvel United</td>\n",
       "      <td>marvel-united</td>\n",
       "      <td>Eric Lang et Andrea Chiarvesio</td>\n",
       "      <td>Édouard Guiton</td>\n",
       "      <td>CMON Limited</td>\n",
       "      <td>NaN</td>\n",
       "      <td>45.0</td>\n",
       "      <td>0</td>\n",
       "      <td>1</td>\n",
       "      <td>1</td>\n",
       "      <td>1</td>\n",
       "      <td>0</td>\n",
       "      <td>1</td>\n",
       "    </tr>\n",
       "    <tr>\n",
       "      <th>1</th>\n",
       "      <td>33.0</td>\n",
       "      <td>7.39</td>\n",
       "      <td>NaN</td>\n",
       "      <td>\\n                      Chaque année, au print...</td>\n",
       "      <td>Mariposas</td>\n",
       "      <td>mariposas</td>\n",
       "      <td>Elizabeth Hargrave</td>\n",
       "      <td>Matt Paquette et Indi Maverick</td>\n",
       "      <td>Gigamic</td>\n",
       "      <td>NaN</td>\n",
       "      <td>60.0</td>\n",
       "      <td>0</td>\n",
       "      <td>1</td>\n",
       "      <td>1</td>\n",
       "      <td>0</td>\n",
       "      <td>1</td>\n",
       "      <td>1</td>\n",
       "    </tr>\n",
       "    <tr>\n",
       "      <th>2</th>\n",
       "      <td>28.0</td>\n",
       "      <td>8.18</td>\n",
       "      <td>Enchères|Aventures dans la jungle|Collection /...</td>\n",
       "      <td>\\n                      Vous êtes à la tête d’...</td>\n",
       "      <td>Quetzal</td>\n",
       "      <td>quetzal</td>\n",
       "      <td>Alexandre Garcia</td>\n",
       "      <td>Nastya Lehn</td>\n",
       "      <td>Gigamic</td>\n",
       "      <td>NaN</td>\n",
       "      <td>45.0</td>\n",
       "      <td>0</td>\n",
       "      <td>1</td>\n",
       "      <td>1</td>\n",
       "      <td>0</td>\n",
       "      <td>1</td>\n",
       "      <td>1</td>\n",
       "    </tr>\n",
       "    <tr>\n",
       "      <th>3</th>\n",
       "      <td>4.0</td>\n",
       "      <td>9.00</td>\n",
       "      <td>NaN</td>\n",
       "      <td>\\n                      Un Kit de démarrage co...</td>\n",
       "      <td>Alien - Kit de Démarrage</td>\n",
       "      <td>alien-kit-de-demarrage</td>\n",
       "      <td>NaN</td>\n",
       "      <td>NaN</td>\n",
       "      <td>Arkhane Asylum Publishing</td>\n",
       "      <td>NaN</td>\n",
       "      <td>NaN</td>\n",
       "      <td>0</td>\n",
       "      <td>1</td>\n",
       "      <td>1</td>\n",
       "      <td>1</td>\n",
       "      <td>0</td>\n",
       "      <td>1</td>\n",
       "    </tr>\n",
       "    <tr>\n",
       "      <th>4</th>\n",
       "      <td>72.0</td>\n",
       "      <td>8.75</td>\n",
       "      <td>Card-driven|Combinaison|Coopération|Deck build...</td>\n",
       "      <td>\\n                      Le Dr Foo a créé une t...</td>\n",
       "      <td>The LOOP</td>\n",
       "      <td>the-loop</td>\n",
       "      <td>Maxime Rambourg et Théo Rivière</td>\n",
       "      <td>Simon Caruso</td>\n",
       "      <td>Catch Up Games</td>\n",
       "      <td>NaN</td>\n",
       "      <td>60.0</td>\n",
       "      <td>0</td>\n",
       "      <td>1</td>\n",
       "      <td>1</td>\n",
       "      <td>1</td>\n",
       "      <td>0</td>\n",
       "      <td>1</td>\n",
       "    </tr>\n",
       "  </tbody>\n",
       "</table>\n",
       "</div>"
      ],
      "text/plain": [
       "   Nombre d'avis  Note                                         categories  \\\n",
       "0           19.0  7.58                                                NaN   \n",
       "1           33.0  7.39                                                NaN   \n",
       "2           28.0  8.18  Enchères|Aventures dans la jungle|Collection /...   \n",
       "3            4.0  9.00                                                NaN   \n",
       "4           72.0  8.75  Card-driven|Combinaison|Coopération|Deck build...   \n",
       "\n",
       "                                         description  \\\n",
       "0  \\n                      Marvel United : Unis c...   \n",
       "1  \\n                      Chaque année, au print...   \n",
       "2  \\n                      Vous êtes à la tête d’...   \n",
       "3  \\n                      Un Kit de démarrage co...   \n",
       "4  \\n                      Le Dr Foo a créé une t...   \n",
       "\n",
       "                      titre                     _id  \\\n",
       "0             Marvel United           marvel-united   \n",
       "1                 Mariposas               mariposas   \n",
       "2                   Quetzal                 quetzal   \n",
       "3  Alien - Kit de Démarrage  alien-kit-de-demarrage   \n",
       "4                  The LOOP                the-loop   \n",
       "\n",
       "                          creators                    illustrators  \\\n",
       "0   Eric Lang et Andrea Chiarvesio                  Édouard Guiton   \n",
       "1               Elizabeth Hargrave  Matt Paquette et Indi Maverick   \n",
       "2                 Alexandre Garcia                     Nastya Lehn   \n",
       "3                              NaN                             NaN   \n",
       "4  Maxime Rambourg et Théo Rivière                    Simon Caruso   \n",
       "\n",
       "                     editors distributors  duration  enfant  ado  adulte  \\\n",
       "0               CMON Limited          NaN      45.0       0    1       1   \n",
       "1                    Gigamic          NaN      60.0       0    1       1   \n",
       "2                    Gigamic          NaN      45.0       0    1       1   \n",
       "3  Arkhane Asylum Publishing          NaN       NaN       0    1       1   \n",
       "4             Catch Up Games          NaN      60.0       0    1       1   \n",
       "\n",
       "   solo  duo  multi  \n",
       "0     1    0      1  \n",
       "1     0    1      1  \n",
       "2     0    1      1  \n",
       "3     1    0      1  \n",
       "4     1    0      1  "
      ]
     },
     "execution_count": 3,
     "metadata": {},
     "output_type": "execute_result"
    }
   ],
   "source": [
    "df_jeux_up.head(5)"
   ]
  },
  {
   "cell_type": "code",
   "execution_count": 4,
   "id": "ad770750",
   "metadata": {},
   "outputs": [],
   "source": [
    "df_avis_up = pd.read_csv(\"../data/avis_clean.csv\")"
   ]
  },
  {
   "cell_type": "code",
   "execution_count": 5,
   "id": "4d25f0ba",
   "metadata": {},
   "outputs": [
    {
     "data": {
      "text/html": [
       "<div>\n",
       "<style scoped>\n",
       "    .dataframe tbody tr th:only-of-type {\n",
       "        vertical-align: middle;\n",
       "    }\n",
       "\n",
       "    .dataframe tbody tr th {\n",
       "        vertical-align: top;\n",
       "    }\n",
       "\n",
       "    .dataframe thead th {\n",
       "        text-align: right;\n",
       "    }\n",
       "</style>\n",
       "<table border=\"1\" class=\"dataframe\">\n",
       "  <thead>\n",
       "    <tr style=\"text-align: right;\">\n",
       "      <th></th>\n",
       "      <th>comment</th>\n",
       "      <th>date_published</th>\n",
       "      <th>title_review</th>\n",
       "      <th>title</th>\n",
       "      <th>note</th>\n",
       "      <th>author</th>\n",
       "      <th>title_id_jeu</th>\n",
       "    </tr>\n",
       "  </thead>\n",
       "  <tbody>\n",
       "    <tr>\n",
       "      <th>0</th>\n",
       "      <td>Lorsque le jeu est jeu, bon, réflexif, joli po...</td>\n",
       "      <td>2021</td>\n",
       "      <td>Voyages sur les ailes des papillons</td>\n",
       "      <td>Mariposas</td>\n",
       "      <td>8.0</td>\n",
       "      <td>Monsieur Guillaume</td>\n",
       "      <td>mariposas</td>\n",
       "    </tr>\n",
       "    <tr>\n",
       "      <th>1</th>\n",
       "      <td>Comment continuer après un mega hit ? Simpleme...</td>\n",
       "      <td>2020</td>\n",
       "      <td>le festival de Michoacan</td>\n",
       "      <td>Mariposas</td>\n",
       "      <td>7.0</td>\n",
       "      <td>morlockbob</td>\n",
       "      <td>mariposas</td>\n",
       "    </tr>\n",
       "    <tr>\n",
       "      <th>2</th>\n",
       "      <td>Vin d'jeu: Avec Mariposas, Elizabeth Hargrave ...</td>\n",
       "      <td>2021</td>\n",
       "      <td>Vivez la migration des monarques</td>\n",
       "      <td>Mariposas</td>\n",
       "      <td>7.0</td>\n",
       "      <td>SwatSh</td>\n",
       "      <td>mariposas</td>\n",
       "    </tr>\n",
       "    <tr>\n",
       "      <th>3</th>\n",
       "      <td>NaN</td>\n",
       "      <td>2020</td>\n",
       "      <td>Bon</td>\n",
       "      <td>Mariposas</td>\n",
       "      <td>8.0</td>\n",
       "      <td>Timi JeuxATheme</td>\n",
       "      <td>mariposas</td>\n",
       "    </tr>\n",
       "    <tr>\n",
       "      <th>4</th>\n",
       "      <td>Très joli bijou que ce jeu-là ! Le matériel, l...</td>\n",
       "      <td>2021</td>\n",
       "      <td>Envolez-moi</td>\n",
       "      <td>Mariposas</td>\n",
       "      <td>9.0</td>\n",
       "      <td>prunelles</td>\n",
       "      <td>mariposas</td>\n",
       "    </tr>\n",
       "  </tbody>\n",
       "</table>\n",
       "</div>"
      ],
      "text/plain": [
       "                                             comment  date_published  \\\n",
       "0  Lorsque le jeu est jeu, bon, réflexif, joli po...            2021   \n",
       "1  Comment continuer après un mega hit ? Simpleme...            2020   \n",
       "2  Vin d'jeu: Avec Mariposas, Elizabeth Hargrave ...            2021   \n",
       "3                                                NaN            2020   \n",
       "4  Très joli bijou que ce jeu-là ! Le matériel, l...            2021   \n",
       "\n",
       "                          title_review      title  note              author  \\\n",
       "0  Voyages sur les ailes des papillons  Mariposas   8.0  Monsieur Guillaume   \n",
       "1             le festival de Michoacan  Mariposas   7.0          morlockbob   \n",
       "2     Vivez la migration des monarques  Mariposas   7.0              SwatSh   \n",
       "3                                  Bon  Mariposas   8.0     Timi JeuxATheme   \n",
       "4                          Envolez-moi  Mariposas   9.0           prunelles   \n",
       "\n",
       "  title_id_jeu  \n",
       "0    mariposas  \n",
       "1    mariposas  \n",
       "2    mariposas  \n",
       "3    mariposas  \n",
       "4    mariposas  "
      ]
     },
     "execution_count": 5,
     "metadata": {},
     "output_type": "execute_result"
    }
   ],
   "source": [
    "df_avis_up.head(5)"
   ]
  },
  {
   "attachments": {},
   "cell_type": "markdown",
   "id": "9e9ca84a",
   "metadata": {},
   "source": [
    "# II. Statistiques"
   ]
  },
  {
   "attachments": {},
   "cell_type": "markdown",
   "id": "716d1bc0",
   "metadata": {},
   "source": [
    "## 1. Répartitions des valeurs NaN dans la base de données des jeux : "
   ]
  },
  {
   "cell_type": "code",
   "execution_count": 6,
   "id": "97063207",
   "metadata": {},
   "outputs": [
    {
     "data": {
      "image/png": "[encoded data removed]",
      "text/plain": [
       "<Figure size 1440x720 with 1 Axes>"
      ]
     },
     "metadata": {
      "needs_background": "light"
     },
     "output_type": "display_data"
    }
   ],
   "source": [
    "plt.figure(figsize=(20,10))\n",
    "sns.heatmap(df_jeux_up.isna(), cbar=False)\n",
    "plt.xlabel(\"Attribut\")\n",
    "plt.show()"
   ]
  },
  {
   "cell_type": "code",
   "execution_count": 7,
   "id": "d73ec27a",
   "metadata": {},
   "outputs": [
    {
     "name": "stdout",
     "output_type": "stream",
     "text": [
      "Le % de NaN pour l'attribut illustrators : 56.48669471937415 %\n"
     ]
    }
   ],
   "source": [
    "print(\"Le % de NaN pour l'attribut illustrators :\", 100 * np.where(df_jeux_up[\"illustrators\"].isna(), 1, 0).sum() / len(df_jeux_up[\"illustrators\"]), \"%\")"
   ]
  },
  {
   "cell_type": "code",
   "execution_count": 8,
   "id": "6e7ee9b7",
   "metadata": {},
   "outputs": [
    {
     "name": "stdout",
     "output_type": "stream",
     "text": [
      "Le % de NaN pour l'attribut distributors : 99.03395958039471 %\n"
     ]
    }
   ],
   "source": [
    "print(\"Le % de NaN pour l'attribut distributors :\", 100 * np.where(df_jeux_up[\"distributors\"].isna(), 1, 0).sum() / len(df_jeux_up[\"distributors\"]), \"%\")"
   ]
  },
  {
   "cell_type": "code",
   "execution_count": 9,
   "id": "d78ced58",
   "metadata": {},
   "outputs": [
    {
     "name": "stdout",
     "output_type": "stream",
     "text": [
      "Le % de NaN pour l'attribut categories : 13.026729093818526 %\n"
     ]
    }
   ],
   "source": [
    "print(\"Le % de NaN pour l'attribut categories :\", 100 * np.where(df_jeux_up[\"categories\"].isna(), 1, 0).sum() / len(df_jeux_up[\"categories\"]), \"%\")"
   ]
  },
  {
   "attachments": {},
   "cell_type": "markdown",
   "id": "5d8101d8",
   "metadata": {},
   "source": [
    "On remarque que : \n",
    "\n",
    "- L'attribut `distributors` est quasi-vide (c'est à dire contient beaucoup de NaN, 99% sont des NaN), on peut le supprimer.\n",
    "\n",
    "- Que certain jeux n'ont pas de categories (13% jeux sans categories)\n",
    "\n",
    "- Les attributs du castings c'est les données les plus manquantes"
   ]
  },
  {
   "attachments": {},
   "cell_type": "markdown",
   "id": "ad9da8a9",
   "metadata": {},
   "source": [
    "## 2. Répartition des notes"
   ]
  },
  {
   "cell_type": "code",
   "execution_count": 10,
   "id": "db8887ee",
   "metadata": {},
   "outputs": [
    {
     "data": {
      "image/png": "[encoded data removed]",
      "text/plain": [
       "<Figure size 720x360 with 1 Axes>"
      ]
     },
     "metadata": {
      "needs_background": "light"
     },
     "output_type": "display_data"
    }
   ],
   "source": [
    "plt.figure(figsize=(10, 5))\n",
    "sns.distplot(df_jeux_up[\"Note\"])\n",
    "plt.title(\"Distribution des notes (Jeux sans avis inclus)\", y=-0.2)\n",
    "plt.show()"
   ]
  },
  {
   "cell_type": "code",
   "execution_count": 11,
   "id": "f27047d9",
   "metadata": {},
   "outputs": [
    {
     "name": "stdout",
     "output_type": "stream",
     "text": [
      "Le % des notes nulles : 35.07971315118829 %\n"
     ]
    }
   ],
   "source": [
    "print(\"Le % des notes nulles :\", 100 * np.where(df_jeux_up[\"Note\"] == 0, 1, 0).sum() / len(df_jeux_up[\"Note\"]), \"%\")"
   ]
  },
  {
   "attachments": {},
   "cell_type": "markdown",
   "id": "593314f8",
   "metadata": {},
   "source": [
    "- On remarque qu'il y a beaucoup de jeux avec une note de 0, pour expliquer ce phénomène on pose comme hypothèse que 0 est la note par défaut des jeux sans avis, 35% de jeux avec une note de 0\n",
    "\n",
    "### On va essayer de prouver cette hypothèse"
   ]
  },
  {
   "cell_type": "code",
   "execution_count": 12,
   "id": "5ce8710d",
   "metadata": {},
   "outputs": [],
   "source": [
    "jeux_avis = df_avis_up[\"title_id_jeu\"].value_counts()"
   ]
  },
  {
   "cell_type": "code",
   "execution_count": 13,
   "id": "6e2e7ae3",
   "metadata": {},
   "outputs": [],
   "source": [
    "values = jeux_avis.keys().tolist()\n",
    "counts = jeux_avis.tolist()\n",
    "value_dict = dict(zip(values, counts))"
   ]
  },
  {
   "cell_type": "code",
   "execution_count": 14,
   "id": "5ded6999",
   "metadata": {},
   "outputs": [
    {
     "data": {
      "image/png": "[encoded data removed]",
      "text/plain": [
       "<Figure size 720x360 with 1 Axes>"
      ]
     },
     "metadata": {
      "needs_background": "light"
     },
     "output_type": "display_data"
    }
   ],
   "source": [
    "plt.figure(figsize=(10, 5))\n",
    "sns.distplot(df_jeux_up['_id'].map(value_dict).fillna(0))\n",
    "plt.title(\"Distribution des avis\", y=-0.2)\n",
    "plt.xlabel(\"Nombre d'avis\")\n",
    "plt.ylabel(\"Densité de jeux associé au nombre d'avis\")\n",
    "plt.show()"
   ]
  },
  {
   "cell_type": "code",
   "execution_count": 43,
   "id": "4ffb48f7",
   "metadata": {},
   "outputs": [
    {
     "data": {
      "image/png": "[encoded data removed]",
      "text/plain": [
       "<Figure size 360x360 with 1 Axes>"
      ]
     },
     "metadata": {
      "needs_background": "light"
     },
     "output_type": "display_data"
    }
   ],
   "source": [
    "plt.figure(figsize=(5, 5))\n",
    "data = np.where(df_jeux_up['_id'].isin(values), 1, 0)\n",
    "_, counts = np.unique(data, return_counts=True)\n",
    "\n",
    "plt.bar([\"jeux sans avis\", \"jeux avec avis\"], counts, align='center', width=0.5)\n",
    "plt.title(\"Distribution des avis\", y=-0.15)\n",
    "plt.ylabel(\"Counts\")\n",
    "plt.show()"
   ]
  },
  {
   "cell_type": "code",
   "execution_count": 16,
   "id": "5bc54433",
   "metadata": {},
   "outputs": [
    {
     "name": "stdout",
     "output_type": "stream",
     "text": [
      "Le % des jeux sans avis : 35.18639246132875 %\n"
     ]
    }
   ],
   "source": [
    "nb_avis_jeux = df_jeux_up['_id'].map(value_dict).fillna(0)\n",
    "print(\"Le % des jeux sans avis :\", 100 * np.where(nb_avis_jeux == 0, 1, 0).sum() / len(nb_avis_jeux), \"%\")"
   ]
  },
  {
   "attachments": {},
   "cell_type": "markdown",
   "id": "cea0c6f0",
   "metadata": {},
   "source": [
    "- On a le même % de jeux sans avis que de jeux avec une note de 0 (35%)\n",
    "\n",
    "### On vérifie que les jeux sans avis ont bien une note par défaut de 0"
   ]
  },
  {
   "cell_type": "code",
   "execution_count": 17,
   "id": "ea3d6572",
   "metadata": {},
   "outputs": [
    {
     "data": {
      "text/plain": [
       "<Figure size 720x360 with 0 Axes>"
      ]
     },
     "metadata": {},
     "output_type": "display_data"
    },
    {
     "data": {
      "image/png": "[encoded data removed]",
      "text/plain": [
       "<Figure size 360x360 with 1 Axes>"
      ]
     },
     "metadata": {
      "needs_background": "light"
     },
     "output_type": "display_data"
    }
   ],
   "source": [
    "plt.figure(figsize=(10, 5))\n",
    "sns.displot(df_jeux_up[~df_jeux_up['_id'].isin(values)][\"Note\"])\n",
    "plt.title(\"Notes des jeux sans avis\", y=-0.2)\n",
    "plt.show()"
   ]
  },
  {
   "attachments": {},
   "cell_type": "markdown",
   "id": "a3a76a70",
   "metadata": {},
   "source": [
    "### La vraie répartition des notes"
   ]
  },
  {
   "cell_type": "code",
   "execution_count": 45,
   "id": "acece4a6",
   "metadata": {},
   "outputs": [
    {
     "data": {
      "image/png": "[encoded data removed]",
      "text/plain": [
       "<Figure size 576x360 with 1 Axes>"
      ]
     },
     "metadata": {
      "needs_background": "light"
     },
     "output_type": "display_data"
    }
   ],
   "source": [
    "plt.figure(figsize=(8, 5))\n",
    "sns.distplot(df_jeux_up[df_jeux_up['_id'].isin(values)][\"Note\"])\n",
    "plt.title(\"Distribution des notes des jeux (avec avis)\", y=-0.2)\n",
    "plt.show()"
   ]
  },
  {
   "attachments": {},
   "cell_type": "markdown",
   "id": "8f9bfc47",
   "metadata": {},
   "source": [
    "## 3. Les categories d'age : "
   ]
  },
  {
   "cell_type": "code",
   "execution_count": 19,
   "id": "f8a361ef",
   "metadata": {},
   "outputs": [],
   "source": [
    "n_enfant_uniq = len(df_jeux_up.query('enfant == 1 & ado == 0 & adulte == 0'))\n",
    "n_ado_uniq    = len(df_jeux_up.query('enfant == 0 & ado == 1 & adulte == 0'))\n",
    "n_adulte_uniq = len(df_jeux_up.query('enfant == 0 & ado == 0 & adulte == 1'))\n",
    "n_enfant_ado  = len(df_jeux_up.query('enfant == 1 & ado == 1 & adulte == 0'))\n",
    "n_ado_adulte  = len(df_jeux_up.query('enfant == 0 & ado == 1 & adulte == 1'))\n",
    "n_tout        = len(df_jeux_up.query('enfant == 1 & ado == 1 & adulte == 1'))"
   ]
  },
  {
   "cell_type": "code",
   "execution_count": 20,
   "id": "d98ef44f",
   "metadata": {},
   "outputs": [
    {
     "data": {
      "image/png": "[encoded data removed]",
      "text/plain": [
       "<Figure size 720x360 with 1 Axes>"
      ]
     },
     "metadata": {
      "needs_background": "light"
     },
     "output_type": "display_data"
    }
   ],
   "source": [
    "plt.figure(figsize=(10, 5))\n",
    "\n",
    "plt.bar([\"enfant uniq\", \"ado uniq\", \"adulte uniq\", \"enfant et ado\", \"ado et adulte\", \"tout\"], \n",
    "        [n_enfant_uniq, n_ado_uniq, n_adulte_uniq,    n_enfant_ado,    n_ado_adulte, n_tout], \n",
    "        width=0.2)\n",
    "\n",
    "plt.title(\"Distribution des categories des ages\", y=-0.2)\n",
    "plt.ylabel(\"Counts\")\n",
    "plt.show()"
   ]
  },
  {
   "cell_type": "code",
   "execution_count": 21,
   "id": "dc8a6cdc",
   "metadata": {},
   "outputs": [
    {
     "data": {
      "text/html": [
       "<div>\n",
       "<style scoped>\n",
       "    .dataframe tbody tr th:only-of-type {\n",
       "        vertical-align: middle;\n",
       "    }\n",
       "\n",
       "    .dataframe tbody tr th {\n",
       "        vertical-align: top;\n",
       "    }\n",
       "\n",
       "    .dataframe thead th {\n",
       "        text-align: right;\n",
       "    }\n",
       "</style>\n",
       "<table border=\"1\" class=\"dataframe\">\n",
       "  <thead>\n",
       "    <tr style=\"text-align: right;\">\n",
       "      <th></th>\n",
       "      <th>Nombre d'avis</th>\n",
       "      <th>Note</th>\n",
       "      <th>categories</th>\n",
       "      <th>description</th>\n",
       "      <th>titre</th>\n",
       "      <th>_id</th>\n",
       "      <th>creators</th>\n",
       "      <th>illustrators</th>\n",
       "      <th>editors</th>\n",
       "      <th>distributors</th>\n",
       "      <th>duration</th>\n",
       "      <th>enfant</th>\n",
       "      <th>ado</th>\n",
       "      <th>adulte</th>\n",
       "      <th>solo</th>\n",
       "      <th>duo</th>\n",
       "      <th>multi</th>\n",
       "    </tr>\n",
       "  </thead>\n",
       "  <tbody>\n",
       "    <tr>\n",
       "      <th>0</th>\n",
       "      <td>19.0</td>\n",
       "      <td>7.58</td>\n",
       "      <td>NaN</td>\n",
       "      <td>\\n                      Marvel United : Unis c...</td>\n",
       "      <td>Marvel United</td>\n",
       "      <td>marvel-united</td>\n",
       "      <td>Eric Lang et Andrea Chiarvesio</td>\n",
       "      <td>Édouard Guiton</td>\n",
       "      <td>CMON Limited</td>\n",
       "      <td>NaN</td>\n",
       "      <td>45.0</td>\n",
       "      <td>0</td>\n",
       "      <td>1</td>\n",
       "      <td>1</td>\n",
       "      <td>1</td>\n",
       "      <td>0</td>\n",
       "      <td>1</td>\n",
       "    </tr>\n",
       "    <tr>\n",
       "      <th>1</th>\n",
       "      <td>33.0</td>\n",
       "      <td>7.39</td>\n",
       "      <td>NaN</td>\n",
       "      <td>\\n                      Chaque année, au print...</td>\n",
       "      <td>Mariposas</td>\n",
       "      <td>mariposas</td>\n",
       "      <td>Elizabeth Hargrave</td>\n",
       "      <td>Matt Paquette et Indi Maverick</td>\n",
       "      <td>Gigamic</td>\n",
       "      <td>NaN</td>\n",
       "      <td>60.0</td>\n",
       "      <td>0</td>\n",
       "      <td>1</td>\n",
       "      <td>1</td>\n",
       "      <td>0</td>\n",
       "      <td>1</td>\n",
       "      <td>1</td>\n",
       "    </tr>\n",
       "    <tr>\n",
       "      <th>2</th>\n",
       "      <td>28.0</td>\n",
       "      <td>8.18</td>\n",
       "      <td>Enchères|Aventures dans la jungle|Collection /...</td>\n",
       "      <td>\\n                      Vous êtes à la tête d’...</td>\n",
       "      <td>Quetzal</td>\n",
       "      <td>quetzal</td>\n",
       "      <td>Alexandre Garcia</td>\n",
       "      <td>Nastya Lehn</td>\n",
       "      <td>Gigamic</td>\n",
       "      <td>NaN</td>\n",
       "      <td>45.0</td>\n",
       "      <td>0</td>\n",
       "      <td>1</td>\n",
       "      <td>1</td>\n",
       "      <td>0</td>\n",
       "      <td>1</td>\n",
       "      <td>1</td>\n",
       "    </tr>\n",
       "    <tr>\n",
       "      <th>3</th>\n",
       "      <td>4.0</td>\n",
       "      <td>9.00</td>\n",
       "      <td>NaN</td>\n",
       "      <td>\\n                      Un Kit de démarrage co...</td>\n",
       "      <td>Alien - Kit de Démarrage</td>\n",
       "      <td>alien-kit-de-demarrage</td>\n",
       "      <td>NaN</td>\n",
       "      <td>NaN</td>\n",
       "      <td>Arkhane Asylum Publishing</td>\n",
       "      <td>NaN</td>\n",
       "      <td>NaN</td>\n",
       "      <td>0</td>\n",
       "      <td>1</td>\n",
       "      <td>1</td>\n",
       "      <td>1</td>\n",
       "      <td>0</td>\n",
       "      <td>1</td>\n",
       "    </tr>\n",
       "    <tr>\n",
       "      <th>4</th>\n",
       "      <td>72.0</td>\n",
       "      <td>8.75</td>\n",
       "      <td>Card-driven|Combinaison|Coopération|Deck build...</td>\n",
       "      <td>\\n                      Le Dr Foo a créé une t...</td>\n",
       "      <td>The LOOP</td>\n",
       "      <td>the-loop</td>\n",
       "      <td>Maxime Rambourg et Théo Rivière</td>\n",
       "      <td>Simon Caruso</td>\n",
       "      <td>Catch Up Games</td>\n",
       "      <td>NaN</td>\n",
       "      <td>60.0</td>\n",
       "      <td>0</td>\n",
       "      <td>1</td>\n",
       "      <td>1</td>\n",
       "      <td>1</td>\n",
       "      <td>0</td>\n",
       "      <td>1</td>\n",
       "    </tr>\n",
       "  </tbody>\n",
       "</table>\n",
       "</div>"
      ],
      "text/plain": [
       "   Nombre d'avis  Note                                         categories  \\\n",
       "0           19.0  7.58                                                NaN   \n",
       "1           33.0  7.39                                                NaN   \n",
       "2           28.0  8.18  Enchères|Aventures dans la jungle|Collection /...   \n",
       "3            4.0  9.00                                                NaN   \n",
       "4           72.0  8.75  Card-driven|Combinaison|Coopération|Deck build...   \n",
       "\n",
       "                                         description  \\\n",
       "0  \\n                      Marvel United : Unis c...   \n",
       "1  \\n                      Chaque année, au print...   \n",
       "2  \\n                      Vous êtes à la tête d’...   \n",
       "3  \\n                      Un Kit de démarrage co...   \n",
       "4  \\n                      Le Dr Foo a créé une t...   \n",
       "\n",
       "                      titre                     _id  \\\n",
       "0             Marvel United           marvel-united   \n",
       "1                 Mariposas               mariposas   \n",
       "2                   Quetzal                 quetzal   \n",
       "3  Alien - Kit de Démarrage  alien-kit-de-demarrage   \n",
       "4                  The LOOP                the-loop   \n",
       "\n",
       "                          creators                    illustrators  \\\n",
       "0   Eric Lang et Andrea Chiarvesio                  Édouard Guiton   \n",
       "1               Elizabeth Hargrave  Matt Paquette et Indi Maverick   \n",
       "2                 Alexandre Garcia                     Nastya Lehn   \n",
       "3                              NaN                             NaN   \n",
       "4  Maxime Rambourg et Théo Rivière                    Simon Caruso   \n",
       "\n",
       "                     editors distributors  duration  enfant  ado  adulte  \\\n",
       "0               CMON Limited          NaN      45.0       0    1       1   \n",
       "1                    Gigamic          NaN      60.0       0    1       1   \n",
       "2                    Gigamic          NaN      45.0       0    1       1   \n",
       "3  Arkhane Asylum Publishing          NaN       NaN       0    1       1   \n",
       "4             Catch Up Games          NaN      60.0       0    1       1   \n",
       "\n",
       "   solo  duo  multi  \n",
       "0     1    0      1  \n",
       "1     0    1      1  \n",
       "2     0    1      1  \n",
       "3     1    0      1  \n",
       "4     1    0      1  "
      ]
     },
     "execution_count": 21,
     "metadata": {},
     "output_type": "execute_result"
    }
   ],
   "source": [
    "df_jeux_up.head()"
   ]
  },
  {
   "attachments": {},
   "cell_type": "markdown",
   "id": "03d2d49b",
   "metadata": {},
   "source": [
    "## 4. Les modes de jeux : "
   ]
  },
  {
   "cell_type": "code",
   "execution_count": 22,
   "id": "d4bb79f4",
   "metadata": {},
   "outputs": [],
   "source": [
    "solo_uniq = len(df_jeux_up.query('solo == 1 & duo == 0 & multi == 0'))\n",
    "duo_uniq = len(df_jeux_up.query('solo == 0 & duo == 1 & multi == 0'))\n",
    "multi_uniq = len(df_jeux_up.query('solo == 0 & duo == 0 & multi == 1'))\n",
    "solo_et_duo = len(df_jeux_up.query('solo == 1 & duo == 1 & multi == 0'))\n",
    "duo_et_multi = len(df_jeux_up.query('solo == 0 & duo == 1 & multi == 1'))\n",
    "tout = len(df_jeux_up.query('solo == 1 & duo == 1 & multi == 1'))"
   ]
  },
  {
   "cell_type": "code",
   "execution_count": 23,
   "id": "fd3eab0e",
   "metadata": {},
   "outputs": [
    {
     "data": {
      "image/png": "[encoded data removed]",
      "text/plain": [
       "<Figure size 504x360 with 1 Axes>"
      ]
     },
     "metadata": {
      "needs_background": "light"
     },
     "output_type": "display_data"
    }
   ],
   "source": [
    "plt.figure(figsize=(7, 5))\n",
    "\n",
    "plt.bar([\"solo uniq\", \"duo uniq\", \"multi uniq\", \"solo et duo\" , \"duo et multi\", \"tout\"], \n",
    "        [solo_uniq,    duo_uniq,   multi_uniq,   solo_et_duo,    duo_et_multi,   tout], \n",
    "        width=0.2, align='center')\n",
    "\n",
    "plt.title(\"Distribution des modes de jeux\", y=-0.2)\n",
    "plt.ylabel(\"Counts\")\n",
    "plt.show()"
   ]
  },
  {
   "cell_type": "code",
   "execution_count": 24,
   "id": "43e6b93b",
   "metadata": {},
   "outputs": [
    {
     "data": {
      "image/png": "[encoded data removed]",
      "text/plain": [
       "<Figure size 432x288 with 1 Axes>"
      ]
     },
     "metadata": {
      "needs_background": "light"
     },
     "output_type": "display_data"
    }
   ],
   "source": [
    "duration = df_jeux_up[df_jeux_up[\"duration\"].notna()][\"duration\"]\n",
    "sns.distplot(duration)\n",
    "plt.show()"
   ]
  }
 ],
 "metadata": {
  "kernelspec": {
   "display_name": "Python 3",
   "language": "python",
   "name": "python3"
  },
  "language_info": {
   "codemirror_mode": {
    "name": "ipython",
    "version": 3
   },
   "file_extension": ".py",
   "mimetype": "text/x-python",
   "name": "python",
   "nbconvert_exporter": "python",
   "pygments_lexer": "ipython3",
   "version": "3.9.12"
  },
  "vscode": {
   "interpreter": {
    "hash": "84f11f2148bd2fe3bb289ffda545ef54970d3c35b0f5a1c527ecc25164cf23b8"
   }
  }
 },
 "nbformat": 4,
 "nbformat_minor": 5
}
