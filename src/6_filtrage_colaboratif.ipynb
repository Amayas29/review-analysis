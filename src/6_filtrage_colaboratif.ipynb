{
 "cells": [
  {
   "cell_type": "code",
   "execution_count": 1,
   "metadata": {},
   "outputs": [
    {
     "name": "stderr",
     "output_type": "stream",
     "text": [
      "/Users/mathilde/opt/anaconda3/lib/python3.9/site-packages/requests/__init__.py:102: RequestsDependencyWarning: urllib3 (1.26.9) or chardet (5.1.0)/charset_normalizer (2.0.4) doesn't match a supported version!\n",
      "  warnings.warn(\"urllib3 ({}) or chardet ({})/charset_normalizer ({}) doesn't match a supported \"\n",
      "/Users/mathilde/opt/anaconda3/lib/python3.9/site-packages/spacy/util.py:837: UserWarning: [W095] Model 'fr_core_news_lg' (3.1.0) was trained with spaCy v3.1 and may not be 100% compatible with the current version (3.3.1). If you see errors or degraded performance, download a newer compatible model or retrain your custom model with the current spaCy version. For more details and available updates, run: python -m spacy validate\n",
      "  warnings.warn(warn_msg)\n"
     ]
    }
   ],
   "source": [
    "from iads.data_traitement import traitement\n",
    "from iads.nlp import preprocessing\n",
    "from iads.recommandation import prediction, traitement_reco\n",
    "\n",
    "import numpy as np\n",
    "import matplotlib.pyplot as plt\n",
    "import seaborn as sns\n",
    "import pandas as pd\n",
    "from sklearn.model_selection import train_test_split\n",
    "\n",
    "from surprise import NormalPredictor, BaselineOnly, SVD, SVDpp, NMF, SlopeOne\n",
    "from surprise.model_selection import GridSearchCV\n",
    "from surprise import Dataset\n",
    "from surprise import Reader\n",
    "from surprise.model_selection import cross_validate\n",
    "from surprise.prediction_algorithms.knns import KNNBasic, KNNWithMeans\n",
    "\n",
    "from tqdm import tqdm\n",
    "\n",
    "import warnings\n",
    "warnings.filterwarnings('ignore')"
   ]
  },
  {
   "attachments": {},
   "cell_type": "markdown",
   "metadata": {},
   "source": [
    "# I. Chargement des données :"
   ]
  },
  {
   "cell_type": "code",
   "execution_count": 2,
   "metadata": {},
   "outputs": [
    {
     "data": {
      "text/html": [
       "<div>\n",
       "<style scoped>\n",
       "    .dataframe tbody tr th:only-of-type {\n",
       "        vertical-align: middle;\n",
       "    }\n",
       "\n",
       "    .dataframe tbody tr th {\n",
       "        vertical-align: top;\n",
       "    }\n",
       "\n",
       "    .dataframe thead th {\n",
       "        text-align: right;\n",
       "    }\n",
       "</style>\n",
       "<table border=\"1\" class=\"dataframe\">\n",
       "  <thead>\n",
       "    <tr style=\"text-align: right;\">\n",
       "      <th></th>\n",
       "      <th>categories</th>\n",
       "      <th>titre</th>\n",
       "      <th>description</th>\n",
       "      <th>full_title</th>\n",
       "      <th>Note Finkel</th>\n",
       "      <th>Note rectifiée</th>\n",
       "      <th>Nombre d'avis rectifiés</th>\n",
       "      <th>Note</th>\n",
       "      <th>Nombre d'avis</th>\n",
       "      <th>_id</th>\n",
       "      <th>...</th>\n",
       "      <th>editors</th>\n",
       "      <th>distributors</th>\n",
       "      <th>nb_players</th>\n",
       "      <th>age_required</th>\n",
       "      <th>duration</th>\n",
       "      <th>enfant</th>\n",
       "      <th>ado</th>\n",
       "      <th>adulte</th>\n",
       "      <th>solo</th>\n",
       "      <th>multi</th>\n",
       "    </tr>\n",
       "  </thead>\n",
       "  <tbody>\n",
       "    <tr>\n",
       "      <th>0</th>\n",
       "      <td>NaN</td>\n",
       "      <td>Marvel United</td>\n",
       "      <td>marvel united unis contre super vilain red sku...</td>\n",
       "      <td>Marvel United (2020)</td>\n",
       "      <td>8.74</td>\n",
       "      <td>8.40</td>\n",
       "      <td>10.0</td>\n",
       "      <td>7.58</td>\n",
       "      <td>19.0</td>\n",
       "      <td>marvel-united</td>\n",
       "      <td>...</td>\n",
       "      <td>CMON Limited</td>\n",
       "      <td>NaN</td>\n",
       "      <td>1-4</td>\n",
       "      <td>14-99</td>\n",
       "      <td>45.0</td>\n",
       "      <td>0</td>\n",
       "      <td>1</td>\n",
       "      <td>1</td>\n",
       "      <td>1</td>\n",
       "      <td>1</td>\n",
       "    </tr>\n",
       "    <tr>\n",
       "      <th>1</th>\n",
       "      <td>NaN</td>\n",
       "      <td>Mariposas</td>\n",
       "      <td>annee printemps million papillon monarque quit...</td>\n",
       "      <td>Mariposas (2020)</td>\n",
       "      <td>7.68</td>\n",
       "      <td>7.29</td>\n",
       "      <td>17.0</td>\n",
       "      <td>7.39</td>\n",
       "      <td>33.0</td>\n",
       "      <td>mariposas</td>\n",
       "      <td>...</td>\n",
       "      <td>Gigamic</td>\n",
       "      <td>NaN</td>\n",
       "      <td>2-5</td>\n",
       "      <td>14-99</td>\n",
       "      <td>60.0</td>\n",
       "      <td>0</td>\n",
       "      <td>1</td>\n",
       "      <td>1</td>\n",
       "      <td>0</td>\n",
       "      <td>1</td>\n",
       "    </tr>\n",
       "  </tbody>\n",
       "</table>\n",
       "<p>2 rows × 22 columns</p>\n",
       "</div>"
      ],
      "text/plain": [
       "  categories          titre  \\\n",
       "0        NaN  Marvel United   \n",
       "1        NaN      Mariposas   \n",
       "\n",
       "                                         description            full_title  \\\n",
       "0  marvel united unis contre super vilain red sku...  Marvel United (2020)   \n",
       "1  annee printemps million papillon monarque quit...      Mariposas (2020)   \n",
       "\n",
       "   Note Finkel  Note rectifiée  Nombre d'avis rectifiés  Note  Nombre d'avis  \\\n",
       "0         8.74            8.40                     10.0  7.58           19.0   \n",
       "1         7.68            7.29                     17.0  7.39           33.0   \n",
       "\n",
       "             _id  ...       editors distributors nb_players age_required  \\\n",
       "0  marvel-united  ...  CMON Limited          NaN        1-4        14-99   \n",
       "1      mariposas  ...       Gigamic          NaN        2-5        14-99   \n",
       "\n",
       "  duration enfant  ado  adulte  solo  multi  \n",
       "0     45.0      0    1       1     1      1  \n",
       "1     60.0      0    1       1     0      1  \n",
       "\n",
       "[2 rows x 22 columns]"
      ]
     },
     "execution_count": 2,
     "metadata": {},
     "output_type": "execute_result"
    }
   ],
   "source": [
    "df_jeux = pd.read_csv(\"../data/details_desc.csv\")\n",
    "df_jeux.head(2)"
   ]
  },
  {
   "cell_type": "code",
   "execution_count": 3,
   "metadata": {},
   "outputs": [
    {
     "data": {
      "text/html": [
       "<div>\n",
       "<style scoped>\n",
       "    .dataframe tbody tr th:only-of-type {\n",
       "        vertical-align: middle;\n",
       "    }\n",
       "\n",
       "    .dataframe tbody tr th {\n",
       "        vertical-align: top;\n",
       "    }\n",
       "\n",
       "    .dataframe thead th {\n",
       "        text-align: right;\n",
       "    }\n",
       "</style>\n",
       "<table border=\"1\" class=\"dataframe\">\n",
       "  <thead>\n",
       "    <tr style=\"text-align: right;\">\n",
       "      <th></th>\n",
       "      <th>comment</th>\n",
       "      <th>treated</th>\n",
       "      <th>date_published</th>\n",
       "      <th>title_review</th>\n",
       "      <th>author</th>\n",
       "      <th>note</th>\n",
       "      <th>title</th>\n",
       "      <th>title_id_jeu</th>\n",
       "    </tr>\n",
       "  </thead>\n",
       "  <tbody>\n",
       "    <tr>\n",
       "      <th>0</th>\n",
       "      <td>Lorsque le jeu est jeu, bon, réflexif, joli po...</td>\n",
       "      <td>True</td>\n",
       "      <td>2021</td>\n",
       "      <td>Voyages sur les ailes des papillons</td>\n",
       "      <td>Monsieur Guillaume</td>\n",
       "      <td>8.0</td>\n",
       "      <td>Mariposas</td>\n",
       "      <td>mariposas</td>\n",
       "    </tr>\n",
       "    <tr>\n",
       "      <th>1</th>\n",
       "      <td>Comment continuer après un mega hit ? Simpleme...</td>\n",
       "      <td>True</td>\n",
       "      <td>2020</td>\n",
       "      <td>le festival de Michoacan</td>\n",
       "      <td>morlockbob</td>\n",
       "      <td>7.0</td>\n",
       "      <td>Mariposas</td>\n",
       "      <td>mariposas</td>\n",
       "    </tr>\n",
       "  </tbody>\n",
       "</table>\n",
       "</div>"
      ],
      "text/plain": [
       "                                             comment  treated  date_published  \\\n",
       "0  Lorsque le jeu est jeu, bon, réflexif, joli po...     True            2021   \n",
       "1  Comment continuer après un mega hit ? Simpleme...     True            2020   \n",
       "\n",
       "                          title_review              author  note      title  \\\n",
       "0  Voyages sur les ailes des papillons  Monsieur Guillaume   8.0  Mariposas   \n",
       "1             le festival de Michoacan          morlockbob   7.0  Mariposas   \n",
       "\n",
       "  title_id_jeu  \n",
       "0    mariposas  \n",
       "1    mariposas  "
      ]
     },
     "execution_count": 3,
     "metadata": {},
     "output_type": "execute_result"
    }
   ],
   "source": [
    "df_avis = pd.read_csv(\"../data/avis_clean.csv\")\n",
    "df_avis.head(2)"
   ]
  },
  {
   "cell_type": "code",
   "execution_count": 4,
   "metadata": {},
   "outputs": [
    {
     "name": "stdout",
     "output_type": "stream",
     "text": [
      "0.07905386549620134 % des éléments sont non nuls\n"
     ]
    }
   ],
   "source": [
    "users = df_avis['author'].unique()\n",
    "games = df_jeux['titre'].unique() #_id\n",
    "nombre_zeros = len(df_avis) / (len(users) * len(games))\n",
    "print(nombre_zeros*100, \"% des éléments sont non nuls\")"
   ]
  },
  {
   "attachments": {},
   "cell_type": "markdown",
   "metadata": {},
   "source": [
    "## Statistiques"
   ]
  },
  {
   "cell_type": "code",
   "execution_count": 5,
   "metadata": {},
   "outputs": [
    {
     "name": "stdout",
     "output_type": "stream",
     "text": [
      "Il y a 13623 utilisateurs et 16365 jeux\n"
     ]
    }
   ],
   "source": [
    "nb_users = len(users)\n",
    "nb_jeux = len(games)\n",
    "\n",
    "print(f\"Il y a {nb_users} utilisateurs et {nb_jeux} jeux\")"
   ]
  },
  {
   "cell_type": "code",
   "execution_count": 6,
   "metadata": {},
   "outputs": [
    {
     "data": {
      "text/plain": [
       "count    176243.000000\n",
       "mean          7.478046\n",
       "std           2.171968\n",
       "min           0.000000\n",
       "25%           6.000000\n",
       "50%           8.000000\n",
       "75%           9.300000\n",
       "max          10.000000\n",
       "Name: note, dtype: float64"
      ]
     },
     "execution_count": 6,
     "metadata": {},
     "output_type": "execute_result"
    }
   ],
   "source": [
    "df_avis[\"note\"].describe()"
   ]
  },
  {
   "cell_type": "code",
   "execution_count": 7,
   "metadata": {},
   "outputs": [
    {
     "data": {
      "text/plain": [
       "<AxesSubplot:xlabel='note', ylabel='Density'>"
      ]
     },
     "execution_count": 7,
     "metadata": {},
     "output_type": "execute_result"
    },
    {
     "data": {
      "image/png": "[encoded data removed]",
      "text/plain": [
       "<Figure size 432x288 with 1 Axes>"
      ]
     },
     "metadata": {
      "needs_background": "light"
     },
     "output_type": "display_data"
    }
   ],
   "source": [
    "sns.distplot(df_avis[\"note\"])   "
   ]
  },
  {
   "attachments": {},
   "cell_type": "markdown",
   "metadata": {},
   "source": [
    "Distribution par utilisateur"
   ]
  },
  {
   "cell_type": "code",
   "execution_count": 8,
   "metadata": {},
   "outputs": [
    {
     "data": {
      "text/plain": [
       "<AxesSubplot:xlabel='note', ylabel='Density'>"
      ]
     },
     "execution_count": 8,
     "metadata": {},
     "output_type": "execute_result"
    },
    {
     "data": {
      "image/png": "[encoded data removed]",
      "text/plain": [
       "<Figure size 432x288 with 1 Axes>"
      ]
     },
     "metadata": {
      "needs_background": "light"
     },
     "output_type": "display_data"
    }
   ],
   "source": [
    "user_means = df_avis.groupby(\"author\")[\"note\"].mean()\n",
    "sns.distplot(user_means)"
   ]
  },
  {
   "attachments": {},
   "cell_type": "markdown",
   "metadata": {},
   "source": [
    "Distribution par jeu"
   ]
  },
  {
   "cell_type": "code",
   "execution_count": 9,
   "metadata": {},
   "outputs": [
    {
     "data": {
      "text/plain": [
       "<AxesSubplot:xlabel='note', ylabel='Density'>"
      ]
     },
     "execution_count": 9,
     "metadata": {},
     "output_type": "execute_result"
    },
    {
     "data": {
      "image/png": "[encoded data removed]",
      "text/plain": [
       "<Figure size 432x288 with 1 Axes>"
      ]
     },
     "metadata": {
      "needs_background": "light"
     },
     "output_type": "display_data"
    }
   ],
   "source": [
    "item_means = df_avis.groupby(\"title\")[\"note\"].mean()\n",
    "sns.distplot(item_means)"
   ]
  },
  {
   "attachments": {},
   "cell_type": "markdown",
   "metadata": {},
   "source": [
    "Vérification que chaque author n'a donné qu'un seul avis pour un jeu donné : "
   ]
  },
  {
   "cell_type": "code",
   "execution_count": 10,
   "metadata": {},
   "outputs": [
    {
     "name": "stdout",
     "output_type": "stream",
     "text": [
      "Duplicated author and title\n"
     ]
    }
   ],
   "source": [
    "for i in df_avis.groupby(['author', 'title']):\n",
    "    if len(i[1]) > 1:\n",
    "        print(\"Duplicated author and title\")\n",
    "        df_avis_unique = traitement_reco.delete_dup(df_avis)\n",
    "        break"
   ]
  },
  {
   "cell_type": "code",
   "execution_count": 11,
   "metadata": {},
   "outputs": [
    {
     "name": "stdout",
     "output_type": "stream",
     "text": [
      "Nombre d'avis dupliqués :  172\n"
     ]
    }
   ],
   "source": [
    "print(\"Nombre d'avis dupliqués : \", len(df_avis) - len(df_avis_unique))"
   ]
  },
  {
   "attachments": {},
   "cell_type": "markdown",
   "metadata": {},
   "source": [
    "Finalement il n'y a pas de doublons"
   ]
  },
  {
   "attachments": {},
   "cell_type": "markdown",
   "metadata": {},
   "source": [
    "## Collaborative filtering"
   ]
  },
  {
   "cell_type": "code",
   "execution_count": 12,
   "metadata": {},
   "outputs": [],
   "source": [
    "nb_avis_min = 5"
   ]
  },
  {
   "cell_type": "code",
   "execution_count": 13,
   "metadata": {},
   "outputs": [],
   "source": [
    "u,df_avis_filter = traitement_reco.clean_user(df_avis_unique)\n",
    "g,df_avis_filter = traitement_reco.clean_game(df_avis_filter)\n",
    "while u!=0 and g!=0 :\n",
    "    u,df_avis_filter = traitement_reco.clean_user(df_avis_filter)\n",
    "    g,df_avis_filter = traitement_reco.clean_game(df_avis_filter)"
   ]
  },
  {
   "cell_type": "code",
   "execution_count": 14,
   "metadata": {},
   "outputs": [],
   "source": [
    "game= np.unique(df_avis_unique[\"title\"])\n",
    "users= np.unique(df_avis_unique[\"author\"])\n",
    "\n",
    "game_filtred = np.unique(df_avis_filter[\"title\"])\n",
    "users_filtred = np.unique(df_avis_filter[\"author\"])"
   ]
  },
  {
   "cell_type": "code",
   "execution_count": 15,
   "metadata": {},
   "outputs": [
    {
     "name": "stdout",
     "output_type": "stream",
     "text": [
      "On a eliminé 66.75475299126477 % des utilisateurs\n",
      "On a eliminé 54.8043701559436 % des jeux\n"
     ]
    }
   ],
   "source": [
    "print(\"On a eliminé\", 100 * (len(users) - len(users_filtred)) / len(users), \"% des utilisateurs\")\n",
    "print(\"On a eliminé\", 100 * (len(game) - len(game_filtred)) / len(game), \"% des jeux\")"
   ]
  },
  {
   "attachments": {},
   "cell_type": "markdown",
   "metadata": {},
   "source": [
    "On a eliminé 66.76209351831461 % des utilisateurs\n",
    "\n",
    "On a eliminé 55.36759326993416 % des jeux"
   ]
  },
  {
   "cell_type": "code",
   "execution_count": 16,
   "metadata": {},
   "outputs": [
    {
     "data": {
      "text/plain": [
       "<AxesSubplot:xlabel='note', ylabel='Density'>"
      ]
     },
     "execution_count": 16,
     "metadata": {},
     "output_type": "execute_result"
    },
    {
     "data": {
      "image/png": "[encoded data removed]",
      "text/plain": [
       "<Figure size 432x288 with 1 Axes>"
      ]
     },
     "metadata": {
      "needs_background": "light"
     },
     "output_type": "display_data"
    }
   ],
   "source": [
    "g_users = df_avis_filter.groupby(\"author\")[\"note\"].mean()\n",
    "sns.distplot(g_users[users_filtred])"
   ]
  },
  {
   "cell_type": "code",
   "execution_count": 17,
   "metadata": {},
   "outputs": [
    {
     "data": {
      "text/plain": [
       "<AxesSubplot:xlabel='note', ylabel='Density'>"
      ]
     },
     "execution_count": 17,
     "metadata": {},
     "output_type": "execute_result"
    },
    {
     "data": {
      "image/png": "[encoded data removed]",
      "text/plain": [
       "<Figure size 432x288 with 1 Axes>"
      ]
     },
     "metadata": {
      "needs_background": "light"
     },
     "output_type": "display_data"
    }
   ],
   "source": [
    "g_game = df_avis_filter.groupby(\"title\")[\"note\"].mean()\n",
    "sns.distplot(g_game[game_filtred])"
   ]
  },
  {
   "cell_type": "code",
   "execution_count": 18,
   "metadata": {},
   "outputs": [],
   "source": [
    "train_ratings, test_ratings = train_test_split(df_avis_filter, test_size=0.2)"
   ]
  },
  {
   "cell_type": "code",
   "execution_count": 19,
   "metadata": {},
   "outputs": [],
   "source": [
    "data = Dataset.load_from_df(train_ratings, Reader(rating_scale=(0, 10)))"
   ]
  },
  {
   "attachments": {},
   "cell_type": "markdown",
   "metadata": {},
   "source": [
    "### Baseline algorithm"
   ]
  },
  {
   "cell_type": "code",
   "execution_count": null,
   "metadata": {},
   "outputs": [],
   "source": [
    "bs_model = BaselineOnly()\n",
    "bs_model.fit(data.build_full_trainset())"
   ]
  },
  {
   "cell_type": "code",
   "execution_count": null,
   "metadata": {},
   "outputs": [],
   "source": [
    "test_ratings[\"baseline_pred\"] = test_ratings.apply(lambda u_item : prediction.model_pred(bs_model, u_item), axis=1)\n",
    "test_ratings"
   ]
  },
  {
   "attachments": {},
   "cell_type": "markdown",
   "metadata": {},
   "source": [
    "### SVD algorithm"
   ]
  },
  {
   "attachments": {},
   "cell_type": "markdown",
   "metadata": {},
   "source": [
    "Par défaut dans SVD n_factors (Z) est à 100 et n_epoch est à 20\n",
    "On va chercher une valeur optimale pour les deux en utilisant GridSearchCV"
   ]
  },
  {
   "cell_type": "code",
   "execution_count": null,
   "metadata": {},
   "outputs": [],
   "source": [
    "param_grid = {'n_factors':list(range(50, 401, 20))}\n",
    "\n",
    "svd_model = prediction.gs_pred(data, SVD, param_grid)\n",
    "\n",
    "test_ratings[\"svd_pred\"] = test_ratings.apply(lambda u_item : prediction.model_pred(svd_model, u_item), axis=1)\n",
    "test_ratings "
   ]
  },
  {
   "attachments": {},
   "cell_type": "markdown",
   "metadata": {},
   "source": [
    "### KNN Basic"
   ]
  },
  {
   "cell_type": "code",
   "execution_count": null,
   "metadata": {},
   "outputs": [],
   "source": [
    "param_grid = {'k': list(range(5, 51, 2)), 'verbose': [False]}\n",
    "\n",
    "knn_pred = prediction.gs_pred(data, KNNBasic, param_grid)\n",
    "\n",
    "test_ratings[\"knnBasic_pred\"] = test_ratings.apply(lambda u_item : prediction.model_pred(knn_pred, u_item), axis=1)\n",
    "test_ratings "
   ]
  },
  {
   "attachments": {},
   "cell_type": "markdown",
   "metadata": {},
   "source": [
    "### SlopeOne"
   ]
  },
  {
   "cell_type": "code",
   "execution_count": null,
   "metadata": {},
   "outputs": [],
   "source": [
    "slope_one_model = SlopeOne()\n",
    "slope_one_model.fit(data.build_full_trainset())"
   ]
  },
  {
   "cell_type": "code",
   "execution_count": null,
   "metadata": {},
   "outputs": [],
   "source": [
    "test_ratings[\"slopeOne_pred\"] = test_ratings.apply(lambda u_item : prediction.model_pred(slope_one_model, u_item), axis=1)\n",
    "test_ratings "
   ]
  },
  {
   "attachments": {},
   "cell_type": "markdown",
   "metadata": {},
   "source": [
    "### SVD ++"
   ]
  },
  {
   "cell_type": "code",
   "execution_count": null,
   "metadata": {},
   "outputs": [],
   "source": [
    "param_grid = {'n_factors':list(range(50, 401, 20))}\n",
    "\n",
    "svdpp_model = prediction.gs_pred(data, SVDpp, param_grid)\n",
    "\n",
    "test_ratings[\"svdpp_pred\"] = test_ratings.apply(lambda u_item : prediction.model_pred(svdpp_model, u_item), axis=1)\n",
    "test_ratings "
   ]
  },
  {
   "attachments": {},
   "cell_type": "markdown",
   "metadata": {},
   "source": [
    "### Meilleur algo au sens des MSE"
   ]
  },
  {
   "cell_type": "code",
   "execution_count": null,
   "metadata": {},
   "outputs": [],
   "source": [
    "def mse(predictions,truth):\n",
    "    return ((predictions - truth)**2).mean()"
   ]
  },
  {
   "cell_type": "code",
   "execution_count": null,
   "metadata": {},
   "outputs": [],
   "source": [
    "results = {}\n",
    "\n",
    "results[\"baseline\"] = mse(test_ratings[\"baseline_pred\"], test_ratings[\"note\"])\n",
    "results[\"svd\"] = mse(test_ratings[\"svd_pred\"], test_ratings[\"note\"])\n",
    "results[\"knnBasic\"] = mse(test_ratings[\"knnBasic_pred\"], test_ratings[\"note\"])\n",
    "results[\"slopeOne\"] = mse(test_ratings[\"slopeOne_pred\"], test_ratings[\"note\"])\n",
    "results[\"svdpp\"] = mse(test_ratings[\"svdpp_pred\"], test_ratings[\"note\"])\n",
    "\n",
    "results"
   ]
  },
  {
   "cell_type": "code",
   "execution_count": null,
   "metadata": {},
   "outputs": [],
   "source": [
    "algo_min = min(results, key=results.get)\n",
    "print(\"L'algorithme qui minimise la mse est :\", algo_min, \"avec une valeur de\", results[algo_min])"
   ]
  },
  {
   "attachments": {},
   "cell_type": "markdown",
   "metadata": {},
   "source": [
    "## Création d'un systeme de recommandation pour un utlisateur :"
   ]
  },
  {
   "cell_type": "code",
   "execution_count": null,
   "metadata": {},
   "outputs": [],
   "source": [
    "def basic_recommand_games(model, user, games, df, nb_games=3):\n",
    "    scores = []\n",
    "    \n",
    "    user_games = list(df[df[\"author\"] == user][\"title_id_jeu\"])\n",
    "    \n",
    "    for game in games:\n",
    "        if game in user_games:\n",
    "            scores.append(0)\n",
    "            continue\n",
    "        \n",
    "        prediction = model.predict(user, game)\n",
    "        scores.append(prediction.est)\n",
    "    \n",
    "    scores = np.array(scores)\n",
    "    i_sort = np.argsort(-scores)\n",
    "    return games[i_sort[:nb_games]]\n",
    "        "
   ]
  },
  {
   "cell_type": "code",
   "execution_count": null,
   "metadata": {},
   "outputs": [],
   "source": [
    "basic_recommand_games(svd_model, \"prunelles\", games, df_avis)"
   ]
  },
  {
   "cell_type": "code",
   "execution_count": null,
   "metadata": {},
   "outputs": [],
   "source": [
    "basic_recommand_games(bs_model, \"prunelles\", games, df_avis)"
   ]
  },
  {
   "cell_type": "code",
   "execution_count": null,
   "metadata": {},
   "outputs": [],
   "source": [
    "basic_recommand_games(svdpp_model, \"prunelles\", games, df_avis)"
   ]
  },
  {
   "cell_type": "code",
   "execution_count": null,
   "metadata": {},
   "outputs": [],
   "source": [
    "basic_recommand_games(slope_one_model, \"prunelles\", games, df_avis)"
   ]
  },
  {
   "cell_type": "code",
   "execution_count": null,
   "metadata": {},
   "outputs": [],
   "source": [
    "basic_recommand_games(knn_pred, \"prunelles\", games, df_avis)"
   ]
  }
 ],
 "metadata": {
  "kernelspec": {
   "display_name": "Python 3",
   "language": "python",
   "name": "python3"
  },
  "language_info": {
   "codemirror_mode": {
    "name": "ipython",
    "version": 3
   },
   "file_extension": ".py",
   "mimetype": "text/x-python",
   "name": "python",
   "nbconvert_exporter": "python",
   "pygments_lexer": "ipython3",
   "version": "3.9.12"
  },
  "orig_nbformat": 4
 },
 "nbformat": 4,
 "nbformat_minor": 2
}
