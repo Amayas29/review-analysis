{
 "cells": [
  {
   "cell_type": "code",
   "execution_count": 192,
   "metadata": {},
   "outputs": [],
   "source": [
    "from iads.data_traitement import traitement\n",
    "from iads.recommandation import prediction, traitement_reco\n",
    "\n",
    "import numpy as np\n",
    "import matplotlib.pyplot as plt\n",
    "import seaborn as sns\n",
    "import pandas as pd\n",
    "from sklearn.metrics import mean_squared_error\n",
    "\n",
    "from sklearn.model_selection import train_test_split\n",
    "\n",
    "from surprise import (\n",
    "    SVD,\n",
    "    SVDpp,\n",
    "    SlopeOne,\n",
    "    NMF,\n",
    "    KNNBasic,\n",
    "    BaselineOnly,\n",
    ")\n",
    "from surprise.model_selection import GridSearchCV\n",
    "\n",
    "from surprise import Dataset\n",
    "from surprise import accuracy\n",
    "from surprise import Reader\n",
    "from surprise.model_selection import cross_validate\n",
    "\n",
    "from lightfm.data import Dataset as LFMDataset\n",
    "from lightfm.evaluation import reciprocal_rank\n",
    "from lightfm import LightFM\n",
    "\n",
    "from tqdm import tqdm\n",
    "from sklearn.manifold import TSNE\n",
    "import random\n",
    "\n",
    "import warnings\n",
    "\n",
    "warnings.filterwarnings(\"ignore\")"
   ]
  },
  {
   "attachments": {},
   "cell_type": "markdown",
   "metadata": {},
   "source": [
    "# I. Chargement des données :\n"
   ]
  },
  {
   "cell_type": "code",
   "execution_count": 193,
   "metadata": {},
   "outputs": [
    {
     "data": {
      "text/html": [
       "<div>\n",
       "<style scoped>\n",
       "    .dataframe tbody tr th:only-of-type {\n",
       "        vertical-align: middle;\n",
       "    }\n",
       "\n",
       "    .dataframe tbody tr th {\n",
       "        vertical-align: top;\n",
       "    }\n",
       "\n",
       "    .dataframe thead th {\n",
       "        text-align: right;\n",
       "    }\n",
       "</style>\n",
       "<table border=\"1\" class=\"dataframe\">\n",
       "  <thead>\n",
       "    <tr style=\"text-align: right;\">\n",
       "      <th></th>\n",
       "      <th>Nombre d'avis</th>\n",
       "      <th>Note</th>\n",
       "      <th>categories</th>\n",
       "      <th>description</th>\n",
       "      <th>titre</th>\n",
       "      <th>_id</th>\n",
       "      <th>creators</th>\n",
       "      <th>illustrators</th>\n",
       "      <th>editors</th>\n",
       "      <th>distributors</th>\n",
       "      <th>duration</th>\n",
       "      <th>enfant</th>\n",
       "      <th>ado</th>\n",
       "      <th>adulte</th>\n",
       "      <th>solo</th>\n",
       "      <th>duo</th>\n",
       "      <th>multi</th>\n",
       "    </tr>\n",
       "  </thead>\n",
       "  <tbody>\n",
       "    <tr>\n",
       "      <th>0</th>\n",
       "      <td>19.0</td>\n",
       "      <td>7.58</td>\n",
       "      <td>NaN</td>\n",
       "      <td>marvel united unir contre super vilain red sku...</td>\n",
       "      <td>Marvel United</td>\n",
       "      <td>marvel-united</td>\n",
       "      <td>Eric Lang et Andrea Chiarvesio</td>\n",
       "      <td>Édouard Guiton</td>\n",
       "      <td>CMON Limited</td>\n",
       "      <td>NaN</td>\n",
       "      <td>45.0</td>\n",
       "      <td>0</td>\n",
       "      <td>1</td>\n",
       "      <td>1</td>\n",
       "      <td>1</td>\n",
       "      <td>0</td>\n",
       "      <td>1</td>\n",
       "    </tr>\n",
       "    <tr>\n",
       "      <th>1</th>\n",
       "      <td>33.0</td>\n",
       "      <td>7.39</td>\n",
       "      <td>NaN</td>\n",
       "      <td>annee printemps million papillon monarque quit...</td>\n",
       "      <td>Mariposas</td>\n",
       "      <td>mariposas</td>\n",
       "      <td>Elizabeth Hargrave</td>\n",
       "      <td>Matt Paquette et Indi Maverick</td>\n",
       "      <td>Gigamic</td>\n",
       "      <td>NaN</td>\n",
       "      <td>60.0</td>\n",
       "      <td>0</td>\n",
       "      <td>1</td>\n",
       "      <td>1</td>\n",
       "      <td>0</td>\n",
       "      <td>1</td>\n",
       "      <td>1</td>\n",
       "    </tr>\n",
       "  </tbody>\n",
       "</table>\n",
       "</div>"
      ],
      "text/plain": [
       "   Nombre d'avis  Note categories  \\\n",
       "0           19.0  7.58        NaN   \n",
       "1           33.0  7.39        NaN   \n",
       "\n",
       "                                         description          titre  \\\n",
       "0  marvel united unir contre super vilain red sku...  Marvel United   \n",
       "1  annee printemps million papillon monarque quit...      Mariposas   \n",
       "\n",
       "             _id                        creators  \\\n",
       "0  marvel-united  Eric Lang et Andrea Chiarvesio   \n",
       "1      mariposas              Elizabeth Hargrave   \n",
       "\n",
       "                     illustrators       editors distributors  duration  \\\n",
       "0                  Édouard Guiton  CMON Limited          NaN      45.0   \n",
       "1  Matt Paquette et Indi Maverick       Gigamic          NaN      60.0   \n",
       "\n",
       "   enfant  ado  adulte  solo  duo  multi  \n",
       "0       0    1       1     1    0      1  \n",
       "1       0    1       1     0    1      1  "
      ]
     },
     "execution_count": 193,
     "metadata": {},
     "output_type": "execute_result"
    }
   ],
   "source": [
    "df_jeux = pd.read_csv(\"../data/details_desc.csv\")\n",
    "df_jeux.head(2)"
   ]
  },
  {
   "cell_type": "code",
   "execution_count": 194,
   "metadata": {},
   "outputs": [
    {
     "data": {
      "text/html": [
       "<div>\n",
       "<style scoped>\n",
       "    .dataframe tbody tr th:only-of-type {\n",
       "        vertical-align: middle;\n",
       "    }\n",
       "\n",
       "    .dataframe tbody tr th {\n",
       "        vertical-align: top;\n",
       "    }\n",
       "\n",
       "    .dataframe thead th {\n",
       "        text-align: right;\n",
       "    }\n",
       "</style>\n",
       "<table border=\"1\" class=\"dataframe\">\n",
       "  <thead>\n",
       "    <tr style=\"text-align: right;\">\n",
       "      <th></th>\n",
       "      <th>comment</th>\n",
       "      <th>date_published</th>\n",
       "      <th>title_review</th>\n",
       "      <th>title</th>\n",
       "      <th>note</th>\n",
       "      <th>author</th>\n",
       "      <th>title_id_jeu</th>\n",
       "    </tr>\n",
       "  </thead>\n",
       "  <tbody>\n",
       "    <tr>\n",
       "      <th>0</th>\n",
       "      <td>Lorsque le jeu est jeu, bon, réflexif, joli po...</td>\n",
       "      <td>2021</td>\n",
       "      <td>Voyages sur les ailes des papillons</td>\n",
       "      <td>Mariposas</td>\n",
       "      <td>8.0</td>\n",
       "      <td>Monsieur Guillaume</td>\n",
       "      <td>mariposas</td>\n",
       "    </tr>\n",
       "    <tr>\n",
       "      <th>1</th>\n",
       "      <td>Comment continuer après un mega hit ? Simpleme...</td>\n",
       "      <td>2020</td>\n",
       "      <td>le festival de Michoacan</td>\n",
       "      <td>Mariposas</td>\n",
       "      <td>7.0</td>\n",
       "      <td>morlockbob</td>\n",
       "      <td>mariposas</td>\n",
       "    </tr>\n",
       "  </tbody>\n",
       "</table>\n",
       "</div>"
      ],
      "text/plain": [
       "                                             comment  date_published  \\\n",
       "0  Lorsque le jeu est jeu, bon, réflexif, joli po...            2021   \n",
       "1  Comment continuer après un mega hit ? Simpleme...            2020   \n",
       "\n",
       "                          title_review      title  note              author  \\\n",
       "0  Voyages sur les ailes des papillons  Mariposas   8.0  Monsieur Guillaume   \n",
       "1             le festival de Michoacan  Mariposas   7.0          morlockbob   \n",
       "\n",
       "  title_id_jeu  \n",
       "0    mariposas  \n",
       "1    mariposas  "
      ]
     },
     "execution_count": 194,
     "metadata": {},
     "output_type": "execute_result"
    }
   ],
   "source": [
    "df_avis = pd.read_csv(\"../data/avis_clean.csv\")\n",
    "df_avis.head(2)"
   ]
  },
  {
   "cell_type": "code",
   "execution_count": 195,
   "metadata": {},
   "outputs": [
    {
     "name": "stdout",
     "output_type": "stream",
     "text": [
      "0.07905386549620134 % des éléments sont non nuls\n"
     ]
    }
   ],
   "source": [
    "users = df_avis[\"author\"].unique()\n",
    "games = df_jeux[\"titre\"].unique()  # _id\n",
    "nombre_zeros = len(df_avis) / (len(users) * len(games))\n",
    "print(nombre_zeros * 100, \"% des éléments sont non nuls\")"
   ]
  },
  {
   "attachments": {},
   "cell_type": "markdown",
   "metadata": {},
   "source": [
    "## Statistiques\n"
   ]
  },
  {
   "cell_type": "code",
   "execution_count": 196,
   "metadata": {},
   "outputs": [
    {
     "name": "stdout",
     "output_type": "stream",
     "text": [
      "Il y a 13623 utilisateurs et 16365 jeux\n"
     ]
    }
   ],
   "source": [
    "nb_users = len(users)\n",
    "nb_jeux = len(games)\n",
    "\n",
    "print(f\"Il y a {nb_users} utilisateurs et {nb_jeux} jeux\")"
   ]
  },
  {
   "cell_type": "code",
   "execution_count": 197,
   "metadata": {},
   "outputs": [
    {
     "data": {
      "text/plain": [
       "count    176243.000000\n",
       "mean          7.478046\n",
       "std           2.171968\n",
       "min           0.000000\n",
       "25%           6.000000\n",
       "50%           8.000000\n",
       "75%           9.300000\n",
       "max          10.000000\n",
       "Name: note, dtype: float64"
      ]
     },
     "execution_count": 197,
     "metadata": {},
     "output_type": "execute_result"
    }
   ],
   "source": [
    "df_avis[\"note\"].describe()"
   ]
  },
  {
   "cell_type": "code",
   "execution_count": 198,
   "metadata": {},
   "outputs": [
    {
     "data": {
      "text/plain": [
       "Text(0.5, 1.0, 'Distribution des notes des avis')"
      ]
     },
     "execution_count": 198,
     "metadata": {},
     "output_type": "execute_result"
    },
    {
     "data": {
      "image/png": "[encoded data removed]",
      "text/plain": [
       "<Figure size 432x288 with 1 Axes>"
      ]
     },
     "metadata": {
      "needs_background": "light"
     },
     "output_type": "display_data"
    }
   ],
   "source": [
    "ax = sns.distplot(df_avis[\"note\"])\n",
    "ax.set_title(\"Distribution des notes des avis\")"
   ]
  },
  {
   "attachments": {},
   "cell_type": "markdown",
   "metadata": {},
   "source": [
    "Vérification que chaque author n'a donné qu'un seul avis pour un jeu donné :\n"
   ]
  },
  {
   "cell_type": "code",
   "execution_count": 199,
   "metadata": {},
   "outputs": [
    {
     "name": "stdout",
     "output_type": "stream",
     "text": [
      "Duplicated author and title\n"
     ]
    }
   ],
   "source": [
    "for i in df_avis.groupby([\"author\", \"title\"]):\n",
    "    if len(i[1]) > 1:\n",
    "        print(\"Duplicated author and title\")\n",
    "        df_avis_unique = traitement_reco.delete_dup(df_avis)\n",
    "        break"
   ]
  },
  {
   "cell_type": "code",
   "execution_count": 200,
   "metadata": {},
   "outputs": [
    {
     "name": "stdout",
     "output_type": "stream",
     "text": [
      "Nombre d'avis dupliqués :  172\n"
     ]
    }
   ],
   "source": [
    "print(\"Nombre d'avis dupliqués : \", len(df_avis) - len(df_avis_unique))"
   ]
  },
  {
   "cell_type": "code",
   "execution_count": 201,
   "metadata": {},
   "outputs": [],
   "source": [
    "def describe_df(df):\n",
    "    print(f\"Nombre d'avis : {len(df)}\")\n",
    "    print(f\"Nombre d'utilisateurs : {len(df['author'].unique())}\")\n",
    "    print(f\"Nombre de jeux : {len(df['title'].unique())}\")\n",
    "\n",
    "    print(\"\\n====================================================\\n\")\n",
    "\n",
    "    _, count = np.unique(df[\"author\"], return_counts=True)\n",
    "    plt.plot(count[count.argsort()])\n",
    "    plt.title(\"Répartition des avis par utilisateur\")\n",
    "    plt.xlabel(\"Utilisateurs\")\n",
    "    plt.ylabel(\"Nombre d'avis\")\n",
    "    plt.show()\n",
    "\n",
    "    print(\"Mean =\", np.mean(count))\n",
    "    print(\"25th percentile =\", np.quantile(count, 0.25))\n",
    "    print(\"50th percentile =\", np.quantile(count, 0.5))\n",
    "    print(\"75th percentile =\", np.quantile(count, 0.75))\n",
    "    print(\"Minimum =\", np.min(count))\n",
    "    print(\"Maximum =\", np.max(count))\n",
    "    print(\"Standard Deviation =\", np.std(count))\n",
    "\n",
    "    print(\"\\n====================================================\\n\")\n",
    "\n",
    "    _, count = np.unique(df[\"title\"], return_counts=True)\n",
    "    plt.plot(count[count.argsort()])\n",
    "    plt.title(\"Répartition des avis par jeu\")\n",
    "    plt.xlabel(\"Jeux\")\n",
    "    plt.ylabel(\"Nombre d'avis\")\n",
    "    plt.show()\n",
    "\n",
    "    print(\"Mean =\", np.mean(count))\n",
    "    print(\"25th percentile =\", np.quantile(count, 0.25))\n",
    "    print(\"50th percentile =\", np.quantile(count, 0.5))\n",
    "    print(\"75th percentile =\", np.quantile(count, 0.75))\n",
    "    print(\"Minimum =\", np.min(count))\n",
    "    print(\"Maximum =\", np.max(count))\n",
    "    print(\"Standard Deviation =\", np.std(count))"
   ]
  },
  {
   "cell_type": "code",
   "execution_count": 202,
   "metadata": {},
   "outputs": [
    {
     "name": "stdout",
     "output_type": "stream",
     "text": [
      "Nombre d'avis : 176071\n",
      "Nombre d'utilisateurs : 13623\n",
      "Nombre de jeux : 10709\n",
      "\n",
      "====================================================\n",
      "\n"
     ]
    },
    {
     "data": {
      "image/png": "[encoded data removed]",
      "text/plain": [
       "<Figure size 432x288 with 1 Axes>"
      ]
     },
     "metadata": {
      "needs_background": "light"
     },
     "output_type": "display_data"
    },
    {
     "name": "stdout",
     "output_type": "stream",
     "text": [
      "Mean = 12.924539381927623\n",
      "25th percentile = 1.0\n",
      "50th percentile = 2.0\n",
      "75th percentile = 7.0\n",
      "Minimum = 1\n",
      "Maximum = 1688\n",
      "Standard Deviation = 46.04849566072456\n",
      "\n",
      "====================================================\n",
      "\n"
     ]
    },
    {
     "data": {
      "image/png": "[encoded data removed]",
      "text/plain": [
       "<Figure size 432x288 with 1 Axes>"
      ]
     },
     "metadata": {
      "needs_background": "light"
     },
     "output_type": "display_data"
    },
    {
     "name": "stdout",
     "output_type": "stream",
     "text": [
      "Mean = 16.441404426183585\n",
      "25th percentile = 2.0\n",
      "50th percentile = 4.0\n",
      "75th percentile = 15.0\n",
      "Minimum = 1\n",
      "Maximum = 172\n",
      "Standard Deviation = 31.03411212740304\n"
     ]
    }
   ],
   "source": [
    "describe_df(df_avis_unique)"
   ]
  },
  {
   "attachments": {},
   "cell_type": "markdown",
   "metadata": {},
   "source": [
    "## Collaborative filtering\n"
   ]
  },
  {
   "attachments": {},
   "cell_type": "markdown",
   "metadata": {},
   "source": [
    "### Demarrage à froid\n"
   ]
  },
  {
   "attachments": {},
   "cell_type": "markdown",
   "metadata": {},
   "source": [
    "On supprime les utilisateurs qui ont commenté moins de 8 fois, et les jeux avec moins de 8 avis ainsi jusqu'à convergence\n"
   ]
  },
  {
   "cell_type": "code",
   "execution_count": 370,
   "metadata": {},
   "outputs": [],
   "source": [
    "nb_avis_min = 8\n",
    "\n",
    "u, df_avis_filter = traitement_reco.clean_user(df_avis_unique, nb_avis_min=nb_avis_min)\n",
    "g, df_avis_filter = traitement_reco.clean_game(df_avis_filter, nb_avis_min=nb_avis_min)\n",
    "\n",
    "while u != 0 and g != 0:\n",
    "    u, df_avis_filter = traitement_reco.clean_user(\n",
    "        df_avis_filter, nb_avis_min=nb_avis_min)\n",
    "    \n",
    "    g, df_avis_filter = traitement_reco.clean_game(\n",
    "        df_avis_filter, nb_avis_min=nb_avis_min)"
   ]
  },
  {
   "cell_type": "code",
   "execution_count": 204,
   "metadata": {},
   "outputs": [
    {
     "name": "stdout",
     "output_type": "stream",
     "text": [
      "On a eliminé 77.17096087499083 % des utilisateurs\n",
      "On a eliminé 66.35540199831917 % des jeux\n",
      "On a eliminé 23.74212675568379 % des avis\n"
     ]
    }
   ],
   "source": [
    "game = np.unique(df_avis_unique[\"title\"])\n",
    "users = np.unique(df_avis_unique[\"author\"])\n",
    "\n",
    "game_filtred = np.unique(df_avis_filter[\"title\"])\n",
    "users_filtred = np.unique(df_avis_filter[\"author\"])\n",
    "\n",
    "print(\n",
    "    \"On a eliminé\",\n",
    "    100 * (len(users) - len(users_filtred)) / len(users),\n",
    "    \"% des utilisateurs\",\n",
    ")\n",
    "\n",
    "print(\"On a eliminé\", 100 * (len(game) - len(game_filtred)) / len(game), \"% des jeux\")\n",
    "\n",
    "print(\n",
    "    \"On a eliminé\",\n",
    "    100 * (len(df_avis_unique) - len(df_avis_filter)) / len(df_avis_unique),\n",
    "    \"% des avis\",\n",
    ")"
   ]
  },
  {
   "cell_type": "code",
   "execution_count": 205,
   "metadata": {},
   "outputs": [
    {
     "name": "stdout",
     "output_type": "stream",
     "text": [
      "Nombre d'avis : 134268\n",
      "Nombre d'utilisateurs : 3110\n",
      "Nombre de jeux : 3603\n",
      "\n",
      "====================================================\n",
      "\n"
     ]
    },
    {
     "data": {
      "image/png": "[encoded data removed]",
      "text/plain": [
       "<Figure size 432x288 with 1 Axes>"
      ]
     },
     "metadata": {
      "needs_background": "light"
     },
     "output_type": "display_data"
    },
    {
     "name": "stdout",
     "output_type": "stream",
     "text": [
      "Mean = 43.17299035369775\n",
      "25th percentile = 11.0\n",
      "50th percentile = 19.0\n",
      "75th percentile = 42.0\n",
      "Minimum = 8\n",
      "Maximum = 1289\n",
      "Standard Deviation = 73.00046013859675\n",
      "\n",
      "====================================================\n",
      "\n"
     ]
    },
    {
     "data": {
      "image/png": "[encoded data removed]",
      "text/plain": [
       "<Figure size 432x288 with 1 Axes>"
      ]
     },
     "metadata": {
      "needs_background": "light"
     },
     "output_type": "display_data"
    },
    {
     "name": "stdout",
     "output_type": "stream",
     "text": [
      "Mean = 37.265611990008324\n",
      "25th percentile = 12.0\n",
      "50th percentile = 20.0\n",
      "75th percentile = 45.0\n",
      "Minimum = 8\n",
      "Maximum = 158\n",
      "Standard Deviation = 38.495177090945695\n"
     ]
    }
   ],
   "source": [
    "describe_df(df_avis_filter)"
   ]
  },
  {
   "cell_type": "code",
   "execution_count": 206,
   "metadata": {},
   "outputs": [
    {
     "data": {
      "image/png": "[encoded data removed]",
      "text/plain": [
       "<Figure size 432x288 with 1 Axes>"
      ]
     },
     "metadata": {
      "needs_background": "light"
     },
     "output_type": "display_data"
    }
   ],
   "source": [
    "g_users = df_avis_filter.groupby(\"author\")[\"note\"].mean()\n",
    "ax = sns.distplot(g_users[users_filtred])\n",
    "ax.set_title(\"Distribution des notes par utilisateur\")\n",
    "ax.set_xlabel(\"Note par utilisateur\")\n",
    "plt.show()"
   ]
  },
  {
   "cell_type": "code",
   "execution_count": 207,
   "metadata": {},
   "outputs": [
    {
     "data": {
      "image/png": "[encoded data removed]",
      "text/plain": [
       "<Figure size 432x288 with 1 Axes>"
      ]
     },
     "metadata": {
      "needs_background": "light"
     },
     "output_type": "display_data"
    }
   ],
   "source": [
    "g_game = df_avis_filter.groupby(\"title\")[\"note\"].mean()\n",
    "ax = sns.distplot(g_game[game_filtred])\n",
    "ax.set_title(\"Distribution des notes par jeu\")\n",
    "ax.set_xlabel(\"Note par jeu\")\n",
    "plt.show()"
   ]
  },
  {
   "cell_type": "code",
   "execution_count": 208,
   "metadata": {},
   "outputs": [],
   "source": [
    "train_ratings, test_ratings = train_test_split(df_avis_filter, test_size=0.2)\n",
    "\n",
    "train_ratings = pd.concat([train_ratings, test_ratings[test_ratings.note < 8]], ignore_index=True)\n",
    "test_ratings = test_ratings[test_ratings.note >= 8]"
   ]
  },
  {
   "cell_type": "code",
   "execution_count": 209,
   "metadata": {},
   "outputs": [],
   "source": [
    "data = Dataset.load_from_df(train_ratings, Reader(rating_scale=(0, 10)))"
   ]
  },
  {
   "cell_type": "code",
   "execution_count": 210,
   "metadata": {},
   "outputs": [],
   "source": [
    "already_play = train_ratings.groupby(\"author\")[\"title\"].apply(list).to_dict()\n",
    "\n",
    "ground_truth = (\n",
    "    test_ratings\n",
    "    .groupby(\"author\")[\"title\"]\n",
    "    .apply(list)\n",
    "    .to_dict()\n",
    ")\n",
    "\n",
    "existing_games = set(train_ratings[\"title\"].unique())"
   ]
  },
  {
   "cell_type": "code",
   "execution_count": 211,
   "metadata": {},
   "outputs": [],
   "source": [
    "dict_data = {\n",
    "    \"already_play\": already_play,\n",
    "    \"ground_truth\": ground_truth,\n",
    "    \"existing_games\": existing_games,\n",
    "    \"data\": data,\n",
    "}"
   ]
  },
  {
   "cell_type": "code",
   "execution_count": 257,
   "metadata": {},
   "outputs": [],
   "source": [
    "import itertools\n",
    "import joblib\n",
    "from surprise.model_selection import KFold\n",
    "from sklearn.metrics import mean_squared_error, mean_absolute_error\n",
    "\n",
    "def model_optim(model_class, param_grid, data, bsl_options=False):\n",
    "\n",
    "    mse_test = []\n",
    "    mae_test = []\n",
    "\n",
    "    mse_train = []\n",
    "    mae_train = []\n",
    "\n",
    "    param_combinations = list(itertools.product(*[param_grid[key] for key in param_grid]))\n",
    "\n",
    "    def _fit(params):\n",
    "        model = None\n",
    "        if bsl_options == False:\n",
    "            model = model_class(verbose=False, **dict(zip(param_grid.keys(), params)))\n",
    "        else:\n",
    "            model = model_class(verbose=False, bsl_options=dict(zip(param_grid.keys(), params)))\n",
    "\n",
    "        mse_test_p = []\n",
    "        mae_test_p = []\n",
    "\n",
    "        mse_train_p = []\n",
    "        mae_train_p = []\n",
    "\n",
    "        kf = KFold(n_splits=5)\n",
    "        for trainset, testset in kf.split(data):\n",
    "            model.fit(trainset)\n",
    "            predictions = model.test(testset)\n",
    "\n",
    "            mse_test_p.append(accuracy.mse(predictions, verbose=False))\n",
    "            mae_test_p.append(accuracy.mae(predictions, verbose=False))\n",
    "\n",
    "            predictions = model.test(trainset.build_testset())\n",
    "\n",
    "            mse_train_p.append(accuracy.mse(predictions, verbose=False))\n",
    "            mae_train_p.append(accuracy.mae(predictions, verbose=False))\n",
    "\n",
    "        return (\n",
    "            np.mean(mse_test_p),\n",
    "            np.mean(mae_test_p),\n",
    "            np.mean(mse_train_p),\n",
    "            np.mean(mae_train_p),\n",
    "        )\n",
    "\n",
    "    results = joblib.Parallel(n_jobs=-1, verbose=5)(\n",
    "        joblib.delayed(_fit)(params) for params in param_combinations\n",
    "    )\n",
    "\n",
    "    mse_test, mae_test, mse_train, mae_train = zip(*results)        \n",
    "    return {\"mse_test\": np.array(mse_test), \"mae_test\": np.array(mae_test), \"mse_train\": np.array(mse_train), \"mae_train\": np.array(mae_train), \"param_combinations\": param_combinations}\n",
    "\n",
    "def loss_intensity(param_combinations, loss_values, f_param_vals, s_params_vals, f_param_i, s_param_i, f_param_name, s_param_name, loss_name):\n",
    "    \n",
    "    f_param_vals = f_param_vals[::-1]\n",
    "    \n",
    "    plt.figure(figsize=(10, 5))\n",
    "    loss_vals = np.zeros((len(f_param_vals), len(s_params_vals)))\n",
    "\n",
    "    for i, param in enumerate(param_combinations):\n",
    "        loss_vals[f_param_vals.index(param[f_param_i]), s_params_vals.index(param[s_param_i])] = loss_values[i]\n",
    "        \n",
    "    plt.imshow(loss_vals, cmap='viridis')\n",
    "\n",
    "    plt.yticks(range(len(f_param_vals)), f_param_vals)\n",
    "    plt.xlabel(f'{s_param_name} values')\n",
    "    \n",
    "    plt.xticks(range(len(s_params_vals)), s_params_vals)\n",
    "    plt.ylabel(f'{f_param_name} values')\n",
    "    \n",
    "    plt.title(loss_name)\n",
    "    plt.colorbar(label='Loss Intensity')\n",
    "    plt.show()"
   ]
  },
  {
   "attachments": {},
   "cell_type": "markdown",
   "metadata": {},
   "source": [
    "Naif"
   ]
  },
  {
   "cell_type": "code",
   "execution_count": 258,
   "metadata": {},
   "outputs": [],
   "source": [
    "mse_mean_val = []\n",
    "kf = KFold(n_splits=5)\n",
    "\n",
    "for trainset, testset in kf.split(data):\n",
    "    testset_ = [t[2] for t in testset]\n",
    "    predictions = [trainset.global_mean] * len(testset_)\n",
    "    mse = mean_squared_error(testset_, predictions)\n",
    "    mse_mean_val.append(mse)\n",
    "    \n",
    "mse_mean_val = np.mean(mse_mean)"
   ]
  },
  {
   "attachments": {},
   "cell_type": "markdown",
   "metadata": {},
   "source": [
    "### Baseline algorithm\n"
   ]
  },
  {
   "attachments": {},
   "cell_type": "markdown",
   "metadata": {},
   "source": [
    "`reg_i` represent $\\lambda_2$ : \n",
    "\n",
    "<img src=\"img/lambda2.png\" />\n",
    "\n",
    "`reg_u` represent $\\lambda_3$ : \n",
    "\n",
    "<img src=\"img/lambda3.png\" />"
   ]
  },
  {
   "cell_type": "code",
   "execution_count": 317,
   "metadata": {},
   "outputs": [
    {
     "name": "stderr",
     "output_type": "stream",
     "text": [
      "[Parallel(n_jobs=-1)]: Using backend LokyBackend with 8 concurrent workers.\n",
      "[Parallel(n_jobs=-1)]: Done   5 out of  16 | elapsed:   12.6s remaining:   27.7s\n",
      "[Parallel(n_jobs=-1)]: Done   9 out of  16 | elapsed:   22.8s remaining:   17.8s\n",
      "[Parallel(n_jobs=-1)]: Done  13 out of  16 | elapsed:   23.8s remaining:    5.5s\n",
      "[Parallel(n_jobs=-1)]: Done  16 out of  16 | elapsed:   24.5s finished\n"
     ]
    }
   ],
   "source": [
    "bsl_options = {\n",
    "    \"method\": [\"als\"],\n",
    "    \"reg_u\": [5, 10, 15, 20],\n",
    "    \"reg_i\": [5, 10, 15, 20]\n",
    "}\n",
    "\n",
    "bsl_result = model_optim(BaselineOnly, bsl_options, data, bsl_options=True)"
   ]
  },
  {
   "cell_type": "code",
   "execution_count": 318,
   "metadata": {},
   "outputs": [
    {
     "data": {
      "text/plain": [
       "<matplotlib.legend.Legend at 0x7f7cf49075e0>"
      ]
     },
     "execution_count": 318,
     "metadata": {},
     "output_type": "execute_result"
    },
    {
     "data": {
      "image/png": "[encoded data removed]",
      "text/plain": [
       "<Figure size 864x360 with 1 Axes>"
      ]
     },
     "metadata": {
      "needs_background": "light"
     },
     "output_type": "display_data"
    }
   ],
   "source": [
    "param_combinations = bsl_result[\"param_combinations\"]\n",
    "\n",
    "mse_test = bsl_result[\"mse_test\"]\n",
    "mse_train = bsl_result[\"mse_train\"]\n",
    "mae_test = bsl_result[\"mae_test\"]\n",
    "mae_train = bsl_result[\"mae_train\"]\n",
    "\n",
    "mse_mean = [mse_mean_val] * len(param_combinations)\n",
    "\n",
    "fig, axs = plt.subplots(1, 1, figsize=(12, 5))\n",
    "axs = [axs]\n",
    "plt.subplots_adjust(wspace=0.3)\n",
    "\n",
    "axs[0].plot(mse_test, label=\"SVD test\")\n",
    "axs[0].plot(mse_train, label=\"SVD train\")\n",
    "axs[0].plot(mse_mean, label=\"Model naif\")\n",
    "\n",
    "axs[0].set_title(\"Evolution de la mse en fonction des parametres\")\n",
    "axs[0].set_xticks(np.arange(len(param_combinations)))\n",
    "axs[0].set_xticklabels(param_combinations, rotation=90)\n",
    "axs[0].set_ylim(np.min([min(mse_test), min(mse_train), min(mse_mean)]) - 1, np.max([max(mse_test), max(mse_train), max(mse_mean)]) + 1)\n",
    "axs[0].legend()"
   ]
  },
  {
   "attachments": {},
   "cell_type": "markdown",
   "metadata": {},
   "source": [
    "### SVD algorithm\n"
   ]
  },
  {
   "cell_type": "code",
   "execution_count": 291,
   "metadata": {},
   "outputs": [
    {
     "name": "stderr",
     "output_type": "stream",
     "text": [
      "[Parallel(n_jobs=-1)]: Using backend LokyBackend with 8 concurrent workers.\n",
      "[Parallel(n_jobs=-1)]: Done   2 tasks      | elapsed:   18.1s\n",
      "[Parallel(n_jobs=-1)]: Done  29 out of  36 | elapsed:  1.5min remaining:   21.1s\n",
      "[Parallel(n_jobs=-1)]: Done  36 out of  36 | elapsed:  1.7min finished\n"
     ]
    }
   ],
   "source": [
    "param_grid = {\n",
    "    \"n_factors\": [10*i for i in range(1, 10)],\n",
    "    \"reg_all\": [0.1, 1, 5, 20],\n",
    "}\n",
    "\n",
    "svd_param_result = model_optim(SVD, param_grid, data)"
   ]
  },
  {
   "cell_type": "code",
   "execution_count": 298,
   "metadata": {},
   "outputs": [
    {
     "data": {
      "text/plain": [
       "<matplotlib.legend.Legend at 0x7f7cf49176d0>"
      ]
     },
     "execution_count": 298,
     "metadata": {},
     "output_type": "execute_result"
    },
    {
     "data": {
      "image/png": "[encoded data removed]",
      "text/plain": [
       "<Figure size 864x360 with 1 Axes>"
      ]
     },
     "metadata": {
      "needs_background": "light"
     },
     "output_type": "display_data"
    }
   ],
   "source": [
    "param_combinations = svd_result[\"param_combinations\"]\n",
    "\n",
    "mse_test = svd_result[\"mse_test\"]\n",
    "mse_train = svd_result[\"mse_train\"]\n",
    "mae_test = svd_result[\"mae_test\"]\n",
    "mae_train = svd_result[\"mae_train\"]\n",
    "\n",
    "mse_mean = [mse_mean_val] * len(param_combinations)\n",
    "\n",
    "fig, axs = plt.subplots(1, 1, figsize=(12, 5))\n",
    "axs = [axs]\n",
    "plt.subplots_adjust(wspace=0.3)\n",
    "\n",
    "axs[0].plot(mse_test, label=\"SVD test\")\n",
    "axs[0].plot(mse_train, label=\"SVD train\")\n",
    "axs[0].plot(mse_mean, label=\"Model naif\")\n",
    "\n",
    "axs[0].set_title(\"Evolution de la mse en fonction des parametres\")\n",
    "axs[0].set_xticks(np.arange(len(param_combinations)))\n",
    "axs[0].set_xticklabels(param_combinations, rotation=90)\n",
    "axs[0].set_ylim(np.min([min(mse_test), min(mse_train), min(mse_mean)]) - 1, np.max([max(mse_test), max(mse_train), max(mse_mean)]) + 1)\n",
    "axs[0].legend()"
   ]
  },
  {
   "cell_type": "code",
   "execution_count": 268,
   "metadata": {},
   "outputs": [
    {
     "name": "stderr",
     "output_type": "stream",
     "text": [
      "[Parallel(n_jobs=-1)]: Using backend LokyBackend with 8 concurrent workers.\n",
      "[Parallel(n_jobs=-1)]: Done   2 tasks      | elapsed:   16.8s\n",
      "[Parallel(n_jobs=-1)]: Done  50 out of  54 | elapsed:  2.4min remaining:   11.4s\n",
      "[Parallel(n_jobs=-1)]: Done  54 out of  54 | elapsed:  2.4min finished\n"
     ]
    }
   ],
   "source": [
    "param_grid = {\n",
    "    \"n_factors\": [10*i for i in range(1, 10)],\n",
    "    \"reg_all\": [0.1, 1, 5, 10, 20, 40],\n",
    "}\n",
    "\n",
    "svd_result = model_optim(SVD, param_grid, data)"
   ]
  },
  {
   "cell_type": "code",
   "execution_count": 299,
   "metadata": {},
   "outputs": [
    {
     "data": {
      "image/png": "[encoded data removed]",
      "text/plain": [
       "<Figure size 720x360 with 2 Axes>"
      ]
     },
     "metadata": {
      "needs_background": "light"
     },
     "output_type": "display_data"
    }
   ],
   "source": [
    "loss_intensity(svd_result[\"param_combinations\"], svd_result[\"mse_test\"], [10*i for i in range(1, 10)], [0.1, 1, 5, 10, 20, 40], 0, 1, \"n_factors\", \"reg_all\", \"MSE test\")"
   ]
  },
  {
   "cell_type": "code",
   "execution_count": 301,
   "metadata": {},
   "outputs": [
    {
     "data": {
      "image/png": "[encoded data removed]",
      "text/plain": [
       "<Figure size 720x360 with 2 Axes>"
      ]
     },
     "metadata": {
      "needs_background": "light"
     },
     "output_type": "display_data"
    }
   ],
   "source": [
    "loss_intensity(svd_result[\"param_combinations\"], np.abs(svd_result[\"mse_test\"] - svd_result[\"mse_train\"]), [10*i for i in range(1, 10)], [0.1, 1, 5, 10, 20, 40], 0, 1, \"n_factors\", \"reg_all\", \"Diff MSE test et train\")"
   ]
  },
  {
   "cell_type": "code",
   "execution_count": 368,
   "metadata": {},
   "outputs": [
    {
     "data": {
      "image/png": "[encoded data removed]",
      "text/plain": [
       "<Figure size 720x360 with 2 Axes>"
      ]
     },
     "metadata": {
      "needs_background": "light"
     },
     "output_type": "display_data"
    }
   ],
   "source": [
    "alpha = 0.5\n",
    "beta = 1\n",
    "loss_values = alpha * svd_result[\"mse_test\"] + beta * np.abs(svd_result[\"mse_test\"] - svd_result[\"mse_train\"])\n",
    "loss_intensity(svd_result[\"param_combinations\"], loss_values, [10*i for i in range(1, 10)], [0.1, 1, 5, 10, 20, 40], 0, 1, \"n_factors\", \"reg_all\", \"Combinaison\")"
   ]
  },
  {
   "attachments": {},
   "cell_type": "markdown",
   "metadata": {},
   "source": [
    "### KNN Basic\n"
   ]
  },
  {
   "cell_type": "code",
   "execution_count": 239,
   "metadata": {},
   "outputs": [
    {
     "name": "stderr",
     "output_type": "stream",
     "text": [
      "[Parallel(n_jobs=-1)]: Using backend LokyBackend with 8 concurrent workers.\n",
      "[Parallel(n_jobs=-1)]: Done   5 out of  16 | elapsed:  1.2min remaining:  2.6min\n",
      "[Parallel(n_jobs=-1)]: Done   9 out of  16 | elapsed:  2.2min remaining:  1.7min\n",
      "[Parallel(n_jobs=-1)]: Done  13 out of  16 | elapsed:  2.4min remaining:   33.8s\n",
      "[Parallel(n_jobs=-1)]: Done  16 out of  16 | elapsed:  2.5min finished\n"
     ]
    }
   ],
   "source": [
    "sim_options = {\n",
    "    \"name\": \"cosine\",\n",
    "    \"user_based\": True,\n",
    "    \"min_support\": 5,\n",
    "}\n",
    "\n",
    "param_grid = {\n",
    "    \"k\": list(range(3, 80, 5)),\n",
    "    \"sim_options\": [sim_options],\n",
    "}\n",
    "\n",
    "knn_result = model_optim(KNNBasic, param_grid, data)"
   ]
  },
  {
   "cell_type": "code",
   "execution_count": 307,
   "metadata": {},
   "outputs": [
    {
     "data": {
      "text/plain": [
       "<matplotlib.legend.Legend at 0x7f7cf456a520>"
      ]
     },
     "execution_count": 307,
     "metadata": {},
     "output_type": "execute_result"
    },
    {
     "data": {
      "image/png": "[encoded data removed]",
      "text/plain": [
       "<Figure size 864x360 with 1 Axes>"
      ]
     },
     "metadata": {
      "needs_background": "light"
     },
     "output_type": "display_data"
    }
   ],
   "source": [
    "param_combinations = knn_result[\"param_combinations\"]\n",
    "\n",
    "mse_test = knn_result[\"mse_test\"]\n",
    "mse_train = knn_result[\"mse_train\"]\n",
    "mae_test = knn_result[\"mae_test\"]\n",
    "mae_train = knn_result[\"mae_train\"]\n",
    "\n",
    "mse_mean = [mse_mean_val] * len(param_combinations)\n",
    "\n",
    "fig, axs = plt.subplots(1, 1, figsize=(12, 5))\n",
    "axs = [axs]\n",
    "plt.subplots_adjust(wspace=0.3)\n",
    "\n",
    "axs[0].plot(mse_test, label=\"SVD test\")\n",
    "axs[0].plot(mse_train, label=\"SVD train\")\n",
    "axs[0].plot(mse_mean, label=\"Naif model\")\n",
    "\n",
    "axs[0].set_title(\"Evolution de la mse en fonction des parametres\")\n",
    "axs[0].set_xticks(np.arange(len(param_combinations)))\n",
    "axs[0].set_xticklabels([param[0] for param in param_combinations], rotation=90)\n",
    "axs[0].set_ylim(np.min([min(mse_test), min(mse_train), min(mse_mean)]) - 1, np.max([max(mse_test), max(mse_train), max(mse_mean)]) + 1)\n",
    "axs[0].legend()"
   ]
  },
  {
   "cell_type": "code",
   "execution_count": 337,
   "metadata": {},
   "outputs": [],
   "source": [
    "trainset, testset = train_test_split(df_avis_filter, test_size=0.2)\n",
    "\n",
    "trainset = Dataset.load_from_df(trainset, Reader(rating_scale=(0, 10))).build_full_trainset()\n",
    "testset = [testset.iloc[i].to_list() for i in range(len(testset))]"
   ]
  },
  {
   "cell_type": "code",
   "execution_count": 340,
   "metadata": {},
   "outputs": [],
   "source": [
    "models = [\n",
    "    KNNBasic(k=18, sim_options={\"name\": \"cosine\", \"user_based\": True, \"min_support\": 5}, verbose=False),\n",
    "    SVD(n_factors=30, reg_all=1),\n",
    "    BaselineOnly(bsl_options={\"method\": \"als\", \"reg_u\": 20, \"reg_i\": 5}, verbose=False)\n",
    "]\n",
    "\n",
    "losses = []\n",
    "for model in models:\n",
    "    model.fit(trainset)\n",
    "    predictions = model.test(testset)\n",
    "    \n",
    "    losses.append(accuracy.mse(predictions, verbose=False))"
   ]
  },
  {
   "cell_type": "code",
   "execution_count": 347,
   "metadata": {},
   "outputs": [],
   "source": [
    "notes_test = [t[2] for t in testset]\n",
    "predictions = [trainset.global_mean] * len(notes_test)\n",
    "mse_mean = mean_squared_error(notes_test, predictions)"
   ]
  },
  {
   "cell_type": "code",
   "execution_count": 352,
   "metadata": {},
   "outputs": [
    {
     "data": {
      "image/png": "[encoded data removed]",
      "text/plain": [
       "<Figure size 432x288 with 1 Axes>"
      ]
     },
     "metadata": {
      "needs_background": "light"
     },
     "output_type": "display_data"
    }
   ],
   "source": [
    "data = {'Models': [\"Model naif\", \"Knn\", \"SVD\", \"Baseline\"], 'MSE': [mse_mean] + losses}\n",
    "sns.barplot(x='Models', y='MSE', data=data)\n",
    "\n",
    "plt.xlabel('Models')\n",
    "plt.ylabel('MSE')\n",
    "\n",
    "plt.title('Comparaison de la MSE des modeles')\n",
    "plt.show()"
   ]
  },
  {
   "cell_type": "code",
   "execution_count": 353,
   "metadata": {},
   "outputs": [],
   "source": [
    "def get_user_predictions_naif_model(mean, data):\n",
    "    ground_truth = data[\"ground_truth\"]\n",
    "    already_play = data[\"already_play\"]\n",
    "    existing_games = data[\"existing_games\"]\n",
    "\n",
    "    user_jeux_preference = []\n",
    "\n",
    "    for user, will_play in tqdm(ground_truth.items()):\n",
    "        if user not in already_play:\n",
    "            continue\n",
    "\n",
    "        l = []\n",
    "        will_play = set(will_play)\n",
    "        has_play = set(already_play[user])\n",
    "        can_play = [\n",
    "            (game, mean) for game in existing_games - has_play\n",
    "        ]\n",
    "\n",
    "        for game, score in reversed(sorted(can_play, key=lambda x: x[1])):\n",
    "            if game not in will_play:\n",
    "                l.append(0)\n",
    "                continue\n",
    "\n",
    "            l.append(1)\n",
    "            break\n",
    "\n",
    "        l[-1] = 1\n",
    "        user_jeux_preference.append(l)\n",
    "\n",
    "    return user_jeux_preference"
   ]
  },
  {
   "cell_type": "code",
   "execution_count": 355,
   "metadata": {},
   "outputs": [
    {
     "name": "stderr",
     "output_type": "stream",
     "text": [
      "100%|██████████| 2727/2727 [00:01<00:00, 1378.69it/s]\n"
     ]
    }
   ],
   "source": [
    "pred_naif = get_user_predictions_naif_model(trainset.global_mean, dict_data)"
   ]
  },
  {
   "cell_type": "code",
   "execution_count": 357,
   "metadata": {},
   "outputs": [
    {
     "name": "stderr",
     "output_type": "stream",
     "text": [
      "100%|██████████| 2727/2727 [03:39<00:00, 12.42it/s]\n",
      "100%|██████████| 2727/2727 [00:46<00:00, 58.45it/s]\n",
      "100%|██████████| 2727/2727 [00:25<00:00, 107.02it/s]\n"
     ]
    }
   ],
   "source": [
    "results_mrr = []\n",
    "\n",
    "for model in models:\n",
    "    predictions = prediction.get_user_predictions(model, dict_data)\n",
    "    results_mrr.append(prediction.mrr(predictions))"
   ]
  },
  {
   "cell_type": "code",
   "execution_count": 358,
   "metadata": {},
   "outputs": [],
   "source": [
    "mrr_naif = prediction.mrr(pred_naif)"
   ]
  },
  {
   "cell_type": "code",
   "execution_count": 360,
   "metadata": {},
   "outputs": [
    {
     "data": {
      "image/png": "[encoded data removed]",
      "text/plain": [
       "<Figure size 432x288 with 1 Axes>"
      ]
     },
     "metadata": {
      "needs_background": "light"
     },
     "output_type": "display_data"
    }
   ],
   "source": [
    "data = {'Models': [\"Model naif\", \"Knn\", \"SVD\", \"Baseline\"], 'MRR': [mrr_naif] + results_mrr}\n",
    "sns.barplot(x='Models', y='MRR', data=data)\n",
    "\n",
    "plt.xlabel('Models')\n",
    "plt.ylabel('MRR')\n",
    "\n",
    "plt.title('Comparaison de la MRR des modeles')\n",
    "plt.show()"
   ]
  },
  {
   "attachments": {},
   "cell_type": "markdown",
   "metadata": {},
   "source": [
    "### Bayesian Personalized Ranking"
   ]
  },
  {
   "cell_type": "code",
   "execution_count": null,
   "metadata": {},
   "outputs": [],
   "source": [
    "dataset = LFMDataset()\n",
    "dataset.fit((x for x in df_avis[\"author\"]),\n",
    "            (x for x in df_avis['title']))\n",
    "\n",
    "(train_interactions, weights) = dataset.build_interactions(\n",
    "    ((x.author, x.title) for x in train_ratings.itertuples())\n",
    ")\n",
    "    \n",
    "(test_interactions, weights) = dataset.build_interactions(\n",
    "    ((x.author, x.title) for x in test_ratings.itertuples())\n",
    ")"
   ]
  },
  {
   "cell_type": "code",
   "execution_count": null,
   "metadata": {},
   "outputs": [
    {
     "data": {
      "text/plain": [
       "<lightfm.lightfm.LightFM at 0x7f8eab3246a0>"
      ]
     },
     "execution_count": 64,
     "metadata": {},
     "output_type": "execute_result"
    }
   ],
   "source": [
    "bpr = LightFM(loss='bpr')\n",
    "bpr.fit(train_interactions)"
   ]
  },
  {
   "cell_type": "code",
   "execution_count": null,
   "metadata": {},
   "outputs": [],
   "source": [
    "bpr_mrr = reciprocal_rank(bpr, test_interactions, train_interactions).mean()"
   ]
  },
  {
   "cell_type": "code",
   "execution_count": null,
   "metadata": {},
   "outputs": [
    {
     "data": {
      "text/plain": [
       "0.09855617"
      ]
     },
     "execution_count": 71,
     "metadata": {},
     "output_type": "execute_result"
    }
   ],
   "source": [
    "bpr_mrr"
   ]
  },
  {
   "attachments": {},
   "cell_type": "markdown",
   "metadata": {},
   "source": [
    "## Création d'un systeme de recommandation pour un utilisateur :"
   ]
  },
  {
   "cell_type": "code",
   "execution_count": 379,
   "metadata": {},
   "outputs": [],
   "source": [
    "def basic_recommand_games(model, user, games, df, nb_games=3):\n",
    "    scores = []\n",
    "    \n",
    "    user_games = list(df[df[\"author\"] == user][\"title\"])\n",
    "    \n",
    "    for game in games:\n",
    "        \n",
    "        if game in user_games:\n",
    "            scores.append(0)\n",
    "            continue\n",
    "        \n",
    "        prediction = model.predict(user, game)\n",
    "        scores.append(prediction.est)\n",
    "    \n",
    "    scores = np.array(scores)\n",
    "    i_sort = np.argsort(-scores)\n",
    "    return games[i_sort[:nb_games]]"
   ]
  },
  {
   "cell_type": "code",
   "execution_count": 392,
   "metadata": {},
   "outputs": [
    {
     "data": {
      "text/plain": [
       "array(['*FitzChevalerie*', '--- JD ---', '-Yo-', ..., 'zorl', '§Gama§',\n",
       "       'égécriéaline'], dtype=object)"
      ]
     },
     "execution_count": 392,
     "metadata": {},
     "output_type": "execute_result"
    }
   ],
   "source": [
    "df_avis_filter[\"author\"] .unique()"
   ]
  },
  {
   "cell_type": "code",
   "execution_count": 403,
   "metadata": {},
   "outputs": [],
   "source": [
    "author = \"égécriéaline\""
   ]
  },
  {
   "cell_type": "code",
   "execution_count": 404,
   "metadata": {},
   "outputs": [
    {
     "data": {
      "text/html": [
       "<div>\n",
       "<style scoped>\n",
       "    .dataframe tbody tr th:only-of-type {\n",
       "        vertical-align: middle;\n",
       "    }\n",
       "\n",
       "    .dataframe tbody tr th {\n",
       "        vertical-align: top;\n",
       "    }\n",
       "\n",
       "    .dataframe thead th {\n",
       "        text-align: right;\n",
       "    }\n",
       "</style>\n",
       "<table border=\"1\" class=\"dataframe\">\n",
       "  <thead>\n",
       "    <tr style=\"text-align: right;\">\n",
       "      <th></th>\n",
       "      <th>author</th>\n",
       "      <th>title</th>\n",
       "      <th>note</th>\n",
       "    </tr>\n",
       "  </thead>\n",
       "  <tbody>\n",
       "    <tr>\n",
       "      <th>144754</th>\n",
       "      <td>égécriéaline</td>\n",
       "      <td>Akaba</td>\n",
       "      <td>6.0</td>\n",
       "    </tr>\n",
       "    <tr>\n",
       "      <th>24638</th>\n",
       "      <td>égécriéaline</td>\n",
       "      <td>Bandido</td>\n",
       "      <td>7.0</td>\n",
       "    </tr>\n",
       "    <tr>\n",
       "      <th>83376</th>\n",
       "      <td>égécriéaline</td>\n",
       "      <td>Black Stories - Morts de rire...</td>\n",
       "      <td>5.0</td>\n",
       "    </tr>\n",
       "    <tr>\n",
       "      <th>135973</th>\n",
       "      <td>égécriéaline</td>\n",
       "      <td>Carrousel</td>\n",
       "      <td>8.0</td>\n",
       "    </tr>\n",
       "    <tr>\n",
       "      <th>1853</th>\n",
       "      <td>égécriéaline</td>\n",
       "      <td>Caverna</td>\n",
       "      <td>10.0</td>\n",
       "    </tr>\n",
       "    <tr>\n",
       "      <th>...</th>\n",
       "      <td>...</td>\n",
       "      <td>...</td>\n",
       "      <td>...</td>\n",
       "    </tr>\n",
       "    <tr>\n",
       "      <th>1295</th>\n",
       "      <td>égécriéaline</td>\n",
       "      <td>Unlock! Timeless Adventures</td>\n",
       "      <td>10.0</td>\n",
       "    </tr>\n",
       "    <tr>\n",
       "      <th>19804</th>\n",
       "      <td>égécriéaline</td>\n",
       "      <td>Viticulture - Edition Essentielle</td>\n",
       "      <td>8.0</td>\n",
       "    </tr>\n",
       "    <tr>\n",
       "      <th>4211</th>\n",
       "      <td>égécriéaline</td>\n",
       "      <td>Wild Space</td>\n",
       "      <td>9.0</td>\n",
       "    </tr>\n",
       "    <tr>\n",
       "      <th>155372</th>\n",
       "      <td>égécriéaline</td>\n",
       "      <td>À l'École des Fantômes</td>\n",
       "      <td>6.0</td>\n",
       "    </tr>\n",
       "    <tr>\n",
       "      <th>30007</th>\n",
       "      <td>égécriéaline</td>\n",
       "      <td>À la gloire d'Odin</td>\n",
       "      <td>10.0</td>\n",
       "    </tr>\n",
       "  </tbody>\n",
       "</table>\n",
       "<p>64 rows × 3 columns</p>\n",
       "</div>"
      ],
      "text/plain": [
       "              author                              title  note\n",
       "144754  égécriéaline                              Akaba   6.0\n",
       "24638   égécriéaline                            Bandido   7.0\n",
       "83376   égécriéaline   Black Stories - Morts de rire...   5.0\n",
       "135973  égécriéaline                          Carrousel   8.0\n",
       "1853    égécriéaline                            Caverna  10.0\n",
       "...              ...                                ...   ...\n",
       "1295    égécriéaline        Unlock! Timeless Adventures  10.0\n",
       "19804   égécriéaline  Viticulture - Edition Essentielle   8.0\n",
       "4211    égécriéaline                         Wild Space   9.0\n",
       "155372  égécriéaline             À l'École des Fantômes   6.0\n",
       "30007   égécriéaline                 À la gloire d'Odin  10.0\n",
       "\n",
       "[64 rows x 3 columns]"
      ]
     },
     "execution_count": 404,
     "metadata": {},
     "output_type": "execute_result"
    }
   ],
   "source": [
    "df_avis_filter[df_avis_filter[\"author\"] == author]"
   ]
  },
  {
   "cell_type": "code",
   "execution_count": 405,
   "metadata": {},
   "outputs": [
    {
     "data": {
      "text/plain": [
       "[<surprise.prediction_algorithms.knns.KNNBasic at 0x7f7cf4600880>,\n",
       " <surprise.prediction_algorithms.matrix_factorization.SVD at 0x7f7cf4600fa0>,\n",
       " <surprise.prediction_algorithms.baseline_only.BaselineOnly at 0x7f7cf46003a0>]"
      ]
     },
     "execution_count": 405,
     "metadata": {},
     "output_type": "execute_result"
    }
   ],
   "source": [
    "models"
   ]
  },
  {
   "cell_type": "code",
   "execution_count": 406,
   "metadata": {},
   "outputs": [
    {
     "data": {
      "text/plain": [
       "array(['Dungeon Twister : Mercenaires', \"Le Siècle d'or\", 'Karnag',\n",
       "       'Ascension : la renaissance de Vigil',\n",
       "       'Formule Dé : Circuit 10 ème Anniversaire', 'Kingdoms',\n",
       "       'Les Aventuriers du Rail : Extension Belgique',\n",
       "       'Heroscape : Fortress of the Archkyrie', 'Cast Enigma', 'Bridge'],\n",
       "      dtype=object)"
      ]
     },
     "execution_count": 406,
     "metadata": {},
     "output_type": "execute_result"
    }
   ],
   "source": [
    "knn_games = basic_recommand_games(models[0], author, games, df_avis, nb_games=10)\n",
    "knn_games"
   ]
  },
  {
   "cell_type": "code",
   "execution_count": 407,
   "metadata": {},
   "outputs": [
    {
     "data": {
      "text/plain": [
       "array(['Rallyman : Dirt', 'Twilight Imperium : Shattered Empire',\n",
       "       'Mémoire 44 : Carnets de Campagne Vol.1', 'Cast Enigma',\n",
       "       'Antiquity', \"Conflict of Heroes : Le Réveil de l'Ours\",\n",
       "       'Dominion - Age des ténèbres', \"L'échiquier de Machiavel\",\n",
       "       \"Dominion : L'Arrière-Pays\", 'Pandemic Legacy - Saison 2'],\n",
       "      dtype=object)"
      ]
     },
     "execution_count": 407,
     "metadata": {},
     "output_type": "execute_result"
    }
   ],
   "source": [
    "svd_games = basic_recommand_games(models[1], author, games, df_avis, nb_games=10)\n",
    "svd_games"
   ]
  },
  {
   "cell_type": "code",
   "execution_count": 408,
   "metadata": {},
   "outputs": [
    {
     "data": {
      "text/plain": [
       "array(['Antiquity', 'Rallyman : Dirt',\n",
       "       'Twilight Imperium : Shattered Empire',\n",
       "       \"Conflict of Heroes : Le Réveil de l'Ours\",\n",
       "       'Dominion - Age des ténèbres', 'A Few Acres of Snow',\n",
       "       'Cast Enigma', 'Twilight Struggle', 'Goa',\n",
       "       'Le Trône de Fer - JdS : la bataille des rois'], dtype=object)"
      ]
     },
     "execution_count": 408,
     "metadata": {},
     "output_type": "execute_result"
    }
   ],
   "source": [
    "bs_games = basic_recommand_games(models[2], author, games, df_avis, nb_games=10)\n",
    "bs_games"
   ]
  },
  {
   "cell_type": "code",
   "execution_count": 409,
   "metadata": {},
   "outputs": [
    {
     "data": {
      "text/plain": [
       "10.0"
      ]
     },
     "execution_count": 409,
     "metadata": {},
     "output_type": "execute_result"
    }
   ],
   "source": [
    "common_elements = set(knn_games) & set(bs_games)\n",
    "percentage = (len(common_elements) / 10) * 100\n",
    "percentage"
   ]
  },
  {
   "cell_type": "code",
   "execution_count": 410,
   "metadata": {},
   "outputs": [
    {
     "data": {
      "text/plain": [
       "60.0"
      ]
     },
     "execution_count": 410,
     "metadata": {},
     "output_type": "execute_result"
    }
   ],
   "source": [
    "common_elements = set(svd_games) & set(bs_games)\n",
    "percentage = (len(common_elements) / 10) * 100\n",
    "percentage"
   ]
  },
  {
   "cell_type": "code",
   "execution_count": 411,
   "metadata": {},
   "outputs": [
    {
     "data": {
      "text/plain": [
       "10.0"
      ]
     },
     "execution_count": 411,
     "metadata": {},
     "output_type": "execute_result"
    }
   ],
   "source": [
    "common_elements = set(knn_games) & set(svd_games)\n",
    "percentage = (len(common_elements) / 10) * 100\n",
    "percentage"
   ]
  }
 ],
 "metadata": {
  "kernelspec": {
   "display_name": "base",
   "language": "python",
   "name": "python3"
  },
  "language_info": {
   "codemirror_mode": {
    "name": "ipython",
    "version": 3
   },
   "file_extension": ".py",
   "mimetype": "text/x-python",
   "name": "python",
   "nbconvert_exporter": "python",
   "pygments_lexer": "ipython3",
   "version": "3.9.12"
  },
  "orig_nbformat": 4,
  "vscode": {
   "interpreter": {
    "hash": "42f73df57f5c5b27fbfc85044b4c138d07e605094b5be4cd67d04547d5b2fc0f"
   }
  }
 },
 "nbformat": 4,
 "nbformat_minor": 2
}
