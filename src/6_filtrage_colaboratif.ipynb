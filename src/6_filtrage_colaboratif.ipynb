{
 "cells": [
  {
   "cell_type": "code",
   "execution_count": 1,
   "metadata": {},
   "outputs": [],
   "source": [
    "from iads.data_traitement import traitement\n",
    "from iads.nlp import preprocessing\n",
    "from iads.recommandation import prediction\n",
    "\n",
    "import numpy as np\n",
    "import matplotlib.pyplot as plt\n",
    "import seaborn as sns\n",
    "import pandas as pd\n",
    "from sklearn.model_selection import train_test_split\n",
    "\n",
    "from surprise import NormalPredictor, BaselineOnly, SVD, SVDpp, NMF, SlopeOne\n",
    "from surprise.model_selection import GridSearchCV\n",
    "from surprise import Dataset\n",
    "from surprise import Reader\n",
    "from surprise.model_selection import cross_validate\n",
    "from surprise.prediction_algorithms.knns import KNNBasic, KNNWithMeans\n",
    "\n",
    "from tqdm import tqdm\n",
    "\n",
    "import warnings\n",
    "warnings.filterwarnings('ignore')"
   ]
  },
  {
   "attachments": {},
   "cell_type": "markdown",
   "metadata": {},
   "source": [
    "# I. Chargement des données :"
   ]
  },
  {
   "cell_type": "code",
   "execution_count": 2,
   "metadata": {},
   "outputs": [
    {
     "data": {
      "text/html": [
       "<div>\n",
       "<style scoped>\n",
       "    .dataframe tbody tr th:only-of-type {\n",
       "        vertical-align: middle;\n",
       "    }\n",
       "\n",
       "    .dataframe tbody tr th {\n",
       "        vertical-align: top;\n",
       "    }\n",
       "\n",
       "    .dataframe thead th {\n",
       "        text-align: right;\n",
       "    }\n",
       "</style>\n",
       "<table border=\"1\" class=\"dataframe\">\n",
       "  <thead>\n",
       "    <tr style=\"text-align: right;\">\n",
       "      <th></th>\n",
       "      <th>Nombre d'avis</th>\n",
       "      <th>full_title</th>\n",
       "      <th>Note rectifiée</th>\n",
       "      <th>Note</th>\n",
       "      <th>Note Finkel</th>\n",
       "      <th>categories</th>\n",
       "      <th>Nombre d'avis rectifiés</th>\n",
       "      <th>description</th>\n",
       "      <th>titre</th>\n",
       "      <th>_id</th>\n",
       "      <th>...</th>\n",
       "      <th>editors</th>\n",
       "      <th>distributors</th>\n",
       "      <th>nb_players</th>\n",
       "      <th>age_required</th>\n",
       "      <th>duration</th>\n",
       "      <th>enfant</th>\n",
       "      <th>ado</th>\n",
       "      <th>adulte</th>\n",
       "      <th>solo</th>\n",
       "      <th>multi</th>\n",
       "    </tr>\n",
       "  </thead>\n",
       "  <tbody>\n",
       "    <tr>\n",
       "      <th>0</th>\n",
       "      <td>19.0</td>\n",
       "      <td>Marvel United (2020)</td>\n",
       "      <td>8.40</td>\n",
       "      <td>7.58</td>\n",
       "      <td>8.74</td>\n",
       "      <td>NaN</td>\n",
       "      <td>10.0</td>\n",
       "      <td>marvel united unir contre super vilain red sku...</td>\n",
       "      <td>Marvel United</td>\n",
       "      <td>marvel-united</td>\n",
       "      <td>...</td>\n",
       "      <td>CMON Limited</td>\n",
       "      <td>NaN</td>\n",
       "      <td>1-4</td>\n",
       "      <td>14-99</td>\n",
       "      <td>45.0</td>\n",
       "      <td>0</td>\n",
       "      <td>1</td>\n",
       "      <td>1</td>\n",
       "      <td>1</td>\n",
       "      <td>1</td>\n",
       "    </tr>\n",
       "    <tr>\n",
       "      <th>1</th>\n",
       "      <td>33.0</td>\n",
       "      <td>Mariposas (2020)</td>\n",
       "      <td>7.29</td>\n",
       "      <td>7.39</td>\n",
       "      <td>7.68</td>\n",
       "      <td>NaN</td>\n",
       "      <td>17.0</td>\n",
       "      <td>annee printemps million papillon monarque quit...</td>\n",
       "      <td>Mariposas</td>\n",
       "      <td>mariposas</td>\n",
       "      <td>...</td>\n",
       "      <td>Gigamic</td>\n",
       "      <td>NaN</td>\n",
       "      <td>2-5</td>\n",
       "      <td>14-99</td>\n",
       "      <td>60.0</td>\n",
       "      <td>0</td>\n",
       "      <td>1</td>\n",
       "      <td>1</td>\n",
       "      <td>0</td>\n",
       "      <td>1</td>\n",
       "    </tr>\n",
       "  </tbody>\n",
       "</table>\n",
       "<p>2 rows × 22 columns</p>\n",
       "</div>"
      ],
      "text/plain": [
       "   Nombre d'avis            full_title  Note rectifiée  Note  Note Finkel  \\\n",
       "0           19.0  Marvel United (2020)            8.40  7.58         8.74   \n",
       "1           33.0      Mariposas (2020)            7.29  7.39         7.68   \n",
       "\n",
       "  categories  Nombre d'avis rectifiés  \\\n",
       "0        NaN                     10.0   \n",
       "1        NaN                     17.0   \n",
       "\n",
       "                                         description          titre  \\\n",
       "0  marvel united unir contre super vilain red sku...  Marvel United   \n",
       "1  annee printemps million papillon monarque quit...      Mariposas   \n",
       "\n",
       "             _id  ...       editors distributors nb_players age_required  \\\n",
       "0  marvel-united  ...  CMON Limited          NaN        1-4        14-99   \n",
       "1      mariposas  ...       Gigamic          NaN        2-5        14-99   \n",
       "\n",
       "  duration enfant  ado  adulte  solo  multi  \n",
       "0     45.0      0    1       1     1      1  \n",
       "1     60.0      0    1       1     0      1  \n",
       "\n",
       "[2 rows x 22 columns]"
      ]
     },
     "execution_count": 2,
     "metadata": {},
     "output_type": "execute_result"
    }
   ],
   "source": [
    "df_jeux = pd.read_csv(\"../data/details_desc.csv\")\n",
    "df_jeux.head(2)"
   ]
  },
  {
   "cell_type": "code",
   "execution_count": 3,
   "metadata": {},
   "outputs": [
    {
     "data": {
      "text/html": [
       "<div>\n",
       "<style scoped>\n",
       "    .dataframe tbody tr th:only-of-type {\n",
       "        vertical-align: middle;\n",
       "    }\n",
       "\n",
       "    .dataframe tbody tr th {\n",
       "        vertical-align: top;\n",
       "    }\n",
       "\n",
       "    .dataframe thead th {\n",
       "        text-align: right;\n",
       "    }\n",
       "</style>\n",
       "<table border=\"1\" class=\"dataframe\">\n",
       "  <thead>\n",
       "    <tr style=\"text-align: right;\">\n",
       "      <th></th>\n",
       "      <th>comment</th>\n",
       "      <th>date_published</th>\n",
       "      <th>title_review</th>\n",
       "      <th>title</th>\n",
       "      <th>note</th>\n",
       "      <th>author</th>\n",
       "      <th>treated</th>\n",
       "      <th>title_id_jeu</th>\n",
       "    </tr>\n",
       "  </thead>\n",
       "  <tbody>\n",
       "    <tr>\n",
       "      <th>0</th>\n",
       "      <td>Lorsque le jeu est jeu, bon, réflexif, joli po...</td>\n",
       "      <td>2021</td>\n",
       "      <td>Voyages sur les ailes des papillons</td>\n",
       "      <td>Mariposas</td>\n",
       "      <td>8.0</td>\n",
       "      <td>Monsieur Guillaume</td>\n",
       "      <td>True</td>\n",
       "      <td>mariposas</td>\n",
       "    </tr>\n",
       "    <tr>\n",
       "      <th>1</th>\n",
       "      <td>Comment continuer après un mega hit ? Simpleme...</td>\n",
       "      <td>2020</td>\n",
       "      <td>le festival de Michoacan</td>\n",
       "      <td>Mariposas</td>\n",
       "      <td>7.0</td>\n",
       "      <td>morlockbob</td>\n",
       "      <td>True</td>\n",
       "      <td>mariposas</td>\n",
       "    </tr>\n",
       "  </tbody>\n",
       "</table>\n",
       "</div>"
      ],
      "text/plain": [
       "                                             comment  date_published  \\\n",
       "0  Lorsque le jeu est jeu, bon, réflexif, joli po...            2021   \n",
       "1  Comment continuer après un mega hit ? Simpleme...            2020   \n",
       "\n",
       "                          title_review      title  note              author  \\\n",
       "0  Voyages sur les ailes des papillons  Mariposas   8.0  Monsieur Guillaume   \n",
       "1             le festival de Michoacan  Mariposas   7.0          morlockbob   \n",
       "\n",
       "   treated title_id_jeu  \n",
       "0     True    mariposas  \n",
       "1     True    mariposas  "
      ]
     },
     "execution_count": 3,
     "metadata": {},
     "output_type": "execute_result"
    }
   ],
   "source": [
    "df_avis = pd.read_csv(\"../data/avis_clean.csv\")\n",
    "df_avis.head(2)"
   ]
  },
  {
   "cell_type": "code",
   "execution_count": 4,
   "metadata": {},
   "outputs": [
    {
     "name": "stdout",
     "output_type": "stream",
     "text": [
      "0.07667376926719226 % des éléments sont non nuls\n"
     ]
    }
   ],
   "source": [
    "users = df_avis['author'].unique()\n",
    "games = df_jeux['_id'].unique()\n",
    "nombre_zeros = len(df_avis) / (len(users) * len(games))\n",
    "print(nombre_zeros*100, \"% des éléments sont non nuls\")"
   ]
  },
  {
   "attachments": {},
   "cell_type": "markdown",
   "metadata": {},
   "source": [
    "## Statistiques"
   ]
  },
  {
   "cell_type": "code",
   "execution_count": 5,
   "metadata": {},
   "outputs": [
    {
     "name": "stdout",
     "output_type": "stream",
     "text": [
      "Il y a 13623 utilisateurs et 16873 jeux\n"
     ]
    }
   ],
   "source": [
    "nb_users = len(users)\n",
    "nb_jeux = len(games)\n",
    "\n",
    "print(f\"Il y a {nb_users} utilisateurs et {nb_jeux} jeux\")"
   ]
  },
  {
   "cell_type": "code",
   "execution_count": 6,
   "metadata": {},
   "outputs": [
    {
     "data": {
      "text/plain": [
       "count    176243.000000\n",
       "mean          7.478046\n",
       "std           2.171968\n",
       "min           0.000000\n",
       "25%           6.000000\n",
       "50%           8.000000\n",
       "75%           9.300000\n",
       "max          10.000000\n",
       "Name: note, dtype: float64"
      ]
     },
     "execution_count": 6,
     "metadata": {},
     "output_type": "execute_result"
    }
   ],
   "source": [
    "df_avis[\"note\"].describe()"
   ]
  },
  {
   "cell_type": "code",
   "execution_count": 7,
   "metadata": {},
   "outputs": [
    {
     "data": {
      "text/plain": [
       "<AxesSubplot:xlabel='note', ylabel='Density'>"
      ]
     },
     "execution_count": 7,
     "metadata": {},
     "output_type": "execute_result"
    },
    {
     "data": {
      "image/png": "[encoded data removed]",
      "text/plain": [
       "<Figure size 432x288 with 1 Axes>"
      ]
     },
     "metadata": {
      "needs_background": "light"
     },
     "output_type": "display_data"
    }
   ],
   "source": [
    "sns.distplot(df_avis[\"note\"])   "
   ]
  },
  {
   "attachments": {},
   "cell_type": "markdown",
   "metadata": {},
   "source": [
    "Distribution par utilisateur"
   ]
  },
  {
   "cell_type": "code",
   "execution_count": 8,
   "metadata": {},
   "outputs": [
    {
     "data": {
      "text/plain": [
       "<AxesSubplot:xlabel='note', ylabel='Density'>"
      ]
     },
     "execution_count": 8,
     "metadata": {},
     "output_type": "execute_result"
    },
    {
     "data": {
      "image/png": "[encoded data removed]",
      "text/plain": [
       "<Figure size 432x288 with 1 Axes>"
      ]
     },
     "metadata": {
      "needs_background": "light"
     },
     "output_type": "display_data"
    }
   ],
   "source": [
    "user_means = df_avis.groupby(\"author\")[\"note\"].mean()\n",
    "sns.distplot(user_means)"
   ]
  },
  {
   "attachments": {},
   "cell_type": "markdown",
   "metadata": {},
   "source": [
    "Distribution par jeu"
   ]
  },
  {
   "cell_type": "code",
   "execution_count": 9,
   "metadata": {},
   "outputs": [
    {
     "data": {
      "text/plain": [
       "<AxesSubplot:xlabel='note', ylabel='Density'>"
      ]
     },
     "execution_count": 9,
     "metadata": {},
     "output_type": "execute_result"
    },
    {
     "data": {
      "image/png": "[encoded data removed]",
      "text/plain": [
       "<Figure size 432x288 with 1 Axes>"
      ]
     },
     "metadata": {
      "needs_background": "light"
     },
     "output_type": "display_data"
    }
   ],
   "source": [
    "item_means = df_avis.groupby(\"title_id_jeu\")[\"note\"].mean()\n",
    "sns.distplot(item_means)"
   ]
  },
  {
   "attachments": {},
   "cell_type": "markdown",
   "metadata": {},
   "source": [
    "Vérification que chaque author n'a donné qu'un seul avis pour un jeu donné : "
   ]
  },
  {
   "cell_type": "code",
   "execution_count": 10,
   "metadata": {},
   "outputs": [],
   "source": [
    "for i in df_avis.groupby(['author', 'title_id_jeu']):\n",
    "    if len(i[1]) > 1:\n",
    "        print(\"Duplicated author and title\")\n",
    "        break"
   ]
  },
  {
   "attachments": {},
   "cell_type": "markdown",
   "metadata": {},
   "source": [
    "Finalement il n'y a pas de doublons"
   ]
  },
  {
   "attachments": {},
   "cell_type": "markdown",
   "metadata": {},
   "source": [
    "## Collaborative filtering"
   ]
  },
  {
   "cell_type": "code",
   "execution_count": 11,
   "metadata": {},
   "outputs": [],
   "source": [
    "nb_avis_min = 5"
   ]
  },
  {
   "cell_type": "code",
   "execution_count": 12,
   "metadata": {},
   "outputs": [
    {
     "data": {
      "text/plain": [
       "<AxesSubplot:xlabel='note', ylabel='Density'>"
      ]
     },
     "execution_count": 12,
     "metadata": {},
     "output_type": "execute_result"
    },
    {
     "data": {
      "image/png": "[encoded data removed]",
      "text/plain": [
       "<Figure size 432x288 with 1 Axes>"
      ]
     },
     "metadata": {
      "needs_background": "light"
     },
     "output_type": "display_data"
    }
   ],
   "source": [
    "users, count_users = np.unique(df_avis[\"author\"],return_counts=True)\n",
    "g_users = df_avis.groupby(\"author\")[\"note\"].mean()\n",
    "users_filtred = users[count_users < nb_avis_min]\n",
    "sns.distplot(g_users[users_filtred])"
   ]
  },
  {
   "cell_type": "code",
   "execution_count": 13,
   "metadata": {},
   "outputs": [],
   "source": [
    "index_df_filter = np.isin(df_avis[\"author\"], users_filtred)"
   ]
  },
  {
   "cell_type": "code",
   "execution_count": 14,
   "metadata": {},
   "outputs": [
    {
     "name": "stdout",
     "output_type": "stream",
     "text": [
      "On a eliminer 34.51515818835792 % des utilisateurs\n",
      "On a eliminer 8.461045261372083 % des avis\n"
     ]
    }
   ],
   "source": [
    "print(\"On a eliminer\", 100 * (len(users) - len(users_filtred)) / len(users), \"% des utilisateurs\")\n",
    "print(\"On a eliminer\", 100 * index_df_filter.sum() / len(df_avis), \"% des avis\")"
   ]
  },
  {
   "cell_type": "code",
   "execution_count": 15,
   "metadata": {},
   "outputs": [],
   "source": [
    "df_avis_filter = df_avis[index_df_filter][['author', 'title_id_jeu', 'note']]"
   ]
  },
  {
   "cell_type": "code",
   "execution_count": 16,
   "metadata": {},
   "outputs": [],
   "source": [
    "train_ratings, test_ratings = train_test_split(df_avis_filter, test_size=0.2)"
   ]
  },
  {
   "cell_type": "code",
   "execution_count": 17,
   "metadata": {},
   "outputs": [],
   "source": [
    "data = Dataset.load_from_df(train_ratings, Reader(rating_scale=(0, 10)))"
   ]
  },
  {
   "attachments": {},
   "cell_type": "markdown",
   "metadata": {},
   "source": [
    "### Baseline algorithm"
   ]
  },
  {
   "cell_type": "code",
   "execution_count": 18,
   "metadata": {},
   "outputs": [
    {
     "name": "stdout",
     "output_type": "stream",
     "text": [
      "Estimating biases using als...\n"
     ]
    },
    {
     "data": {
      "text/plain": [
       "<surprise.prediction_algorithms.baseline_only.BaselineOnly at 0x7fbc765812e0>"
      ]
     },
     "execution_count": 18,
     "metadata": {},
     "output_type": "execute_result"
    }
   ],
   "source": [
    "bs_model = BaselineOnly()\n",
    "bs_model.fit(data.build_full_trainset())"
   ]
  },
  {
   "cell_type": "code",
   "execution_count": 19,
   "metadata": {},
   "outputs": [
    {
     "data": {
      "text/html": [
       "<div>\n",
       "<style scoped>\n",
       "    .dataframe tbody tr th:only-of-type {\n",
       "        vertical-align: middle;\n",
       "    }\n",
       "\n",
       "    .dataframe tbody tr th {\n",
       "        vertical-align: top;\n",
       "    }\n",
       "\n",
       "    .dataframe thead th {\n",
       "        text-align: right;\n",
       "    }\n",
       "</style>\n",
       "<table border=\"1\" class=\"dataframe\">\n",
       "  <thead>\n",
       "    <tr style=\"text-align: right;\">\n",
       "      <th></th>\n",
       "      <th>author</th>\n",
       "      <th>title_id_jeu</th>\n",
       "      <th>note</th>\n",
       "      <th>baseline_pred</th>\n",
       "    </tr>\n",
       "  </thead>\n",
       "  <tbody>\n",
       "    <tr>\n",
       "      <th>44504</th>\n",
       "      <td>tassin</td>\n",
       "      <td>zombie-15</td>\n",
       "      <td>10.0</td>\n",
       "      <td>8.679033</td>\n",
       "    </tr>\n",
       "    <tr>\n",
       "      <th>89955</th>\n",
       "      <td>Alienor39</td>\n",
       "      <td>logik-ville</td>\n",
       "      <td>8.0</td>\n",
       "      <td>8.286588</td>\n",
       "    </tr>\n",
       "    <tr>\n",
       "      <th>70192</th>\n",
       "      <td>Nanana</td>\n",
       "      <td>smash-up</td>\n",
       "      <td>9.6</td>\n",
       "      <td>8.296405</td>\n",
       "    </tr>\n",
       "    <tr>\n",
       "      <th>129756</th>\n",
       "      <td>SeamSeam</td>\n",
       "      <td>tomahawk</td>\n",
       "      <td>8.0</td>\n",
       "      <td>7.963158</td>\n",
       "    </tr>\n",
       "    <tr>\n",
       "      <th>174062</th>\n",
       "      <td>TiDuSis</td>\n",
       "      <td>yams-yahtzee</td>\n",
       "      <td>9.2</td>\n",
       "      <td>7.744175</td>\n",
       "    </tr>\n",
       "    <tr>\n",
       "      <th>...</th>\n",
       "      <td>...</td>\n",
       "      <td>...</td>\n",
       "      <td>...</td>\n",
       "      <td>...</td>\n",
       "    </tr>\n",
       "    <tr>\n",
       "      <th>81297</th>\n",
       "      <td>Belgarion41</td>\n",
       "      <td>o-k-corral</td>\n",
       "      <td>10.0</td>\n",
       "      <td>8.016084</td>\n",
       "    </tr>\n",
       "    <tr>\n",
       "      <th>173455</th>\n",
       "      <td>le paladin</td>\n",
       "      <td>une-vie-de-chien</td>\n",
       "      <td>4.0</td>\n",
       "      <td>7.515688</td>\n",
       "    </tr>\n",
       "    <tr>\n",
       "      <th>39580</th>\n",
       "      <td>El Foko</td>\n",
       "      <td>blanc-manger-coco-1</td>\n",
       "      <td>8.6</td>\n",
       "      <td>7.052831</td>\n",
       "    </tr>\n",
       "    <tr>\n",
       "      <th>1915</th>\n",
       "      <td>Sir Arno</td>\n",
       "      <td>small-world-of-warcraft</td>\n",
       "      <td>8.0</td>\n",
       "      <td>7.880993</td>\n",
       "    </tr>\n",
       "    <tr>\n",
       "      <th>8300</th>\n",
       "      <td>Aaricia-Thorgal</td>\n",
       "      <td>immortal-8</td>\n",
       "      <td>4.7</td>\n",
       "      <td>8.515892</td>\n",
       "    </tr>\n",
       "  </tbody>\n",
       "</table>\n",
       "<p>2983 rows × 4 columns</p>\n",
       "</div>"
      ],
      "text/plain": [
       "                 author             title_id_jeu  note  baseline_pred\n",
       "44504            tassin                zombie-15  10.0       8.679033\n",
       "89955         Alienor39              logik-ville   8.0       8.286588\n",
       "70192            Nanana                 smash-up   9.6       8.296405\n",
       "129756         SeamSeam                 tomahawk   8.0       7.963158\n",
       "174062          TiDuSis             yams-yahtzee   9.2       7.744175\n",
       "...                 ...                      ...   ...            ...\n",
       "81297       Belgarion41               o-k-corral  10.0       8.016084\n",
       "173455       le paladin         une-vie-de-chien   4.0       7.515688\n",
       "39580           El Foko      blanc-manger-coco-1   8.6       7.052831\n",
       "1915           Sir Arno  small-world-of-warcraft   8.0       7.880993\n",
       "8300    Aaricia-Thorgal               immortal-8   4.7       8.515892\n",
       "\n",
       "[2983 rows x 4 columns]"
      ]
     },
     "execution_count": 19,
     "metadata": {},
     "output_type": "execute_result"
    }
   ],
   "source": [
    "test_ratings[\"baseline_pred\"] = test_ratings.apply(lambda u_item : prediction.model_pred(bs_model, u_item), axis=1)\n",
    "test_ratings"
   ]
  },
  {
   "attachments": {},
   "cell_type": "markdown",
   "metadata": {},
   "source": [
    "### SVD algorithm"
   ]
  },
  {
   "attachments": {},
   "cell_type": "markdown",
   "metadata": {},
   "source": [
    "Par défaut dans SVD n_factors (Z) est à 100 et n_epoch est à 20\n",
    "On va chercher une valeur optimale pour les deux en utilisant GridSearchCV"
   ]
  },
  {
   "cell_type": "code",
   "execution_count": 20,
   "metadata": {},
   "outputs": [
    {
     "name": "stdout",
     "output_type": "stream",
     "text": [
      "{'n_factors': 50}\n"
     ]
    },
    {
     "data": {
      "image/png": "[encoded data removed]",
      "text/plain": [
       "<Figure size 432x288 with 1 Axes>"
      ]
     },
     "metadata": {
      "needs_background": "light"
     },
     "output_type": "display_data"
    },
    {
     "data": {
      "text/html": [
       "<div>\n",
       "<style scoped>\n",
       "    .dataframe tbody tr th:only-of-type {\n",
       "        vertical-align: middle;\n",
       "    }\n",
       "\n",
       "    .dataframe tbody tr th {\n",
       "        vertical-align: top;\n",
       "    }\n",
       "\n",
       "    .dataframe thead th {\n",
       "        text-align: right;\n",
       "    }\n",
       "</style>\n",
       "<table border=\"1\" class=\"dataframe\">\n",
       "  <thead>\n",
       "    <tr style=\"text-align: right;\">\n",
       "      <th></th>\n",
       "      <th>author</th>\n",
       "      <th>title_id_jeu</th>\n",
       "      <th>note</th>\n",
       "      <th>baseline_pred</th>\n",
       "      <th>svd_pred</th>\n",
       "    </tr>\n",
       "  </thead>\n",
       "  <tbody>\n",
       "    <tr>\n",
       "      <th>44504</th>\n",
       "      <td>tassin</td>\n",
       "      <td>zombie-15</td>\n",
       "      <td>10.0</td>\n",
       "      <td>8.679033</td>\n",
       "      <td>8.643086</td>\n",
       "    </tr>\n",
       "    <tr>\n",
       "      <th>89955</th>\n",
       "      <td>Alienor39</td>\n",
       "      <td>logik-ville</td>\n",
       "      <td>8.0</td>\n",
       "      <td>8.286588</td>\n",
       "      <td>8.337854</td>\n",
       "    </tr>\n",
       "    <tr>\n",
       "      <th>70192</th>\n",
       "      <td>Nanana</td>\n",
       "      <td>smash-up</td>\n",
       "      <td>9.6</td>\n",
       "      <td>8.296405</td>\n",
       "      <td>8.373634</td>\n",
       "    </tr>\n",
       "    <tr>\n",
       "      <th>129756</th>\n",
       "      <td>SeamSeam</td>\n",
       "      <td>tomahawk</td>\n",
       "      <td>8.0</td>\n",
       "      <td>7.963158</td>\n",
       "      <td>7.996275</td>\n",
       "    </tr>\n",
       "    <tr>\n",
       "      <th>174062</th>\n",
       "      <td>TiDuSis</td>\n",
       "      <td>yams-yahtzee</td>\n",
       "      <td>9.2</td>\n",
       "      <td>7.744175</td>\n",
       "      <td>7.690902</td>\n",
       "    </tr>\n",
       "    <tr>\n",
       "      <th>...</th>\n",
       "      <td>...</td>\n",
       "      <td>...</td>\n",
       "      <td>...</td>\n",
       "      <td>...</td>\n",
       "      <td>...</td>\n",
       "    </tr>\n",
       "    <tr>\n",
       "      <th>81297</th>\n",
       "      <td>Belgarion41</td>\n",
       "      <td>o-k-corral</td>\n",
       "      <td>10.0</td>\n",
       "      <td>8.016084</td>\n",
       "      <td>8.013417</td>\n",
       "    </tr>\n",
       "    <tr>\n",
       "      <th>173455</th>\n",
       "      <td>le paladin</td>\n",
       "      <td>une-vie-de-chien</td>\n",
       "      <td>4.0</td>\n",
       "      <td>7.515688</td>\n",
       "      <td>7.191909</td>\n",
       "    </tr>\n",
       "    <tr>\n",
       "      <th>39580</th>\n",
       "      <td>El Foko</td>\n",
       "      <td>blanc-manger-coco-1</td>\n",
       "      <td>8.6</td>\n",
       "      <td>7.052831</td>\n",
       "      <td>7.089574</td>\n",
       "    </tr>\n",
       "    <tr>\n",
       "      <th>1915</th>\n",
       "      <td>Sir Arno</td>\n",
       "      <td>small-world-of-warcraft</td>\n",
       "      <td>8.0</td>\n",
       "      <td>7.880993</td>\n",
       "      <td>7.775121</td>\n",
       "    </tr>\n",
       "    <tr>\n",
       "      <th>8300</th>\n",
       "      <td>Aaricia-Thorgal</td>\n",
       "      <td>immortal-8</td>\n",
       "      <td>4.7</td>\n",
       "      <td>8.515892</td>\n",
       "      <td>8.476715</td>\n",
       "    </tr>\n",
       "  </tbody>\n",
       "</table>\n",
       "<p>2983 rows × 5 columns</p>\n",
       "</div>"
      ],
      "text/plain": [
       "                 author             title_id_jeu  note  baseline_pred  \\\n",
       "44504            tassin                zombie-15  10.0       8.679033   \n",
       "89955         Alienor39              logik-ville   8.0       8.286588   \n",
       "70192            Nanana                 smash-up   9.6       8.296405   \n",
       "129756         SeamSeam                 tomahawk   8.0       7.963158   \n",
       "174062          TiDuSis             yams-yahtzee   9.2       7.744175   \n",
       "...                 ...                      ...   ...            ...   \n",
       "81297       Belgarion41               o-k-corral  10.0       8.016084   \n",
       "173455       le paladin         une-vie-de-chien   4.0       7.515688   \n",
       "39580           El Foko      blanc-manger-coco-1   8.6       7.052831   \n",
       "1915           Sir Arno  small-world-of-warcraft   8.0       7.880993   \n",
       "8300    Aaricia-Thorgal               immortal-8   4.7       8.515892   \n",
       "\n",
       "        svd_pred  \n",
       "44504   8.643086  \n",
       "89955   8.337854  \n",
       "70192   8.373634  \n",
       "129756  7.996275  \n",
       "174062  7.690902  \n",
       "...          ...  \n",
       "81297   8.013417  \n",
       "173455  7.191909  \n",
       "39580   7.089574  \n",
       "1915    7.775121  \n",
       "8300    8.476715  \n",
       "\n",
       "[2983 rows x 5 columns]"
      ]
     },
     "execution_count": 20,
     "metadata": {},
     "output_type": "execute_result"
    }
   ],
   "source": [
    "param_grid = {'n_factors':list(range(50, 401, 20))}\n",
    "\n",
    "svd_model = prediction.gs_pred(data, SVD, param_grid)\n",
    "\n",
    "test_ratings[\"svd_pred\"] = test_ratings.apply(lambda u_item : prediction.model_pred(svd_model, u_item), axis=1)\n",
    "test_ratings "
   ]
  },
  {
   "attachments": {},
   "cell_type": "markdown",
   "metadata": {},
   "source": [
    "### KNN Basic"
   ]
  },
  {
   "cell_type": "code",
   "execution_count": 21,
   "metadata": {},
   "outputs": [
    {
     "name": "stdout",
     "output_type": "stream",
     "text": [
      "{'k': 5, 'verbose': False}\n"
     ]
    },
    {
     "data": {
      "image/png": "[encoded data removed]",
      "text/plain": [
       "<Figure size 432x288 with 1 Axes>"
      ]
     },
     "metadata": {
      "needs_background": "light"
     },
     "output_type": "display_data"
    },
    {
     "data": {
      "text/html": [
       "<div>\n",
       "<style scoped>\n",
       "    .dataframe tbody tr th:only-of-type {\n",
       "        vertical-align: middle;\n",
       "    }\n",
       "\n",
       "    .dataframe tbody tr th {\n",
       "        vertical-align: top;\n",
       "    }\n",
       "\n",
       "    .dataframe thead th {\n",
       "        text-align: right;\n",
       "    }\n",
       "</style>\n",
       "<table border=\"1\" class=\"dataframe\">\n",
       "  <thead>\n",
       "    <tr style=\"text-align: right;\">\n",
       "      <th></th>\n",
       "      <th>author</th>\n",
       "      <th>title_id_jeu</th>\n",
       "      <th>note</th>\n",
       "      <th>baseline_pred</th>\n",
       "      <th>svd_pred</th>\n",
       "      <th>knnBasic_pred</th>\n",
       "    </tr>\n",
       "  </thead>\n",
       "  <tbody>\n",
       "    <tr>\n",
       "      <th>44504</th>\n",
       "      <td>tassin</td>\n",
       "      <td>zombie-15</td>\n",
       "      <td>10.0</td>\n",
       "      <td>8.679033</td>\n",
       "      <td>8.643086</td>\n",
       "      <td>8.195876</td>\n",
       "    </tr>\n",
       "    <tr>\n",
       "      <th>89955</th>\n",
       "      <td>Alienor39</td>\n",
       "      <td>logik-ville</td>\n",
       "      <td>8.0</td>\n",
       "      <td>8.286588</td>\n",
       "      <td>8.337854</td>\n",
       "      <td>8.195876</td>\n",
       "    </tr>\n",
       "    <tr>\n",
       "      <th>70192</th>\n",
       "      <td>Nanana</td>\n",
       "      <td>smash-up</td>\n",
       "      <td>9.6</td>\n",
       "      <td>8.296405</td>\n",
       "      <td>8.373634</td>\n",
       "      <td>8.195876</td>\n",
       "    </tr>\n",
       "    <tr>\n",
       "      <th>129756</th>\n",
       "      <td>SeamSeam</td>\n",
       "      <td>tomahawk</td>\n",
       "      <td>8.0</td>\n",
       "      <td>7.963158</td>\n",
       "      <td>7.996275</td>\n",
       "      <td>8.195876</td>\n",
       "    </tr>\n",
       "    <tr>\n",
       "      <th>174062</th>\n",
       "      <td>TiDuSis</td>\n",
       "      <td>yams-yahtzee</td>\n",
       "      <td>9.2</td>\n",
       "      <td>7.744175</td>\n",
       "      <td>7.690902</td>\n",
       "      <td>8.195876</td>\n",
       "    </tr>\n",
       "    <tr>\n",
       "      <th>...</th>\n",
       "      <td>...</td>\n",
       "      <td>...</td>\n",
       "      <td>...</td>\n",
       "      <td>...</td>\n",
       "      <td>...</td>\n",
       "      <td>...</td>\n",
       "    </tr>\n",
       "    <tr>\n",
       "      <th>81297</th>\n",
       "      <td>Belgarion41</td>\n",
       "      <td>o-k-corral</td>\n",
       "      <td>10.0</td>\n",
       "      <td>8.016084</td>\n",
       "      <td>8.013417</td>\n",
       "      <td>8.195876</td>\n",
       "    </tr>\n",
       "    <tr>\n",
       "      <th>173455</th>\n",
       "      <td>le paladin</td>\n",
       "      <td>une-vie-de-chien</td>\n",
       "      <td>4.0</td>\n",
       "      <td>7.515688</td>\n",
       "      <td>7.191909</td>\n",
       "      <td>8.195876</td>\n",
       "    </tr>\n",
       "    <tr>\n",
       "      <th>39580</th>\n",
       "      <td>El Foko</td>\n",
       "      <td>blanc-manger-coco-1</td>\n",
       "      <td>8.6</td>\n",
       "      <td>7.052831</td>\n",
       "      <td>7.089574</td>\n",
       "      <td>8.195876</td>\n",
       "    </tr>\n",
       "    <tr>\n",
       "      <th>1915</th>\n",
       "      <td>Sir Arno</td>\n",
       "      <td>small-world-of-warcraft</td>\n",
       "      <td>8.0</td>\n",
       "      <td>7.880993</td>\n",
       "      <td>7.775121</td>\n",
       "      <td>8.195876</td>\n",
       "    </tr>\n",
       "    <tr>\n",
       "      <th>8300</th>\n",
       "      <td>Aaricia-Thorgal</td>\n",
       "      <td>immortal-8</td>\n",
       "      <td>4.7</td>\n",
       "      <td>8.515892</td>\n",
       "      <td>8.476715</td>\n",
       "      <td>8.195876</td>\n",
       "    </tr>\n",
       "  </tbody>\n",
       "</table>\n",
       "<p>2983 rows × 6 columns</p>\n",
       "</div>"
      ],
      "text/plain": [
       "                 author             title_id_jeu  note  baseline_pred  \\\n",
       "44504            tassin                zombie-15  10.0       8.679033   \n",
       "89955         Alienor39              logik-ville   8.0       8.286588   \n",
       "70192            Nanana                 smash-up   9.6       8.296405   \n",
       "129756         SeamSeam                 tomahawk   8.0       7.963158   \n",
       "174062          TiDuSis             yams-yahtzee   9.2       7.744175   \n",
       "...                 ...                      ...   ...            ...   \n",
       "81297       Belgarion41               o-k-corral  10.0       8.016084   \n",
       "173455       le paladin         une-vie-de-chien   4.0       7.515688   \n",
       "39580           El Foko      blanc-manger-coco-1   8.6       7.052831   \n",
       "1915           Sir Arno  small-world-of-warcraft   8.0       7.880993   \n",
       "8300    Aaricia-Thorgal               immortal-8   4.7       8.515892   \n",
       "\n",
       "        svd_pred  knnBasic_pred  \n",
       "44504   8.643086       8.195876  \n",
       "89955   8.337854       8.195876  \n",
       "70192   8.373634       8.195876  \n",
       "129756  7.996275       8.195876  \n",
       "174062  7.690902       8.195876  \n",
       "...          ...            ...  \n",
       "81297   8.013417       8.195876  \n",
       "173455  7.191909       8.195876  \n",
       "39580   7.089574       8.195876  \n",
       "1915    7.775121       8.195876  \n",
       "8300    8.476715       8.195876  \n",
       "\n",
       "[2983 rows x 6 columns]"
      ]
     },
     "execution_count": 21,
     "metadata": {},
     "output_type": "execute_result"
    }
   ],
   "source": [
    "param_grid = {'k': list(range(5, 51, 2)), 'verbose': [False]}\n",
    "\n",
    "knn_pred = prediction.gs_pred(data, KNNBasic, param_grid)\n",
    "\n",
    "test_ratings[\"knnBasic_pred\"] = test_ratings.apply(lambda u_item : prediction.model_pred(knn_pred, u_item), axis=1)\n",
    "test_ratings "
   ]
  },
  {
   "attachments": {},
   "cell_type": "markdown",
   "metadata": {},
   "source": [
    "### SlopeOne"
   ]
  },
  {
   "cell_type": "code",
   "execution_count": 22,
   "metadata": {},
   "outputs": [
    {
     "data": {
      "text/plain": [
       "<surprise.prediction_algorithms.slope_one.SlopeOne at 0x7fbc72cb37c0>"
      ]
     },
     "execution_count": 22,
     "metadata": {},
     "output_type": "execute_result"
    }
   ],
   "source": [
    "slope_one_model = SlopeOne()\n",
    "slope_one_model.fit(data.build_full_trainset())"
   ]
  },
  {
   "cell_type": "code",
   "execution_count": 24,
   "metadata": {},
   "outputs": [
    {
     "data": {
      "text/html": [
       "<div>\n",
       "<style scoped>\n",
       "    .dataframe tbody tr th:only-of-type {\n",
       "        vertical-align: middle;\n",
       "    }\n",
       "\n",
       "    .dataframe tbody tr th {\n",
       "        vertical-align: top;\n",
       "    }\n",
       "\n",
       "    .dataframe thead th {\n",
       "        text-align: right;\n",
       "    }\n",
       "</style>\n",
       "<table border=\"1\" class=\"dataframe\">\n",
       "  <thead>\n",
       "    <tr style=\"text-align: right;\">\n",
       "      <th></th>\n",
       "      <th>author</th>\n",
       "      <th>title_id_jeu</th>\n",
       "      <th>note</th>\n",
       "      <th>baseline_pred</th>\n",
       "      <th>svd_pred</th>\n",
       "      <th>knnBasic_pred</th>\n",
       "      <th>slopeOne_pred</th>\n",
       "    </tr>\n",
       "  </thead>\n",
       "  <tbody>\n",
       "    <tr>\n",
       "      <th>44504</th>\n",
       "      <td>tassin</td>\n",
       "      <td>zombie-15</td>\n",
       "      <td>10.0</td>\n",
       "      <td>8.679033</td>\n",
       "      <td>8.643086</td>\n",
       "      <td>8.195876</td>\n",
       "      <td>10.000000</td>\n",
       "    </tr>\n",
       "    <tr>\n",
       "      <th>89955</th>\n",
       "      <td>Alienor39</td>\n",
       "      <td>logik-ville</td>\n",
       "      <td>8.0</td>\n",
       "      <td>8.286588</td>\n",
       "      <td>8.337854</td>\n",
       "      <td>8.195876</td>\n",
       "      <td>10.000000</td>\n",
       "    </tr>\n",
       "    <tr>\n",
       "      <th>70192</th>\n",
       "      <td>Nanana</td>\n",
       "      <td>smash-up</td>\n",
       "      <td>9.6</td>\n",
       "      <td>8.296405</td>\n",
       "      <td>8.373634</td>\n",
       "      <td>8.195876</td>\n",
       "      <td>8.250000</td>\n",
       "    </tr>\n",
       "    <tr>\n",
       "      <th>129756</th>\n",
       "      <td>SeamSeam</td>\n",
       "      <td>tomahawk</td>\n",
       "      <td>8.0</td>\n",
       "      <td>7.963158</td>\n",
       "      <td>7.996275</td>\n",
       "      <td>8.195876</td>\n",
       "      <td>10.000000</td>\n",
       "    </tr>\n",
       "    <tr>\n",
       "      <th>174062</th>\n",
       "      <td>TiDuSis</td>\n",
       "      <td>yams-yahtzee</td>\n",
       "      <td>9.2</td>\n",
       "      <td>7.744175</td>\n",
       "      <td>7.690902</td>\n",
       "      <td>8.195876</td>\n",
       "      <td>8.350000</td>\n",
       "    </tr>\n",
       "    <tr>\n",
       "      <th>...</th>\n",
       "      <td>...</td>\n",
       "      <td>...</td>\n",
       "      <td>...</td>\n",
       "      <td>...</td>\n",
       "      <td>...</td>\n",
       "      <td>...</td>\n",
       "      <td>...</td>\n",
       "    </tr>\n",
       "    <tr>\n",
       "      <th>81297</th>\n",
       "      <td>Belgarion41</td>\n",
       "      <td>o-k-corral</td>\n",
       "      <td>10.0</td>\n",
       "      <td>8.016084</td>\n",
       "      <td>8.013417</td>\n",
       "      <td>8.195876</td>\n",
       "      <td>8.195876</td>\n",
       "    </tr>\n",
       "    <tr>\n",
       "      <th>173455</th>\n",
       "      <td>le paladin</td>\n",
       "      <td>une-vie-de-chien</td>\n",
       "      <td>4.0</td>\n",
       "      <td>7.515688</td>\n",
       "      <td>7.191909</td>\n",
       "      <td>8.195876</td>\n",
       "      <td>4.000000</td>\n",
       "    </tr>\n",
       "    <tr>\n",
       "      <th>39580</th>\n",
       "      <td>El Foko</td>\n",
       "      <td>blanc-manger-coco-1</td>\n",
       "      <td>8.6</td>\n",
       "      <td>7.052831</td>\n",
       "      <td>7.089574</td>\n",
       "      <td>8.195876</td>\n",
       "      <td>10.000000</td>\n",
       "    </tr>\n",
       "    <tr>\n",
       "      <th>1915</th>\n",
       "      <td>Sir Arno</td>\n",
       "      <td>small-world-of-warcraft</td>\n",
       "      <td>8.0</td>\n",
       "      <td>7.880993</td>\n",
       "      <td>7.775121</td>\n",
       "      <td>8.195876</td>\n",
       "      <td>5.000000</td>\n",
       "    </tr>\n",
       "    <tr>\n",
       "      <th>8300</th>\n",
       "      <td>Aaricia-Thorgal</td>\n",
       "      <td>immortal-8</td>\n",
       "      <td>4.7</td>\n",
       "      <td>8.515892</td>\n",
       "      <td>8.476715</td>\n",
       "      <td>8.195876</td>\n",
       "      <td>6.200000</td>\n",
       "    </tr>\n",
       "  </tbody>\n",
       "</table>\n",
       "<p>2983 rows × 7 columns</p>\n",
       "</div>"
      ],
      "text/plain": [
       "                 author             title_id_jeu  note  baseline_pred  \\\n",
       "44504            tassin                zombie-15  10.0       8.679033   \n",
       "89955         Alienor39              logik-ville   8.0       8.286588   \n",
       "70192            Nanana                 smash-up   9.6       8.296405   \n",
       "129756         SeamSeam                 tomahawk   8.0       7.963158   \n",
       "174062          TiDuSis             yams-yahtzee   9.2       7.744175   \n",
       "...                 ...                      ...   ...            ...   \n",
       "81297       Belgarion41               o-k-corral  10.0       8.016084   \n",
       "173455       le paladin         une-vie-de-chien   4.0       7.515688   \n",
       "39580           El Foko      blanc-manger-coco-1   8.6       7.052831   \n",
       "1915           Sir Arno  small-world-of-warcraft   8.0       7.880993   \n",
       "8300    Aaricia-Thorgal               immortal-8   4.7       8.515892   \n",
       "\n",
       "        svd_pred  knnBasic_pred  slopeOne_pred  \n",
       "44504   8.643086       8.195876      10.000000  \n",
       "89955   8.337854       8.195876      10.000000  \n",
       "70192   8.373634       8.195876       8.250000  \n",
       "129756  7.996275       8.195876      10.000000  \n",
       "174062  7.690902       8.195876       8.350000  \n",
       "...          ...            ...            ...  \n",
       "81297   8.013417       8.195876       8.195876  \n",
       "173455  7.191909       8.195876       4.000000  \n",
       "39580   7.089574       8.195876      10.000000  \n",
       "1915    7.775121       8.195876       5.000000  \n",
       "8300    8.476715       8.195876       6.200000  \n",
       "\n",
       "[2983 rows x 7 columns]"
      ]
     },
     "execution_count": 24,
     "metadata": {},
     "output_type": "execute_result"
    }
   ],
   "source": [
    "test_ratings[\"slopeOne_pred\"] = test_ratings.apply(lambda u_item : prediction.model_pred(slope_one_model, u_item), axis=1)\n",
    "test_ratings "
   ]
  },
  {
   "attachments": {},
   "cell_type": "markdown",
   "metadata": {},
   "source": [
    "### SVD ++"
   ]
  },
  {
   "cell_type": "code",
   "execution_count": 25,
   "metadata": {},
   "outputs": [
    {
     "name": "stdout",
     "output_type": "stream",
     "text": [
      "{'n_factors': 50}\n"
     ]
    },
    {
     "data": {
      "image/png": "[encoded data removed]",
      "text/plain": [
       "<Figure size 432x288 with 1 Axes>"
      ]
     },
     "metadata": {
      "needs_background": "light"
     },
     "output_type": "display_data"
    },
    {
     "data": {
      "text/html": [
       "<div>\n",
       "<style scoped>\n",
       "    .dataframe tbody tr th:only-of-type {\n",
       "        vertical-align: middle;\n",
       "    }\n",
       "\n",
       "    .dataframe tbody tr th {\n",
       "        vertical-align: top;\n",
       "    }\n",
       "\n",
       "    .dataframe thead th {\n",
       "        text-align: right;\n",
       "    }\n",
       "</style>\n",
       "<table border=\"1\" class=\"dataframe\">\n",
       "  <thead>\n",
       "    <tr style=\"text-align: right;\">\n",
       "      <th></th>\n",
       "      <th>author</th>\n",
       "      <th>title_id_jeu</th>\n",
       "      <th>note</th>\n",
       "      <th>baseline_pred</th>\n",
       "      <th>svd_pred</th>\n",
       "      <th>knnBasic_pred</th>\n",
       "      <th>slopeOne_pred</th>\n",
       "      <th>svdpp_pred</th>\n",
       "    </tr>\n",
       "  </thead>\n",
       "  <tbody>\n",
       "    <tr>\n",
       "      <th>44504</th>\n",
       "      <td>tassin</td>\n",
       "      <td>zombie-15</td>\n",
       "      <td>10.0</td>\n",
       "      <td>8.679033</td>\n",
       "      <td>8.643086</td>\n",
       "      <td>8.195876</td>\n",
       "      <td>10.000000</td>\n",
       "      <td>8.418999</td>\n",
       "    </tr>\n",
       "    <tr>\n",
       "      <th>89955</th>\n",
       "      <td>Alienor39</td>\n",
       "      <td>logik-ville</td>\n",
       "      <td>8.0</td>\n",
       "      <td>8.286588</td>\n",
       "      <td>8.337854</td>\n",
       "      <td>8.195876</td>\n",
       "      <td>10.000000</td>\n",
       "      <td>8.440872</td>\n",
       "    </tr>\n",
       "    <tr>\n",
       "      <th>70192</th>\n",
       "      <td>Nanana</td>\n",
       "      <td>smash-up</td>\n",
       "      <td>9.6</td>\n",
       "      <td>8.296405</td>\n",
       "      <td>8.373634</td>\n",
       "      <td>8.195876</td>\n",
       "      <td>8.250000</td>\n",
       "      <td>8.123372</td>\n",
       "    </tr>\n",
       "    <tr>\n",
       "      <th>129756</th>\n",
       "      <td>SeamSeam</td>\n",
       "      <td>tomahawk</td>\n",
       "      <td>8.0</td>\n",
       "      <td>7.963158</td>\n",
       "      <td>7.996275</td>\n",
       "      <td>8.195876</td>\n",
       "      <td>10.000000</td>\n",
       "      <td>7.906459</td>\n",
       "    </tr>\n",
       "    <tr>\n",
       "      <th>174062</th>\n",
       "      <td>TiDuSis</td>\n",
       "      <td>yams-yahtzee</td>\n",
       "      <td>9.2</td>\n",
       "      <td>7.744175</td>\n",
       "      <td>7.690902</td>\n",
       "      <td>8.195876</td>\n",
       "      <td>8.350000</td>\n",
       "      <td>7.684373</td>\n",
       "    </tr>\n",
       "    <tr>\n",
       "      <th>...</th>\n",
       "      <td>...</td>\n",
       "      <td>...</td>\n",
       "      <td>...</td>\n",
       "      <td>...</td>\n",
       "      <td>...</td>\n",
       "      <td>...</td>\n",
       "      <td>...</td>\n",
       "      <td>...</td>\n",
       "    </tr>\n",
       "    <tr>\n",
       "      <th>81297</th>\n",
       "      <td>Belgarion41</td>\n",
       "      <td>o-k-corral</td>\n",
       "      <td>10.0</td>\n",
       "      <td>8.016084</td>\n",
       "      <td>8.013417</td>\n",
       "      <td>8.195876</td>\n",
       "      <td>8.195876</td>\n",
       "      <td>7.986905</td>\n",
       "    </tr>\n",
       "    <tr>\n",
       "      <th>173455</th>\n",
       "      <td>le paladin</td>\n",
       "      <td>une-vie-de-chien</td>\n",
       "      <td>4.0</td>\n",
       "      <td>7.515688</td>\n",
       "      <td>7.191909</td>\n",
       "      <td>8.195876</td>\n",
       "      <td>4.000000</td>\n",
       "      <td>7.035275</td>\n",
       "    </tr>\n",
       "    <tr>\n",
       "      <th>39580</th>\n",
       "      <td>El Foko</td>\n",
       "      <td>blanc-manger-coco-1</td>\n",
       "      <td>8.6</td>\n",
       "      <td>7.052831</td>\n",
       "      <td>7.089574</td>\n",
       "      <td>8.195876</td>\n",
       "      <td>10.000000</td>\n",
       "      <td>6.848949</td>\n",
       "    </tr>\n",
       "    <tr>\n",
       "      <th>1915</th>\n",
       "      <td>Sir Arno</td>\n",
       "      <td>small-world-of-warcraft</td>\n",
       "      <td>8.0</td>\n",
       "      <td>7.880993</td>\n",
       "      <td>7.775121</td>\n",
       "      <td>8.195876</td>\n",
       "      <td>5.000000</td>\n",
       "      <td>7.961850</td>\n",
       "    </tr>\n",
       "    <tr>\n",
       "      <th>8300</th>\n",
       "      <td>Aaricia-Thorgal</td>\n",
       "      <td>immortal-8</td>\n",
       "      <td>4.7</td>\n",
       "      <td>8.515892</td>\n",
       "      <td>8.476715</td>\n",
       "      <td>8.195876</td>\n",
       "      <td>6.200000</td>\n",
       "      <td>8.725424</td>\n",
       "    </tr>\n",
       "  </tbody>\n",
       "</table>\n",
       "<p>2983 rows × 8 columns</p>\n",
       "</div>"
      ],
      "text/plain": [
       "                 author             title_id_jeu  note  baseline_pred  \\\n",
       "44504            tassin                zombie-15  10.0       8.679033   \n",
       "89955         Alienor39              logik-ville   8.0       8.286588   \n",
       "70192            Nanana                 smash-up   9.6       8.296405   \n",
       "129756         SeamSeam                 tomahawk   8.0       7.963158   \n",
       "174062          TiDuSis             yams-yahtzee   9.2       7.744175   \n",
       "...                 ...                      ...   ...            ...   \n",
       "81297       Belgarion41               o-k-corral  10.0       8.016084   \n",
       "173455       le paladin         une-vie-de-chien   4.0       7.515688   \n",
       "39580           El Foko      blanc-manger-coco-1   8.6       7.052831   \n",
       "1915           Sir Arno  small-world-of-warcraft   8.0       7.880993   \n",
       "8300    Aaricia-Thorgal               immortal-8   4.7       8.515892   \n",
       "\n",
       "        svd_pred  knnBasic_pred  slopeOne_pred  svdpp_pred  \n",
       "44504   8.643086       8.195876      10.000000    8.418999  \n",
       "89955   8.337854       8.195876      10.000000    8.440872  \n",
       "70192   8.373634       8.195876       8.250000    8.123372  \n",
       "129756  7.996275       8.195876      10.000000    7.906459  \n",
       "174062  7.690902       8.195876       8.350000    7.684373  \n",
       "...          ...            ...            ...         ...  \n",
       "81297   8.013417       8.195876       8.195876    7.986905  \n",
       "173455  7.191909       8.195876       4.000000    7.035275  \n",
       "39580   7.089574       8.195876      10.000000    6.848949  \n",
       "1915    7.775121       8.195876       5.000000    7.961850  \n",
       "8300    8.476715       8.195876       6.200000    8.725424  \n",
       "\n",
       "[2983 rows x 8 columns]"
      ]
     },
     "execution_count": 25,
     "metadata": {},
     "output_type": "execute_result"
    }
   ],
   "source": [
    "param_grid = {'n_factors':list(range(50, 401, 20))}\n",
    "\n",
    "svdpp_model = prediction.gs_pred(data, SVDpp, param_grid)\n",
    "\n",
    "test_ratings[\"svdpp_pred\"] = test_ratings.apply(lambda u_item : prediction.model_pred(svdpp_model, u_item), axis=1)\n",
    "test_ratings "
   ]
  },
  {
   "attachments": {},
   "cell_type": "markdown",
   "metadata": {},
   "source": [
    "### Meilleur algo au sens des MSE"
   ]
  },
  {
   "cell_type": "code",
   "execution_count": 28,
   "metadata": {},
   "outputs": [],
   "source": [
    "def mse(predictions,truth):\n",
    "    return ((predictions - truth)**2).mean()"
   ]
  },
  {
   "cell_type": "code",
   "execution_count": 29,
   "metadata": {},
   "outputs": [
    {
     "data": {
      "text/plain": [
       "{'baseline': 5.043114374884152,\n",
       " 'svd': 5.017238886403862,\n",
       " 'knnBasic': 5.426139275229268,\n",
       " 'slopeOne': 6.389332709833077,\n",
       " 'svdpp': 5.018897637662299}"
      ]
     },
     "execution_count": 29,
     "metadata": {},
     "output_type": "execute_result"
    }
   ],
   "source": [
    "results = {}\n",
    "\n",
    "results[\"baseline\"] = mse(test_ratings[\"baseline_pred\"], test_ratings[\"note\"])\n",
    "results[\"svd\"] = mse(test_ratings[\"svd_pred\"], test_ratings[\"note\"])\n",
    "results[\"knnBasic\"] = mse(test_ratings[\"knnBasic_pred\"], test_ratings[\"note\"])\n",
    "results[\"slopeOne\"] = mse(test_ratings[\"slopeOne_pred\"], test_ratings[\"note\"])\n",
    "results[\"svdpp\"] = mse(test_ratings[\"svdpp_pred\"], test_ratings[\"note\"])\n",
    "\n",
    "results"
   ]
  },
  {
   "cell_type": "code",
   "execution_count": 35,
   "metadata": {},
   "outputs": [
    {
     "name": "stdout",
     "output_type": "stream",
     "text": [
      "L'algorithme qui minimise la mse est : svd avec une valeur de 5.017238886403862\n"
     ]
    }
   ],
   "source": [
    "algo_min = min(results, key=results.get)\n",
    "print(\"L'algorithme qui minimise la mse est :\", algo_min, \"avec une valeur de\", results[algo_min])"
   ]
  },
  {
   "attachments": {},
   "cell_type": "markdown",
   "metadata": {},
   "source": [
    "## Création d'un systeme de recommandation pour un utlisateur :"
   ]
  },
  {
   "cell_type": "code",
   "execution_count": 62,
   "metadata": {},
   "outputs": [],
   "source": [
    "def basic_recommand_games(model, user, games, df, nb_games=3):\n",
    "    scores = []\n",
    "    \n",
    "    user_games = list(df[df[\"author\"] == user][\"title_id_jeu\"])\n",
    "    \n",
    "    for game in games:\n",
    "        if game in user_games:\n",
    "            scores.append(0)\n",
    "            continue\n",
    "        \n",
    "        prediction = model.predict(user, game)\n",
    "        scores.append(prediction.est)\n",
    "    \n",
    "    scores = np.array(scores)\n",
    "    i_sort = np.argsort(-scores)\n",
    "    return games[i_sort[:nb_games]]\n",
    "        "
   ]
  },
  {
   "cell_type": "code",
   "execution_count": 63,
   "metadata": {},
   "outputs": [
    {
     "data": {
      "text/plain": [
       "array(['yamatai', 'android-netrunner-das-kartenspiel',\n",
       "       'conflict-of-heroes-le-reveil-de-l-ours'], dtype=object)"
      ]
     },
     "execution_count": 63,
     "metadata": {},
     "output_type": "execute_result"
    }
   ],
   "source": [
    "basic_recommand_games(svd_model, \"prunelles\", games, df_avis)"
   ]
  },
  {
   "cell_type": "code",
   "execution_count": 65,
   "metadata": {},
   "outputs": [
    {
     "data": {
      "text/plain": [
       "array(['conflict-of-heroes-le-reveil-de-l-ours', 'yamatai',\n",
       "       'android-netrunner-das-kartenspiel'], dtype=object)"
      ]
     },
     "execution_count": 65,
     "metadata": {},
     "output_type": "execute_result"
    }
   ],
   "source": [
    "basic_recommand_games(bs_model, \"prunelles\", games, df_avis)"
   ]
  },
  {
   "cell_type": "code",
   "execution_count": 66,
   "metadata": {},
   "outputs": [
    {
     "data": {
      "text/plain": [
       "array(['porta-nigra-0', 'conflict-of-heroes-le-reveil-de-l-ours',\n",
       "       'yamatai'], dtype=object)"
      ]
     },
     "execution_count": 66,
     "metadata": {},
     "output_type": "execute_result"
    }
   ],
   "source": [
    "basic_recommand_games(svdpp_model, \"prunelles\", games, df_avis)"
   ]
  },
  {
   "cell_type": "code",
   "execution_count": 67,
   "metadata": {},
   "outputs": [
    {
     "data": {
      "text/plain": [
       "array(['marvel-united', 'star-fist', 'hide-and-seek-pirates'],\n",
       "      dtype=object)"
      ]
     },
     "execution_count": 67,
     "metadata": {},
     "output_type": "execute_result"
    }
   ],
   "source": [
    "basic_recommand_games(slope_one_model, \"prunelles\", games, df_avis)"
   ]
  },
  {
   "cell_type": "code",
   "execution_count": 68,
   "metadata": {},
   "outputs": [
    {
     "data": {
      "text/plain": [
       "array(['marvel-united', 'star-fist', 'hide-and-seek-pirates'],\n",
       "      dtype=object)"
      ]
     },
     "execution_count": 68,
     "metadata": {},
     "output_type": "execute_result"
    }
   ],
   "source": [
    "basic_recommand_games(knn_pred, \"prunelles\", games, df_avis)"
   ]
  }
 ],
 "metadata": {
  "kernelspec": {
   "display_name": "Python 3",
   "language": "python",
   "name": "python3"
  },
  "language_info": {
   "codemirror_mode": {
    "name": "ipython",
    "version": 3
   },
   "file_extension": ".py",
   "mimetype": "text/x-python",
   "name": "python",
   "nbconvert_exporter": "python",
   "pygments_lexer": "ipython3",
   "version": "3.9.12"
  },
  "orig_nbformat": 4
 },
 "nbformat": 4,
 "nbformat_minor": 2
}
