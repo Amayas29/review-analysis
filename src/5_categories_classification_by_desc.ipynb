{
 "cells": [
  {
   "cell_type": "code",
   "execution_count": 1,
   "id": "799f393f",
   "metadata": {},
   "outputs": [],
   "source": [
    "from iads.data_traitement import traitement\n",
    "from iads.nlp import preprocessing\n",
    "\n",
    "import numpy as np\n",
    "import matplotlib.pyplot as plt\n",
    "import seaborn as sns\n",
    "import pandas as pd\n",
    "\n",
    "import warnings\n",
    "warnings.filterwarnings('ignore')\n",
    "\n",
    "from sklearn.feature_extraction.text import TfidfVectorizer\n",
    "from sklearn.model_selection import train_test_split\n",
    "from sklearn.metrics import f1_score\n",
    "\n",
    "from sklearn.multiclass import OneVsRestClassifier\n",
    "\n",
    "from sklearn.naive_bayes import MultinomialNB\n",
    "from sklearn.svm import SVC\n",
    "from sklearn.ensemble import RandomForestClassifier"
   ]
  },
  {
   "attachments": {},
   "cell_type": "markdown",
   "id": "755975a9",
   "metadata": {},
   "source": [
    "# I. Chargement des données :"
   ]
  },
  {
   "cell_type": "code",
   "execution_count": 2,
   "id": "7f08cd9e",
   "metadata": {},
   "outputs": [],
   "source": [
    "df_jeux_up = pd.read_csv(\"../data/details_desc.csv\")"
   ]
  },
  {
   "cell_type": "code",
   "execution_count": 3,
   "id": "c88230e4",
   "metadata": {},
   "outputs": [
    {
     "data": {
      "text/html": [
       "<div>\n",
       "<style scoped>\n",
       "    .dataframe tbody tr th:only-of-type {\n",
       "        vertical-align: middle;\n",
       "    }\n",
       "\n",
       "    .dataframe tbody tr th {\n",
       "        vertical-align: top;\n",
       "    }\n",
       "\n",
       "    .dataframe thead th {\n",
       "        text-align: right;\n",
       "    }\n",
       "</style>\n",
       "<table border=\"1\" class=\"dataframe\">\n",
       "  <thead>\n",
       "    <tr style=\"text-align: right;\">\n",
       "      <th></th>\n",
       "      <th>Nombre d'avis</th>\n",
       "      <th>Note</th>\n",
       "      <th>categories</th>\n",
       "      <th>description</th>\n",
       "      <th>titre</th>\n",
       "      <th>_id</th>\n",
       "      <th>creators</th>\n",
       "      <th>illustrators</th>\n",
       "      <th>editors</th>\n",
       "      <th>distributors</th>\n",
       "      <th>duration</th>\n",
       "      <th>enfant</th>\n",
       "      <th>ado</th>\n",
       "      <th>adulte</th>\n",
       "      <th>solo</th>\n",
       "      <th>duo</th>\n",
       "      <th>multi</th>\n",
       "    </tr>\n",
       "  </thead>\n",
       "  <tbody>\n",
       "    <tr>\n",
       "      <th>0</th>\n",
       "      <td>19.0</td>\n",
       "      <td>7.58</td>\n",
       "      <td>NaN</td>\n",
       "      <td>marvel united unir contre super vilain red sku...</td>\n",
       "      <td>Marvel United</td>\n",
       "      <td>marvel-united</td>\n",
       "      <td>Eric Lang et Andrea Chiarvesio</td>\n",
       "      <td>Édouard Guiton</td>\n",
       "      <td>CMON Limited</td>\n",
       "      <td>NaN</td>\n",
       "      <td>45.0</td>\n",
       "      <td>0</td>\n",
       "      <td>1</td>\n",
       "      <td>1</td>\n",
       "      <td>1</td>\n",
       "      <td>0</td>\n",
       "      <td>1</td>\n",
       "    </tr>\n",
       "    <tr>\n",
       "      <th>1</th>\n",
       "      <td>33.0</td>\n",
       "      <td>7.39</td>\n",
       "      <td>NaN</td>\n",
       "      <td>annee printemps million papillon monarque quit...</td>\n",
       "      <td>Mariposas</td>\n",
       "      <td>mariposas</td>\n",
       "      <td>Elizabeth Hargrave</td>\n",
       "      <td>Matt Paquette et Indi Maverick</td>\n",
       "      <td>Gigamic</td>\n",
       "      <td>NaN</td>\n",
       "      <td>60.0</td>\n",
       "      <td>0</td>\n",
       "      <td>1</td>\n",
       "      <td>1</td>\n",
       "      <td>0</td>\n",
       "      <td>1</td>\n",
       "      <td>1</td>\n",
       "    </tr>\n",
       "    <tr>\n",
       "      <th>2</th>\n",
       "      <td>28.0</td>\n",
       "      <td>8.18</td>\n",
       "      <td>placement</td>\n",
       "      <td>tete groupe aventurier archeologue expedition ...</td>\n",
       "      <td>Quetzal</td>\n",
       "      <td>quetzal</td>\n",
       "      <td>Alexandre Garcia</td>\n",
       "      <td>Nastya Lehn</td>\n",
       "      <td>Gigamic</td>\n",
       "      <td>NaN</td>\n",
       "      <td>45.0</td>\n",
       "      <td>0</td>\n",
       "      <td>1</td>\n",
       "      <td>1</td>\n",
       "      <td>0</td>\n",
       "      <td>1</td>\n",
       "      <td>1</td>\n",
       "    </tr>\n",
       "    <tr>\n",
       "      <th>3</th>\n",
       "      <td>4.0</td>\n",
       "      <td>9.00</td>\n",
       "      <td>NaN</td>\n",
       "      <td>kit demarrage complet plongez horreur boite co...</td>\n",
       "      <td>Alien - Kit de Démarrage</td>\n",
       "      <td>alien-kit-de-demarrage</td>\n",
       "      <td>NaN</td>\n",
       "      <td>NaN</td>\n",
       "      <td>Arkhane Asylum Publishing</td>\n",
       "      <td>NaN</td>\n",
       "      <td>NaN</td>\n",
       "      <td>0</td>\n",
       "      <td>1</td>\n",
       "      <td>1</td>\n",
       "      <td>1</td>\n",
       "      <td>0</td>\n",
       "      <td>1</td>\n",
       "    </tr>\n",
       "    <tr>\n",
       "      <th>4</th>\n",
       "      <td>72.0</td>\n",
       "      <td>8.75</td>\n",
       "      <td>gestion</td>\n",
       "      <td>dr foo cree terrrribl machine voyager temps ai...</td>\n",
       "      <td>The LOOP</td>\n",
       "      <td>the-loop</td>\n",
       "      <td>Maxime Rambourg et Théo Rivière</td>\n",
       "      <td>Simon Caruso</td>\n",
       "      <td>Catch Up Games</td>\n",
       "      <td>NaN</td>\n",
       "      <td>60.0</td>\n",
       "      <td>0</td>\n",
       "      <td>1</td>\n",
       "      <td>1</td>\n",
       "      <td>1</td>\n",
       "      <td>0</td>\n",
       "      <td>1</td>\n",
       "    </tr>\n",
       "  </tbody>\n",
       "</table>\n",
       "</div>"
      ],
      "text/plain": [
       "   Nombre d'avis  Note categories  \\\n",
       "0           19.0  7.58        NaN   \n",
       "1           33.0  7.39        NaN   \n",
       "2           28.0  8.18  placement   \n",
       "3            4.0  9.00        NaN   \n",
       "4           72.0  8.75    gestion   \n",
       "\n",
       "                                         description  \\\n",
       "0  marvel united unir contre super vilain red sku...   \n",
       "1  annee printemps million papillon monarque quit...   \n",
       "2  tete groupe aventurier archeologue expedition ...   \n",
       "3  kit demarrage complet plongez horreur boite co...   \n",
       "4  dr foo cree terrrribl machine voyager temps ai...   \n",
       "\n",
       "                      titre                     _id  \\\n",
       "0             Marvel United           marvel-united   \n",
       "1                 Mariposas               mariposas   \n",
       "2                   Quetzal                 quetzal   \n",
       "3  Alien - Kit de Démarrage  alien-kit-de-demarrage   \n",
       "4                  The LOOP                the-loop   \n",
       "\n",
       "                          creators                    illustrators  \\\n",
       "0   Eric Lang et Andrea Chiarvesio                  Édouard Guiton   \n",
       "1               Elizabeth Hargrave  Matt Paquette et Indi Maverick   \n",
       "2                 Alexandre Garcia                     Nastya Lehn   \n",
       "3                              NaN                             NaN   \n",
       "4  Maxime Rambourg et Théo Rivière                    Simon Caruso   \n",
       "\n",
       "                     editors distributors  duration  enfant  ado  adulte  \\\n",
       "0               CMON Limited          NaN      45.0       0    1       1   \n",
       "1                    Gigamic          NaN      60.0       0    1       1   \n",
       "2                    Gigamic          NaN      45.0       0    1       1   \n",
       "3  Arkhane Asylum Publishing          NaN       NaN       0    1       1   \n",
       "4             Catch Up Games          NaN      60.0       0    1       1   \n",
       "\n",
       "   solo  duo  multi  \n",
       "0     1    0      1  \n",
       "1     0    1      1  \n",
       "2     0    1      1  \n",
       "3     1    0      1  \n",
       "4     1    0      1  "
      ]
     },
     "execution_count": 3,
     "metadata": {},
     "output_type": "execute_result"
    }
   ],
   "source": [
    "df_jeux_up.head()"
   ]
  },
  {
   "cell_type": "code",
   "execution_count": 4,
   "id": "15cf876a",
   "metadata": {},
   "outputs": [
    {
     "data": {
      "image/png": "[encoded data removed]",
      "text/plain": [
       "<Figure size 432x288 with 1 Axes>"
      ]
     },
     "metadata": {
      "needs_background": "light"
     },
     "output_type": "display_data"
    }
   ],
   "source": [
    "cat_isna  = df_jeux_up[\"categories\"].isna()\n",
    "desc_isna = df_jeux_up[\"description\"].isna()\n",
    "\n",
    "table = pd.crosstab(index=cat_isna, columns=desc_isna, margins=False)\n",
    "table = table.rename(columns={False: 'Description non manquante', True: 'Description manquante'})\n",
    "table = table.rename(index={False: 'Catégorie non manquante', True: 'Catégorie manquante'})\n",
    "sns.heatmap(table, annot=True, cmap='Blues', fmt='g', cbar=False, square=True)\n",
    "plt.show()"
   ]
  },
  {
   "attachments": {},
   "cell_type": "markdown",
   "id": "6ea2e29d",
   "metadata": {},
   "source": [
    "- On remarque qu'il y a 12307 jeux avec une description et une catégorie soit 73% de la base de données, qu'on utilisera pour le train de nos classifers.\n",
    "\n",
    "- Et il y a aussi 1957 jeux sans description, donc des lignes à \"supprimer\" pour nos classifiers.\n",
    "\n",
    "- On voit aussi 2609 avec des descriptions mais sans catégorie, cela on s'en servira pour leur génerer une catégorie avec nos prédicteurs"
   ]
  },
  {
   "cell_type": "code",
   "execution_count": 5,
   "id": "4e82abc5",
   "metadata": {},
   "outputs": [],
   "source": [
    "# on recupére les indices \n",
    "index_desc_cat = ~cat_isna & ~desc_isna\n",
    "index_desc_non_cat = cat_isna & ~desc_isna"
   ]
  },
  {
   "cell_type": "code",
   "execution_count": 6,
   "id": "2f2e2d74",
   "metadata": {},
   "outputs": [
    {
     "data": {
      "text/html": [
       "<div>\n",
       "<style scoped>\n",
       "    .dataframe tbody tr th:only-of-type {\n",
       "        vertical-align: middle;\n",
       "    }\n",
       "\n",
       "    .dataframe tbody tr th {\n",
       "        vertical-align: top;\n",
       "    }\n",
       "\n",
       "    .dataframe thead th {\n",
       "        text-align: right;\n",
       "    }\n",
       "</style>\n",
       "<table border=\"1\" class=\"dataframe\">\n",
       "  <thead>\n",
       "    <tr style=\"text-align: right;\">\n",
       "      <th></th>\n",
       "      <th>Nombre d'avis</th>\n",
       "      <th>Note</th>\n",
       "      <th>categories</th>\n",
       "      <th>description</th>\n",
       "      <th>titre</th>\n",
       "      <th>_id</th>\n",
       "      <th>creators</th>\n",
       "      <th>illustrators</th>\n",
       "      <th>editors</th>\n",
       "      <th>distributors</th>\n",
       "      <th>duration</th>\n",
       "      <th>enfant</th>\n",
       "      <th>ado</th>\n",
       "      <th>adulte</th>\n",
       "      <th>solo</th>\n",
       "      <th>duo</th>\n",
       "      <th>multi</th>\n",
       "    </tr>\n",
       "  </thead>\n",
       "  <tbody>\n",
       "    <tr>\n",
       "      <th>2</th>\n",
       "      <td>28.0</td>\n",
       "      <td>8.18</td>\n",
       "      <td>placement</td>\n",
       "      <td>tete groupe aventurier archeologue expedition ...</td>\n",
       "      <td>Quetzal</td>\n",
       "      <td>quetzal</td>\n",
       "      <td>Alexandre Garcia</td>\n",
       "      <td>Nastya Lehn</td>\n",
       "      <td>Gigamic</td>\n",
       "      <td>NaN</td>\n",
       "      <td>45.0</td>\n",
       "      <td>0</td>\n",
       "      <td>1</td>\n",
       "      <td>1</td>\n",
       "      <td>0</td>\n",
       "      <td>1</td>\n",
       "      <td>1</td>\n",
       "    </tr>\n",
       "    <tr>\n",
       "      <th>4</th>\n",
       "      <td>72.0</td>\n",
       "      <td>8.75</td>\n",
       "      <td>gestion</td>\n",
       "      <td>dr foo cree terrrribl machine voyager temps ai...</td>\n",
       "      <td>The LOOP</td>\n",
       "      <td>the-loop</td>\n",
       "      <td>Maxime Rambourg et Théo Rivière</td>\n",
       "      <td>Simon Caruso</td>\n",
       "      <td>Catch Up Games</td>\n",
       "      <td>NaN</td>\n",
       "      <td>60.0</td>\n",
       "      <td>0</td>\n",
       "      <td>1</td>\n",
       "      <td>1</td>\n",
       "      <td>1</td>\n",
       "      <td>0</td>\n",
       "      <td>1</td>\n",
       "    </tr>\n",
       "  </tbody>\n",
       "</table>\n",
       "</div>"
      ],
      "text/plain": [
       "   Nombre d'avis  Note categories  \\\n",
       "2           28.0  8.18  placement   \n",
       "4           72.0  8.75    gestion   \n",
       "\n",
       "                                         description     titre       _id  \\\n",
       "2  tete groupe aventurier archeologue expedition ...   Quetzal   quetzal   \n",
       "4  dr foo cree terrrribl machine voyager temps ai...  The LOOP  the-loop   \n",
       "\n",
       "                          creators  illustrators         editors distributors  \\\n",
       "2                 Alexandre Garcia   Nastya Lehn         Gigamic          NaN   \n",
       "4  Maxime Rambourg et Théo Rivière  Simon Caruso  Catch Up Games          NaN   \n",
       "\n",
       "   duration  enfant  ado  adulte  solo  duo  multi  \n",
       "2      45.0       0    1       1     0    1      1  \n",
       "4      60.0       0    1       1     1    0      1  "
      ]
     },
     "execution_count": 6,
     "metadata": {},
     "output_type": "execute_result"
    }
   ],
   "source": [
    "df_jeux_up[index_desc_cat].head(2)"
   ]
  },
  {
   "cell_type": "code",
   "execution_count": 7,
   "id": "5a3b1fae",
   "metadata": {},
   "outputs": [
    {
     "data": {
      "text/html": [
       "<div>\n",
       "<style scoped>\n",
       "    .dataframe tbody tr th:only-of-type {\n",
       "        vertical-align: middle;\n",
       "    }\n",
       "\n",
       "    .dataframe tbody tr th {\n",
       "        vertical-align: top;\n",
       "    }\n",
       "\n",
       "    .dataframe thead th {\n",
       "        text-align: right;\n",
       "    }\n",
       "</style>\n",
       "<table border=\"1\" class=\"dataframe\">\n",
       "  <thead>\n",
       "    <tr style=\"text-align: right;\">\n",
       "      <th></th>\n",
       "      <th>Nombre d'avis</th>\n",
       "      <th>Note</th>\n",
       "      <th>categories</th>\n",
       "      <th>description</th>\n",
       "      <th>titre</th>\n",
       "      <th>_id</th>\n",
       "      <th>creators</th>\n",
       "      <th>illustrators</th>\n",
       "      <th>editors</th>\n",
       "      <th>distributors</th>\n",
       "      <th>duration</th>\n",
       "      <th>enfant</th>\n",
       "      <th>ado</th>\n",
       "      <th>adulte</th>\n",
       "      <th>solo</th>\n",
       "      <th>duo</th>\n",
       "      <th>multi</th>\n",
       "    </tr>\n",
       "  </thead>\n",
       "  <tbody>\n",
       "    <tr>\n",
       "      <th>0</th>\n",
       "      <td>19.0</td>\n",
       "      <td>7.58</td>\n",
       "      <td>NaN</td>\n",
       "      <td>marvel united unir contre super vilain red sku...</td>\n",
       "      <td>Marvel United</td>\n",
       "      <td>marvel-united</td>\n",
       "      <td>Eric Lang et Andrea Chiarvesio</td>\n",
       "      <td>Édouard Guiton</td>\n",
       "      <td>CMON Limited</td>\n",
       "      <td>NaN</td>\n",
       "      <td>45.0</td>\n",
       "      <td>0</td>\n",
       "      <td>1</td>\n",
       "      <td>1</td>\n",
       "      <td>1</td>\n",
       "      <td>0</td>\n",
       "      <td>1</td>\n",
       "    </tr>\n",
       "    <tr>\n",
       "      <th>1</th>\n",
       "      <td>33.0</td>\n",
       "      <td>7.39</td>\n",
       "      <td>NaN</td>\n",
       "      <td>annee printemps million papillon monarque quit...</td>\n",
       "      <td>Mariposas</td>\n",
       "      <td>mariposas</td>\n",
       "      <td>Elizabeth Hargrave</td>\n",
       "      <td>Matt Paquette et Indi Maverick</td>\n",
       "      <td>Gigamic</td>\n",
       "      <td>NaN</td>\n",
       "      <td>60.0</td>\n",
       "      <td>0</td>\n",
       "      <td>1</td>\n",
       "      <td>1</td>\n",
       "      <td>0</td>\n",
       "      <td>1</td>\n",
       "      <td>1</td>\n",
       "    </tr>\n",
       "  </tbody>\n",
       "</table>\n",
       "</div>"
      ],
      "text/plain": [
       "   Nombre d'avis  Note categories  \\\n",
       "0           19.0  7.58        NaN   \n",
       "1           33.0  7.39        NaN   \n",
       "\n",
       "                                         description          titre  \\\n",
       "0  marvel united unir contre super vilain red sku...  Marvel United   \n",
       "1  annee printemps million papillon monarque quit...      Mariposas   \n",
       "\n",
       "             _id                        creators  \\\n",
       "0  marvel-united  Eric Lang et Andrea Chiarvesio   \n",
       "1      mariposas              Elizabeth Hargrave   \n",
       "\n",
       "                     illustrators       editors distributors  duration  \\\n",
       "0                  Édouard Guiton  CMON Limited          NaN      45.0   \n",
       "1  Matt Paquette et Indi Maverick       Gigamic          NaN      60.0   \n",
       "\n",
       "   enfant  ado  adulte  solo  duo  multi  \n",
       "0       0    1       1     1    0      1  \n",
       "1       0    1       1     0    1      1  "
      ]
     },
     "execution_count": 7,
     "metadata": {},
     "output_type": "execute_result"
    }
   ],
   "source": [
    "df_jeux_up[index_desc_non_cat].head(2)"
   ]
  },
  {
   "attachments": {},
   "cell_type": "markdown",
   "id": "a88c7525",
   "metadata": {},
   "source": [
    "# II. TfIdf sur les descriptions :"
   ]
  },
  {
   "cell_type": "code",
   "execution_count": 8,
   "id": "939f84a9",
   "metadata": {},
   "outputs": [],
   "source": [
    "X_text = df_jeux_up['description'][index_desc_cat]\n",
    "Y_text = df_jeux_up['categories'][index_desc_cat]"
   ]
  },
  {
   "cell_type": "code",
   "execution_count": 9,
   "id": "9b259a46",
   "metadata": {},
   "outputs": [
    {
     "data": {
      "text/plain": [
       "(12306,)"
      ]
     },
     "execution_count": 9,
     "metadata": {},
     "output_type": "execute_result"
    }
   ],
   "source": [
    "X_text.shape"
   ]
  },
  {
   "cell_type": "code",
   "execution_count": 10,
   "id": "3500b6a4",
   "metadata": {},
   "outputs": [
    {
     "data": {
      "text/plain": [
       "(12306,)"
      ]
     },
     "execution_count": 10,
     "metadata": {},
     "output_type": "execute_result"
    }
   ],
   "source": [
    "Y_text.shape"
   ]
  },
  {
   "cell_type": "code",
   "execution_count": 11,
   "id": "6df497e0",
   "metadata": {},
   "outputs": [
    {
     "name": "stdout",
     "output_type": "stream",
     "text": [
      "['affrontement' 'amateur' 'ambiance' 'animal' 'blocage' 'bluff' 'casual'\n",
      " 'combinaison' 'connaissance' 'cooperation' 'deduction' 'deplacement'\n",
      " 'dexterite adresse' 'dé carte' 'exploration' 'famille collection'\n",
      " 'figurine' 'gestion' 'guerre' 'hero' 'historique' 'lettre' 'logique'\n",
      " 'majorite' 'medieval fantastique' 'mythe legende conte' 'observation'\n",
      " 'pion' 'placement' 'plateau' 'rapidite' 'risque prise' 'role'\n",
      " 'science fiction' 'tete casser'] \n",
      "\n",
      " ===>  35\n"
     ]
    }
   ],
   "source": [
    "classes = np.unique(Y_text)\n",
    "print(classes, \"\\n\\n ===> \", len(classes))"
   ]
  },
  {
   "cell_type": "code",
   "execution_count": 12,
   "id": "c0934783",
   "metadata": {},
   "outputs": [],
   "source": [
    "from sklearn.preprocessing import LabelEncoder\n",
    "\n",
    "encoder = LabelEncoder()\n",
    "y = encoder.fit_transform(Y_text)"
   ]
  },
  {
   "cell_type": "code",
   "execution_count": 13,
   "id": "a1a92aba",
   "metadata": {},
   "outputs": [
    {
     "data": {
      "image/png": "[encoded data removed]",
      "text/plain": [
       "<Figure size 432x288 with 1 Axes>"
      ]
     },
     "metadata": {
      "needs_background": "light"
     },
     "output_type": "display_data"
    }
   ],
   "source": [
    "val, count = np.unique(Y_text, return_counts=True)\n",
    "\n",
    "sns.barplot(x = val, y = count)\n",
    "plt.xticks(rotation=90, ha='right')\n",
    "plt.show()"
   ]
  },
  {
   "cell_type": "code",
   "execution_count": 14,
   "id": "5344d8fa",
   "metadata": {},
   "outputs": [
    {
     "data": {
      "text/plain": [
       "(12306, 10743)"
      ]
     },
     "execution_count": 14,
     "metadata": {},
     "output_type": "execute_result"
    }
   ],
   "source": [
    "vectorizer = TfidfVectorizer(max_df=0.95, min_df=4, ngram_range=(1,1))\n",
    "X = vectorizer.fit_transform(X_text)\n",
    "X.shape"
   ]
  },
  {
   "cell_type": "code",
   "execution_count": 15,
   "id": "11c47252",
   "metadata": {},
   "outputs": [],
   "source": [
    "X_train, X_test, y_train, y_test = train_test_split(X, y, test_size=0.2, stratify=y, random_state=0)"
   ]
  },
  {
   "cell_type": "code",
   "execution_count": 16,
   "id": "20e1b019",
   "metadata": {},
   "outputs": [
    {
     "data": {
      "text/plain": [
       "(9844, 10743)"
      ]
     },
     "execution_count": 16,
     "metadata": {},
     "output_type": "execute_result"
    }
   ],
   "source": [
    "X_train.shape"
   ]
  },
  {
   "cell_type": "code",
   "execution_count": 17,
   "id": "e98b61de",
   "metadata": {},
   "outputs": [
    {
     "data": {
      "text/plain": [
       "(2462, 10743)"
      ]
     },
     "execution_count": 17,
     "metadata": {},
     "output_type": "execute_result"
    }
   ],
   "source": [
    "X_test.shape"
   ]
  },
  {
   "cell_type": "code",
   "execution_count": 18,
   "id": "0e36368c",
   "metadata": {},
   "outputs": [
    {
     "data": {
      "image/png": "[encoded data removed]",
      "text/plain": [
       "<Figure size 432x288 with 1 Axes>"
      ]
     },
     "metadata": {
      "needs_background": "light"
     },
     "output_type": "display_data"
    }
   ],
   "source": [
    "val, count = np.unique(y_train, return_counts=True)\n",
    "\n",
    "sns.barplot(x = val, y = count)\n",
    "plt.xticks(rotation=90, ha='right')\n",
    "plt.show()"
   ]
  },
  {
   "cell_type": "code",
   "execution_count": 19,
   "id": "afb0a2c4",
   "metadata": {},
   "outputs": [],
   "source": [
    "# Calculer les proportions des différentes classes dans les données d'entraînement\n",
    "class_counts = np.bincount(y)\n",
    "class_weights = class_counts.sum() / class_counts"
   ]
  },
  {
   "cell_type": "code",
   "execution_count": 20,
   "id": "a55c15e6",
   "metadata": {},
   "outputs": [
    {
     "data": {
      "text/plain": [
       "array([  82,   23,   82,   36,    7,   22,   33,   36,  416,   36,    8,\n",
       "         46,   30, 3540,   10,   13,  473,   83, 1107,   12,    7,  166,\n",
       "        247,    8,  227,   10,   10,  348,  140, 4422,   26,    7,  210,\n",
       "         18,  365])"
      ]
     },
     "execution_count": 20,
     "metadata": {},
     "output_type": "execute_result"
    }
   ],
   "source": [
    "class_counts"
   ]
  },
  {
   "cell_type": "code",
   "execution_count": 21,
   "id": "0181dec3",
   "metadata": {},
   "outputs": [
    {
     "data": {
      "text/plain": [
       "array([ 150.07317073,  535.04347826,  150.07317073,  341.83333333,\n",
       "       1758.        ,  559.36363636,  372.90909091,  341.83333333,\n",
       "         29.58173077,  341.83333333, 1538.25      ,  267.52173913,\n",
       "        410.2       ,    3.47627119, 1230.6       ,  946.61538462,\n",
       "         26.01691332,  148.26506024,   11.11653117, 1025.5       ,\n",
       "       1758.        ,   74.13253012,   49.82186235, 1538.25      ,\n",
       "         54.21145374, 1230.6       , 1230.6       ,   35.36206897,\n",
       "         87.9       ,    2.78290366,  473.30769231, 1758.        ,\n",
       "         58.6       ,  683.66666667,   33.71506849])"
      ]
     },
     "execution_count": 21,
     "metadata": {},
     "output_type": "execute_result"
    }
   ],
   "source": [
    "class_weights"
   ]
  },
  {
   "attachments": {},
   "cell_type": "markdown",
   "id": "92c52344",
   "metadata": {},
   "source": [
    "### Naive Bayes"
   ]
  },
  {
   "cell_type": "code",
   "execution_count": 22,
   "id": "2b54deb0",
   "metadata": {},
   "outputs": [
    {
     "name": "stdout",
     "output_type": "stream",
     "text": [
      "Le score F1 du classificateur Naive Bayes est : 0.5273315749319228\n",
      "Accuracy :  0.5889520714865962\n"
     ]
    }
   ],
   "source": [
    "nb_clf = OneVsRestClassifier(MultinomialNB())\n",
    "nb_clf.fit(X_train, y_train)\n",
    "\n",
    "# Prédire les classes pour l'ensemble de test\n",
    "y_pred = nb_clf.predict(X_test)\n",
    "\n",
    "# Calculer le score F1\n",
    "f1 = f1_score(y_test, y_pred, average='weighted')\n",
    "\n",
    "print(\"Le score F1 du classificateur Naive Bayes est :\", f1)\n",
    "print(\"Accuracy : \", (y_test == y_pred).mean())"
   ]
  },
  {
   "attachments": {},
   "cell_type": "markdown",
   "id": "36dd9e62",
   "metadata": {},
   "source": [
    "### SVM"
   ]
  },
  {
   "cell_type": "code",
   "execution_count": 23,
   "id": "601a8aa6",
   "metadata": {},
   "outputs": [
    {
     "name": "stdout",
     "output_type": "stream",
     "text": [
      "Le score F1 du classificateur SVM est : 0.6325849071977939\n",
      "Accuracy :  0.6616571892770106\n"
     ]
    }
   ],
   "source": [
    "svm_clf = OneVsRestClassifier(SVC(kernel='linear'))\n",
    "svm_clf.fit(X_train, y_train)\n",
    "\n",
    "# Prédire les classes pour l'ensemble de test\n",
    "y_pred = svm_clf.predict(X_test)\n",
    "\n",
    "# Calculer le score F1\n",
    "f1 = f1_score(y_test, y_pred, average='weighted')\n",
    "\n",
    "print(\"Le score F1 du classificateur SVM est :\", f1)\n",
    "print(\"Accuracy : \", (y_test == y_pred).mean())"
   ]
  },
  {
   "attachments": {},
   "cell_type": "markdown",
   "id": "4d3a8793",
   "metadata": {},
   "source": [
    "### Random Forest"
   ]
  },
  {
   "cell_type": "code",
   "execution_count": 24,
   "id": "29ff20af",
   "metadata": {},
   "outputs": [
    {
     "name": "stdout",
     "output_type": "stream",
     "text": [
      "Le score F1 du classificateur Random Forest est : 0.5998400524963533\n",
      "Accuracy :  0.640536149471974\n"
     ]
    }
   ],
   "source": [
    "rf_clf = RandomForestClassifier()\n",
    "rf_clf.fit(X_train, y_train)\n",
    "\n",
    "# Prédire les classes pour l'ensemble de test\n",
    "y_pred = rf_clf.predict(X_test)\n",
    "\n",
    "# Calculer le score F1\n",
    "f1 = f1_score(y_test, y_pred, average='weighted')\n",
    "\n",
    "print(\"Le score F1 du classificateur Random Forest est :\", f1)\n",
    "print(\"Accuracy : \", (y_test == y_pred).mean())"
   ]
  }
 ],
 "metadata": {
  "kernelspec": {
   "display_name": "Python 3",
   "language": "python",
   "name": "python3"
  },
  "language_info": {
   "codemirror_mode": {
    "name": "ipython",
    "version": 3
   },
   "file_extension": ".py",
   "mimetype": "text/x-python",
   "name": "python",
   "nbconvert_exporter": "python",
   "pygments_lexer": "ipython3",
   "version": "3.9.12"
  },
  "vscode": {
   "interpreter": {
    "hash": "84f11f2148bd2fe3bb289ffda545ef54970d3c35b0f5a1c527ecc25164cf23b8"
   }
  }
 },
 "nbformat": 4,
 "nbformat_minor": 5
}
