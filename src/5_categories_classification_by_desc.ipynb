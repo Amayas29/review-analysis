{
 "cells": [
  {
   "cell_type": "code",
   "execution_count": 2,
   "id": "799f393f",
   "metadata": {},
   "outputs": [],
   "source": [
    "from iads.data_traitement import traitement\n",
    "from iads.nlp import preprocessing\n",
    "\n",
    "import numpy as np\n",
    "import matplotlib.pyplot as plt\n",
    "import seaborn as sns\n",
    "import pandas as pd\n",
    "\n",
    "import warnings\n",
    "warnings.filterwarnings('ignore')\n",
    "\n",
    "from sklearn.feature_extraction.text import TfidfVectorizer\n",
    "from sklearn.model_selection import train_test_split\n",
    "from sklearn.metrics import f1_score\n",
    "\n",
    "from sklearn.multiclass import OneVsRestClassifier\n",
    "\n",
    "from sklearn.naive_bayes import MultinomialNB\n",
    "from sklearn.svm import SVC\n",
    "from sklearn.ensemble import RandomForestClassifier"
   ]
  },
  {
   "cell_type": "markdown",
   "id": "755975a9",
   "metadata": {},
   "source": [
    "# I. Chargement des données :"
   ]
  },
  {
   "cell_type": "code",
   "execution_count": 3,
   "id": "7f08cd9e",
   "metadata": {},
   "outputs": [],
   "source": [
    "df_jeux_up = pd.read_csv(\"../data/details_desc.csv\")"
   ]
  },
  {
   "cell_type": "code",
   "execution_count": 4,
   "id": "c88230e4",
   "metadata": {},
   "outputs": [
    {
     "data": {
      "text/html": [
       "<div>\n",
       "<style scoped>\n",
       "    .dataframe tbody tr th:only-of-type {\n",
       "        vertical-align: middle;\n",
       "    }\n",
       "\n",
       "    .dataframe tbody tr th {\n",
       "        vertical-align: top;\n",
       "    }\n",
       "\n",
       "    .dataframe thead th {\n",
       "        text-align: right;\n",
       "    }\n",
       "</style>\n",
       "<table border=\"1\" class=\"dataframe\">\n",
       "  <thead>\n",
       "    <tr style=\"text-align: right;\">\n",
       "      <th></th>\n",
       "      <th>Nombre d'avis rectifiés</th>\n",
       "      <th>Note rectifiée</th>\n",
       "      <th>Note Finkel</th>\n",
       "      <th>Nombre d'avis</th>\n",
       "      <th>titre</th>\n",
       "      <th>Note</th>\n",
       "      <th>categories</th>\n",
       "      <th>description</th>\n",
       "      <th>full_title</th>\n",
       "      <th>_id</th>\n",
       "      <th>...</th>\n",
       "      <th>editors</th>\n",
       "      <th>distributors</th>\n",
       "      <th>nb_players</th>\n",
       "      <th>age_required</th>\n",
       "      <th>duration</th>\n",
       "      <th>enfant</th>\n",
       "      <th>ado</th>\n",
       "      <th>adulte</th>\n",
       "      <th>solo</th>\n",
       "      <th>multi</th>\n",
       "    </tr>\n",
       "  </thead>\n",
       "  <tbody>\n",
       "    <tr>\n",
       "      <th>0</th>\n",
       "      <td>10.0</td>\n",
       "      <td>8.40</td>\n",
       "      <td>8.74</td>\n",
       "      <td>19.0</td>\n",
       "      <td>Marvel United</td>\n",
       "      <td>7.58</td>\n",
       "      <td>NaN</td>\n",
       "      <td>marvel united unir contre super vilain red sku...</td>\n",
       "      <td>Marvel United (2020)</td>\n",
       "      <td>marvel-united</td>\n",
       "      <td>...</td>\n",
       "      <td>CMON Limited</td>\n",
       "      <td>NaN</td>\n",
       "      <td>1-4</td>\n",
       "      <td>14-99</td>\n",
       "      <td>45.0</td>\n",
       "      <td>0</td>\n",
       "      <td>1</td>\n",
       "      <td>1</td>\n",
       "      <td>1</td>\n",
       "      <td>1</td>\n",
       "    </tr>\n",
       "    <tr>\n",
       "      <th>1</th>\n",
       "      <td>17.0</td>\n",
       "      <td>7.29</td>\n",
       "      <td>7.68</td>\n",
       "      <td>33.0</td>\n",
       "      <td>Mariposas</td>\n",
       "      <td>7.39</td>\n",
       "      <td>NaN</td>\n",
       "      <td>annee printemps million papillon monarque quit...</td>\n",
       "      <td>Mariposas (2020)</td>\n",
       "      <td>mariposas</td>\n",
       "      <td>...</td>\n",
       "      <td>Gigamic</td>\n",
       "      <td>NaN</td>\n",
       "      <td>2-5</td>\n",
       "      <td>14-99</td>\n",
       "      <td>60.0</td>\n",
       "      <td>0</td>\n",
       "      <td>1</td>\n",
       "      <td>1</td>\n",
       "      <td>0</td>\n",
       "      <td>1</td>\n",
       "    </tr>\n",
       "    <tr>\n",
       "      <th>2</th>\n",
       "      <td>9.0</td>\n",
       "      <td>7.22</td>\n",
       "      <td>7.42</td>\n",
       "      <td>28.0</td>\n",
       "      <td>Quetzal</td>\n",
       "      <td>8.18</td>\n",
       "      <td>placement</td>\n",
       "      <td>tete groupe aventurier archeologue expedition ...</td>\n",
       "      <td>Quetzal (2020)</td>\n",
       "      <td>quetzal</td>\n",
       "      <td>...</td>\n",
       "      <td>Gigamic</td>\n",
       "      <td>NaN</td>\n",
       "      <td>2-5</td>\n",
       "      <td>8-99</td>\n",
       "      <td>45.0</td>\n",
       "      <td>0</td>\n",
       "      <td>1</td>\n",
       "      <td>1</td>\n",
       "      <td>0</td>\n",
       "      <td>1</td>\n",
       "    </tr>\n",
       "    <tr>\n",
       "      <th>3</th>\n",
       "      <td>0.0</td>\n",
       "      <td>0.00</td>\n",
       "      <td>0.00</td>\n",
       "      <td>4.0</td>\n",
       "      <td>Alien - Kit de Démarrage</td>\n",
       "      <td>9.00</td>\n",
       "      <td>NaN</td>\n",
       "      <td>kit demarrage complet plongez horreur boite co...</td>\n",
       "      <td>Alien - Kit de Démarrage (2020)</td>\n",
       "      <td>alien-kit-de-demarrage</td>\n",
       "      <td>...</td>\n",
       "      <td>Arkhane Asylum Publishing</td>\n",
       "      <td>NaN</td>\n",
       "      <td>1-99</td>\n",
       "      <td>12-99</td>\n",
       "      <td>NaN</td>\n",
       "      <td>0</td>\n",
       "      <td>1</td>\n",
       "      <td>1</td>\n",
       "      <td>1</td>\n",
       "      <td>1</td>\n",
       "    </tr>\n",
       "    <tr>\n",
       "      <th>4</th>\n",
       "      <td>24.0</td>\n",
       "      <td>8.79</td>\n",
       "      <td>9.70</td>\n",
       "      <td>72.0</td>\n",
       "      <td>The LOOP</td>\n",
       "      <td>8.75</td>\n",
       "      <td>gestion</td>\n",
       "      <td>dr foo cree terrrribl machine voyager temps ai...</td>\n",
       "      <td>The LOOP (2020)</td>\n",
       "      <td>the-loop</td>\n",
       "      <td>...</td>\n",
       "      <td>Catch Up Games</td>\n",
       "      <td>NaN</td>\n",
       "      <td>1-4</td>\n",
       "      <td>12-99</td>\n",
       "      <td>60.0</td>\n",
       "      <td>0</td>\n",
       "      <td>1</td>\n",
       "      <td>1</td>\n",
       "      <td>1</td>\n",
       "      <td>1</td>\n",
       "    </tr>\n",
       "  </tbody>\n",
       "</table>\n",
       "<p>5 rows × 22 columns</p>\n",
       "</div>"
      ],
      "text/plain": [
       "   Nombre d'avis rectifiés  Note rectifiée  Note Finkel  Nombre d'avis  \\\n",
       "0                     10.0            8.40         8.74           19.0   \n",
       "1                     17.0            7.29         7.68           33.0   \n",
       "2                      9.0            7.22         7.42           28.0   \n",
       "3                      0.0            0.00         0.00            4.0   \n",
       "4                     24.0            8.79         9.70           72.0   \n",
       "\n",
       "                      titre  Note categories  \\\n",
       "0             Marvel United  7.58        NaN   \n",
       "1                 Mariposas  7.39        NaN   \n",
       "2                   Quetzal  8.18  placement   \n",
       "3  Alien - Kit de Démarrage  9.00        NaN   \n",
       "4                  The LOOP  8.75    gestion   \n",
       "\n",
       "                                         description  \\\n",
       "0  marvel united unir contre super vilain red sku...   \n",
       "1  annee printemps million papillon monarque quit...   \n",
       "2  tete groupe aventurier archeologue expedition ...   \n",
       "3  kit demarrage complet plongez horreur boite co...   \n",
       "4  dr foo cree terrrribl machine voyager temps ai...   \n",
       "\n",
       "                        full_title                     _id  ...  \\\n",
       "0             Marvel United (2020)           marvel-united  ...   \n",
       "1                 Mariposas (2020)               mariposas  ...   \n",
       "2                   Quetzal (2020)                 quetzal  ...   \n",
       "3  Alien - Kit de Démarrage (2020)  alien-kit-de-demarrage  ...   \n",
       "4                  The LOOP (2020)                the-loop  ...   \n",
       "\n",
       "                     editors distributors nb_players age_required duration  \\\n",
       "0               CMON Limited          NaN        1-4        14-99     45.0   \n",
       "1                    Gigamic          NaN        2-5        14-99     60.0   \n",
       "2                    Gigamic          NaN        2-5         8-99     45.0   \n",
       "3  Arkhane Asylum Publishing          NaN       1-99        12-99      NaN   \n",
       "4             Catch Up Games          NaN        1-4        12-99     60.0   \n",
       "\n",
       "  enfant  ado  adulte  solo  multi  \n",
       "0      0    1       1     1      1  \n",
       "1      0    1       1     0      1  \n",
       "2      0    1       1     0      1  \n",
       "3      0    1       1     1      1  \n",
       "4      0    1       1     1      1  \n",
       "\n",
       "[5 rows x 22 columns]"
      ]
     },
     "execution_count": 4,
     "metadata": {},
     "output_type": "execute_result"
    }
   ],
   "source": [
    "df_jeux_up.head()"
   ]
  },
  {
   "cell_type": "code",
   "execution_count": 5,
   "id": "15cf876a",
   "metadata": {},
   "outputs": [
    {
     "data": {
      "image/png": "[encoded data removed]",
      "text/plain": [
       "<Figure size 640x480 with 1 Axes>"
      ]
     },
     "metadata": {},
     "output_type": "display_data"
    }
   ],
   "source": [
    "cat_isna  = df_jeux_up[\"categories\"].isna()\n",
    "desc_isna = df_jeux_up[\"description\"].isna()\n",
    "\n",
    "table = pd.crosstab(index=cat_isna, columns=desc_isna, margins=False)\n",
    "table = table.rename(columns={False: 'Description non manquante', True: 'Description manquante'})\n",
    "table = table.rename(index={False: 'Catégorie non manquante', True: 'Catégorie manquante'})\n",
    "sns.heatmap(table, annot=True, cmap='Blues', fmt='g', cbar=False, square=True)\n",
    "plt.show()"
   ]
  },
  {
   "attachments": {},
   "cell_type": "markdown",
   "id": "6ea2e29d",
   "metadata": {},
   "source": [
    "- On remarque qu'il y a 12307 jeux avec une description et une catégorie soit 73% de la base de données, qu'on utilisera pour le train de nos classifers.\n",
    "\n",
    "- Et il y a aussi 1957 jeux sans description, donc des lignes à \"supprimer\" pour nos classifiers.\n",
    "\n",
    "- On voit aussi 2609 avec des descriptions mais sans catégorie, cela on s'en servira pour leur génerer une catégorie avec nos prédicteurs"
   ]
  },
  {
   "cell_type": "code",
   "execution_count": 6,
   "id": "4e82abc5",
   "metadata": {},
   "outputs": [],
   "source": [
    "# on recupére les indices \n",
    "index_desc_cat = ~cat_isna & ~desc_isna\n",
    "index_desc_non_cat = cat_isna & ~desc_isna"
   ]
  },
  {
   "cell_type": "code",
   "execution_count": 7,
   "id": "2f2e2d74",
   "metadata": {},
   "outputs": [
    {
     "data": {
      "text/html": [
       "<div>\n",
       "<style scoped>\n",
       "    .dataframe tbody tr th:only-of-type {\n",
       "        vertical-align: middle;\n",
       "    }\n",
       "\n",
       "    .dataframe tbody tr th {\n",
       "        vertical-align: top;\n",
       "    }\n",
       "\n",
       "    .dataframe thead th {\n",
       "        text-align: right;\n",
       "    }\n",
       "</style>\n",
       "<table border=\"1\" class=\"dataframe\">\n",
       "  <thead>\n",
       "    <tr style=\"text-align: right;\">\n",
       "      <th></th>\n",
       "      <th>Nombre d'avis rectifiés</th>\n",
       "      <th>Note rectifiée</th>\n",
       "      <th>Note Finkel</th>\n",
       "      <th>Nombre d'avis</th>\n",
       "      <th>titre</th>\n",
       "      <th>Note</th>\n",
       "      <th>categories</th>\n",
       "      <th>description</th>\n",
       "      <th>full_title</th>\n",
       "      <th>_id</th>\n",
       "      <th>...</th>\n",
       "      <th>editors</th>\n",
       "      <th>distributors</th>\n",
       "      <th>nb_players</th>\n",
       "      <th>age_required</th>\n",
       "      <th>duration</th>\n",
       "      <th>enfant</th>\n",
       "      <th>ado</th>\n",
       "      <th>adulte</th>\n",
       "      <th>solo</th>\n",
       "      <th>multi</th>\n",
       "    </tr>\n",
       "  </thead>\n",
       "  <tbody>\n",
       "    <tr>\n",
       "      <th>2</th>\n",
       "      <td>9.0</td>\n",
       "      <td>7.22</td>\n",
       "      <td>7.42</td>\n",
       "      <td>28.0</td>\n",
       "      <td>Quetzal</td>\n",
       "      <td>8.18</td>\n",
       "      <td>placement</td>\n",
       "      <td>tete groupe aventurier archeologue expedition ...</td>\n",
       "      <td>Quetzal (2020)</td>\n",
       "      <td>quetzal</td>\n",
       "      <td>...</td>\n",
       "      <td>Gigamic</td>\n",
       "      <td>NaN</td>\n",
       "      <td>2-5</td>\n",
       "      <td>8-99</td>\n",
       "      <td>45.0</td>\n",
       "      <td>0</td>\n",
       "      <td>1</td>\n",
       "      <td>1</td>\n",
       "      <td>0</td>\n",
       "      <td>1</td>\n",
       "    </tr>\n",
       "    <tr>\n",
       "      <th>4</th>\n",
       "      <td>24.0</td>\n",
       "      <td>8.79</td>\n",
       "      <td>9.70</td>\n",
       "      <td>72.0</td>\n",
       "      <td>The LOOP</td>\n",
       "      <td>8.75</td>\n",
       "      <td>gestion</td>\n",
       "      <td>dr foo cree terrrribl machine voyager temps ai...</td>\n",
       "      <td>The LOOP (2020)</td>\n",
       "      <td>the-loop</td>\n",
       "      <td>...</td>\n",
       "      <td>Catch Up Games</td>\n",
       "      <td>NaN</td>\n",
       "      <td>1-4</td>\n",
       "      <td>12-99</td>\n",
       "      <td>60.0</td>\n",
       "      <td>0</td>\n",
       "      <td>1</td>\n",
       "      <td>1</td>\n",
       "      <td>1</td>\n",
       "      <td>1</td>\n",
       "    </tr>\n",
       "  </tbody>\n",
       "</table>\n",
       "<p>2 rows × 22 columns</p>\n",
       "</div>"
      ],
      "text/plain": [
       "   Nombre d'avis rectifiés  Note rectifiée  Note Finkel  Nombre d'avis  \\\n",
       "2                      9.0            7.22         7.42           28.0   \n",
       "4                     24.0            8.79         9.70           72.0   \n",
       "\n",
       "      titre  Note categories  \\\n",
       "2   Quetzal  8.18  placement   \n",
       "4  The LOOP  8.75    gestion   \n",
       "\n",
       "                                         description       full_title  \\\n",
       "2  tete groupe aventurier archeologue expedition ...   Quetzal (2020)   \n",
       "4  dr foo cree terrrribl machine voyager temps ai...  The LOOP (2020)   \n",
       "\n",
       "        _id  ...         editors distributors nb_players age_required  \\\n",
       "2   quetzal  ...         Gigamic          NaN        2-5         8-99   \n",
       "4  the-loop  ...  Catch Up Games          NaN        1-4        12-99   \n",
       "\n",
       "  duration enfant  ado  adulte  solo  multi  \n",
       "2     45.0      0    1       1     0      1  \n",
       "4     60.0      0    1       1     1      1  \n",
       "\n",
       "[2 rows x 22 columns]"
      ]
     },
     "execution_count": 7,
     "metadata": {},
     "output_type": "execute_result"
    }
   ],
   "source": [
    "df_jeux_up[index_desc_cat].head(2)"
   ]
  },
  {
   "cell_type": "code",
   "execution_count": 8,
   "id": "5a3b1fae",
   "metadata": {},
   "outputs": [
    {
     "data": {
      "text/html": [
       "<div>\n",
       "<style scoped>\n",
       "    .dataframe tbody tr th:only-of-type {\n",
       "        vertical-align: middle;\n",
       "    }\n",
       "\n",
       "    .dataframe tbody tr th {\n",
       "        vertical-align: top;\n",
       "    }\n",
       "\n",
       "    .dataframe thead th {\n",
       "        text-align: right;\n",
       "    }\n",
       "</style>\n",
       "<table border=\"1\" class=\"dataframe\">\n",
       "  <thead>\n",
       "    <tr style=\"text-align: right;\">\n",
       "      <th></th>\n",
       "      <th>Nombre d'avis rectifiés</th>\n",
       "      <th>Note rectifiée</th>\n",
       "      <th>Note Finkel</th>\n",
       "      <th>Nombre d'avis</th>\n",
       "      <th>titre</th>\n",
       "      <th>Note</th>\n",
       "      <th>categories</th>\n",
       "      <th>description</th>\n",
       "      <th>full_title</th>\n",
       "      <th>_id</th>\n",
       "      <th>...</th>\n",
       "      <th>editors</th>\n",
       "      <th>distributors</th>\n",
       "      <th>nb_players</th>\n",
       "      <th>age_required</th>\n",
       "      <th>duration</th>\n",
       "      <th>enfant</th>\n",
       "      <th>ado</th>\n",
       "      <th>adulte</th>\n",
       "      <th>solo</th>\n",
       "      <th>multi</th>\n",
       "    </tr>\n",
       "  </thead>\n",
       "  <tbody>\n",
       "    <tr>\n",
       "      <th>0</th>\n",
       "      <td>10.0</td>\n",
       "      <td>8.40</td>\n",
       "      <td>8.74</td>\n",
       "      <td>19.0</td>\n",
       "      <td>Marvel United</td>\n",
       "      <td>7.58</td>\n",
       "      <td>NaN</td>\n",
       "      <td>marvel united unir contre super vilain red sku...</td>\n",
       "      <td>Marvel United (2020)</td>\n",
       "      <td>marvel-united</td>\n",
       "      <td>...</td>\n",
       "      <td>CMON Limited</td>\n",
       "      <td>NaN</td>\n",
       "      <td>1-4</td>\n",
       "      <td>14-99</td>\n",
       "      <td>45.0</td>\n",
       "      <td>0</td>\n",
       "      <td>1</td>\n",
       "      <td>1</td>\n",
       "      <td>1</td>\n",
       "      <td>1</td>\n",
       "    </tr>\n",
       "    <tr>\n",
       "      <th>1</th>\n",
       "      <td>17.0</td>\n",
       "      <td>7.29</td>\n",
       "      <td>7.68</td>\n",
       "      <td>33.0</td>\n",
       "      <td>Mariposas</td>\n",
       "      <td>7.39</td>\n",
       "      <td>NaN</td>\n",
       "      <td>annee printemps million papillon monarque quit...</td>\n",
       "      <td>Mariposas (2020)</td>\n",
       "      <td>mariposas</td>\n",
       "      <td>...</td>\n",
       "      <td>Gigamic</td>\n",
       "      <td>NaN</td>\n",
       "      <td>2-5</td>\n",
       "      <td>14-99</td>\n",
       "      <td>60.0</td>\n",
       "      <td>0</td>\n",
       "      <td>1</td>\n",
       "      <td>1</td>\n",
       "      <td>0</td>\n",
       "      <td>1</td>\n",
       "    </tr>\n",
       "  </tbody>\n",
       "</table>\n",
       "<p>2 rows × 22 columns</p>\n",
       "</div>"
      ],
      "text/plain": [
       "   Nombre d'avis rectifiés  Note rectifiée  Note Finkel  Nombre d'avis  \\\n",
       "0                     10.0            8.40         8.74           19.0   \n",
       "1                     17.0            7.29         7.68           33.0   \n",
       "\n",
       "           titre  Note categories  \\\n",
       "0  Marvel United  7.58        NaN   \n",
       "1      Mariposas  7.39        NaN   \n",
       "\n",
       "                                         description            full_title  \\\n",
       "0  marvel united unir contre super vilain red sku...  Marvel United (2020)   \n",
       "1  annee printemps million papillon monarque quit...      Mariposas (2020)   \n",
       "\n",
       "             _id  ...       editors distributors nb_players age_required  \\\n",
       "0  marvel-united  ...  CMON Limited          NaN        1-4        14-99   \n",
       "1      mariposas  ...       Gigamic          NaN        2-5        14-99   \n",
       "\n",
       "  duration enfant  ado  adulte  solo  multi  \n",
       "0     45.0      0    1       1     1      1  \n",
       "1     60.0      0    1       1     0      1  \n",
       "\n",
       "[2 rows x 22 columns]"
      ]
     },
     "execution_count": 8,
     "metadata": {},
     "output_type": "execute_result"
    }
   ],
   "source": [
    "df_jeux_up[index_desc_non_cat].head(2)"
   ]
  },
  {
   "attachments": {},
   "cell_type": "markdown",
   "id": "a88c7525",
   "metadata": {},
   "source": [
    "# II. TfIdf sur les descriptions :"
   ]
  },
  {
   "cell_type": "code",
   "execution_count": 9,
   "id": "939f84a9",
   "metadata": {},
   "outputs": [],
   "source": [
    "X_text = df_jeux_up['description'][index_desc_cat]\n",
    "Y_text = df_jeux_up['categories'][index_desc_cat]"
   ]
  },
  {
   "cell_type": "code",
   "execution_count": 10,
   "id": "9b259a46",
   "metadata": {},
   "outputs": [
    {
     "data": {
      "text/plain": [
       "(12307,)"
      ]
     },
     "execution_count": 10,
     "metadata": {},
     "output_type": "execute_result"
    }
   ],
   "source": [
    "X_text.shape"
   ]
  },
  {
   "cell_type": "code",
   "execution_count": 11,
   "id": "3500b6a4",
   "metadata": {},
   "outputs": [
    {
     "data": {
      "text/plain": [
       "(12307,)"
      ]
     },
     "execution_count": 11,
     "metadata": {},
     "output_type": "execute_result"
    }
   ],
   "source": [
    "Y_text.shape"
   ]
  },
  {
   "cell_type": "code",
   "execution_count": 12,
   "id": "6df497e0",
   "metadata": {},
   "outputs": [
    {
     "name": "stdout",
     "output_type": "stream",
     "text": [
      "['affrontement' 'amateur' 'ambiance' 'animal' 'blocage' 'bluff' 'casual'\n",
      " 'combinaison' 'connaissance' 'cooperation' 'deduction' 'deplacement'\n",
      " 'dexterite adresse' 'dé carte' 'exploration' 'famille collection'\n",
      " 'fantastique' 'figurine' 'gestion' 'guerre' 'hero' 'historique' 'lettre'\n",
      " 'logique' 'majorite' 'medieval' 'mythe legende conte' 'observation'\n",
      " 'pion' 'placement' 'plateau' 'rapidite' 'risque prise' 'role'\n",
      " 'science fiction' 'tete casser'] \n",
      "\n",
      " ===>  36\n"
     ]
    }
   ],
   "source": [
    "classes = np.unique(Y_text)\n",
    "print(classes, \"\\n\\n ===> \", len(classes))"
   ]
  },
  {
   "cell_type": "code",
   "execution_count": 13,
   "id": "c0934783",
   "metadata": {},
   "outputs": [],
   "source": [
    "from sklearn.preprocessing import LabelEncoder\n",
    "\n",
    "encoder = LabelEncoder()\n",
    "y = encoder.fit_transform(Y_text)"
   ]
  },
  {
   "cell_type": "code",
   "execution_count": 14,
   "id": "a1a92aba",
   "metadata": {},
   "outputs": [
    {
     "data": {
      "image/png": "[encoded data removed]",
      "text/plain": [
       "<Figure size 640x480 with 1 Axes>"
      ]
     },
     "metadata": {},
     "output_type": "display_data"
    }
   ],
   "source": [
    "val, count = np.unique(Y_text, return_counts=True)\n",
    "\n",
    "sns.barplot(x = val, y = count)\n",
    "plt.xticks(rotation=90, ha='right')\n",
    "plt.show()"
   ]
  },
  {
   "cell_type": "code",
   "execution_count": 15,
   "id": "5344d8fa",
   "metadata": {},
   "outputs": [
    {
     "data": {
      "text/plain": [
       "(12307, 10740)"
      ]
     },
     "execution_count": 15,
     "metadata": {},
     "output_type": "execute_result"
    }
   ],
   "source": [
    "vectorizer = TfidfVectorizer(max_df=0.95, min_df=4, ngram_range=(1,1))\n",
    "X = vectorizer.fit_transform(X_text)\n",
    "X.shape"
   ]
  },
  {
   "cell_type": "code",
   "execution_count": 16,
   "id": "11c47252",
   "metadata": {},
   "outputs": [],
   "source": [
    "X_train, X_test, y_train, y_test = train_test_split(X, y, test_size=0.2, stratify=y, random_state=0)"
   ]
  },
  {
   "cell_type": "code",
   "execution_count": 17,
   "id": "20e1b019",
   "metadata": {},
   "outputs": [
    {
     "data": {
      "text/plain": [
       "(9845, 10740)"
      ]
     },
     "execution_count": 17,
     "metadata": {},
     "output_type": "execute_result"
    }
   ],
   "source": [
    "X_train.shape"
   ]
  },
  {
   "cell_type": "code",
   "execution_count": 18,
   "id": "e98b61de",
   "metadata": {},
   "outputs": [
    {
     "data": {
      "text/plain": [
       "(2462, 10740)"
      ]
     },
     "execution_count": 18,
     "metadata": {},
     "output_type": "execute_result"
    }
   ],
   "source": [
    "X_test.shape"
   ]
  },
  {
   "cell_type": "code",
   "execution_count": 19,
   "id": "0e36368c",
   "metadata": {},
   "outputs": [
    {
     "data": {
      "image/png": "[encoded data removed]",
      "text/plain": [
       "<Figure size 640x480 with 1 Axes>"
      ]
     },
     "metadata": {},
     "output_type": "display_data"
    }
   ],
   "source": [
    "val, count = np.unique(y_train, return_counts=True)\n",
    "\n",
    "sns.barplot(x = val, y = count)\n",
    "plt.xticks(rotation=90, ha='right')\n",
    "plt.show()"
   ]
  },
  {
   "cell_type": "code",
   "execution_count": 20,
   "id": "afb0a2c4",
   "metadata": {},
   "outputs": [],
   "source": [
    "# Calculer les proportions des différentes classes dans les données d'entraînement\n",
    "class_counts = np.bincount(y)\n",
    "class_weights = class_counts.sum() / class_counts"
   ]
  },
  {
   "cell_type": "code",
   "execution_count": 21,
   "id": "a55c15e6",
   "metadata": {},
   "outputs": [
    {
     "data": {
      "text/plain": [
       "array([ 114,   23,   83,   38,    7,   22,   33,   40,  418,   36,    8,\n",
       "         47,   30, 3539,   11,   14,  134,  475,   88, 1106,   12,    7,\n",
       "        171,  247,   11,   12,   10,   10,  348,  163, 4421,   26,    7,\n",
       "        213,   18,  365], dtype=int64)"
      ]
     },
     "execution_count": 21,
     "metadata": {},
     "output_type": "execute_result"
    }
   ],
   "source": [
    "class_counts"
   ]
  },
  {
   "cell_type": "code",
   "execution_count": 22,
   "id": "0181dec3",
   "metadata": {},
   "outputs": [
    {
     "data": {
      "text/plain": [
       "array([ 107.95614035,  535.08695652,  148.27710843,  323.86842105,\n",
       "       1758.14285714,  559.40909091,  372.93939394,  307.675     ,\n",
       "         29.44258373,  341.86111111, 1538.375     ,  261.85106383,\n",
       "        410.23333333,    3.47753603, 1118.81818182,  879.07142857,\n",
       "         91.84328358,   25.90947368,  139.85227273,   11.12748644,\n",
       "       1025.58333333, 1758.14285714,   71.97076023,   49.82591093,\n",
       "       1118.81818182, 1025.58333333, 1230.7       , 1230.7       ,\n",
       "         35.36494253,   75.50306748,    2.78375933,  473.34615385,\n",
       "       1758.14285714,   57.77934272,  683.72222222,   33.71780822])"
      ]
     },
     "execution_count": 22,
     "metadata": {},
     "output_type": "execute_result"
    }
   ],
   "source": [
    "class_weights"
   ]
  },
  {
   "attachments": {},
   "cell_type": "markdown",
   "id": "92c52344",
   "metadata": {},
   "source": [
    "### Naive Bayes"
   ]
  },
  {
   "cell_type": "code",
   "execution_count": 23,
   "id": "25a265e7",
   "metadata": {},
   "outputs": [
    {
     "data": {
      "text/html": [
       "<style>#sk-container-id-1 {color: black;background-color: white;}#sk-container-id-1 pre{padding: 0;}#sk-container-id-1 div.sk-toggleable {background-color: white;}#sk-container-id-1 label.sk-toggleable__label {cursor: pointer;display: block;width: 100%;margin-bottom: 0;padding: 0.3em;box-sizing: border-box;text-align: center;}#sk-container-id-1 label.sk-toggleable__label-arrow:before {content: \"▸\";float: left;margin-right: 0.25em;color: #696969;}#sk-container-id-1 label.sk-toggleable__label-arrow:hover:before {color: black;}#sk-container-id-1 div.sk-estimator:hover label.sk-toggleable__label-arrow:before {color: black;}#sk-container-id-1 div.sk-toggleable__content {max-height: 0;max-width: 0;overflow: hidden;text-align: left;background-color: #f0f8ff;}#sk-container-id-1 div.sk-toggleable__content pre {margin: 0.2em;color: black;border-radius: 0.25em;background-color: #f0f8ff;}#sk-container-id-1 input.sk-toggleable__control:checked~div.sk-toggleable__content {max-height: 200px;max-width: 100%;overflow: auto;}#sk-container-id-1 input.sk-toggleable__control:checked~label.sk-toggleable__label-arrow:before {content: \"▾\";}#sk-container-id-1 div.sk-estimator input.sk-toggleable__control:checked~label.sk-toggleable__label {background-color: #d4ebff;}#sk-container-id-1 div.sk-label input.sk-toggleable__control:checked~label.sk-toggleable__label {background-color: #d4ebff;}#sk-container-id-1 input.sk-hidden--visually {border: 0;clip: rect(1px 1px 1px 1px);clip: rect(1px, 1px, 1px, 1px);height: 1px;margin: -1px;overflow: hidden;padding: 0;position: absolute;width: 1px;}#sk-container-id-1 div.sk-estimator {font-family: monospace;background-color: #f0f8ff;border: 1px dotted black;border-radius: 0.25em;box-sizing: border-box;margin-bottom: 0.5em;}#sk-container-id-1 div.sk-estimator:hover {background-color: #d4ebff;}#sk-container-id-1 div.sk-parallel-item::after {content: \"\";width: 100%;border-bottom: 1px solid gray;flex-grow: 1;}#sk-container-id-1 div.sk-label:hover label.sk-toggleable__label {background-color: #d4ebff;}#sk-container-id-1 div.sk-serial::before {content: \"\";position: absolute;border-left: 1px solid gray;box-sizing: border-box;top: 0;bottom: 0;left: 50%;z-index: 0;}#sk-container-id-1 div.sk-serial {display: flex;flex-direction: column;align-items: center;background-color: white;padding-right: 0.2em;padding-left: 0.2em;position: relative;}#sk-container-id-1 div.sk-item {position: relative;z-index: 1;}#sk-container-id-1 div.sk-parallel {display: flex;align-items: stretch;justify-content: center;background-color: white;position: relative;}#sk-container-id-1 div.sk-item::before, #sk-container-id-1 div.sk-parallel-item::before {content: \"\";position: absolute;border-left: 1px solid gray;box-sizing: border-box;top: 0;bottom: 0;left: 50%;z-index: -1;}#sk-container-id-1 div.sk-parallel-item {display: flex;flex-direction: column;z-index: 1;position: relative;background-color: white;}#sk-container-id-1 div.sk-parallel-item:first-child::after {align-self: flex-end;width: 50%;}#sk-container-id-1 div.sk-parallel-item:last-child::after {align-self: flex-start;width: 50%;}#sk-container-id-1 div.sk-parallel-item:only-child::after {width: 0;}#sk-container-id-1 div.sk-dashed-wrapped {border: 1px dashed gray;margin: 0 0.4em 0.5em 0.4em;box-sizing: border-box;padding-bottom: 0.4em;background-color: white;}#sk-container-id-1 div.sk-label label {font-family: monospace;font-weight: bold;display: inline-block;line-height: 1.2em;}#sk-container-id-1 div.sk-label-container {text-align: center;}#sk-container-id-1 div.sk-container {/* jupyter's `normalize.less` sets `[hidden] { display: none; }` but bootstrap.min.css set `[hidden] { display: none !important; }` so we also need the `!important` here to be able to override the default hidden behavior on the sphinx rendered scikit-learn.org. See: https://github.com/scikit-learn/scikit-learn/issues/21755 */display: inline-block !important;position: relative;}#sk-container-id-1 div.sk-text-repr-fallback {display: none;}</style><div id=\"sk-container-id-1\" class=\"sk-top-container\"><div class=\"sk-text-repr-fallback\"><pre>OneVsRestClassifier(estimator=MultinomialNB())</pre><b>In a Jupyter environment, please rerun this cell to show the HTML representation or trust the notebook. <br />On GitHub, the HTML representation is unable to render, please try loading this page with nbviewer.org.</b></div><div class=\"sk-container\" hidden><div class=\"sk-item sk-dashed-wrapped\"><div class=\"sk-label-container\"><div class=\"sk-label sk-toggleable\"><input class=\"sk-toggleable__control sk-hidden--visually\" id=\"sk-estimator-id-1\" type=\"checkbox\" ><label for=\"sk-estimator-id-1\" class=\"sk-toggleable__label sk-toggleable__label-arrow\">OneVsRestClassifier</label><div class=\"sk-toggleable__content\"><pre>OneVsRestClassifier(estimator=MultinomialNB())</pre></div></div></div><div class=\"sk-parallel\"><div class=\"sk-parallel-item\"><div class=\"sk-item\"><div class=\"sk-label-container\"><div class=\"sk-label sk-toggleable\"><input class=\"sk-toggleable__control sk-hidden--visually\" id=\"sk-estimator-id-2\" type=\"checkbox\" ><label for=\"sk-estimator-id-2\" class=\"sk-toggleable__label sk-toggleable__label-arrow\">estimator: MultinomialNB</label><div class=\"sk-toggleable__content\"><pre>MultinomialNB()</pre></div></div></div><div class=\"sk-serial\"><div class=\"sk-item\"><div class=\"sk-estimator sk-toggleable\"><input class=\"sk-toggleable__control sk-hidden--visually\" id=\"sk-estimator-id-3\" type=\"checkbox\" ><label for=\"sk-estimator-id-3\" class=\"sk-toggleable__label sk-toggleable__label-arrow\">MultinomialNB</label><div class=\"sk-toggleable__content\"><pre>MultinomialNB()</pre></div></div></div></div></div></div></div></div></div></div>"
      ],
      "text/plain": [
       "OneVsRestClassifier(estimator=MultinomialNB())"
      ]
     },
     "execution_count": 23,
     "metadata": {},
     "output_type": "execute_result"
    }
   ],
   "source": [
    "nb_clf = OneVsRestClassifier(MultinomialNB())\n",
    "nb_clf.fit(X_train, y_train)"
   ]
  },
  {
   "cell_type": "code",
   "execution_count": 29,
   "id": "2b54deb0",
   "metadata": {},
   "outputs": [
    {
     "name": "stdout",
     "output_type": "stream",
     "text": [
      "Le score F1 du classificateur Naive Bayes est : 0.5332906077495305\n"
     ]
    }
   ],
   "source": [
    "# Prédire les classes pour l'ensemble de test\n",
    "y_pred = nb_clf.predict(X_test)\n",
    "\n",
    "# Calculer le score F1\n",
    "f1 = f1_score(y_test, y_pred, average='weighted')\n",
    "\n",
    "print(\"Le score F1 du classificateur Naive Bayes est :\", f1)\n"
   ]
  },
  {
   "attachments": {},
   "cell_type": "markdown",
   "id": "36dd9e62",
   "metadata": {},
   "source": [
    "### SVM"
   ]
  },
  {
   "cell_type": "code",
   "execution_count": 25,
   "id": "5171f520",
   "metadata": {},
   "outputs": [
    {
     "data": {
      "text/html": [
       "<style>#sk-container-id-2 {color: black;background-color: white;}#sk-container-id-2 pre{padding: 0;}#sk-container-id-2 div.sk-toggleable {background-color: white;}#sk-container-id-2 label.sk-toggleable__label {cursor: pointer;display: block;width: 100%;margin-bottom: 0;padding: 0.3em;box-sizing: border-box;text-align: center;}#sk-container-id-2 label.sk-toggleable__label-arrow:before {content: \"▸\";float: left;margin-right: 0.25em;color: #696969;}#sk-container-id-2 label.sk-toggleable__label-arrow:hover:before {color: black;}#sk-container-id-2 div.sk-estimator:hover label.sk-toggleable__label-arrow:before {color: black;}#sk-container-id-2 div.sk-toggleable__content {max-height: 0;max-width: 0;overflow: hidden;text-align: left;background-color: #f0f8ff;}#sk-container-id-2 div.sk-toggleable__content pre {margin: 0.2em;color: black;border-radius: 0.25em;background-color: #f0f8ff;}#sk-container-id-2 input.sk-toggleable__control:checked~div.sk-toggleable__content {max-height: 200px;max-width: 100%;overflow: auto;}#sk-container-id-2 input.sk-toggleable__control:checked~label.sk-toggleable__label-arrow:before {content: \"▾\";}#sk-container-id-2 div.sk-estimator input.sk-toggleable__control:checked~label.sk-toggleable__label {background-color: #d4ebff;}#sk-container-id-2 div.sk-label input.sk-toggleable__control:checked~label.sk-toggleable__label {background-color: #d4ebff;}#sk-container-id-2 input.sk-hidden--visually {border: 0;clip: rect(1px 1px 1px 1px);clip: rect(1px, 1px, 1px, 1px);height: 1px;margin: -1px;overflow: hidden;padding: 0;position: absolute;width: 1px;}#sk-container-id-2 div.sk-estimator {font-family: monospace;background-color: #f0f8ff;border: 1px dotted black;border-radius: 0.25em;box-sizing: border-box;margin-bottom: 0.5em;}#sk-container-id-2 div.sk-estimator:hover {background-color: #d4ebff;}#sk-container-id-2 div.sk-parallel-item::after {content: \"\";width: 100%;border-bottom: 1px solid gray;flex-grow: 1;}#sk-container-id-2 div.sk-label:hover label.sk-toggleable__label {background-color: #d4ebff;}#sk-container-id-2 div.sk-serial::before {content: \"\";position: absolute;border-left: 1px solid gray;box-sizing: border-box;top: 0;bottom: 0;left: 50%;z-index: 0;}#sk-container-id-2 div.sk-serial {display: flex;flex-direction: column;align-items: center;background-color: white;padding-right: 0.2em;padding-left: 0.2em;position: relative;}#sk-container-id-2 div.sk-item {position: relative;z-index: 1;}#sk-container-id-2 div.sk-parallel {display: flex;align-items: stretch;justify-content: center;background-color: white;position: relative;}#sk-container-id-2 div.sk-item::before, #sk-container-id-2 div.sk-parallel-item::before {content: \"\";position: absolute;border-left: 1px solid gray;box-sizing: border-box;top: 0;bottom: 0;left: 50%;z-index: -1;}#sk-container-id-2 div.sk-parallel-item {display: flex;flex-direction: column;z-index: 1;position: relative;background-color: white;}#sk-container-id-2 div.sk-parallel-item:first-child::after {align-self: flex-end;width: 50%;}#sk-container-id-2 div.sk-parallel-item:last-child::after {align-self: flex-start;width: 50%;}#sk-container-id-2 div.sk-parallel-item:only-child::after {width: 0;}#sk-container-id-2 div.sk-dashed-wrapped {border: 1px dashed gray;margin: 0 0.4em 0.5em 0.4em;box-sizing: border-box;padding-bottom: 0.4em;background-color: white;}#sk-container-id-2 div.sk-label label {font-family: monospace;font-weight: bold;display: inline-block;line-height: 1.2em;}#sk-container-id-2 div.sk-label-container {text-align: center;}#sk-container-id-2 div.sk-container {/* jupyter's `normalize.less` sets `[hidden] { display: none; }` but bootstrap.min.css set `[hidden] { display: none !important; }` so we also need the `!important` here to be able to override the default hidden behavior on the sphinx rendered scikit-learn.org. See: https://github.com/scikit-learn/scikit-learn/issues/21755 */display: inline-block !important;position: relative;}#sk-container-id-2 div.sk-text-repr-fallback {display: none;}</style><div id=\"sk-container-id-2\" class=\"sk-top-container\"><div class=\"sk-text-repr-fallback\"><pre>OneVsRestClassifier(estimator=SVC(kernel=&#x27;linear&#x27;))</pre><b>In a Jupyter environment, please rerun this cell to show the HTML representation or trust the notebook. <br />On GitHub, the HTML representation is unable to render, please try loading this page with nbviewer.org.</b></div><div class=\"sk-container\" hidden><div class=\"sk-item sk-dashed-wrapped\"><div class=\"sk-label-container\"><div class=\"sk-label sk-toggleable\"><input class=\"sk-toggleable__control sk-hidden--visually\" id=\"sk-estimator-id-4\" type=\"checkbox\" ><label for=\"sk-estimator-id-4\" class=\"sk-toggleable__label sk-toggleable__label-arrow\">OneVsRestClassifier</label><div class=\"sk-toggleable__content\"><pre>OneVsRestClassifier(estimator=SVC(kernel=&#x27;linear&#x27;))</pre></div></div></div><div class=\"sk-parallel\"><div class=\"sk-parallel-item\"><div class=\"sk-item\"><div class=\"sk-label-container\"><div class=\"sk-label sk-toggleable\"><input class=\"sk-toggleable__control sk-hidden--visually\" id=\"sk-estimator-id-5\" type=\"checkbox\" ><label for=\"sk-estimator-id-5\" class=\"sk-toggleable__label sk-toggleable__label-arrow\">estimator: SVC</label><div class=\"sk-toggleable__content\"><pre>SVC(kernel=&#x27;linear&#x27;)</pre></div></div></div><div class=\"sk-serial\"><div class=\"sk-item\"><div class=\"sk-estimator sk-toggleable\"><input class=\"sk-toggleable__control sk-hidden--visually\" id=\"sk-estimator-id-6\" type=\"checkbox\" ><label for=\"sk-estimator-id-6\" class=\"sk-toggleable__label sk-toggleable__label-arrow\">SVC</label><div class=\"sk-toggleable__content\"><pre>SVC(kernel=&#x27;linear&#x27;)</pre></div></div></div></div></div></div></div></div></div></div>"
      ],
      "text/plain": [
       "OneVsRestClassifier(estimator=SVC(kernel='linear'))"
      ]
     },
     "execution_count": 25,
     "metadata": {},
     "output_type": "execute_result"
    }
   ],
   "source": [
    "svm_clf = OneVsRestClassifier(SVC(kernel='linear'))\n",
    "svm_clf.fit(X_train, y_train)"
   ]
  },
  {
   "cell_type": "code",
   "execution_count": 26,
   "id": "601a8aa6",
   "metadata": {},
   "outputs": [
    {
     "name": "stdout",
     "output_type": "stream",
     "text": [
      "Le score F1 du classificateur SVM est : 0.6364506277903657\n"
     ]
    }
   ],
   "source": [
    "# Prédire les classes pour l'ensemble de test\n",
    "y_pred = svm_clf.predict(X_test)\n",
    "\n",
    "# Calculer le score F1\n",
    "f1 = f1_score(y_test, y_pred, average='weighted')\n",
    "\n",
    "print(\"Le score F1 du classificateur SVM est :\", f1)"
   ]
  },
  {
   "attachments": {},
   "cell_type": "markdown",
   "id": "4d3a8793",
   "metadata": {},
   "source": [
    "### Random Forest"
   ]
  },
  {
   "cell_type": "code",
   "execution_count": 27,
   "id": "f4fe5f14",
   "metadata": {},
   "outputs": [
    {
     "data": {
      "text/html": [
       "<style>#sk-container-id-3 {color: black;background-color: white;}#sk-container-id-3 pre{padding: 0;}#sk-container-id-3 div.sk-toggleable {background-color: white;}#sk-container-id-3 label.sk-toggleable__label {cursor: pointer;display: block;width: 100%;margin-bottom: 0;padding: 0.3em;box-sizing: border-box;text-align: center;}#sk-container-id-3 label.sk-toggleable__label-arrow:before {content: \"▸\";float: left;margin-right: 0.25em;color: #696969;}#sk-container-id-3 label.sk-toggleable__label-arrow:hover:before {color: black;}#sk-container-id-3 div.sk-estimator:hover label.sk-toggleable__label-arrow:before {color: black;}#sk-container-id-3 div.sk-toggleable__content {max-height: 0;max-width: 0;overflow: hidden;text-align: left;background-color: #f0f8ff;}#sk-container-id-3 div.sk-toggleable__content pre {margin: 0.2em;color: black;border-radius: 0.25em;background-color: #f0f8ff;}#sk-container-id-3 input.sk-toggleable__control:checked~div.sk-toggleable__content {max-height: 200px;max-width: 100%;overflow: auto;}#sk-container-id-3 input.sk-toggleable__control:checked~label.sk-toggleable__label-arrow:before {content: \"▾\";}#sk-container-id-3 div.sk-estimator input.sk-toggleable__control:checked~label.sk-toggleable__label {background-color: #d4ebff;}#sk-container-id-3 div.sk-label input.sk-toggleable__control:checked~label.sk-toggleable__label {background-color: #d4ebff;}#sk-container-id-3 input.sk-hidden--visually {border: 0;clip: rect(1px 1px 1px 1px);clip: rect(1px, 1px, 1px, 1px);height: 1px;margin: -1px;overflow: hidden;padding: 0;position: absolute;width: 1px;}#sk-container-id-3 div.sk-estimator {font-family: monospace;background-color: #f0f8ff;border: 1px dotted black;border-radius: 0.25em;box-sizing: border-box;margin-bottom: 0.5em;}#sk-container-id-3 div.sk-estimator:hover {background-color: #d4ebff;}#sk-container-id-3 div.sk-parallel-item::after {content: \"\";width: 100%;border-bottom: 1px solid gray;flex-grow: 1;}#sk-container-id-3 div.sk-label:hover label.sk-toggleable__label {background-color: #d4ebff;}#sk-container-id-3 div.sk-serial::before {content: \"\";position: absolute;border-left: 1px solid gray;box-sizing: border-box;top: 0;bottom: 0;left: 50%;z-index: 0;}#sk-container-id-3 div.sk-serial {display: flex;flex-direction: column;align-items: center;background-color: white;padding-right: 0.2em;padding-left: 0.2em;position: relative;}#sk-container-id-3 div.sk-item {position: relative;z-index: 1;}#sk-container-id-3 div.sk-parallel {display: flex;align-items: stretch;justify-content: center;background-color: white;position: relative;}#sk-container-id-3 div.sk-item::before, #sk-container-id-3 div.sk-parallel-item::before {content: \"\";position: absolute;border-left: 1px solid gray;box-sizing: border-box;top: 0;bottom: 0;left: 50%;z-index: -1;}#sk-container-id-3 div.sk-parallel-item {display: flex;flex-direction: column;z-index: 1;position: relative;background-color: white;}#sk-container-id-3 div.sk-parallel-item:first-child::after {align-self: flex-end;width: 50%;}#sk-container-id-3 div.sk-parallel-item:last-child::after {align-self: flex-start;width: 50%;}#sk-container-id-3 div.sk-parallel-item:only-child::after {width: 0;}#sk-container-id-3 div.sk-dashed-wrapped {border: 1px dashed gray;margin: 0 0.4em 0.5em 0.4em;box-sizing: border-box;padding-bottom: 0.4em;background-color: white;}#sk-container-id-3 div.sk-label label {font-family: monospace;font-weight: bold;display: inline-block;line-height: 1.2em;}#sk-container-id-3 div.sk-label-container {text-align: center;}#sk-container-id-3 div.sk-container {/* jupyter's `normalize.less` sets `[hidden] { display: none; }` but bootstrap.min.css set `[hidden] { display: none !important; }` so we also need the `!important` here to be able to override the default hidden behavior on the sphinx rendered scikit-learn.org. See: https://github.com/scikit-learn/scikit-learn/issues/21755 */display: inline-block !important;position: relative;}#sk-container-id-3 div.sk-text-repr-fallback {display: none;}</style><div id=\"sk-container-id-3\" class=\"sk-top-container\"><div class=\"sk-text-repr-fallback\"><pre>OneVsRestClassifier(estimator=RandomForestClassifier())</pre><b>In a Jupyter environment, please rerun this cell to show the HTML representation or trust the notebook. <br />On GitHub, the HTML representation is unable to render, please try loading this page with nbviewer.org.</b></div><div class=\"sk-container\" hidden><div class=\"sk-item sk-dashed-wrapped\"><div class=\"sk-label-container\"><div class=\"sk-label sk-toggleable\"><input class=\"sk-toggleable__control sk-hidden--visually\" id=\"sk-estimator-id-7\" type=\"checkbox\" ><label for=\"sk-estimator-id-7\" class=\"sk-toggleable__label sk-toggleable__label-arrow\">OneVsRestClassifier</label><div class=\"sk-toggleable__content\"><pre>OneVsRestClassifier(estimator=RandomForestClassifier())</pre></div></div></div><div class=\"sk-parallel\"><div class=\"sk-parallel-item\"><div class=\"sk-item\"><div class=\"sk-label-container\"><div class=\"sk-label sk-toggleable\"><input class=\"sk-toggleable__control sk-hidden--visually\" id=\"sk-estimator-id-8\" type=\"checkbox\" ><label for=\"sk-estimator-id-8\" class=\"sk-toggleable__label sk-toggleable__label-arrow\">estimator: RandomForestClassifier</label><div class=\"sk-toggleable__content\"><pre>RandomForestClassifier()</pre></div></div></div><div class=\"sk-serial\"><div class=\"sk-item\"><div class=\"sk-estimator sk-toggleable\"><input class=\"sk-toggleable__control sk-hidden--visually\" id=\"sk-estimator-id-9\" type=\"checkbox\" ><label for=\"sk-estimator-id-9\" class=\"sk-toggleable__label sk-toggleable__label-arrow\">RandomForestClassifier</label><div class=\"sk-toggleable__content\"><pre>RandomForestClassifier()</pre></div></div></div></div></div></div></div></div></div></div>"
      ],
      "text/plain": [
       "OneVsRestClassifier(estimator=RandomForestClassifier())"
      ]
     },
     "execution_count": 27,
     "metadata": {},
     "output_type": "execute_result"
    }
   ],
   "source": [
    "rf_clf = OneVsRestClassifier(RandomForestClassifier())\n",
    "rf_clf.fit(X_train, y_train)"
   ]
  },
  {
   "cell_type": "code",
   "execution_count": 28,
   "id": "29ff20af",
   "metadata": {},
   "outputs": [
    {
     "name": "stdout",
     "output_type": "stream",
     "text": [
      "Le score F1 du classificateur Random Forest est : 0.6145573396296076\n"
     ]
    }
   ],
   "source": [
    "# Prédire les classes pour l'ensemble de test\n",
    "y_pred = rf_clf.predict(X_test)\n",
    "\n",
    "# Calculer le score F1\n",
    "f1 = f1_score(y_test, y_pred, average='weighted')\n",
    "\n",
    "print(\"Le score F1 du classificateur Random Forest est :\", f1)"
   ]
  }
 ],
 "metadata": {
  "kernelspec": {
   "display_name": "Python 3",
   "language": "python",
   "name": "python3"
  },
  "language_info": {
   "codemirror_mode": {
    "name": "ipython",
    "version": 3
   },
   "file_extension": ".py",
   "mimetype": "text/x-python",
   "name": "python",
   "nbconvert_exporter": "python",
   "pygments_lexer": "ipython3",
   "version": "3.10.7"
  },
  "vscode": {
   "interpreter": {
    "hash": "84f11f2148bd2fe3bb289ffda545ef54970d3c35b0f5a1c527ecc25164cf23b8"
   }
  }
 },
 "nbformat": 4,
 "nbformat_minor": 5
}
