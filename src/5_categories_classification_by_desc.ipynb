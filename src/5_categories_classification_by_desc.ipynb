{
 "cells": [
  {
   "cell_type": "code",
   "execution_count": 1,
   "id": "799f393f",
   "metadata": {},
   "outputs": [],
   "source": [
    "from iads.data_traitement import traitement\n",
    "from iads.nlp import preprocessing\n",
    "\n",
    "import numpy as np\n",
    "import matplotlib.pyplot as plt\n",
    "import seaborn as sns\n",
    "import pandas as pd\n",
    "\n",
    "import warnings\n",
    "warnings.filterwarnings('ignore')\n",
    "\n",
    "from sklearn.feature_extraction.text import TfidfVectorizer\n",
    "from sklearn.model_selection import train_test_split\n",
    "from sklearn.metrics import f1_score\n",
    "\n",
    "from sklearn.multiclass import OneVsRestClassifier\n",
    "\n",
    "from sklearn.naive_bayes import MultinomialNB\n",
    "from sklearn.svm import SVC\n",
    "from sklearn.ensemble import RandomForestClassifier"
   ]
  },
  {
   "attachments": {},
   "cell_type": "markdown",
   "id": "755975a9",
   "metadata": {},
   "source": [
    "# I. Chargement des données :"
   ]
  },
  {
   "cell_type": "code",
   "execution_count": 2,
   "id": "7f08cd9e",
   "metadata": {},
   "outputs": [],
   "source": [
    "df_jeux_up = pd.read_csv(\"../data/details_desc.csv\")"
   ]
  },
  {
   "cell_type": "code",
   "execution_count": 3,
   "id": "c88230e4",
   "metadata": {},
   "outputs": [
    {
     "data": {
      "text/html": [
       "<div>\n",
       "<style scoped>\n",
       "    .dataframe tbody tr th:only-of-type {\n",
       "        vertical-align: middle;\n",
       "    }\n",
       "\n",
       "    .dataframe tbody tr th {\n",
       "        vertical-align: top;\n",
       "    }\n",
       "\n",
       "    .dataframe thead th {\n",
       "        text-align: right;\n",
       "    }\n",
       "</style>\n",
       "<table border=\"1\" class=\"dataframe\">\n",
       "  <thead>\n",
       "    <tr style=\"text-align: right;\">\n",
       "      <th></th>\n",
       "      <th>Nombre d'avis</th>\n",
       "      <th>full_title</th>\n",
       "      <th>Note rectifiée</th>\n",
       "      <th>Note</th>\n",
       "      <th>Note Finkel</th>\n",
       "      <th>categories</th>\n",
       "      <th>Nombre d'avis rectifiés</th>\n",
       "      <th>description</th>\n",
       "      <th>titre</th>\n",
       "      <th>_id</th>\n",
       "      <th>...</th>\n",
       "      <th>distributors</th>\n",
       "      <th>nb_players</th>\n",
       "      <th>age_required</th>\n",
       "      <th>duration</th>\n",
       "      <th>enfant</th>\n",
       "      <th>ado</th>\n",
       "      <th>adulte</th>\n",
       "      <th>solo</th>\n",
       "      <th>duo</th>\n",
       "      <th>multi</th>\n",
       "    </tr>\n",
       "  </thead>\n",
       "  <tbody>\n",
       "    <tr>\n",
       "      <th>0</th>\n",
       "      <td>19.0</td>\n",
       "      <td>Marvel United (2020)</td>\n",
       "      <td>8.40</td>\n",
       "      <td>7.58</td>\n",
       "      <td>8.74</td>\n",
       "      <td>NaN</td>\n",
       "      <td>10.0</td>\n",
       "      <td>marvel united unir contre super vilain red sku...</td>\n",
       "      <td>Marvel United</td>\n",
       "      <td>marvel-united</td>\n",
       "      <td>...</td>\n",
       "      <td>NaN</td>\n",
       "      <td>1-4</td>\n",
       "      <td>14-99</td>\n",
       "      <td>45.0</td>\n",
       "      <td>0</td>\n",
       "      <td>1</td>\n",
       "      <td>1</td>\n",
       "      <td>1</td>\n",
       "      <td>0</td>\n",
       "      <td>1</td>\n",
       "    </tr>\n",
       "    <tr>\n",
       "      <th>1</th>\n",
       "      <td>33.0</td>\n",
       "      <td>Mariposas (2020)</td>\n",
       "      <td>7.29</td>\n",
       "      <td>7.39</td>\n",
       "      <td>7.68</td>\n",
       "      <td>NaN</td>\n",
       "      <td>17.0</td>\n",
       "      <td>annee printemps million papillon monarque quit...</td>\n",
       "      <td>Mariposas</td>\n",
       "      <td>mariposas</td>\n",
       "      <td>...</td>\n",
       "      <td>NaN</td>\n",
       "      <td>2-5</td>\n",
       "      <td>14-99</td>\n",
       "      <td>60.0</td>\n",
       "      <td>0</td>\n",
       "      <td>1</td>\n",
       "      <td>1</td>\n",
       "      <td>0</td>\n",
       "      <td>1</td>\n",
       "      <td>1</td>\n",
       "    </tr>\n",
       "    <tr>\n",
       "      <th>2</th>\n",
       "      <td>28.0</td>\n",
       "      <td>Quetzal (2020)</td>\n",
       "      <td>7.22</td>\n",
       "      <td>8.18</td>\n",
       "      <td>7.42</td>\n",
       "      <td>placement</td>\n",
       "      <td>9.0</td>\n",
       "      <td>tete groupe aventurier archeologue expedition ...</td>\n",
       "      <td>Quetzal</td>\n",
       "      <td>quetzal</td>\n",
       "      <td>...</td>\n",
       "      <td>NaN</td>\n",
       "      <td>2-5</td>\n",
       "      <td>8-99</td>\n",
       "      <td>45.0</td>\n",
       "      <td>0</td>\n",
       "      <td>1</td>\n",
       "      <td>1</td>\n",
       "      <td>0</td>\n",
       "      <td>1</td>\n",
       "      <td>1</td>\n",
       "    </tr>\n",
       "    <tr>\n",
       "      <th>3</th>\n",
       "      <td>4.0</td>\n",
       "      <td>Alien - Kit de Démarrage (2020)</td>\n",
       "      <td>0.00</td>\n",
       "      <td>9.00</td>\n",
       "      <td>0.00</td>\n",
       "      <td>NaN</td>\n",
       "      <td>0.0</td>\n",
       "      <td>kit demarrage complet plongez horreur boite co...</td>\n",
       "      <td>Alien - Kit de Démarrage</td>\n",
       "      <td>alien-kit-de-demarrage</td>\n",
       "      <td>...</td>\n",
       "      <td>NaN</td>\n",
       "      <td>1-99</td>\n",
       "      <td>12-99</td>\n",
       "      <td>NaN</td>\n",
       "      <td>0</td>\n",
       "      <td>1</td>\n",
       "      <td>1</td>\n",
       "      <td>1</td>\n",
       "      <td>0</td>\n",
       "      <td>1</td>\n",
       "    </tr>\n",
       "    <tr>\n",
       "      <th>4</th>\n",
       "      <td>72.0</td>\n",
       "      <td>The LOOP (2020)</td>\n",
       "      <td>8.79</td>\n",
       "      <td>8.75</td>\n",
       "      <td>9.70</td>\n",
       "      <td>gestion</td>\n",
       "      <td>24.0</td>\n",
       "      <td>dr foo cree terrrribl machine voyager temps ai...</td>\n",
       "      <td>The LOOP</td>\n",
       "      <td>the-loop</td>\n",
       "      <td>...</td>\n",
       "      <td>NaN</td>\n",
       "      <td>1-4</td>\n",
       "      <td>12-99</td>\n",
       "      <td>60.0</td>\n",
       "      <td>0</td>\n",
       "      <td>1</td>\n",
       "      <td>1</td>\n",
       "      <td>1</td>\n",
       "      <td>0</td>\n",
       "      <td>1</td>\n",
       "    </tr>\n",
       "  </tbody>\n",
       "</table>\n",
       "<p>5 rows × 23 columns</p>\n",
       "</div>"
      ],
      "text/plain": [
       "   Nombre d'avis                       full_title  Note rectifiée  Note  \\\n",
       "0           19.0             Marvel United (2020)            8.40  7.58   \n",
       "1           33.0                 Mariposas (2020)            7.29  7.39   \n",
       "2           28.0                   Quetzal (2020)            7.22  8.18   \n",
       "3            4.0  Alien - Kit de Démarrage (2020)            0.00  9.00   \n",
       "4           72.0                  The LOOP (2020)            8.79  8.75   \n",
       "\n",
       "   Note Finkel categories  Nombre d'avis rectifiés  \\\n",
       "0         8.74        NaN                     10.0   \n",
       "1         7.68        NaN                     17.0   \n",
       "2         7.42  placement                      9.0   \n",
       "3         0.00        NaN                      0.0   \n",
       "4         9.70    gestion                     24.0   \n",
       "\n",
       "                                         description  \\\n",
       "0  marvel united unir contre super vilain red sku...   \n",
       "1  annee printemps million papillon monarque quit...   \n",
       "2  tete groupe aventurier archeologue expedition ...   \n",
       "3  kit demarrage complet plongez horreur boite co...   \n",
       "4  dr foo cree terrrribl machine voyager temps ai...   \n",
       "\n",
       "                      titre                     _id  ... distributors  \\\n",
       "0             Marvel United           marvel-united  ...          NaN   \n",
       "1                 Mariposas               mariposas  ...          NaN   \n",
       "2                   Quetzal                 quetzal  ...          NaN   \n",
       "3  Alien - Kit de Démarrage  alien-kit-de-demarrage  ...          NaN   \n",
       "4                  The LOOP                the-loop  ...          NaN   \n",
       "\n",
       "  nb_players age_required duration enfant ado  adulte  solo  duo  multi  \n",
       "0        1-4        14-99     45.0      0   1       1     1    0      1  \n",
       "1        2-5        14-99     60.0      0   1       1     0    1      1  \n",
       "2        2-5         8-99     45.0      0   1       1     0    1      1  \n",
       "3       1-99        12-99      NaN      0   1       1     1    0      1  \n",
       "4        1-4        12-99     60.0      0   1       1     1    0      1  \n",
       "\n",
       "[5 rows x 23 columns]"
      ]
     },
     "execution_count": 3,
     "metadata": {},
     "output_type": "execute_result"
    }
   ],
   "source": [
    "df_jeux_up.head()"
   ]
  },
  {
   "cell_type": "code",
   "execution_count": 4,
   "id": "15cf876a",
   "metadata": {},
   "outputs": [
    {
     "data": {
      "image/png": "[encoded data removed]",
      "text/plain": [
       "<Figure size 432x288 with 1 Axes>"
      ]
     },
     "metadata": {
      "needs_background": "light"
     },
     "output_type": "display_data"
    }
   ],
   "source": [
    "cat_isna  = df_jeux_up[\"categories\"].isna()\n",
    "desc_isna = df_jeux_up[\"description\"].isna()\n",
    "\n",
    "table = pd.crosstab(index=cat_isna, columns=desc_isna, margins=False)\n",
    "table = table.rename(columns={False: 'Description non manquante', True: 'Description manquante'})\n",
    "table = table.rename(index={False: 'Catégorie non manquante', True: 'Catégorie manquante'})\n",
    "sns.heatmap(table, annot=True, cmap='Blues', fmt='g', cbar=False, square=True)\n",
    "plt.show()"
   ]
  },
  {
   "attachments": {},
   "cell_type": "markdown",
   "id": "6ea2e29d",
   "metadata": {},
   "source": [
    "- On remarque qu'il y a 12307 jeux avec une description et une catégorie soit 73% de la base de données, qu'on utilisera pour le train de nos classifers.\n",
    "\n",
    "- Et il y a aussi 1957 jeux sans description, donc des lignes à \"supprimer\" pour nos classifiers.\n",
    "\n",
    "- On voit aussi 2609 avec des descriptions mais sans catégorie, cela on s'en servira pour leur génerer une catégorie avec nos prédicteurs"
   ]
  },
  {
   "cell_type": "code",
   "execution_count": 5,
   "id": "4e82abc5",
   "metadata": {},
   "outputs": [],
   "source": [
    "# on recupére les indices \n",
    "index_desc_cat = ~cat_isna & ~desc_isna\n",
    "index_desc_non_cat = cat_isna & ~desc_isna"
   ]
  },
  {
   "cell_type": "code",
   "execution_count": 6,
   "id": "2f2e2d74",
   "metadata": {},
   "outputs": [
    {
     "data": {
      "text/html": [
       "<div>\n",
       "<style scoped>\n",
       "    .dataframe tbody tr th:only-of-type {\n",
       "        vertical-align: middle;\n",
       "    }\n",
       "\n",
       "    .dataframe tbody tr th {\n",
       "        vertical-align: top;\n",
       "    }\n",
       "\n",
       "    .dataframe thead th {\n",
       "        text-align: right;\n",
       "    }\n",
       "</style>\n",
       "<table border=\"1\" class=\"dataframe\">\n",
       "  <thead>\n",
       "    <tr style=\"text-align: right;\">\n",
       "      <th></th>\n",
       "      <th>Nombre d'avis</th>\n",
       "      <th>full_title</th>\n",
       "      <th>Note rectifiée</th>\n",
       "      <th>Note</th>\n",
       "      <th>Note Finkel</th>\n",
       "      <th>categories</th>\n",
       "      <th>Nombre d'avis rectifiés</th>\n",
       "      <th>description</th>\n",
       "      <th>titre</th>\n",
       "      <th>_id</th>\n",
       "      <th>...</th>\n",
       "      <th>distributors</th>\n",
       "      <th>nb_players</th>\n",
       "      <th>age_required</th>\n",
       "      <th>duration</th>\n",
       "      <th>enfant</th>\n",
       "      <th>ado</th>\n",
       "      <th>adulte</th>\n",
       "      <th>solo</th>\n",
       "      <th>duo</th>\n",
       "      <th>multi</th>\n",
       "    </tr>\n",
       "  </thead>\n",
       "  <tbody>\n",
       "    <tr>\n",
       "      <th>2</th>\n",
       "      <td>28.0</td>\n",
       "      <td>Quetzal (2020)</td>\n",
       "      <td>7.22</td>\n",
       "      <td>8.18</td>\n",
       "      <td>7.42</td>\n",
       "      <td>placement</td>\n",
       "      <td>9.0</td>\n",
       "      <td>tete groupe aventurier archeologue expedition ...</td>\n",
       "      <td>Quetzal</td>\n",
       "      <td>quetzal</td>\n",
       "      <td>...</td>\n",
       "      <td>NaN</td>\n",
       "      <td>2-5</td>\n",
       "      <td>8-99</td>\n",
       "      <td>45.0</td>\n",
       "      <td>0</td>\n",
       "      <td>1</td>\n",
       "      <td>1</td>\n",
       "      <td>0</td>\n",
       "      <td>1</td>\n",
       "      <td>1</td>\n",
       "    </tr>\n",
       "    <tr>\n",
       "      <th>4</th>\n",
       "      <td>72.0</td>\n",
       "      <td>The LOOP (2020)</td>\n",
       "      <td>8.79</td>\n",
       "      <td>8.75</td>\n",
       "      <td>9.70</td>\n",
       "      <td>gestion</td>\n",
       "      <td>24.0</td>\n",
       "      <td>dr foo cree terrrribl machine voyager temps ai...</td>\n",
       "      <td>The LOOP</td>\n",
       "      <td>the-loop</td>\n",
       "      <td>...</td>\n",
       "      <td>NaN</td>\n",
       "      <td>1-4</td>\n",
       "      <td>12-99</td>\n",
       "      <td>60.0</td>\n",
       "      <td>0</td>\n",
       "      <td>1</td>\n",
       "      <td>1</td>\n",
       "      <td>1</td>\n",
       "      <td>0</td>\n",
       "      <td>1</td>\n",
       "    </tr>\n",
       "  </tbody>\n",
       "</table>\n",
       "<p>2 rows × 23 columns</p>\n",
       "</div>"
      ],
      "text/plain": [
       "   Nombre d'avis       full_title  Note rectifiée  Note  Note Finkel  \\\n",
       "2           28.0   Quetzal (2020)            7.22  8.18         7.42   \n",
       "4           72.0  The LOOP (2020)            8.79  8.75         9.70   \n",
       "\n",
       "  categories  Nombre d'avis rectifiés  \\\n",
       "2  placement                      9.0   \n",
       "4    gestion                     24.0   \n",
       "\n",
       "                                         description     titre       _id  ...  \\\n",
       "2  tete groupe aventurier archeologue expedition ...   Quetzal   quetzal  ...   \n",
       "4  dr foo cree terrrribl machine voyager temps ai...  The LOOP  the-loop  ...   \n",
       "\n",
       "  distributors nb_players age_required duration enfant ado  adulte  solo  duo  \\\n",
       "2          NaN        2-5         8-99     45.0      0   1       1     0    1   \n",
       "4          NaN        1-4        12-99     60.0      0   1       1     1    0   \n",
       "\n",
       "   multi  \n",
       "2      1  \n",
       "4      1  \n",
       "\n",
       "[2 rows x 23 columns]"
      ]
     },
     "execution_count": 6,
     "metadata": {},
     "output_type": "execute_result"
    }
   ],
   "source": [
    "df_jeux_up[index_desc_cat].head(2)"
   ]
  },
  {
   "cell_type": "code",
   "execution_count": 7,
   "id": "5a3b1fae",
   "metadata": {},
   "outputs": [
    {
     "data": {
      "text/html": [
       "<div>\n",
       "<style scoped>\n",
       "    .dataframe tbody tr th:only-of-type {\n",
       "        vertical-align: middle;\n",
       "    }\n",
       "\n",
       "    .dataframe tbody tr th {\n",
       "        vertical-align: top;\n",
       "    }\n",
       "\n",
       "    .dataframe thead th {\n",
       "        text-align: right;\n",
       "    }\n",
       "</style>\n",
       "<table border=\"1\" class=\"dataframe\">\n",
       "  <thead>\n",
       "    <tr style=\"text-align: right;\">\n",
       "      <th></th>\n",
       "      <th>Nombre d'avis</th>\n",
       "      <th>full_title</th>\n",
       "      <th>Note rectifiée</th>\n",
       "      <th>Note</th>\n",
       "      <th>Note Finkel</th>\n",
       "      <th>categories</th>\n",
       "      <th>Nombre d'avis rectifiés</th>\n",
       "      <th>description</th>\n",
       "      <th>titre</th>\n",
       "      <th>_id</th>\n",
       "      <th>...</th>\n",
       "      <th>distributors</th>\n",
       "      <th>nb_players</th>\n",
       "      <th>age_required</th>\n",
       "      <th>duration</th>\n",
       "      <th>enfant</th>\n",
       "      <th>ado</th>\n",
       "      <th>adulte</th>\n",
       "      <th>solo</th>\n",
       "      <th>duo</th>\n",
       "      <th>multi</th>\n",
       "    </tr>\n",
       "  </thead>\n",
       "  <tbody>\n",
       "    <tr>\n",
       "      <th>0</th>\n",
       "      <td>19.0</td>\n",
       "      <td>Marvel United (2020)</td>\n",
       "      <td>8.40</td>\n",
       "      <td>7.58</td>\n",
       "      <td>8.74</td>\n",
       "      <td>NaN</td>\n",
       "      <td>10.0</td>\n",
       "      <td>marvel united unir contre super vilain red sku...</td>\n",
       "      <td>Marvel United</td>\n",
       "      <td>marvel-united</td>\n",
       "      <td>...</td>\n",
       "      <td>NaN</td>\n",
       "      <td>1-4</td>\n",
       "      <td>14-99</td>\n",
       "      <td>45.0</td>\n",
       "      <td>0</td>\n",
       "      <td>1</td>\n",
       "      <td>1</td>\n",
       "      <td>1</td>\n",
       "      <td>0</td>\n",
       "      <td>1</td>\n",
       "    </tr>\n",
       "    <tr>\n",
       "      <th>1</th>\n",
       "      <td>33.0</td>\n",
       "      <td>Mariposas (2020)</td>\n",
       "      <td>7.29</td>\n",
       "      <td>7.39</td>\n",
       "      <td>7.68</td>\n",
       "      <td>NaN</td>\n",
       "      <td>17.0</td>\n",
       "      <td>annee printemps million papillon monarque quit...</td>\n",
       "      <td>Mariposas</td>\n",
       "      <td>mariposas</td>\n",
       "      <td>...</td>\n",
       "      <td>NaN</td>\n",
       "      <td>2-5</td>\n",
       "      <td>14-99</td>\n",
       "      <td>60.0</td>\n",
       "      <td>0</td>\n",
       "      <td>1</td>\n",
       "      <td>1</td>\n",
       "      <td>0</td>\n",
       "      <td>1</td>\n",
       "      <td>1</td>\n",
       "    </tr>\n",
       "  </tbody>\n",
       "</table>\n",
       "<p>2 rows × 23 columns</p>\n",
       "</div>"
      ],
      "text/plain": [
       "   Nombre d'avis            full_title  Note rectifiée  Note  Note Finkel  \\\n",
       "0           19.0  Marvel United (2020)            8.40  7.58         8.74   \n",
       "1           33.0      Mariposas (2020)            7.29  7.39         7.68   \n",
       "\n",
       "  categories  Nombre d'avis rectifiés  \\\n",
       "0        NaN                     10.0   \n",
       "1        NaN                     17.0   \n",
       "\n",
       "                                         description          titre  \\\n",
       "0  marvel united unir contre super vilain red sku...  Marvel United   \n",
       "1  annee printemps million papillon monarque quit...      Mariposas   \n",
       "\n",
       "             _id  ... distributors nb_players age_required duration enfant  \\\n",
       "0  marvel-united  ...          NaN        1-4        14-99     45.0      0   \n",
       "1      mariposas  ...          NaN        2-5        14-99     60.0      0   \n",
       "\n",
       "  ado  adulte  solo  duo  multi  \n",
       "0   1       1     1    0      1  \n",
       "1   1       1     0    1      1  \n",
       "\n",
       "[2 rows x 23 columns]"
      ]
     },
     "execution_count": 7,
     "metadata": {},
     "output_type": "execute_result"
    }
   ],
   "source": [
    "df_jeux_up[index_desc_non_cat].head(2)"
   ]
  },
  {
   "attachments": {},
   "cell_type": "markdown",
   "id": "a88c7525",
   "metadata": {},
   "source": [
    "# II. TfIdf sur les descriptions :"
   ]
  },
  {
   "cell_type": "code",
   "execution_count": 8,
   "id": "939f84a9",
   "metadata": {},
   "outputs": [],
   "source": [
    "X_text = df_jeux_up['description'][index_desc_cat]\n",
    "Y_text = df_jeux_up['categories'][index_desc_cat]"
   ]
  },
  {
   "cell_type": "code",
   "execution_count": 9,
   "id": "9b259a46",
   "metadata": {},
   "outputs": [
    {
     "data": {
      "text/plain": [
       "(12306,)"
      ]
     },
     "execution_count": 9,
     "metadata": {},
     "output_type": "execute_result"
    }
   ],
   "source": [
    "X_text.shape"
   ]
  },
  {
   "cell_type": "code",
   "execution_count": 10,
   "id": "3500b6a4",
   "metadata": {},
   "outputs": [
    {
     "data": {
      "text/plain": [
       "(12306,)"
      ]
     },
     "execution_count": 10,
     "metadata": {},
     "output_type": "execute_result"
    }
   ],
   "source": [
    "Y_text.shape"
   ]
  },
  {
   "cell_type": "code",
   "execution_count": 11,
   "id": "6df497e0",
   "metadata": {},
   "outputs": [
    {
     "name": "stdout",
     "output_type": "stream",
     "text": [
      "['affrontement' 'amateur' 'ambiance' 'animal' 'blocage' 'bluff' 'casual'\n",
      " 'combinaison' 'connaissance' 'cooperation' 'deduction' 'deplacement'\n",
      " 'dexterite adresse' 'dé carte' 'exploration' 'famille collection'\n",
      " 'figurine' 'gestion' 'guerre' 'hero' 'historique' 'lettre' 'logique'\n",
      " 'majorite' 'medieval fantastique' 'mythe legende conte' 'observation'\n",
      " 'pion' 'placement' 'plateau' 'rapidite' 'risque prise' 'role'\n",
      " 'science fiction' 'tete casser'] \n",
      "\n",
      " ===>  35\n"
     ]
    }
   ],
   "source": [
    "classes = np.unique(Y_text)\n",
    "print(classes, \"\\n\\n ===> \", len(classes))"
   ]
  },
  {
   "cell_type": "code",
   "execution_count": 12,
   "id": "c0934783",
   "metadata": {},
   "outputs": [],
   "source": [
    "from sklearn.preprocessing import LabelEncoder\n",
    "\n",
    "encoder = LabelEncoder()\n",
    "y = encoder.fit_transform(Y_text)"
   ]
  },
  {
   "cell_type": "code",
   "execution_count": 13,
   "id": "a1a92aba",
   "metadata": {},
   "outputs": [
    {
     "data": {
      "image/png": "[encoded data removed]",
      "text/plain": [
       "<Figure size 432x288 with 1 Axes>"
      ]
     },
     "metadata": {
      "needs_background": "light"
     },
     "output_type": "display_data"
    }
   ],
   "source": [
    "val, count = np.unique(Y_text, return_counts=True)\n",
    "\n",
    "sns.barplot(x = val, y = count)\n",
    "plt.xticks(rotation=90, ha='right')\n",
    "plt.show()"
   ]
  },
  {
   "cell_type": "code",
   "execution_count": 14,
   "id": "5344d8fa",
   "metadata": {},
   "outputs": [
    {
     "data": {
      "text/plain": [
       "(12306, 10739)"
      ]
     },
     "execution_count": 14,
     "metadata": {},
     "output_type": "execute_result"
    }
   ],
   "source": [
    "vectorizer = TfidfVectorizer(max_df=0.95, min_df=4, ngram_range=(1,1))\n",
    "X = vectorizer.fit_transform(X_text)\n",
    "X.shape"
   ]
  },
  {
   "cell_type": "code",
   "execution_count": 15,
   "id": "11c47252",
   "metadata": {},
   "outputs": [],
   "source": [
    "X_train, X_test, y_train, y_test = train_test_split(X, y, test_size=0.2, stratify=y, random_state=0)"
   ]
  },
  {
   "cell_type": "code",
   "execution_count": 16,
   "id": "20e1b019",
   "metadata": {},
   "outputs": [
    {
     "data": {
      "text/plain": [
       "(9844, 10739)"
      ]
     },
     "execution_count": 16,
     "metadata": {},
     "output_type": "execute_result"
    }
   ],
   "source": [
    "X_train.shape"
   ]
  },
  {
   "cell_type": "code",
   "execution_count": 17,
   "id": "e98b61de",
   "metadata": {},
   "outputs": [
    {
     "data": {
      "text/plain": [
       "(2462, 10739)"
      ]
     },
     "execution_count": 17,
     "metadata": {},
     "output_type": "execute_result"
    }
   ],
   "source": [
    "X_test.shape"
   ]
  },
  {
   "cell_type": "code",
   "execution_count": 18,
   "id": "0e36368c",
   "metadata": {},
   "outputs": [
    {
     "data": {
      "image/png": "[encoded data removed]",
      "text/plain": [
       "<Figure size 432x288 with 1 Axes>"
      ]
     },
     "metadata": {
      "needs_background": "light"
     },
     "output_type": "display_data"
    }
   ],
   "source": [
    "val, count = np.unique(y_train, return_counts=True)\n",
    "\n",
    "sns.barplot(x = val, y = count)\n",
    "plt.xticks(rotation=90, ha='right')\n",
    "plt.show()"
   ]
  },
  {
   "cell_type": "code",
   "execution_count": 19,
   "id": "afb0a2c4",
   "metadata": {},
   "outputs": [],
   "source": [
    "# Calculer les proportions des différentes classes dans les données d'entraînement\n",
    "class_counts = np.bincount(y)\n",
    "class_weights = class_counts.sum() / class_counts"
   ]
  },
  {
   "cell_type": "code",
   "execution_count": 20,
   "id": "a55c15e6",
   "metadata": {},
   "outputs": [
    {
     "data": {
      "text/plain": [
       "array([  82,   23,   82,   36,    7,   22,   33,   36,  416,   36,    8,\n",
       "         46,   30, 3541,   10,   13,  473,   83, 1106,   12,    7,  166,\n",
       "        247,    8,  227,   10,   10,  349,  140, 4421,   26,    7,  210,\n",
       "         18,  365])"
      ]
     },
     "execution_count": 20,
     "metadata": {},
     "output_type": "execute_result"
    }
   ],
   "source": [
    "class_counts"
   ]
  },
  {
   "cell_type": "code",
   "execution_count": 21,
   "id": "0181dec3",
   "metadata": {},
   "outputs": [
    {
     "data": {
      "text/plain": [
       "array([ 150.07317073,  535.04347826,  150.07317073,  341.83333333,\n",
       "       1758.        ,  559.36363636,  372.90909091,  341.83333333,\n",
       "         29.58173077,  341.83333333, 1538.25      ,  267.52173913,\n",
       "        410.2       ,    3.47528947, 1230.6       ,  946.61538462,\n",
       "         26.01691332,  148.26506024,   11.12658228, 1025.5       ,\n",
       "       1758.        ,   74.13253012,   49.82186235, 1538.25      ,\n",
       "         54.21145374, 1230.6       , 1230.6       ,   35.26074499,\n",
       "         87.9       ,    2.78353314,  473.30769231, 1758.        ,\n",
       "         58.6       ,  683.66666667,   33.71506849])"
      ]
     },
     "execution_count": 21,
     "metadata": {},
     "output_type": "execute_result"
    }
   ],
   "source": [
    "class_weights"
   ]
  },
  {
   "attachments": {},
   "cell_type": "markdown",
   "id": "92c52344",
   "metadata": {},
   "source": [
    "### Naive Bayes"
   ]
  },
  {
   "cell_type": "code",
   "execution_count": 29,
   "id": "2b54deb0",
   "metadata": {},
   "outputs": [
    {
     "name": "stdout",
     "output_type": "stream",
     "text": [
      "Le score F1 du classificateur Naive Bayes est : 0.5309632946121494\n",
      "Accuracy :  0.5934199837530463\n"
     ]
    }
   ],
   "source": [
    "nb_clf = OneVsRestClassifier(MultinomialNB())\n",
    "nb_clf.fit(X_train, y_train)\n",
    "\n",
    "# Prédire les classes pour l'ensemble de test\n",
    "y_pred = nb_clf.predict(X_test)\n",
    "\n",
    "# Calculer le score F1\n",
    "f1 = f1_score(y_test, y_pred, average='weighted')\n",
    "\n",
    "print(\"Le score F1 du classificateur Naive Bayes est :\", f1)\n",
    "print(\"Accuracy : \", (y_test == y_pred).mean())"
   ]
  },
  {
   "attachments": {},
   "cell_type": "markdown",
   "id": "36dd9e62",
   "metadata": {},
   "source": [
    "### SVM"
   ]
  },
  {
   "cell_type": "code",
   "execution_count": 25,
   "id": "601a8aa6",
   "metadata": {},
   "outputs": [
    {
     "name": "stdout",
     "output_type": "stream",
     "text": [
      "Le score F1 du classificateur SVM est : 0.6265524207917853\n",
      "Accuracy :  0.6547522339561332\n"
     ]
    }
   ],
   "source": [
    "svm_clf = OneVsRestClassifier(SVC(kernel='linear'))\n",
    "svm_clf.fit(X_train, y_train)\n",
    "\n",
    "# Prédire les classes pour l'ensemble de test\n",
    "y_pred = svm_clf.predict(X_test)\n",
    "\n",
    "# Calculer le score F1\n",
    "f1 = f1_score(y_test, y_pred, average='weighted')\n",
    "\n",
    "print(\"Le score F1 du classificateur SVM est :\", f1)\n",
    "print(\"Accuracy : \", (y_test == y_pred).mean())"
   ]
  },
  {
   "attachments": {},
   "cell_type": "markdown",
   "id": "4d3a8793",
   "metadata": {},
   "source": [
    "### Random Forest"
   ]
  },
  {
   "cell_type": "code",
   "execution_count": 30,
   "id": "29ff20af",
   "metadata": {},
   "outputs": [
    {
     "name": "stdout",
     "output_type": "stream",
     "text": [
      "Le score F1 du classificateur Random Forest est : 0.6064393792712415\n",
      "Accuracy :  0.6482534524776604\n"
     ]
    }
   ],
   "source": [
    "rf_clf = OneVsRestClassifier(RandomForestClassifier())\n",
    "rf_clf.fit(X_train, y_train)\n",
    "\n",
    "# Prédire les classes pour l'ensemble de test\n",
    "y_pred = rf_clf.predict(X_test)\n",
    "\n",
    "# Calculer le score F1\n",
    "f1 = f1_score(y_test, y_pred, average='weighted')\n",
    "\n",
    "print(\"Le score F1 du classificateur Random Forest est :\", f1)\n",
    "print(\"Accuracy : \", (y_test == y_pred).mean())"
   ]
  }
 ],
 "metadata": {
  "kernelspec": {
   "display_name": "Python 3",
   "language": "python",
   "name": "python3"
  },
  "language_info": {
   "codemirror_mode": {
    "name": "ipython",
    "version": 3
   },
   "file_extension": ".py",
   "mimetype": "text/x-python",
   "name": "python",
   "nbconvert_exporter": "python",
   "pygments_lexer": "ipython3",
   "version": "3.9.12"
  },
  "vscode": {
   "interpreter": {
    "hash": "84f11f2148bd2fe3bb289ffda545ef54970d3c35b0f5a1c527ecc25164cf23b8"
   }
  }
 },
 "nbformat": 4,
 "nbformat_minor": 5
}
