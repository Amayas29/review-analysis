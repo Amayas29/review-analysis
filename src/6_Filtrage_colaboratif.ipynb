{
 "cells": [
  {
   "cell_type": "code",
   "execution_count": 2,
   "metadata": {},
   "outputs": [],
   "source": [
    "from iads.data_traitement import traitement\n",
    "from iads.nlp import preprocessing\n",
    "\n",
    "import numpy as np\n",
    "import matplotlib.pyplot as plt\n",
    "import seaborn as sns\n",
    "import pandas as pd\n",
    "\n",
    "from tqdm import tqdm\n",
    "import warnings\n",
    "warnings.filterwarnings('ignore')\n"
   ]
  },
  {
   "attachments": {},
   "cell_type": "markdown",
   "metadata": {},
   "source": [
    "# I. Chargement des données :"
   ]
  },
  {
   "cell_type": "code",
   "execution_count": 3,
   "metadata": {},
   "outputs": [
    {
     "data": {
      "text/html": [
       "<div>\n",
       "<style scoped>\n",
       "    .dataframe tbody tr th:only-of-type {\n",
       "        vertical-align: middle;\n",
       "    }\n",
       "\n",
       "    .dataframe tbody tr th {\n",
       "        vertical-align: top;\n",
       "    }\n",
       "\n",
       "    .dataframe thead th {\n",
       "        text-align: right;\n",
       "    }\n",
       "</style>\n",
       "<table border=\"1\" class=\"dataframe\">\n",
       "  <thead>\n",
       "    <tr style=\"text-align: right;\">\n",
       "      <th></th>\n",
       "      <th>Nombre d'avis rectifiés</th>\n",
       "      <th>Note rectifiée</th>\n",
       "      <th>Note Finkel</th>\n",
       "      <th>Nombre d'avis</th>\n",
       "      <th>titre</th>\n",
       "      <th>Note</th>\n",
       "      <th>categories</th>\n",
       "      <th>description</th>\n",
       "      <th>full_title</th>\n",
       "      <th>_id</th>\n",
       "      <th>...</th>\n",
       "      <th>editors</th>\n",
       "      <th>distributors</th>\n",
       "      <th>nb_players</th>\n",
       "      <th>age_required</th>\n",
       "      <th>duration</th>\n",
       "      <th>enfant</th>\n",
       "      <th>ado</th>\n",
       "      <th>adulte</th>\n",
       "      <th>solo</th>\n",
       "      <th>multi</th>\n",
       "    </tr>\n",
       "  </thead>\n",
       "  <tbody>\n",
       "    <tr>\n",
       "      <th>0</th>\n",
       "      <td>10.0</td>\n",
       "      <td>8.40</td>\n",
       "      <td>8.74</td>\n",
       "      <td>19.0</td>\n",
       "      <td>Marvel United</td>\n",
       "      <td>7.58</td>\n",
       "      <td>NaN</td>\n",
       "      <td>marvel united unir contre super vilain red sku...</td>\n",
       "      <td>Marvel United (2020)</td>\n",
       "      <td>marvel-united</td>\n",
       "      <td>...</td>\n",
       "      <td>CMON Limited</td>\n",
       "      <td>NaN</td>\n",
       "      <td>1-4</td>\n",
       "      <td>14-99</td>\n",
       "      <td>45.0</td>\n",
       "      <td>0</td>\n",
       "      <td>1</td>\n",
       "      <td>1</td>\n",
       "      <td>1</td>\n",
       "      <td>1</td>\n",
       "    </tr>\n",
       "    <tr>\n",
       "      <th>1</th>\n",
       "      <td>17.0</td>\n",
       "      <td>7.29</td>\n",
       "      <td>7.68</td>\n",
       "      <td>33.0</td>\n",
       "      <td>Mariposas</td>\n",
       "      <td>7.39</td>\n",
       "      <td>NaN</td>\n",
       "      <td>annee printemps million papillon monarque quit...</td>\n",
       "      <td>Mariposas (2020)</td>\n",
       "      <td>mariposas</td>\n",
       "      <td>...</td>\n",
       "      <td>Gigamic</td>\n",
       "      <td>NaN</td>\n",
       "      <td>2-5</td>\n",
       "      <td>14-99</td>\n",
       "      <td>60.0</td>\n",
       "      <td>0</td>\n",
       "      <td>1</td>\n",
       "      <td>1</td>\n",
       "      <td>0</td>\n",
       "      <td>1</td>\n",
       "    </tr>\n",
       "    <tr>\n",
       "      <th>2</th>\n",
       "      <td>9.0</td>\n",
       "      <td>7.22</td>\n",
       "      <td>7.42</td>\n",
       "      <td>28.0</td>\n",
       "      <td>Quetzal</td>\n",
       "      <td>8.18</td>\n",
       "      <td>placement</td>\n",
       "      <td>tete groupe aventurier archeologue expedition ...</td>\n",
       "      <td>Quetzal (2020)</td>\n",
       "      <td>quetzal</td>\n",
       "      <td>...</td>\n",
       "      <td>Gigamic</td>\n",
       "      <td>NaN</td>\n",
       "      <td>2-5</td>\n",
       "      <td>8-99</td>\n",
       "      <td>45.0</td>\n",
       "      <td>0</td>\n",
       "      <td>1</td>\n",
       "      <td>1</td>\n",
       "      <td>0</td>\n",
       "      <td>1</td>\n",
       "    </tr>\n",
       "    <tr>\n",
       "      <th>3</th>\n",
       "      <td>0.0</td>\n",
       "      <td>0.00</td>\n",
       "      <td>0.00</td>\n",
       "      <td>4.0</td>\n",
       "      <td>Alien - Kit de Démarrage</td>\n",
       "      <td>9.00</td>\n",
       "      <td>NaN</td>\n",
       "      <td>kit demarrage complet plongez horreur boite co...</td>\n",
       "      <td>Alien - Kit de Démarrage (2020)</td>\n",
       "      <td>alien-kit-de-demarrage</td>\n",
       "      <td>...</td>\n",
       "      <td>Arkhane Asylum Publishing</td>\n",
       "      <td>NaN</td>\n",
       "      <td>1-99</td>\n",
       "      <td>12-99</td>\n",
       "      <td>NaN</td>\n",
       "      <td>0</td>\n",
       "      <td>1</td>\n",
       "      <td>1</td>\n",
       "      <td>1</td>\n",
       "      <td>1</td>\n",
       "    </tr>\n",
       "    <tr>\n",
       "      <th>4</th>\n",
       "      <td>24.0</td>\n",
       "      <td>8.79</td>\n",
       "      <td>9.70</td>\n",
       "      <td>72.0</td>\n",
       "      <td>The LOOP</td>\n",
       "      <td>8.75</td>\n",
       "      <td>gestion</td>\n",
       "      <td>dr foo cree terrrribl machine voyager temps ai...</td>\n",
       "      <td>The LOOP (2020)</td>\n",
       "      <td>the-loop</td>\n",
       "      <td>...</td>\n",
       "      <td>Catch Up Games</td>\n",
       "      <td>NaN</td>\n",
       "      <td>1-4</td>\n",
       "      <td>12-99</td>\n",
       "      <td>60.0</td>\n",
       "      <td>0</td>\n",
       "      <td>1</td>\n",
       "      <td>1</td>\n",
       "      <td>1</td>\n",
       "      <td>1</td>\n",
       "    </tr>\n",
       "  </tbody>\n",
       "</table>\n",
       "<p>5 rows × 22 columns</p>\n",
       "</div>"
      ],
      "text/plain": [
       "   Nombre d'avis rectifiés  Note rectifiée  Note Finkel  Nombre d'avis  \\\n",
       "0                     10.0            8.40         8.74           19.0   \n",
       "1                     17.0            7.29         7.68           33.0   \n",
       "2                      9.0            7.22         7.42           28.0   \n",
       "3                      0.0            0.00         0.00            4.0   \n",
       "4                     24.0            8.79         9.70           72.0   \n",
       "\n",
       "                      titre  Note categories  \\\n",
       "0             Marvel United  7.58        NaN   \n",
       "1                 Mariposas  7.39        NaN   \n",
       "2                   Quetzal  8.18  placement   \n",
       "3  Alien - Kit de Démarrage  9.00        NaN   \n",
       "4                  The LOOP  8.75    gestion   \n",
       "\n",
       "                                         description  \\\n",
       "0  marvel united unir contre super vilain red sku...   \n",
       "1  annee printemps million papillon monarque quit...   \n",
       "2  tete groupe aventurier archeologue expedition ...   \n",
       "3  kit demarrage complet plongez horreur boite co...   \n",
       "4  dr foo cree terrrribl machine voyager temps ai...   \n",
       "\n",
       "                        full_title                     _id  ...  \\\n",
       "0             Marvel United (2020)           marvel-united  ...   \n",
       "1                 Mariposas (2020)               mariposas  ...   \n",
       "2                   Quetzal (2020)                 quetzal  ...   \n",
       "3  Alien - Kit de Démarrage (2020)  alien-kit-de-demarrage  ...   \n",
       "4                  The LOOP (2020)                the-loop  ...   \n",
       "\n",
       "                     editors distributors nb_players age_required duration  \\\n",
       "0               CMON Limited          NaN        1-4        14-99     45.0   \n",
       "1                    Gigamic          NaN        2-5        14-99     60.0   \n",
       "2                    Gigamic          NaN        2-5         8-99     45.0   \n",
       "3  Arkhane Asylum Publishing          NaN       1-99        12-99      NaN   \n",
       "4             Catch Up Games          NaN        1-4        12-99     60.0   \n",
       "\n",
       "  enfant  ado  adulte  solo  multi  \n",
       "0      0    1       1     1      1  \n",
       "1      0    1       1     0      1  \n",
       "2      0    1       1     0      1  \n",
       "3      0    1       1     1      1  \n",
       "4      0    1       1     1      1  \n",
       "\n",
       "[5 rows x 22 columns]"
      ]
     },
     "execution_count": 3,
     "metadata": {},
     "output_type": "execute_result"
    }
   ],
   "source": [
    "df_jeux = pd.read_csv(\"../data/details_desc.csv\")\n",
    "df_jeux.head()"
   ]
  },
  {
   "cell_type": "code",
   "execution_count": 4,
   "metadata": {},
   "outputs": [
    {
     "data": {
      "text/html": [
       "<div>\n",
       "<style scoped>\n",
       "    .dataframe tbody tr th:only-of-type {\n",
       "        vertical-align: middle;\n",
       "    }\n",
       "\n",
       "    .dataframe tbody tr th {\n",
       "        vertical-align: top;\n",
       "    }\n",
       "\n",
       "    .dataframe thead th {\n",
       "        text-align: right;\n",
       "    }\n",
       "</style>\n",
       "<table border=\"1\" class=\"dataframe\">\n",
       "  <thead>\n",
       "    <tr style=\"text-align: right;\">\n",
       "      <th></th>\n",
       "      <th>title</th>\n",
       "      <th>note</th>\n",
       "      <th>author</th>\n",
       "      <th>comment</th>\n",
       "      <th>date_published</th>\n",
       "      <th>treated</th>\n",
       "      <th>title_review</th>\n",
       "      <th>title_id_jeu</th>\n",
       "    </tr>\n",
       "  </thead>\n",
       "  <tbody>\n",
       "    <tr>\n",
       "      <th>0</th>\n",
       "      <td>Mariposas</td>\n",
       "      <td>8.0</td>\n",
       "      <td>Monsieur Guillaume</td>\n",
       "      <td>Lorsque le jeu est jeu, bon, réflexif, joli po...</td>\n",
       "      <td>2021</td>\n",
       "      <td>True</td>\n",
       "      <td>Voyages sur les ailes des papillons</td>\n",
       "      <td>mariposas</td>\n",
       "    </tr>\n",
       "    <tr>\n",
       "      <th>1</th>\n",
       "      <td>Mariposas</td>\n",
       "      <td>7.0</td>\n",
       "      <td>morlockbob</td>\n",
       "      <td>Comment continuer après un mega hit ? Simpleme...</td>\n",
       "      <td>2020</td>\n",
       "      <td>True</td>\n",
       "      <td>le festival de Michoacan</td>\n",
       "      <td>mariposas</td>\n",
       "    </tr>\n",
       "    <tr>\n",
       "      <th>2</th>\n",
       "      <td>Mariposas</td>\n",
       "      <td>7.0</td>\n",
       "      <td>SwatSh</td>\n",
       "      <td>Vin d'jeu: Avec Mariposas, Elizabeth Hargrave ...</td>\n",
       "      <td>2021</td>\n",
       "      <td>True</td>\n",
       "      <td>Vivez la migration des monarques</td>\n",
       "      <td>mariposas</td>\n",
       "    </tr>\n",
       "    <tr>\n",
       "      <th>3</th>\n",
       "      <td>Mariposas</td>\n",
       "      <td>8.0</td>\n",
       "      <td>Timi JeuxATheme</td>\n",
       "      <td>NaN</td>\n",
       "      <td>2020</td>\n",
       "      <td>True</td>\n",
       "      <td>Bon</td>\n",
       "      <td>mariposas</td>\n",
       "    </tr>\n",
       "    <tr>\n",
       "      <th>4</th>\n",
       "      <td>Mariposas</td>\n",
       "      <td>9.0</td>\n",
       "      <td>prunelles</td>\n",
       "      <td>Très joli bijou que ce jeu-là ! Le matériel, l...</td>\n",
       "      <td>2021</td>\n",
       "      <td>True</td>\n",
       "      <td>Envolez-moi</td>\n",
       "      <td>mariposas</td>\n",
       "    </tr>\n",
       "  </tbody>\n",
       "</table>\n",
       "</div>"
      ],
      "text/plain": [
       "       title  note              author  \\\n",
       "0  Mariposas   8.0  Monsieur Guillaume   \n",
       "1  Mariposas   7.0          morlockbob   \n",
       "2  Mariposas   7.0              SwatSh   \n",
       "3  Mariposas   8.0     Timi JeuxATheme   \n",
       "4  Mariposas   9.0           prunelles   \n",
       "\n",
       "                                             comment  date_published  treated  \\\n",
       "0  Lorsque le jeu est jeu, bon, réflexif, joli po...            2021     True   \n",
       "1  Comment continuer après un mega hit ? Simpleme...            2020     True   \n",
       "2  Vin d'jeu: Avec Mariposas, Elizabeth Hargrave ...            2021     True   \n",
       "3                                                NaN            2020     True   \n",
       "4  Très joli bijou que ce jeu-là ! Le matériel, l...            2021     True   \n",
       "\n",
       "                          title_review title_id_jeu  \n",
       "0  Voyages sur les ailes des papillons    mariposas  \n",
       "1             le festival de Michoacan    mariposas  \n",
       "2     Vivez la migration des monarques    mariposas  \n",
       "3                                  Bon    mariposas  \n",
       "4                          Envolez-moi    mariposas  "
      ]
     },
     "execution_count": 4,
     "metadata": {},
     "output_type": "execute_result"
    }
   ],
   "source": [
    "df_avis = pd.read_csv(\"../data/avis_clean.csv\")\n",
    "df_avis.head()"
   ]
  },
  {
   "cell_type": "code",
   "execution_count": 5,
   "metadata": {},
   "outputs": [
    {
     "data": {
      "text/plain": [
       "10936"
      ]
     },
     "execution_count": 5,
     "metadata": {},
     "output_type": "execute_result"
    }
   ],
   "source": [
    "len(np.unique(df_avis[\"title_id_jeu\"]))"
   ]
  },
  {
   "cell_type": "code",
   "execution_count": 6,
   "metadata": {},
   "outputs": [
    {
     "data": {
      "text/plain": [
       "16873"
      ]
     },
     "execution_count": 6,
     "metadata": {},
     "output_type": "execute_result"
    }
   ],
   "source": [
    "len(np.unique(df_jeux[\"_id\"]))"
   ]
  },
  {
   "cell_type": "code",
   "execution_count": 7,
   "metadata": {},
   "outputs": [
    {
     "data": {
      "text/plain": [
       "array([False])"
      ]
     },
     "execution_count": 7,
     "metadata": {},
     "output_type": "execute_result"
    }
   ],
   "source": [
    "np.unique(df_avis[df_avis[\"author\"]== \"Monsieur Guillaume\"][\"title_id_jeu\"] == \"marvel-united\")"
   ]
  },
  {
   "cell_type": "code",
   "execution_count": 7,
   "metadata": {},
   "outputs": [
    {
     "name": "stderr",
     "output_type": "stream",
     "text": [
      "  0%|          | 1006998/229860879 [01:10<4:45:13, 13372.34it/s]"
     ]
    }
   ],
   "source": [
    "# Définir les index pour les DataFrames\n",
    "df_avis_indexed = df_avis.set_index(['author', 'title_id_jeu'])\n",
    "df_jeux_indexed = df_jeux.set_index('_id')\n",
    "\n",
    "# Créer une matrice de notes vide, où chaque ligne représente un utilisateur\n",
    "# et chaque colonne représente un jeu\n",
    "users = df_avis['author'].unique()\n",
    "games = df_jeux['_id'].unique()\n",
    "ratings_matrix = np.zeros((len(users), len(games)))\n",
    "\n",
    "# Remplir la matrice avec les notes données par les utilisateurs\n",
    "with tqdm(total=len(users)*len(games)) as pbar:\n",
    "    for i, user in enumerate(users):\n",
    "        for j, game in enumerate(games):\n",
    "            try: \n",
    "                game_rating = df_avis_indexed.loc[(user, game), 'note']\n",
    "                if not game_rating.empty:\n",
    "                    ratings_matrix[i, j] = game_rating.values[0]\n",
    "                pbar.update(1)\n",
    "            except:\n",
    "                pbar.update(1)\n",
    "                continue\n",
    "\n",
    "print(ratings_matrix)"
   ]
  },
  {
   "cell_type": "code",
   "execution_count": 8,
   "metadata": {},
   "outputs": [
    {
     "name": "stdout",
     "output_type": "stream",
     "text": [
      "[[nan nan nan ... nan nan nan]\n",
      " [nan nan nan ... nan nan nan]\n",
      " [nan nan nan ... nan nan nan]\n",
      " ...\n",
      " [nan nan nan ... nan nan nan]\n",
      " [nan nan nan ... nan nan nan]\n",
      " [nan nan nan ... nan nan nan]]\n"
     ]
    }
   ],
   "source": [
    "# Définir les index pour les DataFrames\n",
    "df_avis_indexed = df_avis.set_index(['author', 'title_id_jeu'])\n",
    "df_jeux_indexed = df_jeux.set_index('_id')\n",
    "\n",
    "# Créer une matrice de notes vide, où chaque ligne représente un utilisateur\n",
    "# et chaque colonne représente un jeu\n",
    "users = df_avis['author'].unique()\n",
    "games = df_jeux['_id'].unique()\n",
    "ratings_matrix = np.zeros((len(users), len(games)))\n",
    "\n",
    "# Remplir la matrice avec les notes données par les utilisateurs\n",
    "ratings_matrix = df_avis_indexed['note'].unstack(level=-1).reindex(users, fill_value=0).values\n",
    "\n",
    "# Afficher la matrice de notes\n",
    "print(ratings_matrix)"
   ]
  },
  {
   "cell_type": "code",
   "execution_count": 9,
   "metadata": {},
   "outputs": [
    {
     "data": {
      "text/plain": [
       "<matplotlib.image.AxesImage at 0x2406e41c7c0>"
      ]
     },
     "execution_count": 9,
     "metadata": {},
     "output_type": "execute_result"
    },
    {
     "data": {
      "image/png": "[encoded data removed]",
      "text/plain": [
       "<Figure size 640x480 with 1 Axes>"
      ]
     },
     "metadata": {},
     "output_type": "display_data"
    }
   ],
   "source": [
    "plt.imshow(ratings_matrix)"
   ]
  },
  {
   "cell_type": "code",
   "execution_count": null,
   "metadata": {},
   "outputs": [],
   "source": []
  }
 ],
 "metadata": {
  "kernelspec": {
   "display_name": "Python 3",
   "language": "python",
   "name": "python3"
  },
  "language_info": {
   "codemirror_mode": {
    "name": "ipython",
    "version": 3
   },
   "file_extension": ".py",
   "mimetype": "text/x-python",
   "name": "python",
   "nbconvert_exporter": "python",
   "pygments_lexer": "ipython3",
   "version": "3.10.7"
  },
  "orig_nbformat": 4
 },
 "nbformat": 4,
 "nbformat_minor": 2
}
