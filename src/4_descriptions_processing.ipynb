{
 "cells": [
  {
   "cell_type": "code",
   "execution_count": 1,
   "id": "6f4c045b",
   "metadata": {},
   "outputs": [],
   "source": [
    "from iads.nlp import preprocessing\n",
    "\n",
    "import numpy as np\n",
    "import matplotlib.pyplot as plt\n",
    "import seaborn as sns\n",
    "import pandas as pd\n",
    "\n",
    "import warnings\n",
    "warnings.filterwarnings('ignore')\n",
    "\n",
    "from langdetect import detect"
   ]
  },
  {
   "attachments": {},
   "cell_type": "markdown",
   "id": "cbea8f4d",
   "metadata": {},
   "source": [
    "# I. Chargement des données :"
   ]
  },
  {
   "cell_type": "code",
   "execution_count": 2,
   "id": "6cc92f19",
   "metadata": {},
   "outputs": [],
   "source": [
    "df_jeux_up = pd.read_csv(\"../data/details_categ.csv\")"
   ]
  },
  {
   "cell_type": "code",
   "execution_count": 3,
   "id": "b74f9596",
   "metadata": {},
   "outputs": [
    {
     "data": {
      "text/html": [
       "<div>\n",
       "<style scoped>\n",
       "    .dataframe tbody tr th:only-of-type {\n",
       "        vertical-align: middle;\n",
       "    }\n",
       "\n",
       "    .dataframe tbody tr th {\n",
       "        vertical-align: top;\n",
       "    }\n",
       "\n",
       "    .dataframe thead th {\n",
       "        text-align: right;\n",
       "    }\n",
       "</style>\n",
       "<table border=\"1\" class=\"dataframe\">\n",
       "  <thead>\n",
       "    <tr style=\"text-align: right;\">\n",
       "      <th></th>\n",
       "      <th>Nombre d'avis</th>\n",
       "      <th>Note</th>\n",
       "      <th>categories</th>\n",
       "      <th>description</th>\n",
       "      <th>titre</th>\n",
       "      <th>_id</th>\n",
       "      <th>creators</th>\n",
       "      <th>illustrators</th>\n",
       "      <th>editors</th>\n",
       "      <th>distributors</th>\n",
       "      <th>duration</th>\n",
       "      <th>enfant</th>\n",
       "      <th>ado</th>\n",
       "      <th>adulte</th>\n",
       "      <th>solo</th>\n",
       "      <th>duo</th>\n",
       "      <th>multi</th>\n",
       "    </tr>\n",
       "  </thead>\n",
       "  <tbody>\n",
       "    <tr>\n",
       "      <th>0</th>\n",
       "      <td>19.0</td>\n",
       "      <td>7.58</td>\n",
       "      <td>NaN</td>\n",
       "      <td>\\n                      Marvel United : Unis c...</td>\n",
       "      <td>Marvel United</td>\n",
       "      <td>marvel-united</td>\n",
       "      <td>Eric Lang et Andrea Chiarvesio</td>\n",
       "      <td>Édouard Guiton</td>\n",
       "      <td>CMON Limited</td>\n",
       "      <td>NaN</td>\n",
       "      <td>45.0</td>\n",
       "      <td>0</td>\n",
       "      <td>1</td>\n",
       "      <td>1</td>\n",
       "      <td>1</td>\n",
       "      <td>0</td>\n",
       "      <td>1</td>\n",
       "    </tr>\n",
       "    <tr>\n",
       "      <th>1</th>\n",
       "      <td>33.0</td>\n",
       "      <td>7.39</td>\n",
       "      <td>NaN</td>\n",
       "      <td>\\n                      Chaque année, au print...</td>\n",
       "      <td>Mariposas</td>\n",
       "      <td>mariposas</td>\n",
       "      <td>Elizabeth Hargrave</td>\n",
       "      <td>Matt Paquette et Indi Maverick</td>\n",
       "      <td>Gigamic</td>\n",
       "      <td>NaN</td>\n",
       "      <td>60.0</td>\n",
       "      <td>0</td>\n",
       "      <td>1</td>\n",
       "      <td>1</td>\n",
       "      <td>0</td>\n",
       "      <td>1</td>\n",
       "      <td>1</td>\n",
       "    </tr>\n",
       "    <tr>\n",
       "      <th>2</th>\n",
       "      <td>28.0</td>\n",
       "      <td>8.18</td>\n",
       "      <td>placement</td>\n",
       "      <td>\\n                      Vous êtes à la tête d’...</td>\n",
       "      <td>Quetzal</td>\n",
       "      <td>quetzal</td>\n",
       "      <td>Alexandre Garcia</td>\n",
       "      <td>Nastya Lehn</td>\n",
       "      <td>Gigamic</td>\n",
       "      <td>NaN</td>\n",
       "      <td>45.0</td>\n",
       "      <td>0</td>\n",
       "      <td>1</td>\n",
       "      <td>1</td>\n",
       "      <td>0</td>\n",
       "      <td>1</td>\n",
       "      <td>1</td>\n",
       "    </tr>\n",
       "    <tr>\n",
       "      <th>3</th>\n",
       "      <td>4.0</td>\n",
       "      <td>9.00</td>\n",
       "      <td>NaN</td>\n",
       "      <td>\\n                      Un Kit de démarrage co...</td>\n",
       "      <td>Alien - Kit de Démarrage</td>\n",
       "      <td>alien-kit-de-demarrage</td>\n",
       "      <td>NaN</td>\n",
       "      <td>NaN</td>\n",
       "      <td>Arkhane Asylum Publishing</td>\n",
       "      <td>NaN</td>\n",
       "      <td>NaN</td>\n",
       "      <td>0</td>\n",
       "      <td>1</td>\n",
       "      <td>1</td>\n",
       "      <td>1</td>\n",
       "      <td>0</td>\n",
       "      <td>1</td>\n",
       "    </tr>\n",
       "    <tr>\n",
       "      <th>4</th>\n",
       "      <td>72.0</td>\n",
       "      <td>8.75</td>\n",
       "      <td>gestion</td>\n",
       "      <td>\\n                      Le Dr Foo a créé une t...</td>\n",
       "      <td>The LOOP</td>\n",
       "      <td>the-loop</td>\n",
       "      <td>Maxime Rambourg et Théo Rivière</td>\n",
       "      <td>Simon Caruso</td>\n",
       "      <td>Catch Up Games</td>\n",
       "      <td>NaN</td>\n",
       "      <td>60.0</td>\n",
       "      <td>0</td>\n",
       "      <td>1</td>\n",
       "      <td>1</td>\n",
       "      <td>1</td>\n",
       "      <td>0</td>\n",
       "      <td>1</td>\n",
       "    </tr>\n",
       "  </tbody>\n",
       "</table>\n",
       "</div>"
      ],
      "text/plain": [
       "   Nombre d'avis  Note categories  \\\n",
       "0           19.0  7.58        NaN   \n",
       "1           33.0  7.39        NaN   \n",
       "2           28.0  8.18  placement   \n",
       "3            4.0  9.00        NaN   \n",
       "4           72.0  8.75    gestion   \n",
       "\n",
       "                                         description  \\\n",
       "0  \\n                      Marvel United : Unis c...   \n",
       "1  \\n                      Chaque année, au print...   \n",
       "2  \\n                      Vous êtes à la tête d’...   \n",
       "3  \\n                      Un Kit de démarrage co...   \n",
       "4  \\n                      Le Dr Foo a créé une t...   \n",
       "\n",
       "                      titre                     _id  \\\n",
       "0             Marvel United           marvel-united   \n",
       "1                 Mariposas               mariposas   \n",
       "2                   Quetzal                 quetzal   \n",
       "3  Alien - Kit de Démarrage  alien-kit-de-demarrage   \n",
       "4                  The LOOP                the-loop   \n",
       "\n",
       "                          creators                    illustrators  \\\n",
       "0   Eric Lang et Andrea Chiarvesio                  Édouard Guiton   \n",
       "1               Elizabeth Hargrave  Matt Paquette et Indi Maverick   \n",
       "2                 Alexandre Garcia                     Nastya Lehn   \n",
       "3                              NaN                             NaN   \n",
       "4  Maxime Rambourg et Théo Rivière                    Simon Caruso   \n",
       "\n",
       "                     editors distributors  duration  enfant  ado  adulte  \\\n",
       "0               CMON Limited          NaN      45.0       0    1       1   \n",
       "1                    Gigamic          NaN      60.0       0    1       1   \n",
       "2                    Gigamic          NaN      45.0       0    1       1   \n",
       "3  Arkhane Asylum Publishing          NaN       NaN       0    1       1   \n",
       "4             Catch Up Games          NaN      60.0       0    1       1   \n",
       "\n",
       "   solo  duo  multi  \n",
       "0     1    0      1  \n",
       "1     0    1      1  \n",
       "2     0    1      1  \n",
       "3     1    0      1  \n",
       "4     1    0      1  "
      ]
     },
     "execution_count": 3,
     "metadata": {},
     "output_type": "execute_result"
    }
   ],
   "source": [
    "df_jeux_up.head()"
   ]
  },
  {
   "attachments": {},
   "cell_type": "markdown",
   "id": "bcc53266",
   "metadata": {},
   "source": [
    "# II. Netooyage des descriptions :"
   ]
  },
  {
   "attachments": {},
   "cell_type": "markdown",
   "id": "8aa7e188",
   "metadata": {},
   "source": [
    "## 1. Les déscriptions manquantes : "
   ]
  },
  {
   "attachments": {},
   "cell_type": "markdown",
   "id": "dbba2ca9",
   "metadata": {},
   "source": [
    "Les courtes descriptions dans la base de données"
   ]
  },
  {
   "cell_type": "code",
   "execution_count": 4,
   "id": "65b75c83",
   "metadata": {},
   "outputs": [
    {
     "data": {
      "text/plain": [
       "array(['\\n                      Aucune description\\n                  ',\n",
       "       '\\n                      Le trio magique\\n                  ',\n",
       "       '\\n                      Essen 2012\\n                  ',\n",
       "       '\\n                      Jeux sur les trains\\n\\n                  ',\n",
       "       '\\n                      Essen 2012\\n\\n                  ',\n",
       "       '\\n                      La version voyage\\n\\n                  ',\n",
       "       \"\\n                      L'ancêtre du Mölkky\\n                  \",\n",
       "       '\\n                      Duel de dés.\\n\\n                  ',\n",
       "       '\\n                      Goodies\\n                  ',\n",
       "       '\\n                      Tuiles bonus\\n                  '],\n",
       "      dtype=object)"
      ]
     },
     "execution_count": 4,
     "metadata": {},
     "output_type": "execute_result"
    }
   ],
   "source": [
    "df_jeux_up[df_jeux_up[\"description\"].map(str.strip).map(len) < 20]['description'].unique()[:10]"
   ]
  },
  {
   "attachments": {},
   "cell_type": "markdown",
   "id": "f9205307",
   "metadata": {},
   "source": [
    "On remarque qu'il y'a des descriptions sous la forme `Aucune description` qu'on supprimera "
   ]
  },
  {
   "cell_type": "code",
   "execution_count": 5,
   "id": "f24306ee",
   "metadata": {},
   "outputs": [
    {
     "name": "stdout",
     "output_type": "stream",
     "text": [
      "Le nombre de jeux avec la description 'Aucune description' :\n"
     ]
    },
    {
     "data": {
      "text/plain": [
       "1857"
      ]
     },
     "execution_count": 5,
     "metadata": {},
     "output_type": "execute_result"
    }
   ],
   "source": [
    "print(\"Le nombre de jeux avec la description 'Aucune description' :\")\n",
    "aucune_desc = df_jeux_up[\"description\"].map(lambda d : \"Aucune description\" in d)\n",
    "aucune_desc.astype(int).sum()"
   ]
  },
  {
   "cell_type": "code",
   "execution_count": 6,
   "id": "4bdfb76f",
   "metadata": {},
   "outputs": [],
   "source": [
    "df_jeux_up[\"description\"] = df_jeux_up[\"description\"].map(str.strip).replace(\"Aucune description\", np.NaN)"
   ]
  },
  {
   "cell_type": "code",
   "execution_count": 7,
   "id": "16a31cbc",
   "metadata": {},
   "outputs": [
    {
     "name": "stdout",
     "output_type": "stream",
     "text": [
      "Apres la suppression de 'Aucune description', nombre de jeux avec cette description :\n"
     ]
    },
    {
     "data": {
      "text/plain": [
       "0"
      ]
     },
     "execution_count": 7,
     "metadata": {},
     "output_type": "execute_result"
    }
   ],
   "source": [
    "print(\"Apres la suppression de 'Aucune description', nombre de jeux avec cette description :\")\n",
    "aucune_desc = df_jeux_up[\"description\"].map(lambda d : \"Aucune description\" in d if type(d) == str else False)\n",
    "aucune_desc.astype(int).sum()"
   ]
  },
  {
   "attachments": {},
   "cell_type": "markdown",
   "id": "d372bef2",
   "metadata": {},
   "source": [
    "## 2. Catégories et Déscriptions :"
   ]
  },
  {
   "cell_type": "code",
   "execution_count": 8,
   "id": "e1d2780c",
   "metadata": {},
   "outputs": [],
   "source": [
    "cat_isna  = df_jeux_up[\"categories\"].isna()\n",
    "desc_isna = df_jeux_up[\"description\"].isna()"
   ]
  },
  {
   "cell_type": "code",
   "execution_count": 9,
   "id": "5542b2b6",
   "metadata": {},
   "outputs": [
    {
     "data": {
      "image/png": "[encoded data removed]",
      "text/plain": [
       "<Figure size 432x288 with 1 Axes>"
      ]
     },
     "metadata": {
      "needs_background": "light"
     },
     "output_type": "display_data"
    }
   ],
   "source": [
    "table = pd.crosstab(index=cat_isna, columns=desc_isna, margins=False)\n",
    "table = table.rename(columns={False: 'Description non manquante', True: 'Description manquante'})\n",
    "table = table.rename(index={False: 'Catégorie non manquante', True: 'Catégorie manquante'})\n",
    "sns.heatmap(table, annot=True, cmap='Blues', fmt='g', cbar=False, square=True)\n",
    "plt.show()"
   ]
  },
  {
   "attachments": {},
   "cell_type": "markdown",
   "id": "680e3946",
   "metadata": {},
   "source": [
    "- On remarque qu'il y a 12394 jeux avec une description et une catégorie soit 73% de la base de données, qu'on utilisera pour le train de nos classifers.\n",
    "\n",
    "- Et il y a aussi 1857 jeux sans description, donc des lignes à \"supprimer\" pour nos classifiers.\n",
    "\n",
    "- On voit aussi 2622 avec des descriptions mais sans catégorie, cela on s'en servira pour leur génerer une catégorie avec nos prédicteurs"
   ]
  },
  {
   "cell_type": "code",
   "execution_count": 10,
   "id": "d98a3801",
   "metadata": {},
   "outputs": [],
   "source": [
    "descriptions = df_jeux_up[\"description\"][~desc_isna]"
   ]
  },
  {
   "attachments": {},
   "cell_type": "markdown",
   "id": "df33510e",
   "metadata": {},
   "source": [
    "## 3. Des descriptions dans d'autres langues :"
   ]
  },
  {
   "cell_type": "code",
   "execution_count": 11,
   "id": "3c5cb0ac",
   "metadata": {},
   "outputs": [],
   "source": [
    "from tqdm import tqdm\n",
    "tqdm.pandas()"
   ]
  },
  {
   "cell_type": "code",
   "execution_count": 12,
   "id": "0cd29032",
   "metadata": {},
   "outputs": [
    {
     "name": "stderr",
     "output_type": "stream",
     "text": [
      "100%|██████████| 15016/15016 [00:59<00:00, 254.05it/s]\n"
     ]
    }
   ],
   "source": [
    "desc_lang = descriptions.progress_apply(detect)\n",
    "val, count = np.unique(desc_lang, return_counts=True)\n",
    "\n",
    "index = count.argsort()[::-1]\n",
    "count = count[index]\n",
    "val   = val[index]"
   ]
  },
  {
   "cell_type": "code",
   "execution_count": 13,
   "id": "afb7cfb8",
   "metadata": {},
   "outputs": [],
   "source": [
    "fr = np.where(val == 'fr')[0][0]\n",
    "\n",
    "count_autre = np.delete(count, fr)"
   ]
  },
  {
   "cell_type": "code",
   "execution_count": 14,
   "id": "c87952fa",
   "metadata": {},
   "outputs": [
    {
     "data": {
      "image/png": "[encoded data removed]",
      "text/plain": [
       "<Figure size 432x288 with 1 Axes>"
      ]
     },
     "metadata": {
      "needs_background": "light"
     },
     "output_type": "display_data"
    }
   ],
   "source": [
    "sns.barplot(x = ['fr','autre'], y = [count[fr], count_autre.sum()])\n",
    "plt.xlabel(\"Langues\")\n",
    "plt.ylabel(\"Count\")\n",
    "plt.title(\"Fréquence de jeux pour la langue fr et les autres langues\")\n",
    "plt.show()"
   ]
  },
  {
   "cell_type": "code",
   "execution_count": 15,
   "id": "a136d533",
   "metadata": {},
   "outputs": [
    {
     "data": {
      "image/png": "[encoded data removed]",
      "text/plain": [
       "<Figure size 432x288 with 1 Axes>"
      ]
     },
     "metadata": {
      "needs_background": "light"
     },
     "output_type": "display_data"
    }
   ],
   "source": [
    "val_autre   = np.delete(val, fr)\n",
    "count_autre = np.delete(count, fr)\n",
    "sns.barplot(x = val_autre, y = count_autre)\n",
    "plt.xlabel(\"Langues\")\n",
    "plt.ylabel(\"Count\")\n",
    "plt.title(\"Fréquence de jeux pour une langue etrangere\")\n",
    "plt.show()"
   ]
  },
  {
   "cell_type": "code",
   "execution_count": 16,
   "id": "e76870a9",
   "metadata": {},
   "outputs": [
    {
     "data": {
      "text/plain": [
       "array(['Promo pack de 5 Mercenaires\\n(SG du KS)',\n",
       "       'Devenez un marchand riche.', 'Projet Kickstarter 2015',\n",
       "       'Planche bonus pour Heroes Of Normandie : les soldats Siegfried et Bill Furlong',\n",
       "       'Traduction en français de The Witches: a Discworld Game paru chez Treefrog.',\n",
       "       'Essen 2012', 'Jeu de pari infernal!',\n",
       "       'Une extension pour King of Tokyo', 'Essen 2011\\nEssen 2012',\n",
       "       'Carte promotionnelle pour Funkenschlag : Die ersten Funken'],\n",
       "      dtype=object)"
      ]
     },
     "execution_count": 16,
     "metadata": {},
     "output_type": "execute_result"
    }
   ],
   "source": [
    "descriptions[desc_lang != \"fr\"][descriptions[desc_lang != \"fr\"].map(str.split).map(len) <= 15].unique()[:10]"
   ]
  },
  {
   "attachments": {},
   "cell_type": "markdown",
   "id": "46e86608",
   "metadata": {},
   "source": [
    "- On remarque que les descriptions de moins de 15mots sont enfaite en français et sont mal prédits par le detecteur de langue (car possede des noms propres),\n",
    "\n",
    "on decide de mettres juste les longues descriptions à NaN\n"
   ]
  },
  {
   "cell_type": "code",
   "execution_count": 17,
   "id": "ef9bbf58",
   "metadata": {},
   "outputs": [
    {
     "name": "stdout",
     "output_type": "stream",
     "text": [
      "Nombre de descriptions en langues etrangeres : 335\n",
      "Nombre de descriptions en langues etrangeres supprimées : 96\n"
     ]
    }
   ],
   "source": [
    "print(\"Nombre de descriptions en langues etrangeres :\", len(descriptions[desc_lang != \"fr\"]))\n",
    "print(\"Nombre de descriptions en langues etrangeres supprimées :\", len(descriptions[desc_lang != \"fr\"][descriptions[desc_lang != \"fr\"].map(str.split).map(len) > 15]))"
   ]
  },
  {
   "cell_type": "code",
   "execution_count": 18,
   "id": "03fb067b",
   "metadata": {},
   "outputs": [],
   "source": [
    "descriptions[descriptions[desc_lang != \"fr\"][descriptions[desc_lang != \"fr\"].map(str.split).map(len) > 15].index] = np.NaN"
   ]
  },
  {
   "cell_type": "code",
   "execution_count": 19,
   "id": "503a94f1",
   "metadata": {},
   "outputs": [],
   "source": [
    "df_jeux_up[\"description\"][~desc_isna] = descriptions"
   ]
  },
  {
   "cell_type": "code",
   "execution_count": 20,
   "id": "0812166a",
   "metadata": {},
   "outputs": [
    {
     "data": {
      "image/png": "[encoded data removed]",
      "text/plain": [
       "<Figure size 432x288 with 1 Axes>"
      ]
     },
     "metadata": {
      "needs_background": "light"
     },
     "output_type": "display_data"
    }
   ],
   "source": [
    "cat_isna  = df_jeux_up[\"categories\"].isna()\n",
    "desc_isna = df_jeux_up[\"description\"].isna()\n",
    "\n",
    "table = pd.crosstab(index=cat_isna, columns=desc_isna, margins=False)\n",
    "table = table.rename(columns={False: 'Description non manquante', True: 'Description manquante'})\n",
    "table = table.rename(index={False: 'Catégorie non manquante', True: 'Catégorie manquante'})\n",
    "sns.heatmap(table, annot=True, cmap='Blues', fmt='g', cbar=False, square=True)\n",
    "plt.show()"
   ]
  },
  {
   "attachments": {},
   "cell_type": "markdown",
   "id": "372524ec",
   "metadata": {},
   "source": [
    "## 4. Nettoyer les descriptions :"
   ]
  },
  {
   "cell_type": "code",
   "execution_count": 21,
   "id": "c2ecb64b",
   "metadata": {},
   "outputs": [
    {
     "name": "stderr",
     "output_type": "stream",
     "text": [
      "100%|██████████| 16873/16873 [00:04<00:00, 3404.23it/s]\n",
      "100%|██████████| 16873/16873 [00:00<00:00, 38823.73it/s]\n",
      "100%|██████████| 16873/16873 [00:00<00:00, 81828.75it/s]\n"
     ]
    }
   ],
   "source": [
    "descriptions = df_jeux_up[\"description\"]\n",
    "descriptions = descriptions.progress_apply(lambda desc : preprocessing.clean_text(desc) if type(desc) == str else np.NaN)\n",
    "descriptions = descriptions.progress_apply(lambda desc : preprocessing.tokenize_text(desc) if type(desc) == str else np.NaN)\n",
    "descriptions = descriptions.progress_apply(lambda tokens : preprocessing.remove_stopwords(tokens, preprocessing.DESC_STOP_WORDS) if type(tokens) == list else np.NaN)\n"
   ]
  },
  {
   "cell_type": "code",
   "execution_count": 22,
   "id": "47376ebd",
   "metadata": {},
   "outputs": [],
   "source": [
    "mots = []\n",
    "descriptions.map(lambda d : mots.extend(d) if type(d) == list else \"\")\n",
    "\n",
    "u_mots, count_mots = np.unique(mots, return_counts=True)"
   ]
  },
  {
   "cell_type": "code",
   "execution_count": 23,
   "id": "61ee426e",
   "metadata": {},
   "outputs": [
    {
     "name": "stderr",
     "output_type": "stream",
     "text": [
      "100%|██████████| 16873/16873 [03:01<00:00, 92.97it/s] \n"
     ]
    }
   ],
   "source": [
    "descriptions = descriptions.progress_apply(lambda tokens : preprocessing.lemmatize_tokens(tokens) if type(tokens) == list else np.NaN)"
   ]
  },
  {
   "cell_type": "code",
   "execution_count": 24,
   "id": "4e0c0f30",
   "metadata": {},
   "outputs": [
    {
     "data": {
      "text/plain": [
       "0    [marvel, united, unir, contre, super, vilain, ...\n",
       "1    [annee, printemps, million, papillon, monarque...\n",
       "2    [tete, groupe, aventurier, archeologue, expedi...\n",
       "3    [kit, demarrage, complet, plongez, horreur, bo...\n",
       "4    [dr, foo, cree, terrrribl, machine, voyager, t...\n",
       "5    [troyes, dice, invite, decouvrir, histoire, vi...\n",
       "6    [bienvenu, mysterium, park, barbe, papa, cirqu...\n",
       "7    [guerre, froid, continuer, danger, apparer, ar...\n",
       "8    [second, extension, not, alone, apporter, nouv...\n",
       "9    [choisir, personnage, disponible, tenter, plac...\n",
       "Name: description, dtype: object"
      ]
     },
     "execution_count": 24,
     "metadata": {},
     "output_type": "execute_result"
    }
   ],
   "source": [
    "descriptions[:10]"
   ]
  },
  {
   "cell_type": "code",
   "execution_count": 25,
   "id": "3aa2908f",
   "metadata": {},
   "outputs": [],
   "source": [
    "mots_lemm = []\n",
    "descriptions.map(lambda d : mots_lemm.extend(d) if type(d) == list else \"\")\n",
    "\n",
    "u_mots_lemm, count_mots_lemm = np.unique(mots_lemm, return_counts=True)"
   ]
  },
  {
   "cell_type": "code",
   "execution_count": 26,
   "id": "f6defc0d",
   "metadata": {},
   "outputs": [
    {
     "name": "stdout",
     "output_type": "stream",
     "text": [
      "Nombre de mots avant lemmatization : 52468\n",
      "Nombre de mots apres lemmatization : 38207\n"
     ]
    }
   ],
   "source": [
    "print( \"Nombre de mots avant lemmatization :\", len(u_mots))\n",
    "print( \"Nombre de mots apres lemmatization :\", len(u_mots_lemm))"
   ]
  },
  {
   "cell_type": "code",
   "execution_count": 27,
   "id": "e86b90b8",
   "metadata": {},
   "outputs": [
    {
     "name": "stderr",
     "output_type": "stream",
     "text": [
      "100%|██████████| 16873/16873 [00:00<00:00, 96306.17it/s]\n"
     ]
    }
   ],
   "source": [
    "descriptions = descriptions.progress_apply(lambda tokens : preprocessing.remove_stopwords(tokens, preprocessing.DESC_STOP_WORDS) if type(tokens) == list else np.NaN)"
   ]
  },
  {
   "cell_type": "code",
   "execution_count": 28,
   "id": "d423d81c",
   "metadata": {},
   "outputs": [],
   "source": [
    "mots_clean = []\n",
    "descriptions.map(lambda d : mots_clean.extend(d) if type(d) == list else \"\")\n",
    "\n",
    "u_mots_clean, count_mots_clean = np.unique(mots_clean, return_counts=True)"
   ]
  },
  {
   "cell_type": "code",
   "execution_count": 29,
   "id": "34f27980",
   "metadata": {},
   "outputs": [
    {
     "name": "stdout",
     "output_type": "stream",
     "text": [
      "Nombre de mots avant le 2e sw : 38207\n",
      "Nombre de mots apres le 2e sw : 38127\n"
     ]
    }
   ],
   "source": [
    "print( \"Nombre de mots avant le 2e sw :\", len(u_mots_lemm))\n",
    "print( \"Nombre de mots apres le 2e sw :\", len(u_mots_clean))"
   ]
  },
  {
   "cell_type": "code",
   "execution_count": 30,
   "id": "3df55b86",
   "metadata": {},
   "outputs": [
    {
     "data": {
      "text/plain": [
       "Text(0, 0.5, 'counts')"
      ]
     },
     "execution_count": 30,
     "metadata": {},
     "output_type": "execute_result"
    },
    {
     "data": {
      "image/png": "[encoded data removed]",
      "text/plain": [
       "<Figure size 432x288 with 1 Axes>"
      ]
     },
     "metadata": {
      "needs_background": "light"
     },
     "output_type": "display_data"
    }
   ],
   "source": [
    "plt.plot(count_mots_clean)\n",
    "plt.xlabel(\"mots\")\n",
    "plt.ylabel(\"counts\")\n"
   ]
  },
  {
   "cell_type": "code",
   "execution_count": 31,
   "id": "006d9f81",
   "metadata": {},
   "outputs": [
    {
     "data": {
      "text/plain": [
       "array(['carte', 'case', 'couleur', 'dé', 'faire', 'gagner', 'partie',\n",
       "       'pion', 'plateau', 'point', 'pouvoir', 'regle', 'tour'],\n",
       "      dtype='<U45')"
      ]
     },
     "execution_count": 31,
     "metadata": {},
     "output_type": "execute_result"
    }
   ],
   "source": [
    "u_mots_clean[count_mots_clean > 5000]"
   ]
  },
  {
   "attachments": {},
   "cell_type": "markdown",
   "id": "8d9f114d",
   "metadata": {},
   "source": [
    "Les mots les plus fréquents nous apparaissent assez pertinents, on décide de les garder."
   ]
  },
  {
   "cell_type": "code",
   "execution_count": 32,
   "id": "d7c2e7c9",
   "metadata": {},
   "outputs": [
    {
     "name": "stderr",
     "output_type": "stream",
     "text": [
      "100%|██████████| 16873/16873 [00:00<00:00, 383879.51it/s]\n"
     ]
    }
   ],
   "source": [
    "descriptions = descriptions.progress_apply(lambda tokens : \" \".join(tokens) if type(tokens) == list else np.NaN)\n",
    "df_jeux_up[\"description\"] = descriptions\n",
    "\n",
    "df_jeux_up.to_csv('../data/details_desc.csv', index=False)"
   ]
  }
 ],
 "metadata": {
  "kernelspec": {
   "display_name": "Python 3",
   "language": "python",
   "name": "python3"
  },
  "language_info": {
   "codemirror_mode": {
    "name": "ipython",
    "version": 3
   },
   "file_extension": ".py",
   "mimetype": "text/x-python",
   "name": "python",
   "nbconvert_exporter": "python",
   "pygments_lexer": "ipython3",
   "version": "3.9.12"
  },
  "vscode": {
   "interpreter": {
    "hash": "84f11f2148bd2fe3bb289ffda545ef54970d3c35b0f5a1c527ecc25164cf23b8"
   }
  }
 },
 "nbformat": 4,
 "nbformat_minor": 5
}
