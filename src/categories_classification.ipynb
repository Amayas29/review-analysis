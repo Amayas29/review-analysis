{
 "cells": [
  {
   "cell_type": "code",
   "execution_count": 1,
   "id": "6f4c045b",
   "metadata": {},
   "outputs": [
    {
     "name": "stderr",
     "output_type": "stream",
     "text": [
      "2023-02-22 15:29:25.854627: I tensorflow/core/platform/cpu_feature_guard.cc:193] This TensorFlow binary is optimized with oneAPI Deep Neural Network Library (oneDNN) to use the following CPU instructions in performance-critical operations:  AVX2 AVX512F AVX512_VNNI FMA\n",
      "To enable them in other operations, rebuild TensorFlow with the appropriate compiler flags.\n",
      "2023-02-22 15:29:26.134125: I tensorflow/core/util/port.cc:104] oneDNN custom operations are on. You may see slightly different numerical results due to floating-point round-off errors from different computation orders. To turn them off, set the environment variable `TF_ENABLE_ONEDNN_OPTS=0`.\n",
      "2023-02-22 15:29:26.188476: W tensorflow/compiler/xla/stream_executor/platform/default/dso_loader.cc:64] Could not load dynamic library 'libcudart.so.11.0'; dlerror: libcudart.so.11.0: cannot open shared object file: No such file or directory; LD_LIBRARY_PATH: :/opt/gurobi801/linux64/lib\n",
      "2023-02-22 15:29:26.188507: I tensorflow/compiler/xla/stream_executor/cuda/cudart_stub.cc:29] Ignore above cudart dlerror if you do not have a GPU set up on your machine.\n",
      "2023-02-22 15:29:27.095372: W tensorflow/compiler/xla/stream_executor/platform/default/dso_loader.cc:64] Could not load dynamic library 'libnvinfer.so.7'; dlerror: libnvinfer.so.7: cannot open shared object file: No such file or directory; LD_LIBRARY_PATH: :/opt/gurobi801/linux64/lib\n",
      "2023-02-22 15:29:27.095581: W tensorflow/compiler/xla/stream_executor/platform/default/dso_loader.cc:64] Could not load dynamic library 'libnvinfer_plugin.so.7'; dlerror: libnvinfer_plugin.so.7: cannot open shared object file: No such file or directory; LD_LIBRARY_PATH: :/opt/gurobi801/linux64/lib\n",
      "2023-02-22 15:29:27.095585: W tensorflow/compiler/tf2tensorrt/utils/py_utils.cc:38] TF-TRT Warning: Cannot dlopen some TensorRT libraries. If you would like to use Nvidia GPU with TensorRT, please make sure the missing libraries mentioned above are installed properly.\n",
      "2023-02-22 15:29:28.279582: W tensorflow/compiler/xla/stream_executor/platform/default/dso_loader.cc:64] Could not load dynamic library 'libcuda.so.1'; dlerror: libcuda.so.1: cannot open shared object file: No such file or directory; LD_LIBRARY_PATH: :/opt/gurobi801/linux64/lib\n",
      "2023-02-22 15:29:28.279853: W tensorflow/compiler/xla/stream_executor/cuda/cuda_driver.cc:265] failed call to cuInit: UNKNOWN ERROR (303)\n",
      "2023-02-22 15:29:28.279872: I tensorflow/compiler/xla/stream_executor/cuda/cuda_diagnostics.cc:156] kernel driver does not appear to be running on this host (amayas): /proc/driver/nvidia/version does not exist\n"
     ]
    }
   ],
   "source": [
    "from iads.nlp import preprocessing\n",
    "\n",
    "import numpy as np\n",
    "import matplotlib.pyplot as plt\n",
    "import seaborn as sns\n",
    "import pandas as pd\n",
    "\n",
    "import warnings\n",
    "warnings.filterwarnings('ignore')\n",
    "\n",
    "from translate import Translator\n",
    "from langdetect import detect \n",
    "import re"
   ]
  },
  {
   "cell_type": "markdown",
   "id": "cbea8f4d",
   "metadata": {},
   "source": [
    "# I. Chargement des données :"
   ]
  },
  {
   "cell_type": "code",
   "execution_count": 40,
   "id": "6cc92f19",
   "metadata": {},
   "outputs": [],
   "source": [
    "df_jeux_up = pd.read_csv(\"../data/details_categ.csv\")"
   ]
  },
  {
   "cell_type": "markdown",
   "id": "bcc53266",
   "metadata": {},
   "source": [
    "# II. Prédire les catégories à partir de la description :"
   ]
  },
  {
   "cell_type": "markdown",
   "id": "8aa7e188",
   "metadata": {},
   "source": [
    "## 1. Les déscriptions manquantes : "
   ]
  },
  {
   "cell_type": "markdown",
   "id": "dbba2ca9",
   "metadata": {},
   "source": [
    "Les courtes descriptions dans la base de données"
   ]
  },
  {
   "cell_type": "code",
   "execution_count": 3,
   "id": "65b75c83",
   "metadata": {},
   "outputs": [
    {
     "data": {
      "text/plain": [
       "array(['\\n                      Aucune description\\n                  ',\n",
       "       '\\n                      Le trio magique\\n                  ',\n",
       "       '\\n                      Essen 2012\\n                  ',\n",
       "       '\\n                      Jeux sur les trains\\n\\n                  ',\n",
       "       '\\n                      Essen 2012\\n\\n                  ',\n",
       "       '\\n                      La version voyage\\n\\n                  ',\n",
       "       \"\\n                      L'ancêtre du Mölkky\\n                  \",\n",
       "       '\\n                      Duel de dés.\\n\\n                  ',\n",
       "       '\\n                      Goodies\\n                  ',\n",
       "       '\\n                      Tuiles bonus\\n                  '],\n",
       "      dtype=object)"
      ]
     },
     "execution_count": 3,
     "metadata": {},
     "output_type": "execute_result"
    }
   ],
   "source": [
    "df_jeux_up[df_jeux_up[\"description\"].map(str.strip).map(len) < 20]['description'].unique()[:10]"
   ]
  },
  {
   "cell_type": "markdown",
   "id": "f9205307",
   "metadata": {},
   "source": [
    "On remarque qu'il y'a des descriptions sous la forme `Aucune description` qu'on supprimera "
   ]
  },
  {
   "cell_type": "code",
   "execution_count": 4,
   "id": "f24306ee",
   "metadata": {},
   "outputs": [
    {
     "name": "stdout",
     "output_type": "stream",
     "text": [
      "Le nombre de jeux avec la description 'Aucune description' :\n"
     ]
    },
    {
     "data": {
      "text/plain": [
       "1857"
      ]
     },
     "execution_count": 4,
     "metadata": {},
     "output_type": "execute_result"
    }
   ],
   "source": [
    "print(\"Le nombre de jeux avec la description 'Aucune description' :\")\n",
    "aucune_desc = df_jeux_up[\"description\"].map(lambda d : \"Aucune description\" in d)\n",
    "aucune_desc.astype(int).sum()"
   ]
  },
  {
   "cell_type": "code",
   "execution_count": 41,
   "id": "4bdfb76f",
   "metadata": {},
   "outputs": [],
   "source": [
    "df_jeux_up[\"description\"] = df_jeux_up[\"description\"].map(str.strip).replace(\"Aucune description\", np.NaN)"
   ]
  },
  {
   "cell_type": "code",
   "execution_count": 6,
   "id": "16a31cbc",
   "metadata": {},
   "outputs": [
    {
     "name": "stdout",
     "output_type": "stream",
     "text": [
      "Apres la suppression de 'Aucune description', nombre de jeux avec cette description :\n"
     ]
    },
    {
     "data": {
      "text/plain": [
       "0"
      ]
     },
     "execution_count": 6,
     "metadata": {},
     "output_type": "execute_result"
    }
   ],
   "source": [
    "print(\"Apres la suppression de 'Aucune description', nombre de jeux avec cette description :\")\n",
    "aucune_desc = df_jeux_up[\"description\"].map(lambda d : \"Aucune description\" in d if type(d) == str else False)\n",
    "aucune_desc.astype(int).sum()"
   ]
  },
  {
   "cell_type": "markdown",
   "id": "d372bef2",
   "metadata": {},
   "source": [
    "## 2. Catégories et Déscriptions :"
   ]
  },
  {
   "cell_type": "code",
   "execution_count": 7,
   "id": "e1d2780c",
   "metadata": {},
   "outputs": [],
   "source": [
    "cat_isna  = df_jeux_up[\"categories\"].isna()\n",
    "desc_isna = df_jeux_up[\"description\"].isna()"
   ]
  },
  {
   "cell_type": "code",
   "execution_count": 8,
   "id": "5542b2b6",
   "metadata": {},
   "outputs": [
    {
     "data": {
      "image/png": "[encoded data removed]",
      "text/plain": [
       "<Figure size 432x288 with 1 Axes>"
      ]
     },
     "metadata": {
      "needs_background": "light"
     },
     "output_type": "display_data"
    }
   ],
   "source": [
    "table = pd.crosstab(index=cat_isna, columns=desc_isna, margins=False)\n",
    "table = table.rename(columns={False: 'Description non manquante', True: 'Description manquante'})\n",
    "table = table.rename(index={False: 'Catégorie non manquante', True: 'Catégorie manquante'})\n",
    "sns.heatmap(table, annot=True, cmap='Blues', fmt='g', cbar=False, square=True)\n",
    "plt.show()"
   ]
  },
  {
   "cell_type": "markdown",
   "id": "680e3946",
   "metadata": {},
   "source": [
    "- On remarque qu'il y a 12394 jeux avec dès une description et une catégorie soit 73% de la base de données, qu'on utilisera pour le train de nos classifers.\n",
    "\n",
    "- Et il y a aussi 1857 jeux sans description, donc des lignes à \"supprimer\" pour nos classifiers.\n",
    "\n",
    "- On voit aussi 2622 avec des descriptions mais sans catégorie, cela on s'en servira pour leur génerer une catégorie avec nos prédicteurs"
   ]
  },
  {
   "cell_type": "code",
   "execution_count": 9,
   "id": "d98a3801",
   "metadata": {},
   "outputs": [],
   "source": [
    "descriptions = df_jeux_up[\"description\"][~desc_isna]"
   ]
  },
  {
   "cell_type": "markdown",
   "id": "df33510e",
   "metadata": {},
   "source": [
    "## 3. Des descriptions dans d'autres langues :"
   ]
  },
  {
   "cell_type": "code",
   "execution_count": 10,
   "id": "3c5cb0ac",
   "metadata": {},
   "outputs": [],
   "source": [
    "from tqdm import tqdm\n",
    "tqdm.pandas()"
   ]
  },
  {
   "cell_type": "code",
   "execution_count": 11,
   "id": "0cd29032",
   "metadata": {},
   "outputs": [
    {
     "name": "stderr",
     "output_type": "stream",
     "text": [
      "100%|████████████████████████████████████| 15016/15016 [01:03<00:00, 235.44it/s]\n"
     ]
    }
   ],
   "source": [
    "desc_lang = descriptions.progress_apply(detect)\n",
    "val, count = np.unique(desc_lang, return_counts=True)\n",
    "\n",
    "index = count.argsort()[::-1]\n",
    "count = count[index]\n",
    "val   = val[index]"
   ]
  },
  {
   "cell_type": "code",
   "execution_count": 12,
   "id": "afb7cfb8",
   "metadata": {},
   "outputs": [],
   "source": [
    "fr = np.where(val == 'fr')[0][0]\n",
    "\n",
    "count_autre = np.delete(count, fr)"
   ]
  },
  {
   "cell_type": "code",
   "execution_count": 13,
   "id": "c87952fa",
   "metadata": {},
   "outputs": [
    {
     "data": {
      "image/png": "[encoded data removed]",
      "text/plain": [
       "<Figure size 432x288 with 1 Axes>"
      ]
     },
     "metadata": {
      "needs_background": "light"
     },
     "output_type": "display_data"
    }
   ],
   "source": [
    "sns.barplot(x = ['fr','autre'], y = [count[fr], count_autre.sum()])\n",
    "plt.xlabel(\"Langues\")\n",
    "plt.ylabel(\"Count\")\n",
    "plt.title(\"Fréquence de jeux pour la langue fr et les autres langues\")\n",
    "plt.show()"
   ]
  },
  {
   "cell_type": "code",
   "execution_count": 14,
   "id": "a136d533",
   "metadata": {},
   "outputs": [
    {
     "data": {
      "image/png": "[encoded data removed]",
      "text/plain": [
       "<Figure size 432x288 with 1 Axes>"
      ]
     },
     "metadata": {
      "needs_background": "light"
     },
     "output_type": "display_data"
    }
   ],
   "source": [
    "val_autre   = np.delete(val, fr)\n",
    "count_autre = np.delete(count, fr)\n",
    "sns.barplot(val_autre, count_autre)\n",
    "plt.xlabel(\"Langues\")\n",
    "plt.ylabel(\"Count\")\n",
    "plt.title(\"Fréquence de jeux pour une langue etrangere\")\n",
    "plt.show()"
   ]
  },
  {
   "cell_type": "markdown",
   "id": "c489606e",
   "metadata": {},
   "source": [
    "**Traduire les descriptions :**"
   ]
  },
  {
   "cell_type": "code",
   "execution_count": null,
   "id": "99b5526e",
   "metadata": {},
   "outputs": [],
   "source": [
    "translator = Translator(to_lang='fr')\n",
    "\n",
    "def traduire_phrase(phrase):\n",
    "\n",
    "    try:\n",
    "        phrase_lang = detect(phrase)\n",
    "\n",
    "        if phrase_lang != 'fr' :\n",
    "            return translator.translate(phrase)\n",
    "\n",
    "        return phrase\n",
    "    \n",
    "    except Exception:\n",
    "        return phrase\n",
    "\n",
    "# Diviser chaque ligne de la colonne \"description\" en phrases\n",
    "phrases = df_jeux_up[\"description\"].progress_apply(lambda x: re.split(\"[\\.\\!\\?\\,\\;\\:\\n]\", x) if type(x) == str else np.NaN)\n",
    "\n",
    "# Traduire chaque phrase individuellement\n",
    "traductions = phrases.progress_apply(lambda x: list(map(traduire_phrase, x)) if type(x) == list else np.NaN)\n",
    "\n",
    "# Concaténer les traductions en un seul texte traduit\n",
    "texte_traduit = traductions.progress_apply(lambda x: \" \".join(x) if type(x) == list else np.NaN)"
   ]
  },
  {
   "cell_type": "code",
   "execution_count": null,
   "id": "be55313f",
   "metadata": {},
   "outputs": [],
   "source": [
    "# Mettre à jour les descriptions\n",
    "df_jeux_up[\"description\"] = texte_traduit"
   ]
  },
  {
   "cell_type": "code",
   "execution_count": null,
   "id": "5af555a3",
   "metadata": {},
   "outputs": [],
   "source": [
    "df_jeux_up.to_csv('../data/details_desc_trad.csv', index=False)"
   ]
  },
  {
   "cell_type": "markdown",
   "id": "372524ec",
   "metadata": {},
   "source": [
    "## 4. Nettoyer les descriptions :"
   ]
  },
  {
   "cell_type": "code",
   "execution_count": 17,
   "id": "c2ecb64b",
   "metadata": {},
   "outputs": [],
   "source": [
    "# descriptions = descriptions.map(preprocessing.clean_text)"
   ]
  },
  {
   "cell_type": "code",
   "execution_count": 18,
   "id": "9cc13d87",
   "metadata": {},
   "outputs": [],
   "source": [
    "# descriptions = descriptions.map(preprocessing.tokenize_text)"
   ]
  },
  {
   "cell_type": "code",
   "execution_count": 19,
   "id": "ce748d63",
   "metadata": {},
   "outputs": [],
   "source": [
    "# c = b.map(lambda tokens : preprocessing.remove_stopwords(tokens, preprocessing.DESC_STOP_WORDS))"
   ]
  },
  {
   "cell_type": "code",
   "execution_count": 20,
   "id": "12cf8484",
   "metadata": {},
   "outputs": [],
   "source": [
    "# d = c.map(preprocessing.lemmatize_tokens)"
   ]
  }
 ],
 "metadata": {
  "kernelspec": {
   "display_name": "Python 3 (ipykernel)",
   "language": "python",
   "name": "python3"
  },
  "language_info": {
   "codemirror_mode": {
    "name": "ipython",
    "version": 3
   },
   "file_extension": ".py",
   "mimetype": "text/x-python",
   "name": "python",
   "nbconvert_exporter": "python",
   "pygments_lexer": "ipython3",
   "version": "3.9.12"
  }
 },
 "nbformat": 4,
 "nbformat_minor": 5
}
