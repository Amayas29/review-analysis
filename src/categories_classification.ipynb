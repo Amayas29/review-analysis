{
 "cells": [
  {
   "cell_type": "code",
   "execution_count": 11,
   "id": "6f4c045b",
   "metadata": {},
   "outputs": [],
   "source": [
    "from iads.nlp import preprocessing\n",
    "\n",
    "import numpy as np\n",
    "import matplotlib.pyplot as plt\n",
    "import seaborn as sns\n",
    "import pandas as pd\n",
    "\n",
    "import warnings\n",
    "warnings.filterwarnings('ignore')"
   ]
  },
  {
   "cell_type": "markdown",
   "id": "cbea8f4d",
   "metadata": {},
   "source": [
    "# I. Chargement des données :"
   ]
  },
  {
   "cell_type": "code",
   "execution_count": 2,
   "id": "6cc92f19",
   "metadata": {},
   "outputs": [],
   "source": [
    "df_jeux_up = pd.read_csv(\"../data/details_categ.csv\")"
   ]
  },
  {
   "cell_type": "markdown",
   "id": "bcc53266",
   "metadata": {},
   "source": [
    "# II. Prédire les catégories à partir de la description :"
   ]
  },
  {
   "cell_type": "markdown",
   "id": "372524ec",
   "metadata": {},
   "source": [
    "## 1. Nettoyer les descriptions :"
   ]
  },
  {
   "cell_type": "code",
   "execution_count": 4,
   "id": "d11c4bd6",
   "metadata": {},
   "outputs": [],
   "source": [
    "# c_descriptions = []\n",
    "\n",
    "# for desc in descriptions:\n",
    "#     desc_       = preprocessing.clean_text(desc)\n",
    "#     desc_tokens = preprocessing.tokenize_text(desc_)    \n",
    "#     desc_tokens = preprocessing.remove_stopwords(desc_tokens, DESC_STOP_WORDS)\n",
    "#     desc_tokens = preprocessing.lemmatize_tokens(desc_tokens)\n",
    "#     desc_       = \" \".join(desc_tokens)\n",
    "#     c_descriptions.append(desc_)"
   ]
  },
  {
   "cell_type": "code",
   "execution_count": 5,
   "id": "c2ecb64b",
   "metadata": {},
   "outputs": [],
   "source": [
    "a = df_jeux_up[\"description\"].map(preprocessing.clean_text)"
   ]
  },
  {
   "cell_type": "code",
   "execution_count": 6,
   "id": "9cc13d87",
   "metadata": {},
   "outputs": [],
   "source": [
    "b = a.map(preprocessing.tokenize_text)"
   ]
  },
  {
   "cell_type": "code",
   "execution_count": 7,
   "id": "ce748d63",
   "metadata": {},
   "outputs": [],
   "source": [
    "c = b.map(lambda tokens : preprocessing.remove_stopwords(tokens, preprocessing.DESC_STOP_WORDS))"
   ]
  },
  {
   "cell_type": "code",
   "execution_count": 10,
   "id": "12cf8484",
   "metadata": {},
   "outputs": [],
   "source": [
    "d = c.map(preprocessing.lemmatize_tokens)"
   ]
  }
 ],
 "metadata": {
  "kernelspec": {
   "display_name": "Python 3 (ipykernel)",
   "language": "python",
   "name": "python3"
  },
  "language_info": {
   "codemirror_mode": {
    "name": "ipython",
    "version": 3
   },
   "file_extension": ".py",
   "mimetype": "text/x-python",
   "name": "python",
   "nbconvert_exporter": "python",
   "pygments_lexer": "ipython3",
   "version": "3.9.12"
  }
 },
 "nbformat": 4,
 "nbformat_minor": 5
}
