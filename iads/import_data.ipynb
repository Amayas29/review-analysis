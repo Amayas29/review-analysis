{
 "cells": [
  {
   "cell_type": "code",
   "execution_count": 16,
   "id": "799f393f",
   "metadata": {},
   "outputs": [],
   "source": [
    "from data import *\n",
    "import seaborn as sns\n",
    "import numpy as np"
   ]
  },
  {
   "cell_type": "code",
   "execution_count": 2,
   "id": "dfdbda8b",
   "metadata": {},
   "outputs": [],
   "source": [
    "df_avis = load_dataframe(\"avis.bson\")"
   ]
  },
  {
   "cell_type": "code",
   "execution_count": 3,
   "id": "7f08cd9e",
   "metadata": {},
   "outputs": [],
   "source": [
    "df_details_jeux = load_dataframe(\"details.bson\")"
   ]
  },
  {
   "cell_type": "code",
   "execution_count": 4,
   "id": "a39c2d39",
   "metadata": {},
   "outputs": [
    {
     "data": {
      "text/html": [
       "<div>\n",
       "<style scoped>\n",
       "    .dataframe tbody tr th:only-of-type {\n",
       "        vertical-align: middle;\n",
       "    }\n",
       "\n",
       "    .dataframe tbody tr th {\n",
       "        vertical-align: top;\n",
       "    }\n",
       "\n",
       "    .dataframe thead th {\n",
       "        text-align: right;\n",
       "    }\n",
       "</style>\n",
       "<table border=\"1\" class=\"dataframe\">\n",
       "  <thead>\n",
       "    <tr style=\"text-align: right;\">\n",
       "      <th></th>\n",
       "      <th>treated</th>\n",
       "      <th>_id</th>\n",
       "      <th>title</th>\n",
       "      <th>url</th>\n",
       "      <th>comment</th>\n",
       "      <th>author</th>\n",
       "      <th>date_published</th>\n",
       "      <th>note</th>\n",
       "      <th>review_href</th>\n",
       "      <th>title_review</th>\n",
       "    </tr>\n",
       "  </thead>\n",
       "  <tbody>\n",
       "    <tr>\n",
       "      <th>0</th>\n",
       "      <td>True</td>\n",
       "      <td>63c6726ea81f3e3016af9a56</td>\n",
       "      <td>Mariposas</td>\n",
       "      <td>https://www.trictrac.net/jeu-de-societe/maripo...</td>\n",
       "      <td>Lorsque le jeu est jeu, bon, réflexif, joli po...</td>\n",
       "      <td>Monsieur Guillaume</td>\n",
       "      <td>2021-01-27 11:06:44</td>\n",
       "      <td>8.0</td>\n",
       "      <td>https://www.trictrac.net/avis/vraiment-bon-12514</td>\n",
       "      <td>Voyages sur les ailes des papillons</td>\n",
       "    </tr>\n",
       "    <tr>\n",
       "      <th>1</th>\n",
       "      <td>True</td>\n",
       "      <td>63c6726ea81f3e3016af9a57</td>\n",
       "      <td>Mariposas</td>\n",
       "      <td>https://www.trictrac.net/jeu-de-societe/maripo...</td>\n",
       "      <td>Comment continuer après un mega hit ? Simpleme...</td>\n",
       "      <td>morlockbob</td>\n",
       "      <td>2020-10-18 10:04:21</td>\n",
       "      <td>7.0</td>\n",
       "      <td>https://www.trictrac.net/avis/le-festival-de-m...</td>\n",
       "      <td>le festival de Michoacan</td>\n",
       "    </tr>\n",
       "    <tr>\n",
       "      <th>2</th>\n",
       "      <td>True</td>\n",
       "      <td>63c6726ea81f3e3016af9a58</td>\n",
       "      <td>Mariposas</td>\n",
       "      <td>https://www.trictrac.net/jeu-de-societe/maripo...</td>\n",
       "      <td>Vin d'jeu: Avec Mariposas, Elizabeth Hargrave ...</td>\n",
       "      <td>SwatSh</td>\n",
       "      <td>2021-02-01 08:35:08</td>\n",
       "      <td>7.0</td>\n",
       "      <td>https://www.trictrac.net/avis/vivez-la-migrati...</td>\n",
       "      <td>Vivez la migration des monarques</td>\n",
       "    </tr>\n",
       "    <tr>\n",
       "      <th>3</th>\n",
       "      <td>True</td>\n",
       "      <td>63c6726ea81f3e3016af9a59</td>\n",
       "      <td>Mariposas</td>\n",
       "      <td>https://www.trictrac.net/jeu-de-societe/maripo...</td>\n",
       "      <td>NaN</td>\n",
       "      <td>Timi JeuxATheme</td>\n",
       "      <td>2020-11-19 17:04:57</td>\n",
       "      <td>8.0</td>\n",
       "      <td>NaN</td>\n",
       "      <td>Bon</td>\n",
       "    </tr>\n",
       "    <tr>\n",
       "      <th>4</th>\n",
       "      <td>True</td>\n",
       "      <td>63c6726ea81f3e3016af9a5a</td>\n",
       "      <td>Mariposas</td>\n",
       "      <td>https://www.trictrac.net/jeu-de-societe/maripo...</td>\n",
       "      <td>Très joli bijou que ce jeu-là ! Le matériel, l...</td>\n",
       "      <td>prunelles</td>\n",
       "      <td>2021-05-24 12:43:18</td>\n",
       "      <td>9.0</td>\n",
       "      <td>https://www.trictrac.net/avis/envolez-moi</td>\n",
       "      <td>Envolez-moi</td>\n",
       "    </tr>\n",
       "  </tbody>\n",
       "</table>\n",
       "</div>"
      ],
      "text/plain": [
       "   treated                       _id      title  \\\n",
       "0     True  63c6726ea81f3e3016af9a56  Mariposas   \n",
       "1     True  63c6726ea81f3e3016af9a57  Mariposas   \n",
       "2     True  63c6726ea81f3e3016af9a58  Mariposas   \n",
       "3     True  63c6726ea81f3e3016af9a59  Mariposas   \n",
       "4     True  63c6726ea81f3e3016af9a5a  Mariposas   \n",
       "\n",
       "                                                 url  \\\n",
       "0  https://www.trictrac.net/jeu-de-societe/maripo...   \n",
       "1  https://www.trictrac.net/jeu-de-societe/maripo...   \n",
       "2  https://www.trictrac.net/jeu-de-societe/maripo...   \n",
       "3  https://www.trictrac.net/jeu-de-societe/maripo...   \n",
       "4  https://www.trictrac.net/jeu-de-societe/maripo...   \n",
       "\n",
       "                                             comment              author  \\\n",
       "0  Lorsque le jeu est jeu, bon, réflexif, joli po...  Monsieur Guillaume   \n",
       "1  Comment continuer après un mega hit ? Simpleme...          morlockbob   \n",
       "2  Vin d'jeu: Avec Mariposas, Elizabeth Hargrave ...              SwatSh   \n",
       "3                                                NaN     Timi JeuxATheme   \n",
       "4  Très joli bijou que ce jeu-là ! Le matériel, l...           prunelles   \n",
       "\n",
       "        date_published  note  \\\n",
       "0  2021-01-27 11:06:44   8.0   \n",
       "1  2020-10-18 10:04:21   7.0   \n",
       "2  2021-02-01 08:35:08   7.0   \n",
       "3  2020-11-19 17:04:57   8.0   \n",
       "4  2021-05-24 12:43:18   9.0   \n",
       "\n",
       "                                         review_href  \\\n",
       "0   https://www.trictrac.net/avis/vraiment-bon-12514   \n",
       "1  https://www.trictrac.net/avis/le-festival-de-m...   \n",
       "2  https://www.trictrac.net/avis/vivez-la-migrati...   \n",
       "3                                                NaN   \n",
       "4          https://www.trictrac.net/avis/envolez-moi   \n",
       "\n",
       "                          title_review  \n",
       "0  Voyages sur les ailes des papillons  \n",
       "1             le festival de Michoacan  \n",
       "2     Vivez la migration des monarques  \n",
       "3                                  Bon  \n",
       "4                          Envolez-moi  "
      ]
     },
     "execution_count": 4,
     "metadata": {},
     "output_type": "execute_result"
    }
   ],
   "source": [
    "df_avis.head()"
   ]
  },
  {
   "cell_type": "code",
   "execution_count": 33,
   "id": "5295999b",
   "metadata": {},
   "outputs": [
    {
     "data": {
      "text/plain": [
       "<seaborn.axisgrid.FacetGrid at 0x7f9ba5909d00>"
      ]
     },
     "execution_count": 33,
     "metadata": {},
     "output_type": "execute_result"
    },
    {
     "data": {
      "image/png": "[encoded data removed]",
      "text/plain": [
       "<Figure size 432x288 with 1 Axes>"
      ]
     },
     "metadata": {
      "needs_background": "light"
     },
     "output_type": "display_data"
    },
    {
     "data": {
      "image/png": "[encoded data removed]",
      "text/plain": [
       "<Figure size 360x360 with 1 Axes>"
      ]
     },
     "metadata": {
      "needs_background": "light"
     },
     "output_type": "display_data"
    }
   ],
   "source": [
    "import matplotlib.pyplot as plt\n",
    "\n",
    "notes = df_avis[\"note\"]\n",
    "mu  = np.mean(notes)\n",
    "sig = np.std(notes)\n",
    "\n",
    "x = np.linspace(0, 10, 1000)\n",
    "y = np.exp( - (x - mu)**2 / (2 * sig**2)) / (np.sqrt(2 * np.pi) * sig)\n",
    "\n",
    "\n",
    "sns.lineplot(x=x, y=y)\n",
    "sns.displot(notes)"
   ]
  },
  {
   "cell_type": "code",
   "execution_count": null,
   "id": "653572fe",
   "metadata": {},
   "outputs": [],
   "source": []
  }
 ],
 "metadata": {
  "kernelspec": {
   "display_name": "Python 3 (ipykernel)",
   "language": "python",
   "name": "python3"
  },
  "language_info": {
   "codemirror_mode": {
    "name": "ipython",
    "version": 3
   },
   "file_extension": ".py",
   "mimetype": "text/x-python",
   "name": "python",
   "nbconvert_exporter": "python",
   "pygments_lexer": "ipython3",
   "version": "3.9.12"
  }
 },
 "nbformat": 4,
 "nbformat_minor": 5
}
